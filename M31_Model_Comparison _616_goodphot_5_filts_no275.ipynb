{
 "cells": [
  {
   "cell_type": "code",
   "execution_count": 1,
   "metadata": {},
   "outputs": [],
   "source": [
    "# This script demonstrates the capabilities of cluster_slug by using\n",
    "# it to re-analyze the M31 star clusters catalog of Johnson et al. (2015, ApJ)\n",
    "\n",
    "# Import the libraries we'll need\n",
    "from astropy.io import ascii\n",
    "from astropy.io import fits\n",
    "import emcee\n",
    "from astropy import table\n",
    "from astropy.table import unique, Table, hstack, Column\n",
    "import sys\n",
    "from numpy import inf\n",
    "import numpy as np\n",
    "import numpy.ma as ma\n",
    "import time\n",
    "from matplotlib.pyplot import figure as fig\n",
    "import matplotlib.pyplot as plt\n",
    "from scipy import stats\n",
    "from scipy.optimize import curve_fit\n",
    "from scipy.stats import norm\n",
    "from slugpy.cluster_slug import cluster_slug\n",
    "from slugpy import * \n",
    "import matplotlib.pyplot as plt\n",
    "import matplotlib.lines as mlines\n",
    "from matplotlib.ticker import AutoMinorLocator"
   ]
  },
  {
   "cell_type": "code",
   "execution_count": 2,
   "metadata": {},
   "outputs": [
    {
     "name": "stdout",
     "output_type": "stream",
     "text": [
      "Reading AP Cluster Data (Phot+Agemasss)...\n",
      "Reading AP 12 Cluster Data (Phot+AgeMass)...\n"
     ]
    }
   ],
   "source": [
    "#Imported AP fits files which include best fit of mass and age data already \n",
    "\n",
    "apdata = Table.read('apdata-cluster_6phot+agemass.fits')\n",
    "print(\"Reading AP Cluster Data (Phot+Agemasss)...\")\n",
    "apdata_12clusters = Table.read('apdata-cluster_6phot+agemass_select.fits')\n",
    "print(\"Reading AP 12 Cluster Data (Phot+AgeMass)...\")\n",
    "\n",
    "apdata_good_phot6filts=Table.read('/Volumes/My_Passport_for_Mac/M33_M31_LGCS_Files/M31-Andromeda/Photometery_Tables/apdata_goodphot_6filts.fits')\n",
    "\n",
    "\n",
    "LEGUS_PHAT_PadKroupa_prop=Table.read('LEGUS_1e6_1e10age_PadKroupaAfter_PHAT_lib_1e7Trials_cluster_prop.fits')\n",
    "LEGUS_PHAT_PadKroupa_phot=Table.read('LEGUS_1e6_1e10age_PadKroupaAfter_PHAT_lib_1e7Trials_cluster_phot.fits')\n",
    "\n",
    "dmod_M31=24.47 "
   ]
  },
  {
   "cell_type": "code",
   "execution_count": 3,
   "metadata": {},
   "outputs": [
    {
     "name": "stderr",
     "output_type": "stream",
     "text": [
      "/anaconda3/lib/python3.7/site-packages/astropy/table/column.py:965: FutureWarning: elementwise comparison failed; returning scalar instead, but in the future will perform elementwise comparison\n",
      "  return getattr(self.data, op)(other)\n"
     ]
    }
   ],
   "source": [
    "#Extract photometry from the AP PHAT catalog and pack it into arrays\n",
    "cluster_id = np.array(apdata_good_phot6filts['ID'])\n",
    "\n",
    "#F275W filter with error\n",
    "#apdata_good_phot6filts['MAG275'][apdata_good_phot6filts['MAG275'] == 'INDEF'] = -99\n",
    "#m275 = ma.masked_equal(np.array(apdata_good_phot6filts['MAG275'], dtype='float64'), -99) - dmod_M31\n",
    "#apdata_good_phot6filts['SIG275'][apdata_good_phot6filts['SIG275'] == 'INDEF'] = -99\n",
    "#m275err = ma.masked_equal(np.array(apdata_good_phot6filts['SIG275'], \n",
    "#                                   dtype='float64'), -99)\n",
    "\n",
    "#F336W filter with error\n",
    "apdata_good_phot6filts['MAG336'][apdata_good_phot6filts['MAG336'] == 'INDEF'] = -99\n",
    "m336 = ma.masked_equal(np.array(apdata_good_phot6filts['MAG336'], dtype='float64'), -99) - dmod_M31\n",
    "apdata_good_phot6filts['SIG336'][apdata_good_phot6filts['SIG336'] == 'INDEF'] = -99\n",
    "m336err = ma.masked_equal(np.array(apdata_good_phot6filts['SIG336'], \n",
    "                                   dtype='float64'), -99)\n",
    "\n",
    "#F475W filter with error\n",
    "apdata_good_phot6filts['MAG475'][apdata_good_phot6filts['MAG475'] == 'INDEF'] = -99\n",
    "m475 = ma.masked_equal(np.array(apdata_good_phot6filts['MAG475'], dtype='float64'), -99) - dmod_M31\n",
    "apdata_good_phot6filts['SIG475'][apdata_good_phot6filts['SIG475'] == 'INDEF'] = -99\n",
    "m475err = ma.masked_equal(np.array(apdata_good_phot6filts['SIG475'],\n",
    "                                   dtype='float64'), -99)\n",
    "#F814W filter with error\n",
    "apdata_good_phot6filts['MAG814'][apdata_good_phot6filts['MAG814'] == 'INDEF'] = -99\n",
    "m814 = ma.masked_equal(np.array(apdata_good_phot6filts['MAG814'], dtype='float64'), -99) - dmod_M31\n",
    "apdata_good_phot6filts['SIG814'][apdata_good_phot6filts['SIG814'] == 'INDEF'] = -99\n",
    "m814err = ma.masked_equal(np.array(apdata_good_phot6filts['SIG814'],\n",
    "                                   dtype='float64'), -99)\n",
    "\n",
    "#F110W filter with error\n",
    "apdata_good_phot6filts['MAG110'][apdata_good_phot6filts['MAG110'] == 'INDEF'] = -99\n",
    "m110 = ma.masked_equal(np.array(apdata_good_phot6filts['MAG110'], dtype='float64'), -99) - dmod_M31\n",
    "apdata_good_phot6filts['SIG110'][apdata_good_phot6filts['SIG110'] == 'INDEF'] = -99\n",
    "m110err = ma.masked_equal(np.array(apdata_good_phot6filts['SIG110'],\n",
    "                                   dtype='float64'), -99)\n",
    "\n",
    "#F160W filter with error \n",
    "apdata_good_phot6filts['MAG160'][apdata_good_phot6filts['MAG160'] == 'INDEF'] = -99\n",
    "m160 = ma.masked_equal(np.array(apdata_good_phot6filts['MAG160'],dtype='float64'), -99) - dmod_M31\n",
    "apdata_good_phot6filts['SIG160'][apdata_good_phot6filts['SIG160'] == 'INDEF'] = -99\n",
    "m160err = ma.masked_equal(np.array(apdata_good_phot6filts['SIG160'],\n",
    "                                   dtype='float64'), -99)\n",
    "\n",
    "apdata_good_phot6filts_logm=apdata_good_phot6filts['BEST_MASS']\n",
    "apdata_good_phot6filts_logt=apdata_good_phot6filts['BEST_AGE']\n",
    "apdata_good_phot6filts_logx=apdata_good_phot6filts['CMD_AV_BEST']"
   ]
  },
  {
   "cell_type": "code",
   "execution_count": 4,
   "metadata": {},
   "outputs": [],
   "source": [
    "# Mask entries with bad data in one or more filters for the actual M31 data\n",
    "valid = np.logical_and(np.logical_not(m336.mask),\n",
    "                       np.logical_not(m475.mask))\n",
    "valid = np.logical_and(valid, np.logical_not(m814.mask))\n",
    "valid = np.logical_and(valid, np.logical_not(m110.mask))\n",
    "valid = np.logical_and(valid, np.logical_not(m160.mask))\n",
    "#valid = np.logical_and(valid, np.logical_not(m160.mask))"
   ]
  },
  {
   "cell_type": "code",
   "execution_count": 5,
   "metadata": {},
   "outputs": [],
   "source": [
    "# Create array of photometry to pass to cluster_slug\n",
    "phot=np.zeros((np.sum(616), 5)) #Creating an empty array of zeros with the shape of 616x5 \n",
    "photerr=np.zeros((np.sum(616),5))#Creating an empty array of zeros with the shape of 616x5 \n"
   ]
  },
  {
   "cell_type": "code",
   "execution_count": 6,
   "metadata": {},
   "outputs": [],
   "source": [
    "#Defining the filters defined in the parameter file. Filters used for M3!\n",
    "#phot[:,0] = m275[valid]\n",
    "phot[:,0] = m336[valid]\n",
    "phot[:,1] = m475[valid]\n",
    "phot[:,2] = m814[valid]\n",
    "phot[:,3] = m110[valid]\n",
    "phot[:,4] = m160[valid] \n",
    "#photerr[:,0] = m275err[valid]\n",
    "photerr[:,0] = m336err[valid]\n",
    "photerr[:,1] = m475err[valid]\n",
    "photerr[:,2] = m814err[valid]\n",
    "photerr[:,3] = m110err[valid]\n",
    "photerr[:,4] = m160err[valid] \n",
    "\n",
    "# Set up filter list (Commented out the original list of filters originally for chdata) for M31 AP PHAT \n",
    "filters = ['WFC3_UVIS_F336W', 'ACS_F475W', 'ACS_F814W', \n",
    "           'WFC3_IR_F110W', 'WFC3_IR_F160W']"
   ]
  },
  {
   "cell_type": "code",
   "execution_count": 7,
   "metadata": {},
   "outputs": [],
   "source": [
    "# Define the sample density (For AP PHAT Data)\n",
    "def sample_density(physprop):\n",
    "    logm = physprop[:,0]\n",
    "    logt = physprop[:,1]\n",
    "    #logx = physprop[:,2]\n",
    "    sden = np.ones(len(logm))\n",
    "    sden[logm > 4] = sden[logm > 4] * 1.0/10.**(logm[logm > 4]-4)\n",
    "    sden[logt > 8] = sden[logt > 8] * 1.0/10.**(logt[logt > 8]-8)\n",
    "    #sden[logx > 12]= sden[logx >12] * 1.0/10.**(logx[logx >12]-12)\n",
    "    return sden"
   ]
  },
  {
   "cell_type": "code",
   "execution_count": 8,
   "metadata": {},
   "outputs": [
    {
     "name": "stdout",
     "output_type": "stream",
     "text": [
      "Reading cluster_slug library...\n"
     ]
    }
   ],
   "source": [
    "# Set up the cluster_slug object; this command will take care of\n",
    "# reading the library and converting the data to the Vega photometric\n",
    "# system\n",
    "print(\"Reading cluster_slug library...\")\n",
    "cs=cluster_slug(photsystem='Vega', filters=filters, bw_phot=0.25,\n",
    "                ktype='gaussian',sample_density=sample_density,\n",
    "                libname='LEGUS_1e6_1e10age_PadKroupaAfter_PHAT_lib_1e7Trials')\n",
    "# Set priors to be flat in log T and A_V, but vary with logm as\n",
    "# p(log M) ~ 1/M\n",
    "def priorfunc(physprop):\n",
    "    # Note: physprop is an array of shape (N, 3) where physprop[:,0] =\n",
    "    # log M, physprop[:,1] = log T, physprop[:,2] = A_V\n",
    "    return 1.0/np.exp(physprop[:,0])\n",
    "cs.priors = priorfunc"
   ]
  },
  {
   "cell_type": "code",
   "execution_count": 9,
   "metadata": {},
   "outputs": [
    {
     "name": "stdout",
     "output_type": "stream",
     "text": [
      "Computing posterior PDFs...\n"
     ]
    },
    {
     "name": "stderr",
     "output_type": "stream",
     "text": [
      "/anaconda3/lib/python3.7/site-packages/ipykernel_launcher.py:3: DeprecationWarning: time.clock has been deprecated in Python 3.3 and will be removed from Python 3.8: use time.perf_counter or time.process_time instead\n",
      "  This is separate from the ipykernel package so we can avoid doing imports until\n"
     ]
    },
    {
     "name": "stdout",
     "output_type": "stream",
     "text": [
      "Computation time: 459.546902 seconds total, 0.373009 seconds / PDF\n"
     ]
    },
    {
     "name": "stderr",
     "output_type": "stream",
     "text": [
      "/anaconda3/lib/python3.7/site-packages/ipykernel_launcher.py:12: DeprecationWarning: time.clock has been deprecated in Python 3.3 and will be removed from Python 3.8: use time.perf_counter or time.process_time instead\n",
      "  if sys.path[0] == '':\n"
     ]
    },
    {
     "data": {
      "text/plain": [
       "<matplotlib.axes._subplots.AxesSubplot at 0x101a526d0>"
      ]
     },
     "execution_count": 9,
     "metadata": {},
     "output_type": "execute_result"
    },
    {
     "data": {
      "image/png": "[encoded data removed]",
      "text/plain": [
       "<Figure size 432x576 with 1 Axes>"
      ]
     },
     "metadata": {
      "needs_background": "light"
     },
     "output_type": "display_data"
    }
   ],
   "source": [
    "# Start timing\n",
    "print(\"Computing posterior PDFs...\")\n",
    "lasttime = time.clock()\n",
    "\n",
    "\n",
    "# Compute marginal PDFs of mass and age\n",
    "logm, mpdf = cs.mpdf(0, phot, photerr, filters=filters)\n",
    "logt, tpdf = cs.mpdf(1, phot, photerr, filters=filters)\n",
    "logx, xpdf = cs.mpdf(2, phot, photerr, ngrid=1000, filters=filters)\n",
    "\n",
    "# End timing\n",
    "newtime = time.clock()\n",
    "tottime = newtime - lasttime\n",
    "\n",
    "# Print timing results\n",
    "print(\"Computation time: {:f} seconds total, {:f} seconds / PDF\".\n",
    "      format(tottime, tottime/phot.shape[0]/2))\n",
    "\n",
    "# Set up a plot window\n",
    "plt.figure(1, figsize=(6,8))\n",
    "plt.subplot(4,2,1)"
   ]
  },
  {
   "cell_type": "code",
   "execution_count": 10,
   "metadata": {},
   "outputs": [],
   "source": [
    "# Compute the mean of the posterior PDFs returned by cluster_slug\n",
    "mmean = np.sum(logm*mpdf*(logm[1]-logm[0]), axis=1)\n",
    "tmean = np.sum(logt*tpdf*(logt[1]-logt[0]), axis=1)\n",
    "xmean = np.sum(logx*xpdf*(logx[1]-logt[0]), axis=1)\n",
    "\n",
    "# Compute the 25th, 50th, and 75th percentiles of the posterior PDFs\n",
    "mpdfsum = np.cumsum(mpdf, axis=1)*(logm[1]-logm[0])\n",
    "mpercentiles = np.array([\n",
    "    logm[np.argmax(np.greater(mpdfsum, 0.1), axis=1)],\n",
    "    logm[np.argmax(np.greater(mpdfsum, 0.5), axis=1)],\n",
    "    logm[np.argmax(np.greater(mpdfsum, 0.9), axis=1)]])\n",
    "tpdfsum = np.cumsum(tpdf, axis=1)*(logt[1]-logt[0])\n",
    "tpercentiles = np.array([\n",
    "    logt[np.argmax(np.greater(tpdfsum, 0.1), axis=1)],\n",
    "    logt[np.argmax(np.greater(tpdfsum, 0.5), axis=1)],\n",
    "    logt[np.argmax(np.greater(tpdfsum, 0.9), axis=1)]])\n",
    "xpdfsum = np.cumsum(xpdf, axis=1)*(logx[1]-logx[0])\n",
    "xpercentiles = np.array([\n",
    "    logx[np.argmax(np.greater(xpdfsum, 0.1), axis=1)],\n",
    "    logx[np.argmax(np.greater(xpdfsum, 0.5), axis=1)],\n",
    "    logx[np.argmax(np.greater(xpdfsum, 0.9), axis=1)]])"
   ]
  },
  {
   "cell_type": "code",
   "execution_count": 11,
   "metadata": {},
   "outputs": [],
   "source": [
    "# For each model, find the best match in the library for the 12 hand-picked clusters\n",
    "matches, dist = cs.bestmatch(phot, filters=filters, nmatch=1)\n",
    "dist = dist/np.sqrt(len(filters))"
   ]
  },
  {
   "cell_type": "code",
   "execution_count": 12,
   "metadata": {},
   "outputs": [],
   "source": [
    "mp25=mpercentiles[0]\n",
    "mp50=mpercentiles[1]\n",
    "mp75=mpercentiles[2]\n",
    "tp25=tpercentiles[0]\n",
    "tp50=tpercentiles[1]\n",
    "tp75=tpercentiles[2]\n",
    "xp25=xpercentiles[0]\n",
    "xp50=xpercentiles[1]\n",
    "xp75=xpercentiles[2]"
   ]
  },
  {
   "cell_type": "code",
   "execution_count": 13,
   "metadata": {},
   "outputs": [],
   "source": [
    "#Difference of the median of the Mass PDF & the previous mass apdata estimates in apdata\n",
    "\n",
    "diffPDFmed_M_apdata=apdata_good_phot6filts_logm-mpercentiles[1]\n",
    "diffPDFmed_A_apdata=apdata_good_phot6filts_logt-tpercentiles[1]\n",
    "diffPDFmed_X_apdata=apdata_good_phot6filts_logx-xpercentiles[1]\n"
   ]
  },
  {
   "cell_type": "code",
   "execution_count": 14,
   "metadata": {},
   "outputs": [],
   "source": [
    "apdata_good_phot6filts_BT=apdata_good_phot6filts['BEST_METHOD']\n",
    "indBT=np.where(apdata_good_phot6filts_BT!='M')\n",
    "indBTM=np.where(apdata_good_phot6filts_BT=='M')\n",
    "apdata_good_phot6filts.remove_rows(indBT)"
   ]
  },
  {
   "cell_type": "code",
   "execution_count": 15,
   "metadata": {},
   "outputs": [],
   "source": [
    "#Difference of the median of the Mass PDF & the previous mass apdata estimates for only CMD estimates in apdata\n",
    "diff_PDFMedian_m_apdata=apdata_good_phot6filts_logm[indBTM[0]]-mpercentiles[1][indBTM[0]]\n"
   ]
  },
  {
   "cell_type": "code",
   "execution_count": 16,
   "metadata": {},
   "outputs": [],
   "source": [
    "#PERCENTILES FOR MASS differences for clusters with CMD best method\n",
    "sorted_mPDF_apdataMedian=np.sort(diff_PDFMedian_m_apdata)\n",
    "diff_PDFMedian_m_apdata_25q=np.median(sorted_mPDF_apdataMedian[0:179])\n",
    "diff_PDFMedian_m_apdata_75q=np.median(sorted_mPDF_apdataMedian[180:358])"
   ]
  },
  {
   "cell_type": "code",
   "execution_count": 17,
   "metadata": {},
   "outputs": [
    {
     "data": {
      "text/plain": [
       "(-0.17694480280514657, 0.07297883644236847, 0.28248157480502845)"
      ]
     },
     "execution_count": 17,
     "metadata": {},
     "output_type": "execute_result"
    }
   ],
   "source": [
    "#P25, Median, and P75 of CMD Log Mass and SLUG Mass Median\n",
    "diff_PDFMedian_m_apdata_25q,np.median(diff_PDFMedian_m_apdata),diff_PDFMedian_m_apdata_75q"
   ]
  },
  {
   "cell_type": "code",
   "execution_count": 18,
   "metadata": {},
   "outputs": [
    {
     "data": {
      "text/plain": [
       "0.459426377610175"
      ]
     },
     "execution_count": 18,
     "metadata": {},
     "output_type": "execute_result"
    }
   ],
   "source": [
    "#IQR for Mass PDF Median - apdata (75th - 25th quartile values)\n",
    "MassIQR=diff_PDFMedian_m_apdata_75q-diff_PDFMedian_m_apdata_25q\n",
    "MassIQR"
   ]
  },
  {
   "cell_type": "code",
   "execution_count": 19,
   "metadata": {},
   "outputs": [
    {
     "data": {
      "text/plain": [
       "0.43531008972952856"
      ]
     },
     "execution_count": 19,
     "metadata": {},
     "output_type": "execute_result"
    }
   ],
   "source": [
    "#Sigma of Mass PDF Median - CMD Log Mass\n",
    "np.std(diff_PDFMedian_m_apdata)"
   ]
  },
  {
   "cell_type": "code",
   "execution_count": 58,
   "metadata": {},
   "outputs": [
    {
     "data": {
      "image/png": "[encoded data removed]",
      "text/plain": [
       "<Figure size 432x288 with 2 Axes>"
      ]
     },
     "metadata": {
      "needs_background": "light"
     },
     "output_type": "display_data"
    }
   ],
   "source": [
    "#Slug Masses vs CMD Masses with ONLY CMD BEST METHOD used \n",
    "x=np.arange(2,5,0.5)\n",
    "ax=plt.subplot()\n",
    "plt.subplot(1,2,1)\n",
    "plt.scatter(mpercentiles[1][indBTM[0]],diff_PDFMedian_m_apdata, color='steelblue')\n",
    "plt.plot(x,np.median(diff_PDFMedian_m_apdata)*np.ones(6),'k--',lw=2)\n",
    "plt.plot(x,diff_PDFMedian_m_apdata_25q*np.ones(6),'b--',lw=2)\n",
    "plt.plot(x,diff_PDFMedian_m_apdata_75q*np.ones(6),'r--',lw=2)\n",
    "plt.ylabel('LogMassSLUG-LogMassCMD', fontsize=13)\n",
    "plt.xlabel('Previous Log Mass Estimates', fontsize=13);\n",
    "\n",
    "\n",
    "plt.subplot(1,2,2)\n",
    "a=np.arange(0,180,1)\n",
    "plt.hist(diff_PDFMedian_m_apdata, orientation='horizontal',histtype='step',lw=2,bins=15,color='steelblue')\n",
    "plt.plot(a,np.median(diff_PDFMedian_m_apdata)*np.ones(180),'k--',lw=2,label='Median')\n",
    "plt.plot(a,diff_PDFMedian_m_apdata_25q*np.ones(180),'b--',lw=2,label='25th percentile')\n",
    "plt.plot(a,diff_PDFMedian_m_apdata_75q*np.ones(180),'r--',lw=2,label='75th percentile')\n",
    "plt.xlabel('Clusters',fontsize=13)\n",
    "plt.yticks([])\n",
    "plt.legend()\n",
    "\n",
    "plt.subplots_adjust(hspace=0.4, wspace=0, bottom=0.5, top=1.2, right=1.3)\n",
    "plt.savefig('/Volumes/My_Passport_for_Mac/M33_M31_LGCS_Files/M31-Andromeda/Model_Comparison_Files/SlugPDF-CMDMassEst_vs_CMDMassEst_5filts.pdf')"
   ]
  },
  {
   "cell_type": "code",
   "execution_count": 26,
   "metadata": {},
   "outputs": [],
   "source": [
    "#Difference of the median of the Age PDF & the previous Age apdata estimates for only CMD estimates in apdata\n",
    "diff_PDFMedian_t_apdata=apdata_good_phot6filts_logt[indBTM[0]]-tpercentiles[1][indBTM[0]]"
   ]
  },
  {
   "cell_type": "code",
   "execution_count": 27,
   "metadata": {},
   "outputs": [],
   "source": [
    "#PERCENTILES FOR AGE differences for clusters with CMD best method\n",
    "sorted_tPDF_apdataMedian=np.sort(diff_PDFMedian_t_apdata)\n",
    "diff_PDFMedian_t_apdata_25q=np.median(sorted_tPDF_apdataMedian[0:179])\n",
    "diff_PDFMedian_t_apdata_75q=np.median(sorted_tPDF_apdataMedian[180:358])"
   ]
  },
  {
   "cell_type": "code",
   "execution_count": 28,
   "metadata": {},
   "outputs": [
    {
     "data": {
      "text/plain": [
       "(-0.35905489980382477, 9.359791874885559e-08, 0.3220468187690013)"
      ]
     },
     "execution_count": 28,
     "metadata": {},
     "output_type": "execute_result"
    }
   ],
   "source": [
    "#P25, Median, and P75 of CMD Log Age and SLUG Age Median\n",
    "diff_PDFMedian_t_apdata_25q,np.median(diff_PDFMedian_t_apdata),diff_PDFMedian_t_apdata_75q\n"
   ]
  },
  {
   "cell_type": "code",
   "execution_count": 29,
   "metadata": {},
   "outputs": [
    {
     "data": {
      "text/plain": [
       "0.6811017185728261"
      ]
     },
     "execution_count": 29,
     "metadata": {},
     "output_type": "execute_result"
    }
   ],
   "source": [
    "#IQR for Age PDF Median - apdata\n",
    "AgeIQR=diff_PDFMedian_t_apdata_75q-diff_PDFMedian_t_apdata_25q\n",
    "AgeIQR"
   ]
  },
  {
   "cell_type": "code",
   "execution_count": 30,
   "metadata": {},
   "outputs": [
    {
     "data": {
      "text/plain": [
       "0.6215743689425293"
      ]
     },
     "execution_count": 30,
     "metadata": {},
     "output_type": "execute_result"
    }
   ],
   "source": [
    "#standard deviation (sigma) of Age median of the PDF - Age apdata\n",
    "np.std(diff_PDFMedian_t_apdata)"
   ]
  },
  {
   "cell_type": "code",
   "execution_count": 59,
   "metadata": {},
   "outputs": [
    {
     "data": {
      "image/png": "[encoded data removed]",
      "text/plain": [
       "<Figure size 432x288 with 2 Axes>"
      ]
     },
     "metadata": {
      "needs_background": "light"
     },
     "output_type": "display_data"
    }
   ],
   "source": [
    "#Slug Ages vs CMD Ages with ONLY CMD BEST METHOD used \n",
    "Y=np.arange(6,10,0.5)\n",
    "plt.subplot(1,2,1)\n",
    "plt.scatter(tpercentiles[1][indBTM[0]],diff_PDFMedian_t_apdata, color='steelblue')\n",
    "plt.plot(Y,np.median(diff_PDFMedian_t_apdata)*np.ones(8),'k--',lw=2)\n",
    "plt.plot(Y,diff_PDFMedian_t_apdata_25q*np.ones(8),'b--',lw=2)\n",
    "plt.plot(Y,diff_PDFMedian_t_apdata_75q*np.ones(8),'r--',lw=2)\n",
    "plt.ylabel('LogAgeSLUG - LogAgeCMD', fontsize=13)\n",
    "plt.xlabel('Previous Log Age Estimates', fontsize=13);\n",
    "\n",
    "plt.subplot(1,2,2)\n",
    "b=np.arange(0,180,1)\n",
    "plt.hist(diff_PDFMedian_m_apdata, orientation='horizontal',histtype='step',lw=2,bins=15,color='steelblue')\n",
    "plt.plot(b,np.median(diff_PDFMedian_t_apdata)*np.ones(180),'k--',lw=2,label='Median')\n",
    "plt.plot(b,diff_PDFMedian_t_apdata_25q*np.ones(180),'b--',lw=2,label='25th percentile')\n",
    "plt.plot(b,diff_PDFMedian_t_apdata_75q*np.ones(180),'r--',lw=2,label='75th percentile')\n",
    "plt.xlabel('Clusters',fontsize=13)\n",
    "plt.yticks([])\n",
    "plt.legend()\n",
    "plt.xlabel('Clusters', fontsize=13);\n",
    "\n",
    "plt.subplots_adjust(hspace=0.4, wspace=0, bottom=0.5, top=1.2, right=1.3)\n",
    "plt.savefig('/Volumes/My_Passport_for_Mac/M33_M31_LGCS_Files/M31-Andromeda/Model_Comparison_Files/SlugPDF-CMDAgeEst_vs_CMDAgeEst_5filts.pdf')\n"
   ]
  },
  {
   "cell_type": "code",
   "execution_count": 32,
   "metadata": {},
   "outputs": [],
   "source": [
    "#Difference of the median of the Av PDF & the previous Av apdata estimates for only CMD estimates in apdata\n",
    "diff_PDFMedian_x_apdata=apdata_good_phot6filts_logx[indBTM[0]]-xpercentiles[1][indBTM[0]]"
   ]
  },
  {
   "cell_type": "code",
   "execution_count": 33,
   "metadata": {},
   "outputs": [],
   "source": [
    "#PERCENTILES FOR EXTINCTION differences for clusters with CMD best method\n",
    "sorted_xPDF_apdataMedian=np.sort(diff_PDFMedian_x_apdata)\n",
    "diff_PDFMedian_x_apdata_25q=np.median(sorted_xPDF_apdataMedian[0:179])\n",
    "diff_PDFMedian_x_apdata_75q=np.median(sorted_xPDF_apdataMedian[180:358])\n"
   ]
  },
  {
   "cell_type": "code",
   "execution_count": 34,
   "metadata": {},
   "outputs": [
    {
     "data": {
      "text/plain": [
       "(-0.35238500136744055, -0.00870898903950601, 0.44157848932930627)"
      ]
     },
     "execution_count": 34,
     "metadata": {},
     "output_type": "execute_result"
    }
   ],
   "source": [
    "#P25, Median, and P75 of CMD Log Extinction and SLUG Extinction Median\n",
    "diff_PDFMedian_x_apdata_25q, np.median(diff_PDFMedian_x_apdata),diff_PDFMedian_x_apdata_75q\n"
   ]
  },
  {
   "cell_type": "code",
   "execution_count": 35,
   "metadata": {},
   "outputs": [
    {
     "data": {
      "text/plain": [
       "0.7939634906967468"
      ]
     },
     "execution_count": 35,
     "metadata": {},
     "output_type": "execute_result"
    }
   ],
   "source": [
    "#IQR for Extinction PDF Median - apdata\n",
    "AvIQR=diff_PDFMedian_x_apdata_75q-diff_PDFMedian_x_apdata_25q\n",
    "AvIQR"
   ]
  },
  {
   "cell_type": "code",
   "execution_count": 36,
   "metadata": {},
   "outputs": [
    {
     "data": {
      "text/plain": [
       "2.3389595133296637"
      ]
     },
     "execution_count": 36,
     "metadata": {},
     "output_type": "execute_result"
    }
   ],
   "source": [
    "#standard deviation (sigma) of Extinction median of the PDF - Extinction apdata\n",
    "np.std(diff_PDFMedian_x_apdata)"
   ]
  },
  {
   "cell_type": "code",
   "execution_count": 37,
   "metadata": {},
   "outputs": [
    {
     "data": {
      "image/png": "[encoded data removed]",
      "text/plain": [
       "<Figure size 432x288 with 2 Axes>"
      ]
     },
     "metadata": {
      "needs_background": "light"
     },
     "output_type": "display_data"
    }
   ],
   "source": [
    "#plotting the median of the PDF versus the difference of the apdata Av minus the median of the PDF for all \n",
    "#apdata clusters with ONLY best method CMD\n",
    "\n",
    "z=np.arange(0,25,1)\n",
    "ax=plt.subplot()\n",
    "plt.subplot(1,2,1)\n",
    "plt.scatter(xpercentiles[1][indBTM[0]],diff_PDFMedian_x_apdata, color='steelblue')\n",
    "plt.plot(z,np.median(diff_PDFMedian_x_apdata)*np.ones(25),'k--',lw=1)\n",
    "plt.plot(z,diff_PDFMedian_x_apdata_25q*np.ones(25),'b--',lw=1)\n",
    "plt.plot(z,diff_PDFMedian_x_apdata_75q*np.ones(25),'r--',lw=1)\n",
    "plt.ylim(-30,23)\n",
    "#plt.xlim(0,5)\n",
    "plt.ylabel('LogAVSLUG - LogAVCMD', fontsize=13)\n",
    "plt.xlabel('Previous Log A_V Estimates', fontsize=13);\n",
    "\n",
    "\n",
    "plt.subplot(1,2,2)\n",
    "c=np.arange(0,302,1)\n",
    "plt.hist(diff_PDFMedian_x_apdata, orientation='horizontal',histtype='step',lw=2,color='steelblue')\n",
    "plt.plot(c,np.median(diff_PDFMedian_x_apdata)*np.ones(302),'k--',lw=1,label='Median')\n",
    "plt.plot(c,diff_PDFMedian_x_apdata_25q*np.ones(302),'b--',lw=1,label='25th percentile')\n",
    "plt.plot(c,diff_PDFMedian_x_apdata_75q*np.ones(302),'r--',lw=1,label='75th percentile')\n",
    "plt.xlabel('Clusters',fontsize=13)\n",
    "plt.ylim(-30,23)\n",
    "plt.yticks([])\n",
    "plt.legend()\n",
    "\n",
    "plt.subplots_adjust(hspace=0.4, wspace=0, bottom=0.5, top=1.2, right=1.3)\n",
    "#plt.savefig('/Volumes/My_Passport_for_Mac/M33_M31_LGCS_Files/Model_Comparison_Files/DiffofMassModels_vs_PreviousMassEst.pdf')"
   ]
  },
  {
   "cell_type": "code",
   "execution_count": 53,
   "metadata": {},
   "outputs": [
    {
     "data": {
      "image/png": "[encoded data removed]",
      "text/plain": [
       "<Figure size 432x288 with 2 Axes>"
      ]
     },
     "metadata": {
      "needs_background": "light"
     },
     "output_type": "display_data"
    }
   ],
   "source": [
    "#Zoomed in version of the plot above between y values of -5 to 5\n",
    "\n",
    "z=np.arange(0,6,1)\n",
    "ax=plt.subplot()\n",
    "plt.subplot(1,2,1)\n",
    "plt.scatter(xpercentiles[1][indBTM[0]],diff_PDFMedian_x_apdata,color='steelblue')\n",
    "plt.plot(z,np.median(diff_PDFMedian_x_apdata)*np.ones(6),'k--',lw=2)\n",
    "plt.plot(z,diff_PDFMedian_x_apdata_25q*np.ones(6),'b--',lw=2)\n",
    "plt.plot(z,diff_PDFMedian_x_apdata_75q*np.ones(6),'r--',lw=2)\n",
    "plt.ylim(-3.3,3.3)\n",
    "plt.xlim(0,3.3)\n",
    "plt.ylabel('Log$A_v$SLUG - Log$A_v$CMD', fontsize=13)\n",
    "plt.xlabel('Previous Log $A_V$ Estimates', fontsize=13);\n",
    "\n",
    "\n",
    "plt.subplot(1,2,2)\n",
    "c=np.arange(0,302,1)\n",
    "plt.hist(diff_PDFMedian_x_apdata, orientation='horizontal',histtype='step',lw=2,bins=54, color='steelblue')\n",
    "plt.plot(c,np.median(diff_PDFMedian_x_apdata)*np.ones(302),'k--',lw=2,label='Median')\n",
    "plt.plot(c,diff_PDFMedian_x_apdata_25q*np.ones(302),'b--',lw=2,label='25th percentile')\n",
    "plt.plot(c,diff_PDFMedian_x_apdata_75q*np.ones(302),'r--',lw=2,label='75th percentile')\n",
    "plt.xlabel('Clusters',fontsize=13)\n",
    "plt.ylim(-4,4)\n",
    "plt.yticks([])\n",
    "plt.legend()\n",
    "\n",
    "plt.subplots_adjust(hspace=0.4, wspace=0, bottom=0.5, top=1.2, right=1.3)\n",
    "plt.savefig('/Volumes/My_Passport_for_Mac/M33_M31_LGCS_Files/M31-Andromeda/Model_Comparison_Files/SlugPDF-CMDA_vEst_vs_CMDA_vEst_5filts.pdf')"
   ]
  },
  {
   "cell_type": "code",
   "execution_count": null,
   "metadata": {},
   "outputs": [],
   "source": []
  }
 ],
 "metadata": {
  "kernelspec": {
   "display_name": "Python 3",
   "language": "python",
   "name": "python3"
  },
  "language_info": {
   "codemirror_mode": {
    "name": "ipython",
    "version": 3
   },
   "file_extension": ".py",
   "mimetype": "text/x-python",
   "name": "python",
   "nbconvert_exporter": "python",
   "pygments_lexer": "ipython3",
   "version": "3.7.7"
  }
 },
 "nbformat": 4,
 "nbformat_minor": 2
}

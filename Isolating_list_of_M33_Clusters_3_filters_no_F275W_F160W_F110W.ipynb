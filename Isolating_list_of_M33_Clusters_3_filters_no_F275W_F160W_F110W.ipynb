{
 "cells": [
  {
   "cell_type": "code",
   "execution_count": 1,
   "metadata": {},
   "outputs": [],
   "source": [
    "# This script demonstrates the capabilities of cluster_slug by using\n",
    "# it to re-analyze the M31 star clusters catalog of Johnson et al. (2015, ApJ)\n",
    "\n",
    "# Import the libraries we'll need\n",
    "from astropy.io import ascii\n",
    "from astropy import table\n",
    "from astropy.table import unique, Table, hstack, Column\n",
    "import sys\n",
    "from numpy import inf\n",
    "import numpy as np\n",
    "import numpy.ma as ma\n",
    "import time\n",
    "from matplotlib.pyplot import figure as fig\n",
    "import matplotlib.pyplot as plt\n",
    "from scipy import stats\n",
    "from scipy.stats import norm\n",
    "from slugpy.cluster_slug import cluster_slug\n",
    "from slugpy import * \n",
    "import matplotlib.pyplot as plt\n",
    "from matplotlib.lines import Line2D\n",
    "import matplotlib.lines as mlines\n",
    "from matplotlib.ticker import (MultipleLocator, FormatStrFormatter,\n",
    "                               AutoMinorLocator)"
   ]
  },
  {
   "cell_type": "code",
   "execution_count": 2,
   "metadata": {},
   "outputs": [],
   "source": [
    "#Imported AP (M33) fits files which include best fit of mass and age data already\n",
    "\n",
    "m33phot_test=Table.read('/Users/user/Dropbox/m33_zoo_data/data_v2/apm33_6phot_test.fits')\n",
    "\n",
    "LEGUS_PHAT_PadKroupa_prop=Table.read('LEGUS_1e6_1e10age_PadKroupaAfter_PHAT_lib_1e7Trials_cluster_prop.fits')\n",
    "LEGUS_PHAT_PadKroupa_phot=Table.read('LEGUS_1e6_1e10age_PadKroupaAfter_PHAT_lib_1e7Trials_cluster_phot.fits')\n",
    "\n",
    "dmod_M33=24.65 #De Grijs et al 2014 (AJ 148:17)"
   ]
  },
  {
   "cell_type": "code",
   "execution_count": 3,
   "metadata": {},
   "outputs": [],
   "source": [
    "m33phot_test.remove_columns(['MAG275','MAG110','MAG160','SIG275','SIG110','SIG160','DETSIG275','DETSIG110','DETSIG160'])"
   ]
  },
  {
   "cell_type": "code",
   "execution_count": 4,
   "metadata": {
    "scrolled": true
   },
   "outputs": [
    {
     "data": {
      "text/html": [
       "<i>Table length=2251</i>\n",
       "<table id=\"table112099891464\" class=\"table-striped table-bordered table-condensed\">\n",
       "<thead><tr><th>ID</th><th>X</th><th>Y</th><th>PIXRAD</th><th>FX</th><th>FY</th><th>RA</th><th>DEC</th><th>NUMOBJ</th><th>VIEWFRAC</th><th>CFRAC</th><th>OFRAC</th><th>GFRAC</th><th>EFRAC</th><th>CCNT</th><th>CPCNT</th><th>GCNT</th><th>GPCNT</th><th>ECNT</th><th>EPCNT</th><th>CLASSIFICATION_COUNT</th><th>PRIMARY_APCAN</th><th>SUBIMG</th><th>BRICK</th><th>FIELD</th><th>IMG</th><th>TOOTH</th><th>SUBJECT_ID</th><th>NUMOBJALL</th><th>NOSOLFLAG</th><th>EDGES</th><th>VIEWFRACS</th><th>EXCLUDEFLAGS</th><th>PIXHLR475</th><th>MAG336</th><th>SIG336</th><th>DETSIG336</th><th>MAG475</th><th>SIG475</th><th>DETSIG475</th><th>MAG814</th><th>SIG814</th><th>DETSIG814</th></tr></thead>\n",
       "<thead><tr><th>int32</th><th>float32</th><th>float32</th><th>float32</th><th>float32</th><th>float32</th><th>float64</th><th>float64</th><th>int32</th><th>float32</th><th>float32</th><th>float32</th><th>float32</th><th>float32</th><th>int32</th><th>int32</th><th>int32</th><th>int32</th><th>int32</th><th>int32</th><th>int16</th><th>int32</th><th>bytes17</th><th>int16</th><th>int16</th><th>int16</th><th>int16</th><th>int32</th><th>int32</th><th>int16</th><th>bytes36</th><th>bytes49</th><th>bytes14</th><th>float32</th><th>float32</th><th>float32</th><th>float32</th><th>float32</th><th>float32</th><th>float32</th><th>float32</th><th>float32</th><th>float32</th></tr></thead>\n",
       "<tr><td>3</td><td>511.167</td><td>419.4067</td><td>30.805826</td><td>2386.167</td><td>2019.4067</td><td>23.60606421401875</td><td>30.699199021851136</td><td>1</td><td>1.0</td><td>1.0</td><td>0.0</td><td>0.0</td><td>0.0</td><td>60</td><td>0</td><td>0</td><td>0</td><td>0</td><td>0</td><td>60</td><td>27021</td><td>M33-B02-F01-TE_20</td><td>2</td><td>1</td><td>20</td><td>1</td><td>28526173</td><td>4</td><td>0</td><td>80.6,4.5,6.1,20.3,</td><td>1.0000,0.2833,0.0833,0.8361,</td><td>0,1,1,1,</td><td>8.728445</td><td>20.486721</td><td>0.11886143</td><td>5.8726273</td><td>20.217335</td><td>0.1563142</td><td>6.99401</td><td>19.335989</td><td>0.27782437</td><td>3.9929368</td></tr>\n",
       "<tr><td>4</td><td>274.12375</td><td>430.10718</td><td>38.054737</td><td>1524.1238</td><td>430.10718</td><td>23.43433303773043</td><td>30.51408232617703</td><td>1</td><td>1.0</td><td>0.98333335</td><td>0.016666668</td><td>0.0</td><td>0.016666668</td><td>59</td><td>0</td><td>0</td><td>0</td><td>1</td><td>0</td><td>60</td><td>21254</td><td>M33-B03-F16_03</td><td>3</td><td>16</td><td>3</td><td>-1</td><td>28525713</td><td>2</td><td>0</td><td>69.9,28.9,</td><td>1.0000,0.9000,</td><td>0,1,</td><td>13.384977</td><td>17.207281</td><td>0.07225124</td><td>9.632259</td><td>19.698397</td><td>0.08457241</td><td>12.864533</td><td>18.16659</td><td>0.15653984</td><td>6.9838634</td></tr>\n",
       "<tr><td>5</td><td>224.73451</td><td>423.41208</td><td>37.18926</td><td>849.7345</td><td>1623.4121</td><td>23.583845918691235</td><td>30.659212182808222</td><td>1</td><td>0.9836066</td><td>0.9166667</td><td>0.083333336</td><td>0.0</td><td>0.083333336</td><td>55</td><td>0</td><td>0</td><td>0</td><td>5</td><td>0</td><td>61</td><td>9815</td><td>M33-B02-F07_14</td><td>2</td><td>7</td><td>14</td><td>-1</td><td>28524968</td><td>2</td><td>0</td><td>76.6,23.6,</td><td>0.9836,0.8548,</td><td>0,1,</td><td>9.4648075</td><td>18.9727</td><td>0.11130678</td><td>6.2656794</td><td>18.70199</td><td>0.023569176</td><td>46.085743</td><td>17.94467</td><td>0.06835622</td><td>15.904741</td></tr>\n",
       "<tr><td>7</td><td>248.0658</td><td>140.99915</td><td>39.348427</td><td>873.0658</td><td>140.99915</td><td>23.390373394289195</td><td>30.6674512161078</td><td>2</td><td>0.96694213</td><td>0.974359</td><td>0.025641026</td><td>0.0</td><td>0.025641026</td><td>114</td><td>0</td><td>0</td><td>0</td><td>3</td><td>0</td><td>121</td><td>11623</td><td>M33-B02-F12_02</td><td>2</td><td>12</td><td>2</td><td>-1</td><td>28525096</td><td>2</td><td>0</td><td>83.6,141.0,</td><td>0.9833,0.9508,</td><td>0,0,</td><td>12.779946</td><td>19.286543</td><td>0.14845498</td><td>4.710332</td><td>18.826597</td><td>0.08265972</td><td>13.160799</td><td>17.740986</td><td>0.16589268</td><td>6.5956807</td></tr>\n",
       "<tr><td>8</td><td>203.50774</td><td>440.90045</td><td>63.505905</td><td>1453.5077</td><td>2440.9004</td><td>23.479685106627514</td><td>30.799434542708635</td><td>1</td><td>0.98333335</td><td>0.9830508</td><td>0.016949153</td><td>0.0</td><td>0.016949153</td><td>58</td><td>0</td><td>0</td><td>0</td><td>1</td><td>0</td><td>60</td><td>4403</td><td>M33-B01-F11_23</td><td>1</td><td>11</td><td>23</td><td>-1</td><td>28524585</td><td>2</td><td>1</td><td>41.7,59.1,</td><td>0.9833,0.9833,</td><td>0,1,</td><td>16.818165</td><td>16.588139</td><td>0.054756697</td><td>12.701803</td><td>16.79031</td><td>0.03153818</td><td>34.436665</td><td>16.108368</td><td>0.0520216</td><td>20.886917</td></tr>\n",
       "<tr><td>11</td><td>119.026726</td><td>403.0801</td><td>33.970577</td><td>744.02673</td><td>2403.08</td><td>23.445514019227883</td><td>30.7663251695561</td><td>1</td><td>0.98333335</td><td>1.0</td><td>0.0</td><td>0.0</td><td>0.0</td><td>59</td><td>0</td><td>0</td><td>0</td><td>0</td><td>0</td><td>60</td><td>7146</td><td>M33-B01-F18_22</td><td>1</td><td>18</td><td>22</td><td>-1</td><td>28524780</td><td>2</td><td>0</td><td>96.9,8.8,</td><td>0.9833,0.7167,</td><td>0,1,</td><td>10.902826</td><td>19.508385</td><td>0.14812975</td><td>4.720739</td><td>19.481394</td><td>0.05234097</td><td>20.761887</td><td>19.410734</td><td>0.36016145</td><td>3.124356</td></tr>\n",
       "<tr><td>13</td><td>201.16205</td><td>254.97142</td><td>49.47727</td><td>201.16205</td><td>1854.9714</td><td>23.56453518259861</td><td>30.70314723396164</td><td>1</td><td>0.98333335</td><td>0.9661017</td><td>0.033898305</td><td>0.0</td><td>0.033898305</td><td>57</td><td>0</td><td>0</td><td>0</td><td>2</td><td>0</td><td>60</td><td>7830</td><td>M33-B02-F02_17</td><td>2</td><td>2</td><td>17</td><td>-1</td><td>28524831</td><td>2</td><td>0</td><td>201.2,22.6,</td><td>0.9833,0.9333,</td><td>0,1,</td><td>15.648331</td><td>17.925293</td><td>0.050608266</td><td>13.744537</td><td>18.142805</td><td>0.0857727</td><td>12.6848545</td><td>17.062899</td><td>0.08403791</td><td>12.945444</td></tr>\n",
       "<tr><td>15</td><td>611.2133</td><td>299.76617</td><td>52.04386</td><td>2486.2134</td><td>299.76617</td><td>23.577712900686066</td><td>30.52706255699551</td><td>2</td><td>0.98333335</td><td>0.9830508</td><td>0.016949153</td><td>0.0</td><td>0.016949153</td><td>116</td><td>0</td><td>0</td><td>0</td><td>2</td><td>0</td><td>120</td><td>26228</td><td>M33-B03-F07-TE_04</td><td>3</td><td>7</td><td>4</td><td>1</td><td>28526102</td><td>3</td><td>0</td><td>113.8,56.8,20.4,</td><td>0.9833,0.9833,0.9000,</td><td>0,0,1,</td><td>11.958765</td><td>16.356699</td><td>0.01643354</td><td>42.310066</td><td>16.84331</td><td>0.02626825</td><td>41.34225</td><td>16.140528</td><td>0.0340229</td><td>31.922668</td></tr>\n",
       "<tr><td>16</td><td>438.82727</td><td>246.76823</td><td>71.65176</td><td>2313.8271</td><td>1446.7682</td><td>23.605610102605468</td><td>30.691192015762407</td><td>1</td><td>0.98333335</td><td>0.8305085</td><td>0.16949153</td><td>0.06779661</td><td>0.10169491</td><td>49</td><td>0</td><td>4</td><td>0</td><td>6</td><td>0</td><td>60</td><td>27000</td><td>M33-B02-F01-TE_16</td><td>2</td><td>1</td><td>16</td><td>1</td><td>28526170</td><td>1</td><td>0</td><td>246.8</td><td>0.9833</td><td>0</td><td>20.366236</td><td>18.07968</td><td>0.10024265</td><td>6.952229</td><td>17.810106</td><td>0.0048297485</td><td>225.50786</td><td>16.615978</td><td>0.06446845</td><td>16.861229</td></tr>\n",
       "<tr><td>17</td><td>279.86597</td><td>185.6878</td><td>50.159744</td><td>1529.866</td><td>2585.6877</td><td>23.52419243700545</td><td>30.83246332535244</td><td>1</td><td>0.98333335</td><td>0.9830508</td><td>0.016949153</td><td>0.0</td><td>0.016949153</td><td>58</td><td>0</td><td>0</td><td>0</td><td>1</td><td>0</td><td>60</td><td>1496</td><td>M33-B01-F04_27</td><td>1</td><td>4</td><td>27</td><td>-1</td><td>28524393</td><td>1</td><td>0</td><td>185.7</td><td>0.9833</td><td>0</td><td>12.008762</td><td>17.310535</td><td>0.0974104</td><td>7.152913</td><td>17.800167</td><td>0.0681135</td><td>15.961256</td><td>17.484009</td><td>0.08811067</td><td>12.349536</td></tr>\n",
       "<tr><td>...</td><td>...</td><td>...</td><td>...</td><td>...</td><td>...</td><td>...</td><td>...</td><td>...</td><td>...</td><td>...</td><td>...</td><td>...</td><td>...</td><td>...</td><td>...</td><td>...</td><td>...</td><td>...</td><td>...</td><td>...</td><td>...</td><td>...</td><td>...</td><td>...</td><td>...</td><td>...</td><td>...</td><td>...</td><td>...</td><td>...</td><td>...</td><td>...</td><td>...</td><td>...</td><td>...</td><td>...</td><td>...</td><td>...</td><td>...</td><td>...</td><td>...</td><td>...</td></tr>\n",
       "<tr><td>5021</td><td>512.6321</td><td>152.77747</td><td>24.41311</td><td>2387.632</td><td>2152.7773</td><td>23.577477999649663</td><td>30.780735893282685</td><td>1</td><td>0.1</td><td>0.8333333</td><td>0.16666667</td><td>0.0</td><td>0.16666667</td><td>5</td><td>0</td><td>0</td><td>0</td><td>1</td><td>0</td><td>60</td><td>3051</td><td>M33-B01-F08_24</td><td>1</td><td>8</td><td>24</td><td>-1</td><td>28524502</td><td>2</td><td>0</td><td>152.8,11.1,</td><td>0.1000,0.0667,</td><td>0,1,</td><td>3.6016595</td><td>17.477291</td><td>0.005849116</td><td>120.250854</td><td>18.880268</td><td>0.027673593</td><td>39.251144</td><td>19.206575</td><td>0.2802649</td><td>3.9596422</td></tr>\n",
       "<tr><td>5022</td><td>477.8044</td><td>294.97824</td><td>22.561028</td><td>1727.8044</td><td>1894.9783</td><td>23.587259437651475</td><td>30.77561917135254</td><td>1</td><td>0.1</td><td>0.8333333</td><td>0.16666667</td><td>0.0</td><td>0.16666667</td><td>5</td><td>0</td><td>0</td><td>0</td><td>1</td><td>0</td><td>60</td><td>2977</td><td>M33-B01-F08_19</td><td>1</td><td>8</td><td>19</td><td>-1</td><td>28524497</td><td>1</td><td>0</td><td>205.0</td><td>0.1000</td><td>0</td><td>1.9051695</td><td>18.096638</td><td>0.027938703</td><td>24.900118</td><td>19.593102</td><td>0.030251414</td><td>35.913776</td><td>19.906563</td><td>0.36809054</td><td>3.061813</td></tr>\n",
       "<tr><td>5027</td><td>82.661865</td><td>191.93588</td><td>18.974184</td><td>1957.6619</td><td>1391.9359</td><td>23.620015005084152</td><td>30.763562036918493</td><td>1</td><td>0.1</td><td>0.8333333</td><td>0.16666667</td><td>0.16666667</td><td>0.0</td><td>5</td><td>1</td><td>1</td><td>0</td><td>0</td><td>0</td><td>60</td><td>2511</td><td>M33-B01-F07_16</td><td>1</td><td>7</td><td>16</td><td>-1</td><td>28524466</td><td>2</td><td>0</td><td>82.7,15.3,</td><td>0.1000,0.0645,</td><td>0,1,</td><td>1.8239406</td><td>19.379276</td><td>0.09468248</td><td>7.3599358</td><td>18.616558</td><td>0.03230896</td><td>33.618927</td><td>18.151974</td><td>0.09544655</td><td>11.404716</td></tr>\n",
       "<tr><td>5034</td><td>159.98782</td><td>311.28748</td><td>18.469437</td><td>2034.9878</td><td>1111.2875</td><td>23.4741812230358</td><td>30.819242042359164</td><td>1</td><td>0.1</td><td>1.0</td><td>0.0</td><td>0.0</td><td>0.0</td><td>6</td><td>0</td><td>0</td><td>0</td><td>0</td><td>0</td><td>60</td><td>1679</td><td>M33-B01-F05_12</td><td>1</td><td>5</td><td>12</td><td>-1</td><td>28524406</td><td>1</td><td>0</td><td>160.0</td><td>0.1000</td><td>0</td><td>1.4970756</td><td>19.628317</td><td>0.052325178</td><td>13.305246</td><td>19.85822</td><td>0.04488296</td><td>24.20897</td><td>20.04337</td><td>0.39260685</td><td>2.8849561</td></tr>\n",
       "<tr><td>5039</td><td>414.44464</td><td>167.81575</td><td>24.020824</td><td>1039.4446</td><td>1767.8158</td><td>23.529706597988607</td><td>30.82009368079981</td><td>1</td><td>0.1</td><td>1.0</td><td>0.0</td><td>0.0</td><td>0.0</td><td>6</td><td>1</td><td>0</td><td>0</td><td>0</td><td>0</td><td>60</td><td>1345</td><td>M33-B01-F04_18</td><td>1</td><td>4</td><td>18</td><td>-1</td><td>28524384</td><td>1</td><td>0</td><td>167.8</td><td>0.1000</td><td>0</td><td>11.580486</td><td>21.28834</td><td>0.18359104</td><td>3.8224776</td><td>21.257187</td><td>0.033098098</td><td>32.881523</td><td>20.294638</td><td>0.38834023</td><td>2.914079</td></tr>\n",
       "<tr><td>5041</td><td>542.3725</td><td>273.56503</td><td>19.723083</td><td>1167.3726</td><td>1073.5651</td><td>23.525719258700462</td><td>30.810906425861933</td><td>1</td><td>0.1</td><td>0.8333333</td><td>0.16666667</td><td>0.16666667</td><td>0.0</td><td>5</td><td>0</td><td>1</td><td>0</td><td>0</td><td>0</td><td>60</td><td>1234</td><td>M33-B01-F04_10</td><td>1</td><td>4</td><td>10</td><td>-1</td><td>28524376</td><td>1</td><td>0</td><td>182.6</td><td>0.1000</td><td>0</td><td>1.4513321</td><td>18.275072</td><td>0.006702337</td><td>105.69772</td><td>19.1563</td><td>0.003917731</td><td>280.8549</td><td>19.111145</td><td>0.11470305</td><td>9.500966</td></tr>\n",
       "<tr><td>5044</td><td>157.68138</td><td>165.38554</td><td>41.109608</td><td>1407.6814</td><td>1365.3855</td><td>23.560553957068823</td><td>30.80993710402224</td><td>1</td><td>0.1</td><td>0.16666667</td><td>0.8333333</td><td>0.33333334</td><td>0.5</td><td>1</td><td>0</td><td>2</td><td>0</td><td>3</td><td>0</td><td>60</td><td>887</td><td>M33-B01-F03_15</td><td>1</td><td>3</td><td>15</td><td>-1</td><td>28524353</td><td>1</td><td>0</td><td>157.7</td><td>0.1000</td><td>0</td><td>3.0564091</td><td>17.27601</td><td>0.08607848</td><td>8.089835</td><td>17.214045</td><td>0.0025763223</td><td>423.59436</td><td>21.23304</td><td>0.75</td><td>0.0</td></tr>\n",
       "<tr><td>5046</td><td>332.7013</td><td>303.05157</td><td>22.085552</td><td>332.7013</td><td>2303.0515</td><td>23.618132930062988</td><td>30.814437947844898</td><td>1</td><td>0.1</td><td>1.0</td><td>0.0</td><td>0.0</td><td>0.0</td><td>6</td><td>0</td><td>0</td><td>0</td><td>0</td><td>0</td><td>60</td><td>598</td><td>M33-B01-F02_21</td><td>1</td><td>2</td><td>21</td><td>-1</td><td>28524331</td><td>1</td><td>0</td><td>196.9</td><td>0.1000</td><td>0</td><td>4.135725</td><td>19.745155</td><td>0.019541439</td><td>35.841293</td><td>19.249605</td><td>0.013829968</td><td>78.599236</td><td>18.571968</td><td>0.051492564</td><td>21.102049</td></tr>\n",
       "<tr><td>5049</td><td>202.59859</td><td>359.27057</td><td>20.615528</td><td>827.5986</td><td>1159.2705</td><td>23.607038124769943</td><td>30.79998806868877</td><td>1</td><td>0.1</td><td>1.0</td><td>0.0</td><td>0.0</td><td>0.0</td><td>6</td><td>0</td><td>0</td><td>0</td><td>0</td><td>0</td><td>60</td><td>449</td><td>M33-B01-F02_10</td><td>1</td><td>2</td><td>10</td><td>-1</td><td>28524306</td><td>1</td><td>0</td><td>140.7</td><td>0.1000</td><td>0</td><td>1.9157944</td><td>18.501102</td><td>0.04954406</td><td>14.0414295</td><td>19.866909</td><td>0.030543657</td><td>35.573265</td><td>20.40677</td><td>0.116053306</td><td>9.391771</td></tr>\n",
       "<tr><td>5055</td><td>187.13033</td><td>143.66946</td><td>26.076809</td><td>812.1303</td><td>1343.6694</td><td>23.645628000965168</td><td>30.796742279127756</td><td>1</td><td>0.1</td><td>1.0</td><td>0.0</td><td>0.0</td><td>0.0</td><td>6</td><td>0</td><td>0</td><td>0</td><td>0</td><td>0</td><td>60</td><td>157</td><td>M33-B01-F01_14</td><td>1</td><td>1</td><td>14</td><td>-1</td><td>28524245</td><td>1</td><td>0</td><td>143.7</td><td>0.1000</td><td>0</td><td>1.5256618</td><td>18.609291</td><td>0.02758124</td><td>25.238735</td><td>19.983873</td><td>0.025249748</td><td>43.041607</td><td>20.477695</td><td>0.74252224</td><td>1.6833873</td></tr>\n",
       "</table>"
      ],
      "text/plain": [
       "<Table length=2251>\n",
       "  ID      X          Y       PIXRAD  ...   MAG814     SIG814   DETSIG814\n",
       "int32  float32    float32   float32  ...  float32    float32    float32 \n",
       "----- ---------- --------- --------- ... --------- ----------- ---------\n",
       "    3    511.167  419.4067 30.805826 ... 19.335989  0.27782437 3.9929368\n",
       "    4  274.12375 430.10718 38.054737 ...  18.16659  0.15653984 6.9838634\n",
       "    5  224.73451 423.41208  37.18926 ...  17.94467  0.06835622 15.904741\n",
       "    7   248.0658 140.99915 39.348427 ... 17.740986  0.16589268 6.5956807\n",
       "    8  203.50774 440.90045 63.505905 ... 16.108368   0.0520216 20.886917\n",
       "   11 119.026726  403.0801 33.970577 ... 19.410734  0.36016145  3.124356\n",
       "   13  201.16205 254.97142  49.47727 ... 17.062899  0.08403791 12.945444\n",
       "   15   611.2133 299.76617  52.04386 ... 16.140528   0.0340229 31.922668\n",
       "   16  438.82727 246.76823  71.65176 ... 16.615978  0.06446845 16.861229\n",
       "   17  279.86597  185.6878 50.159744 ... 17.484009  0.08811067 12.349536\n",
       "  ...        ...       ...       ... ...       ...         ...       ...\n",
       " 5021   512.6321 152.77747  24.41311 ... 19.206575   0.2802649 3.9596422\n",
       " 5022   477.8044 294.97824 22.561028 ... 19.906563  0.36809054  3.061813\n",
       " 5027  82.661865 191.93588 18.974184 ... 18.151974  0.09544655 11.404716\n",
       " 5034  159.98782 311.28748 18.469437 ...  20.04337  0.39260685 2.8849561\n",
       " 5039  414.44464 167.81575 24.020824 ... 20.294638  0.38834023  2.914079\n",
       " 5041   542.3725 273.56503 19.723083 ... 19.111145  0.11470305  9.500966\n",
       " 5044  157.68138 165.38554 41.109608 ...  21.23304        0.75       0.0\n",
       " 5046   332.7013 303.05157 22.085552 ... 18.571968 0.051492564 21.102049\n",
       " 5049  202.59859 359.27057 20.615528 ...  20.40677 0.116053306  9.391771\n",
       " 5055  187.13033 143.66946 26.076809 ... 20.477695  0.74252224 1.6833873"
      ]
     },
     "execution_count": 4,
     "metadata": {},
     "output_type": "execute_result"
    }
   ],
   "source": [
    "ind336DS3=np.where(m33phot_test['DETSIG336']<3.0)\n",
    "m33phot_test.remove_rows(ind336DS3)\n",
    "m33phot_test"
   ]
  },
  {
   "cell_type": "code",
   "execution_count": 5,
   "metadata": {
    "scrolled": true
   },
   "outputs": [
    {
     "data": {
      "text/html": [
       "<i>Table length=2134</i>\n",
       "<table id=\"table112099891464\" class=\"table-striped table-bordered table-condensed\">\n",
       "<thead><tr><th>ID</th><th>X</th><th>Y</th><th>PIXRAD</th><th>FX</th><th>FY</th><th>RA</th><th>DEC</th><th>NUMOBJ</th><th>VIEWFRAC</th><th>CFRAC</th><th>OFRAC</th><th>GFRAC</th><th>EFRAC</th><th>CCNT</th><th>CPCNT</th><th>GCNT</th><th>GPCNT</th><th>ECNT</th><th>EPCNT</th><th>CLASSIFICATION_COUNT</th><th>PRIMARY_APCAN</th><th>SUBIMG</th><th>BRICK</th><th>FIELD</th><th>IMG</th><th>TOOTH</th><th>SUBJECT_ID</th><th>NUMOBJALL</th><th>NOSOLFLAG</th><th>EDGES</th><th>VIEWFRACS</th><th>EXCLUDEFLAGS</th><th>PIXHLR475</th><th>MAG336</th><th>SIG336</th><th>DETSIG336</th><th>MAG475</th><th>SIG475</th><th>DETSIG475</th><th>MAG814</th><th>SIG814</th><th>DETSIG814</th></tr></thead>\n",
       "<thead><tr><th>int32</th><th>float32</th><th>float32</th><th>float32</th><th>float32</th><th>float32</th><th>float64</th><th>float64</th><th>int32</th><th>float32</th><th>float32</th><th>float32</th><th>float32</th><th>float32</th><th>int32</th><th>int32</th><th>int32</th><th>int32</th><th>int32</th><th>int32</th><th>int16</th><th>int32</th><th>bytes17</th><th>int16</th><th>int16</th><th>int16</th><th>int16</th><th>int32</th><th>int32</th><th>int16</th><th>bytes36</th><th>bytes49</th><th>bytes14</th><th>float32</th><th>float32</th><th>float32</th><th>float32</th><th>float32</th><th>float32</th><th>float32</th><th>float32</th><th>float32</th><th>float32</th></tr></thead>\n",
       "<tr><td>3</td><td>511.167</td><td>419.4067</td><td>30.805826</td><td>2386.167</td><td>2019.4067</td><td>23.60606421401875</td><td>30.699199021851136</td><td>1</td><td>1.0</td><td>1.0</td><td>0.0</td><td>0.0</td><td>0.0</td><td>60</td><td>0</td><td>0</td><td>0</td><td>0</td><td>0</td><td>60</td><td>27021</td><td>M33-B02-F01-TE_20</td><td>2</td><td>1</td><td>20</td><td>1</td><td>28526173</td><td>4</td><td>0</td><td>80.6,4.5,6.1,20.3,</td><td>1.0000,0.2833,0.0833,0.8361,</td><td>0,1,1,1,</td><td>8.728445</td><td>20.486721</td><td>0.11886143</td><td>5.8726273</td><td>20.217335</td><td>0.1563142</td><td>6.99401</td><td>19.335989</td><td>0.27782437</td><td>3.9929368</td></tr>\n",
       "<tr><td>4</td><td>274.12375</td><td>430.10718</td><td>38.054737</td><td>1524.1238</td><td>430.10718</td><td>23.43433303773043</td><td>30.51408232617703</td><td>1</td><td>1.0</td><td>0.98333335</td><td>0.016666668</td><td>0.0</td><td>0.016666668</td><td>59</td><td>0</td><td>0</td><td>0</td><td>1</td><td>0</td><td>60</td><td>21254</td><td>M33-B03-F16_03</td><td>3</td><td>16</td><td>3</td><td>-1</td><td>28525713</td><td>2</td><td>0</td><td>69.9,28.9,</td><td>1.0000,0.9000,</td><td>0,1,</td><td>13.384977</td><td>17.207281</td><td>0.07225124</td><td>9.632259</td><td>19.698397</td><td>0.08457241</td><td>12.864533</td><td>18.16659</td><td>0.15653984</td><td>6.9838634</td></tr>\n",
       "<tr><td>5</td><td>224.73451</td><td>423.41208</td><td>37.18926</td><td>849.7345</td><td>1623.4121</td><td>23.583845918691235</td><td>30.659212182808222</td><td>1</td><td>0.9836066</td><td>0.9166667</td><td>0.083333336</td><td>0.0</td><td>0.083333336</td><td>55</td><td>0</td><td>0</td><td>0</td><td>5</td><td>0</td><td>61</td><td>9815</td><td>M33-B02-F07_14</td><td>2</td><td>7</td><td>14</td><td>-1</td><td>28524968</td><td>2</td><td>0</td><td>76.6,23.6,</td><td>0.9836,0.8548,</td><td>0,1,</td><td>9.4648075</td><td>18.9727</td><td>0.11130678</td><td>6.2656794</td><td>18.70199</td><td>0.023569176</td><td>46.085743</td><td>17.94467</td><td>0.06835622</td><td>15.904741</td></tr>\n",
       "<tr><td>7</td><td>248.0658</td><td>140.99915</td><td>39.348427</td><td>873.0658</td><td>140.99915</td><td>23.390373394289195</td><td>30.6674512161078</td><td>2</td><td>0.96694213</td><td>0.974359</td><td>0.025641026</td><td>0.0</td><td>0.025641026</td><td>114</td><td>0</td><td>0</td><td>0</td><td>3</td><td>0</td><td>121</td><td>11623</td><td>M33-B02-F12_02</td><td>2</td><td>12</td><td>2</td><td>-1</td><td>28525096</td><td>2</td><td>0</td><td>83.6,141.0,</td><td>0.9833,0.9508,</td><td>0,0,</td><td>12.779946</td><td>19.286543</td><td>0.14845498</td><td>4.710332</td><td>18.826597</td><td>0.08265972</td><td>13.160799</td><td>17.740986</td><td>0.16589268</td><td>6.5956807</td></tr>\n",
       "<tr><td>8</td><td>203.50774</td><td>440.90045</td><td>63.505905</td><td>1453.5077</td><td>2440.9004</td><td>23.479685106627514</td><td>30.799434542708635</td><td>1</td><td>0.98333335</td><td>0.9830508</td><td>0.016949153</td><td>0.0</td><td>0.016949153</td><td>58</td><td>0</td><td>0</td><td>0</td><td>1</td><td>0</td><td>60</td><td>4403</td><td>M33-B01-F11_23</td><td>1</td><td>11</td><td>23</td><td>-1</td><td>28524585</td><td>2</td><td>1</td><td>41.7,59.1,</td><td>0.9833,0.9833,</td><td>0,1,</td><td>16.818165</td><td>16.588139</td><td>0.054756697</td><td>12.701803</td><td>16.79031</td><td>0.03153818</td><td>34.436665</td><td>16.108368</td><td>0.0520216</td><td>20.886917</td></tr>\n",
       "<tr><td>11</td><td>119.026726</td><td>403.0801</td><td>33.970577</td><td>744.02673</td><td>2403.08</td><td>23.445514019227883</td><td>30.7663251695561</td><td>1</td><td>0.98333335</td><td>1.0</td><td>0.0</td><td>0.0</td><td>0.0</td><td>59</td><td>0</td><td>0</td><td>0</td><td>0</td><td>0</td><td>60</td><td>7146</td><td>M33-B01-F18_22</td><td>1</td><td>18</td><td>22</td><td>-1</td><td>28524780</td><td>2</td><td>0</td><td>96.9,8.8,</td><td>0.9833,0.7167,</td><td>0,1,</td><td>10.902826</td><td>19.508385</td><td>0.14812975</td><td>4.720739</td><td>19.481394</td><td>0.05234097</td><td>20.761887</td><td>19.410734</td><td>0.36016145</td><td>3.124356</td></tr>\n",
       "<tr><td>13</td><td>201.16205</td><td>254.97142</td><td>49.47727</td><td>201.16205</td><td>1854.9714</td><td>23.56453518259861</td><td>30.70314723396164</td><td>1</td><td>0.98333335</td><td>0.9661017</td><td>0.033898305</td><td>0.0</td><td>0.033898305</td><td>57</td><td>0</td><td>0</td><td>0</td><td>2</td><td>0</td><td>60</td><td>7830</td><td>M33-B02-F02_17</td><td>2</td><td>2</td><td>17</td><td>-1</td><td>28524831</td><td>2</td><td>0</td><td>201.2,22.6,</td><td>0.9833,0.9333,</td><td>0,1,</td><td>15.648331</td><td>17.925293</td><td>0.050608266</td><td>13.744537</td><td>18.142805</td><td>0.0857727</td><td>12.6848545</td><td>17.062899</td><td>0.08403791</td><td>12.945444</td></tr>\n",
       "<tr><td>15</td><td>611.2133</td><td>299.76617</td><td>52.04386</td><td>2486.2134</td><td>299.76617</td><td>23.577712900686066</td><td>30.52706255699551</td><td>2</td><td>0.98333335</td><td>0.9830508</td><td>0.016949153</td><td>0.0</td><td>0.016949153</td><td>116</td><td>0</td><td>0</td><td>0</td><td>2</td><td>0</td><td>120</td><td>26228</td><td>M33-B03-F07-TE_04</td><td>3</td><td>7</td><td>4</td><td>1</td><td>28526102</td><td>3</td><td>0</td><td>113.8,56.8,20.4,</td><td>0.9833,0.9833,0.9000,</td><td>0,0,1,</td><td>11.958765</td><td>16.356699</td><td>0.01643354</td><td>42.310066</td><td>16.84331</td><td>0.02626825</td><td>41.34225</td><td>16.140528</td><td>0.0340229</td><td>31.922668</td></tr>\n",
       "<tr><td>16</td><td>438.82727</td><td>246.76823</td><td>71.65176</td><td>2313.8271</td><td>1446.7682</td><td>23.605610102605468</td><td>30.691192015762407</td><td>1</td><td>0.98333335</td><td>0.8305085</td><td>0.16949153</td><td>0.06779661</td><td>0.10169491</td><td>49</td><td>0</td><td>4</td><td>0</td><td>6</td><td>0</td><td>60</td><td>27000</td><td>M33-B02-F01-TE_16</td><td>2</td><td>1</td><td>16</td><td>1</td><td>28526170</td><td>1</td><td>0</td><td>246.8</td><td>0.9833</td><td>0</td><td>20.366236</td><td>18.07968</td><td>0.10024265</td><td>6.952229</td><td>17.810106</td><td>0.0048297485</td><td>225.50786</td><td>16.615978</td><td>0.06446845</td><td>16.861229</td></tr>\n",
       "<tr><td>17</td><td>279.86597</td><td>185.6878</td><td>50.159744</td><td>1529.866</td><td>2585.6877</td><td>23.52419243700545</td><td>30.83246332535244</td><td>1</td><td>0.98333335</td><td>0.9830508</td><td>0.016949153</td><td>0.0</td><td>0.016949153</td><td>58</td><td>0</td><td>0</td><td>0</td><td>1</td><td>0</td><td>60</td><td>1496</td><td>M33-B01-F04_27</td><td>1</td><td>4</td><td>27</td><td>-1</td><td>28524393</td><td>1</td><td>0</td><td>185.7</td><td>0.9833</td><td>0</td><td>12.008762</td><td>17.310535</td><td>0.0974104</td><td>7.152913</td><td>17.800167</td><td>0.0681135</td><td>15.961256</td><td>17.484009</td><td>0.08811067</td><td>12.349536</td></tr>\n",
       "<tr><td>...</td><td>...</td><td>...</td><td>...</td><td>...</td><td>...</td><td>...</td><td>...</td><td>...</td><td>...</td><td>...</td><td>...</td><td>...</td><td>...</td><td>...</td><td>...</td><td>...</td><td>...</td><td>...</td><td>...</td><td>...</td><td>...</td><td>...</td><td>...</td><td>...</td><td>...</td><td>...</td><td>...</td><td>...</td><td>...</td><td>...</td><td>...</td><td>...</td><td>...</td><td>...</td><td>...</td><td>...</td><td>...</td><td>...</td><td>...</td><td>...</td><td>...</td><td>...</td></tr>\n",
       "<tr><td>5021</td><td>512.6321</td><td>152.77747</td><td>24.41311</td><td>2387.632</td><td>2152.7773</td><td>23.577477999649663</td><td>30.780735893282685</td><td>1</td><td>0.1</td><td>0.8333333</td><td>0.16666667</td><td>0.0</td><td>0.16666667</td><td>5</td><td>0</td><td>0</td><td>0</td><td>1</td><td>0</td><td>60</td><td>3051</td><td>M33-B01-F08_24</td><td>1</td><td>8</td><td>24</td><td>-1</td><td>28524502</td><td>2</td><td>0</td><td>152.8,11.1,</td><td>0.1000,0.0667,</td><td>0,1,</td><td>3.6016595</td><td>17.477291</td><td>0.005849116</td><td>120.250854</td><td>18.880268</td><td>0.027673593</td><td>39.251144</td><td>19.206575</td><td>0.2802649</td><td>3.9596422</td></tr>\n",
       "<tr><td>5022</td><td>477.8044</td><td>294.97824</td><td>22.561028</td><td>1727.8044</td><td>1894.9783</td><td>23.587259437651475</td><td>30.77561917135254</td><td>1</td><td>0.1</td><td>0.8333333</td><td>0.16666667</td><td>0.0</td><td>0.16666667</td><td>5</td><td>0</td><td>0</td><td>0</td><td>1</td><td>0</td><td>60</td><td>2977</td><td>M33-B01-F08_19</td><td>1</td><td>8</td><td>19</td><td>-1</td><td>28524497</td><td>1</td><td>0</td><td>205.0</td><td>0.1000</td><td>0</td><td>1.9051695</td><td>18.096638</td><td>0.027938703</td><td>24.900118</td><td>19.593102</td><td>0.030251414</td><td>35.913776</td><td>19.906563</td><td>0.36809054</td><td>3.061813</td></tr>\n",
       "<tr><td>5027</td><td>82.661865</td><td>191.93588</td><td>18.974184</td><td>1957.6619</td><td>1391.9359</td><td>23.620015005084152</td><td>30.763562036918493</td><td>1</td><td>0.1</td><td>0.8333333</td><td>0.16666667</td><td>0.16666667</td><td>0.0</td><td>5</td><td>1</td><td>1</td><td>0</td><td>0</td><td>0</td><td>60</td><td>2511</td><td>M33-B01-F07_16</td><td>1</td><td>7</td><td>16</td><td>-1</td><td>28524466</td><td>2</td><td>0</td><td>82.7,15.3,</td><td>0.1000,0.0645,</td><td>0,1,</td><td>1.8239406</td><td>19.379276</td><td>0.09468248</td><td>7.3599358</td><td>18.616558</td><td>0.03230896</td><td>33.618927</td><td>18.151974</td><td>0.09544655</td><td>11.404716</td></tr>\n",
       "<tr><td>5034</td><td>159.98782</td><td>311.28748</td><td>18.469437</td><td>2034.9878</td><td>1111.2875</td><td>23.4741812230358</td><td>30.819242042359164</td><td>1</td><td>0.1</td><td>1.0</td><td>0.0</td><td>0.0</td><td>0.0</td><td>6</td><td>0</td><td>0</td><td>0</td><td>0</td><td>0</td><td>60</td><td>1679</td><td>M33-B01-F05_12</td><td>1</td><td>5</td><td>12</td><td>-1</td><td>28524406</td><td>1</td><td>0</td><td>160.0</td><td>0.1000</td><td>0</td><td>1.4970756</td><td>19.628317</td><td>0.052325178</td><td>13.305246</td><td>19.85822</td><td>0.04488296</td><td>24.20897</td><td>20.04337</td><td>0.39260685</td><td>2.8849561</td></tr>\n",
       "<tr><td>5039</td><td>414.44464</td><td>167.81575</td><td>24.020824</td><td>1039.4446</td><td>1767.8158</td><td>23.529706597988607</td><td>30.82009368079981</td><td>1</td><td>0.1</td><td>1.0</td><td>0.0</td><td>0.0</td><td>0.0</td><td>6</td><td>1</td><td>0</td><td>0</td><td>0</td><td>0</td><td>60</td><td>1345</td><td>M33-B01-F04_18</td><td>1</td><td>4</td><td>18</td><td>-1</td><td>28524384</td><td>1</td><td>0</td><td>167.8</td><td>0.1000</td><td>0</td><td>11.580486</td><td>21.28834</td><td>0.18359104</td><td>3.8224776</td><td>21.257187</td><td>0.033098098</td><td>32.881523</td><td>20.294638</td><td>0.38834023</td><td>2.914079</td></tr>\n",
       "<tr><td>5041</td><td>542.3725</td><td>273.56503</td><td>19.723083</td><td>1167.3726</td><td>1073.5651</td><td>23.525719258700462</td><td>30.810906425861933</td><td>1</td><td>0.1</td><td>0.8333333</td><td>0.16666667</td><td>0.16666667</td><td>0.0</td><td>5</td><td>0</td><td>1</td><td>0</td><td>0</td><td>0</td><td>60</td><td>1234</td><td>M33-B01-F04_10</td><td>1</td><td>4</td><td>10</td><td>-1</td><td>28524376</td><td>1</td><td>0</td><td>182.6</td><td>0.1000</td><td>0</td><td>1.4513321</td><td>18.275072</td><td>0.006702337</td><td>105.69772</td><td>19.1563</td><td>0.003917731</td><td>280.8549</td><td>19.111145</td><td>0.11470305</td><td>9.500966</td></tr>\n",
       "<tr><td>5044</td><td>157.68138</td><td>165.38554</td><td>41.109608</td><td>1407.6814</td><td>1365.3855</td><td>23.560553957068823</td><td>30.80993710402224</td><td>1</td><td>0.1</td><td>0.16666667</td><td>0.8333333</td><td>0.33333334</td><td>0.5</td><td>1</td><td>0</td><td>2</td><td>0</td><td>3</td><td>0</td><td>60</td><td>887</td><td>M33-B01-F03_15</td><td>1</td><td>3</td><td>15</td><td>-1</td><td>28524353</td><td>1</td><td>0</td><td>157.7</td><td>0.1000</td><td>0</td><td>3.0564091</td><td>17.27601</td><td>0.08607848</td><td>8.089835</td><td>17.214045</td><td>0.0025763223</td><td>423.59436</td><td>21.23304</td><td>0.75</td><td>0.0</td></tr>\n",
       "<tr><td>5046</td><td>332.7013</td><td>303.05157</td><td>22.085552</td><td>332.7013</td><td>2303.0515</td><td>23.618132930062988</td><td>30.814437947844898</td><td>1</td><td>0.1</td><td>1.0</td><td>0.0</td><td>0.0</td><td>0.0</td><td>6</td><td>0</td><td>0</td><td>0</td><td>0</td><td>0</td><td>60</td><td>598</td><td>M33-B01-F02_21</td><td>1</td><td>2</td><td>21</td><td>-1</td><td>28524331</td><td>1</td><td>0</td><td>196.9</td><td>0.1000</td><td>0</td><td>4.135725</td><td>19.745155</td><td>0.019541439</td><td>35.841293</td><td>19.249605</td><td>0.013829968</td><td>78.599236</td><td>18.571968</td><td>0.051492564</td><td>21.102049</td></tr>\n",
       "<tr><td>5049</td><td>202.59859</td><td>359.27057</td><td>20.615528</td><td>827.5986</td><td>1159.2705</td><td>23.607038124769943</td><td>30.79998806868877</td><td>1</td><td>0.1</td><td>1.0</td><td>0.0</td><td>0.0</td><td>0.0</td><td>6</td><td>0</td><td>0</td><td>0</td><td>0</td><td>0</td><td>60</td><td>449</td><td>M33-B01-F02_10</td><td>1</td><td>2</td><td>10</td><td>-1</td><td>28524306</td><td>1</td><td>0</td><td>140.7</td><td>0.1000</td><td>0</td><td>1.9157944</td><td>18.501102</td><td>0.04954406</td><td>14.0414295</td><td>19.866909</td><td>0.030543657</td><td>35.573265</td><td>20.40677</td><td>0.116053306</td><td>9.391771</td></tr>\n",
       "<tr><td>5055</td><td>187.13033</td><td>143.66946</td><td>26.076809</td><td>812.1303</td><td>1343.6694</td><td>23.645628000965168</td><td>30.796742279127756</td><td>1</td><td>0.1</td><td>1.0</td><td>0.0</td><td>0.0</td><td>0.0</td><td>6</td><td>0</td><td>0</td><td>0</td><td>0</td><td>0</td><td>60</td><td>157</td><td>M33-B01-F01_14</td><td>1</td><td>1</td><td>14</td><td>-1</td><td>28524245</td><td>1</td><td>0</td><td>143.7</td><td>0.1000</td><td>0</td><td>1.5256618</td><td>18.609291</td><td>0.02758124</td><td>25.238735</td><td>19.983873</td><td>0.025249748</td><td>43.041607</td><td>20.477695</td><td>0.74252224</td><td>1.6833873</td></tr>\n",
       "</table>"
      ],
      "text/plain": [
       "<Table length=2134>\n",
       "  ID      X          Y       PIXRAD  ...   MAG814     SIG814   DETSIG814\n",
       "int32  float32    float32   float32  ...  float32    float32    float32 \n",
       "----- ---------- --------- --------- ... --------- ----------- ---------\n",
       "    3    511.167  419.4067 30.805826 ... 19.335989  0.27782437 3.9929368\n",
       "    4  274.12375 430.10718 38.054737 ...  18.16659  0.15653984 6.9838634\n",
       "    5  224.73451 423.41208  37.18926 ...  17.94467  0.06835622 15.904741\n",
       "    7   248.0658 140.99915 39.348427 ... 17.740986  0.16589268 6.5956807\n",
       "    8  203.50774 440.90045 63.505905 ... 16.108368   0.0520216 20.886917\n",
       "   11 119.026726  403.0801 33.970577 ... 19.410734  0.36016145  3.124356\n",
       "   13  201.16205 254.97142  49.47727 ... 17.062899  0.08403791 12.945444\n",
       "   15   611.2133 299.76617  52.04386 ... 16.140528   0.0340229 31.922668\n",
       "   16  438.82727 246.76823  71.65176 ... 16.615978  0.06446845 16.861229\n",
       "   17  279.86597  185.6878 50.159744 ... 17.484009  0.08811067 12.349536\n",
       "  ...        ...       ...       ... ...       ...         ...       ...\n",
       " 5021   512.6321 152.77747  24.41311 ... 19.206575   0.2802649 3.9596422\n",
       " 5022   477.8044 294.97824 22.561028 ... 19.906563  0.36809054  3.061813\n",
       " 5027  82.661865 191.93588 18.974184 ... 18.151974  0.09544655 11.404716\n",
       " 5034  159.98782 311.28748 18.469437 ...  20.04337  0.39260685 2.8849561\n",
       " 5039  414.44464 167.81575 24.020824 ... 20.294638  0.38834023  2.914079\n",
       " 5041   542.3725 273.56503 19.723083 ... 19.111145  0.11470305  9.500966\n",
       " 5044  157.68138 165.38554 41.109608 ...  21.23304        0.75       0.0\n",
       " 5046   332.7013 303.05157 22.085552 ... 18.571968 0.051492564 21.102049\n",
       " 5049  202.59859 359.27057 20.615528 ...  20.40677 0.116053306  9.391771\n",
       " 5055  187.13033 143.66946 26.076809 ... 20.477695  0.74252224 1.6833873"
      ]
     },
     "execution_count": 5,
     "metadata": {},
     "output_type": "execute_result"
    }
   ],
   "source": [
    "ind475DS3=np.where(m33phot_test['DETSIG475']<3.0)\n",
    "m33phot_test.remove_rows(ind475DS3)\n",
    "m33phot_test"
   ]
  },
  {
   "cell_type": "code",
   "execution_count": 8,
   "metadata": {
    "scrolled": true
   },
   "outputs": [
    {
     "data": {
      "text/html": [
       "<i>Table length=1379</i>\n",
       "<table id=\"table112099891464\" class=\"table-striped table-bordered table-condensed\">\n",
       "<thead><tr><th>ID</th><th>X</th><th>Y</th><th>PIXRAD</th><th>FX</th><th>FY</th><th>RA</th><th>DEC</th><th>NUMOBJ</th><th>VIEWFRAC</th><th>CFRAC</th><th>OFRAC</th><th>GFRAC</th><th>EFRAC</th><th>CCNT</th><th>CPCNT</th><th>GCNT</th><th>GPCNT</th><th>ECNT</th><th>EPCNT</th><th>CLASSIFICATION_COUNT</th><th>PRIMARY_APCAN</th><th>SUBIMG</th><th>BRICK</th><th>FIELD</th><th>IMG</th><th>TOOTH</th><th>SUBJECT_ID</th><th>NUMOBJALL</th><th>NOSOLFLAG</th><th>EDGES</th><th>VIEWFRACS</th><th>EXCLUDEFLAGS</th><th>PIXHLR475</th><th>MAG336</th><th>SIG336</th><th>DETSIG336</th><th>MAG475</th><th>SIG475</th><th>DETSIG475</th><th>MAG814</th><th>SIG814</th><th>DETSIG814</th></tr></thead>\n",
       "<thead><tr><th>int32</th><th>float32</th><th>float32</th><th>float32</th><th>float32</th><th>float32</th><th>float64</th><th>float64</th><th>int32</th><th>float32</th><th>float32</th><th>float32</th><th>float32</th><th>float32</th><th>int32</th><th>int32</th><th>int32</th><th>int32</th><th>int32</th><th>int32</th><th>int16</th><th>int32</th><th>bytes17</th><th>int16</th><th>int16</th><th>int16</th><th>int16</th><th>int32</th><th>int32</th><th>int16</th><th>bytes36</th><th>bytes49</th><th>bytes14</th><th>float32</th><th>float32</th><th>float32</th><th>float32</th><th>float32</th><th>float32</th><th>float32</th><th>float32</th><th>float32</th><th>float32</th></tr></thead>\n",
       "<tr><td>3</td><td>511.167</td><td>419.4067</td><td>30.805826</td><td>2386.167</td><td>2019.4067</td><td>23.60606421401875</td><td>30.699199021851136</td><td>1</td><td>1.0</td><td>1.0</td><td>0.0</td><td>0.0</td><td>0.0</td><td>60</td><td>0</td><td>0</td><td>0</td><td>0</td><td>0</td><td>60</td><td>27021</td><td>M33-B02-F01-TE_20</td><td>2</td><td>1</td><td>20</td><td>1</td><td>28526173</td><td>4</td><td>0</td><td>80.6,4.5,6.1,20.3,</td><td>1.0000,0.2833,0.0833,0.8361,</td><td>0,1,1,1,</td><td>8.728445</td><td>20.486721</td><td>0.11886143</td><td>5.8726273</td><td>20.217335</td><td>0.1563142</td><td>6.99401</td><td>19.335989</td><td>0.27782437</td><td>3.9929368</td></tr>\n",
       "<tr><td>4</td><td>274.12375</td><td>430.10718</td><td>38.054737</td><td>1524.1238</td><td>430.10718</td><td>23.43433303773043</td><td>30.51408232617703</td><td>1</td><td>1.0</td><td>0.98333335</td><td>0.016666668</td><td>0.0</td><td>0.016666668</td><td>59</td><td>0</td><td>0</td><td>0</td><td>1</td><td>0</td><td>60</td><td>21254</td><td>M33-B03-F16_03</td><td>3</td><td>16</td><td>3</td><td>-1</td><td>28525713</td><td>2</td><td>0</td><td>69.9,28.9,</td><td>1.0000,0.9000,</td><td>0,1,</td><td>13.384977</td><td>17.207281</td><td>0.07225124</td><td>9.632259</td><td>19.698397</td><td>0.08457241</td><td>12.864533</td><td>18.16659</td><td>0.15653984</td><td>6.9838634</td></tr>\n",
       "<tr><td>5</td><td>224.73451</td><td>423.41208</td><td>37.18926</td><td>849.7345</td><td>1623.4121</td><td>23.583845918691235</td><td>30.659212182808222</td><td>1</td><td>0.9836066</td><td>0.9166667</td><td>0.083333336</td><td>0.0</td><td>0.083333336</td><td>55</td><td>0</td><td>0</td><td>0</td><td>5</td><td>0</td><td>61</td><td>9815</td><td>M33-B02-F07_14</td><td>2</td><td>7</td><td>14</td><td>-1</td><td>28524968</td><td>2</td><td>0</td><td>76.6,23.6,</td><td>0.9836,0.8548,</td><td>0,1,</td><td>9.4648075</td><td>18.9727</td><td>0.11130678</td><td>6.2656794</td><td>18.70199</td><td>0.023569176</td><td>46.085743</td><td>17.94467</td><td>0.06835622</td><td>15.904741</td></tr>\n",
       "<tr><td>7</td><td>248.0658</td><td>140.99915</td><td>39.348427</td><td>873.0658</td><td>140.99915</td><td>23.390373394289195</td><td>30.6674512161078</td><td>2</td><td>0.96694213</td><td>0.974359</td><td>0.025641026</td><td>0.0</td><td>0.025641026</td><td>114</td><td>0</td><td>0</td><td>0</td><td>3</td><td>0</td><td>121</td><td>11623</td><td>M33-B02-F12_02</td><td>2</td><td>12</td><td>2</td><td>-1</td><td>28525096</td><td>2</td><td>0</td><td>83.6,141.0,</td><td>0.9833,0.9508,</td><td>0,0,</td><td>12.779946</td><td>19.286543</td><td>0.14845498</td><td>4.710332</td><td>18.826597</td><td>0.08265972</td><td>13.160799</td><td>17.740986</td><td>0.16589268</td><td>6.5956807</td></tr>\n",
       "<tr><td>8</td><td>203.50774</td><td>440.90045</td><td>63.505905</td><td>1453.5077</td><td>2440.9004</td><td>23.479685106627514</td><td>30.799434542708635</td><td>1</td><td>0.98333335</td><td>0.9830508</td><td>0.016949153</td><td>0.0</td><td>0.016949153</td><td>58</td><td>0</td><td>0</td><td>0</td><td>1</td><td>0</td><td>60</td><td>4403</td><td>M33-B01-F11_23</td><td>1</td><td>11</td><td>23</td><td>-1</td><td>28524585</td><td>2</td><td>1</td><td>41.7,59.1,</td><td>0.9833,0.9833,</td><td>0,1,</td><td>16.818165</td><td>16.588139</td><td>0.054756697</td><td>12.701803</td><td>16.79031</td><td>0.03153818</td><td>34.436665</td><td>16.108368</td><td>0.0520216</td><td>20.886917</td></tr>\n",
       "<tr><td>11</td><td>119.026726</td><td>403.0801</td><td>33.970577</td><td>744.02673</td><td>2403.08</td><td>23.445514019227883</td><td>30.7663251695561</td><td>1</td><td>0.98333335</td><td>1.0</td><td>0.0</td><td>0.0</td><td>0.0</td><td>59</td><td>0</td><td>0</td><td>0</td><td>0</td><td>0</td><td>60</td><td>7146</td><td>M33-B01-F18_22</td><td>1</td><td>18</td><td>22</td><td>-1</td><td>28524780</td><td>2</td><td>0</td><td>96.9,8.8,</td><td>0.9833,0.7167,</td><td>0,1,</td><td>10.902826</td><td>19.508385</td><td>0.14812975</td><td>4.720739</td><td>19.481394</td><td>0.05234097</td><td>20.761887</td><td>19.410734</td><td>0.36016145</td><td>3.124356</td></tr>\n",
       "<tr><td>13</td><td>201.16205</td><td>254.97142</td><td>49.47727</td><td>201.16205</td><td>1854.9714</td><td>23.56453518259861</td><td>30.70314723396164</td><td>1</td><td>0.98333335</td><td>0.9661017</td><td>0.033898305</td><td>0.0</td><td>0.033898305</td><td>57</td><td>0</td><td>0</td><td>0</td><td>2</td><td>0</td><td>60</td><td>7830</td><td>M33-B02-F02_17</td><td>2</td><td>2</td><td>17</td><td>-1</td><td>28524831</td><td>2</td><td>0</td><td>201.2,22.6,</td><td>0.9833,0.9333,</td><td>0,1,</td><td>15.648331</td><td>17.925293</td><td>0.050608266</td><td>13.744537</td><td>18.142805</td><td>0.0857727</td><td>12.6848545</td><td>17.062899</td><td>0.08403791</td><td>12.945444</td></tr>\n",
       "<tr><td>15</td><td>611.2133</td><td>299.76617</td><td>52.04386</td><td>2486.2134</td><td>299.76617</td><td>23.577712900686066</td><td>30.52706255699551</td><td>2</td><td>0.98333335</td><td>0.9830508</td><td>0.016949153</td><td>0.0</td><td>0.016949153</td><td>116</td><td>0</td><td>0</td><td>0</td><td>2</td><td>0</td><td>120</td><td>26228</td><td>M33-B03-F07-TE_04</td><td>3</td><td>7</td><td>4</td><td>1</td><td>28526102</td><td>3</td><td>0</td><td>113.8,56.8,20.4,</td><td>0.9833,0.9833,0.9000,</td><td>0,0,1,</td><td>11.958765</td><td>16.356699</td><td>0.01643354</td><td>42.310066</td><td>16.84331</td><td>0.02626825</td><td>41.34225</td><td>16.140528</td><td>0.0340229</td><td>31.922668</td></tr>\n",
       "<tr><td>16</td><td>438.82727</td><td>246.76823</td><td>71.65176</td><td>2313.8271</td><td>1446.7682</td><td>23.605610102605468</td><td>30.691192015762407</td><td>1</td><td>0.98333335</td><td>0.8305085</td><td>0.16949153</td><td>0.06779661</td><td>0.10169491</td><td>49</td><td>0</td><td>4</td><td>0</td><td>6</td><td>0</td><td>60</td><td>27000</td><td>M33-B02-F01-TE_16</td><td>2</td><td>1</td><td>16</td><td>1</td><td>28526170</td><td>1</td><td>0</td><td>246.8</td><td>0.9833</td><td>0</td><td>20.366236</td><td>18.07968</td><td>0.10024265</td><td>6.952229</td><td>17.810106</td><td>0.0048297485</td><td>225.50786</td><td>16.615978</td><td>0.06446845</td><td>16.861229</td></tr>\n",
       "<tr><td>17</td><td>279.86597</td><td>185.6878</td><td>50.159744</td><td>1529.866</td><td>2585.6877</td><td>23.52419243700545</td><td>30.83246332535244</td><td>1</td><td>0.98333335</td><td>0.9830508</td><td>0.016949153</td><td>0.0</td><td>0.016949153</td><td>58</td><td>0</td><td>0</td><td>0</td><td>1</td><td>0</td><td>60</td><td>1496</td><td>M33-B01-F04_27</td><td>1</td><td>4</td><td>27</td><td>-1</td><td>28524393</td><td>1</td><td>0</td><td>185.7</td><td>0.9833</td><td>0</td><td>12.008762</td><td>17.310535</td><td>0.0974104</td><td>7.152913</td><td>17.800167</td><td>0.0681135</td><td>15.961256</td><td>17.484009</td><td>0.08811067</td><td>12.349536</td></tr>\n",
       "<tr><td>...</td><td>...</td><td>...</td><td>...</td><td>...</td><td>...</td><td>...</td><td>...</td><td>...</td><td>...</td><td>...</td><td>...</td><td>...</td><td>...</td><td>...</td><td>...</td><td>...</td><td>...</td><td>...</td><td>...</td><td>...</td><td>...</td><td>...</td><td>...</td><td>...</td><td>...</td><td>...</td><td>...</td><td>...</td><td>...</td><td>...</td><td>...</td><td>...</td><td>...</td><td>...</td><td>...</td><td>...</td><td>...</td><td>...</td><td>...</td><td>...</td><td>...</td><td>...</td></tr>\n",
       "<tr><td>5005</td><td>489.70566</td><td>268.15573</td><td>16.996256</td><td>1114.7057</td><td>2268.1558</td><td>23.522400301554985</td><td>30.790515804750015</td><td>1</td><td>0.1</td><td>1.0</td><td>0.0</td><td>0.0</td><td>0.0</td><td>6</td><td>1</td><td>0</td><td>0</td><td>0</td><td>1</td><td>60</td><td>3899</td><td>M33-B01-F10_22</td><td>1</td><td>10</td><td>22</td><td>-1</td><td>28524556</td><td>1</td><td>0</td><td>231.8</td><td>0.1000</td><td>0</td><td>3.1279376</td><td>17.751663</td><td>0.013297796</td><td>52.41348</td><td>18.611685</td><td>0.018639803</td><td>58.274704</td><td>18.206327</td><td>0.068037726</td><td>15.979055</td></tr>\n",
       "<tr><td>5007</td><td>451.9944</td><td>269.74548</td><td>28.460499</td><td>1076.9944</td><td>1869.7455</td><td>23.52188193404218</td><td>30.78497546362517</td><td>1</td><td>0.1</td><td>0.8333333</td><td>0.16666667</td><td>0.0</td><td>0.16666667</td><td>5</td><td>1</td><td>0</td><td>0</td><td>1</td><td>0</td><td>60</td><td>3837</td><td>M33-B01-F10_18</td><td>1</td><td>10</td><td>18</td><td>-1</td><td>28524552</td><td>1</td><td>0</td><td>230.3</td><td>0.1000</td><td>0</td><td>5.0846076</td><td>19.68542</td><td>0.17097211</td><td>4.09829</td><td>19.39676</td><td>0.10035024</td><td>10.850636</td><td>18.557999</td><td>0.19483604</td><td>5.6322765</td></tr>\n",
       "<tr><td>5014</td><td>482.15802</td><td>193.95311</td><td>25.079872</td><td>2357.158</td><td>2593.9531</td><td>23.541374403969606</td><td>30.792427566321567</td><td>1</td><td>0.1</td><td>0.8333333</td><td>0.16666667</td><td>0.0</td><td>0.16666667</td><td>5</td><td>2</td><td>0</td><td>0</td><td>1</td><td>0</td><td>60</td><td>3526</td><td>M33-B01-F09_28</td><td>1</td><td>9</td><td>28</td><td>-1</td><td>28524534</td><td>1</td><td>0</td><td>194.0</td><td>0.1000</td><td>0</td><td>3.2759426</td><td>19.85112</td><td>0.17080039</td><td>4.1026454</td><td>19.252335</td><td>0.11398677</td><td>9.560315</td><td>18.615385</td><td>0.034583144</td><td>31.409723</td></tr>\n",
       "<tr><td>5020</td><td>556.2371</td><td>173.05132</td><td>20.114258</td><td>2431.237</td><td>2573.0513</td><td>23.61580282051927</td><td>30.780894017151248</td><td>2</td><td>0.1</td><td>1.0</td><td>0.0</td><td>0.0</td><td>0.0</td><td>12</td><td>4</td><td>0</td><td>0</td><td>0</td><td>0</td><td>120</td><td>2697</td><td>M33-B01-F07_28</td><td>1</td><td>7</td><td>28</td><td>-1</td><td>28524478</td><td>2</td><td>0</td><td>54.6,168.8,</td><td>0.1000,0.1000,</td><td>0,0,</td><td>1.950499</td><td>19.58369</td><td>0.080464266</td><td>8.655442</td><td>21.02077</td><td>0.19217777</td><td>5.7088485</td><td>20.448826</td><td>0.1929364</td><td>5.686692</td></tr>\n",
       "<tr><td>5021</td><td>512.6321</td><td>152.77747</td><td>24.41311</td><td>2387.632</td><td>2152.7773</td><td>23.577477999649663</td><td>30.780735893282685</td><td>1</td><td>0.1</td><td>0.8333333</td><td>0.16666667</td><td>0.0</td><td>0.16666667</td><td>5</td><td>0</td><td>0</td><td>0</td><td>1</td><td>0</td><td>60</td><td>3051</td><td>M33-B01-F08_24</td><td>1</td><td>8</td><td>24</td><td>-1</td><td>28524502</td><td>2</td><td>0</td><td>152.8,11.1,</td><td>0.1000,0.0667,</td><td>0,1,</td><td>3.6016595</td><td>17.477291</td><td>0.005849116</td><td>120.250854</td><td>18.880268</td><td>0.027673593</td><td>39.251144</td><td>19.206575</td><td>0.2802649</td><td>3.9596422</td></tr>\n",
       "<tr><td>5022</td><td>477.8044</td><td>294.97824</td><td>22.561028</td><td>1727.8044</td><td>1894.9783</td><td>23.587259437651475</td><td>30.77561917135254</td><td>1</td><td>0.1</td><td>0.8333333</td><td>0.16666667</td><td>0.0</td><td>0.16666667</td><td>5</td><td>0</td><td>0</td><td>0</td><td>1</td><td>0</td><td>60</td><td>2977</td><td>M33-B01-F08_19</td><td>1</td><td>8</td><td>19</td><td>-1</td><td>28524497</td><td>1</td><td>0</td><td>205.0</td><td>0.1000</td><td>0</td><td>1.9051695</td><td>18.096638</td><td>0.027938703</td><td>24.900118</td><td>19.593102</td><td>0.030251414</td><td>35.913776</td><td>19.906563</td><td>0.36809054</td><td>3.061813</td></tr>\n",
       "<tr><td>5027</td><td>82.661865</td><td>191.93588</td><td>18.974184</td><td>1957.6619</td><td>1391.9359</td><td>23.620015005084152</td><td>30.763562036918493</td><td>1</td><td>0.1</td><td>0.8333333</td><td>0.16666667</td><td>0.16666667</td><td>0.0</td><td>5</td><td>1</td><td>1</td><td>0</td><td>0</td><td>0</td><td>60</td><td>2511</td><td>M33-B01-F07_16</td><td>1</td><td>7</td><td>16</td><td>-1</td><td>28524466</td><td>2</td><td>0</td><td>82.7,15.3,</td><td>0.1000,0.0645,</td><td>0,1,</td><td>1.8239406</td><td>19.379276</td><td>0.09468248</td><td>7.3599358</td><td>18.616558</td><td>0.03230896</td><td>33.618927</td><td>18.151974</td><td>0.09544655</td><td>11.404716</td></tr>\n",
       "<tr><td>5041</td><td>542.3725</td><td>273.56503</td><td>19.723083</td><td>1167.3726</td><td>1073.5651</td><td>23.525719258700462</td><td>30.810906425861933</td><td>1</td><td>0.1</td><td>0.8333333</td><td>0.16666667</td><td>0.16666667</td><td>0.0</td><td>5</td><td>0</td><td>1</td><td>0</td><td>0</td><td>0</td><td>60</td><td>1234</td><td>M33-B01-F04_10</td><td>1</td><td>4</td><td>10</td><td>-1</td><td>28524376</td><td>1</td><td>0</td><td>182.6</td><td>0.1000</td><td>0</td><td>1.4513321</td><td>18.275072</td><td>0.006702337</td><td>105.69772</td><td>19.1563</td><td>0.003917731</td><td>280.8549</td><td>19.111145</td><td>0.11470305</td><td>9.500966</td></tr>\n",
       "<tr><td>5046</td><td>332.7013</td><td>303.05157</td><td>22.085552</td><td>332.7013</td><td>2303.0515</td><td>23.618132930062988</td><td>30.814437947844898</td><td>1</td><td>0.1</td><td>1.0</td><td>0.0</td><td>0.0</td><td>0.0</td><td>6</td><td>0</td><td>0</td><td>0</td><td>0</td><td>0</td><td>60</td><td>598</td><td>M33-B01-F02_21</td><td>1</td><td>2</td><td>21</td><td>-1</td><td>28524331</td><td>1</td><td>0</td><td>196.9</td><td>0.1000</td><td>0</td><td>4.135725</td><td>19.745155</td><td>0.019541439</td><td>35.841293</td><td>19.249605</td><td>0.013829968</td><td>78.599236</td><td>18.571968</td><td>0.051492564</td><td>21.102049</td></tr>\n",
       "<tr><td>5049</td><td>202.59859</td><td>359.27057</td><td>20.615528</td><td>827.5986</td><td>1159.2705</td><td>23.607038124769943</td><td>30.79998806868877</td><td>1</td><td>0.1</td><td>1.0</td><td>0.0</td><td>0.0</td><td>0.0</td><td>6</td><td>0</td><td>0</td><td>0</td><td>0</td><td>0</td><td>60</td><td>449</td><td>M33-B01-F02_10</td><td>1</td><td>2</td><td>10</td><td>-1</td><td>28524306</td><td>1</td><td>0</td><td>140.7</td><td>0.1000</td><td>0</td><td>1.9157944</td><td>18.501102</td><td>0.04954406</td><td>14.0414295</td><td>19.866909</td><td>0.030543657</td><td>35.573265</td><td>20.40677</td><td>0.116053306</td><td>9.391771</td></tr>\n",
       "</table>"
      ],
      "text/plain": [
       "<Table length=1379>\n",
       "  ID      X          Y       PIXRAD  ...   MAG814     SIG814   DETSIG814\n",
       "int32  float32    float32   float32  ...  float32    float32    float32 \n",
       "----- ---------- --------- --------- ... --------- ----------- ---------\n",
       "    3    511.167  419.4067 30.805826 ... 19.335989  0.27782437 3.9929368\n",
       "    4  274.12375 430.10718 38.054737 ...  18.16659  0.15653984 6.9838634\n",
       "    5  224.73451 423.41208  37.18926 ...  17.94467  0.06835622 15.904741\n",
       "    7   248.0658 140.99915 39.348427 ... 17.740986  0.16589268 6.5956807\n",
       "    8  203.50774 440.90045 63.505905 ... 16.108368   0.0520216 20.886917\n",
       "   11 119.026726  403.0801 33.970577 ... 19.410734  0.36016145  3.124356\n",
       "   13  201.16205 254.97142  49.47727 ... 17.062899  0.08403791 12.945444\n",
       "   15   611.2133 299.76617  52.04386 ... 16.140528   0.0340229 31.922668\n",
       "   16  438.82727 246.76823  71.65176 ... 16.615978  0.06446845 16.861229\n",
       "   17  279.86597  185.6878 50.159744 ... 17.484009  0.08811067 12.349536\n",
       "  ...        ...       ...       ... ...       ...         ...       ...\n",
       " 5005  489.70566 268.15573 16.996256 ... 18.206327 0.068037726 15.979055\n",
       " 5007   451.9944 269.74548 28.460499 ... 18.557999  0.19483604 5.6322765\n",
       " 5014  482.15802 193.95311 25.079872 ... 18.615385 0.034583144 31.409723\n",
       " 5020   556.2371 173.05132 20.114258 ... 20.448826   0.1929364  5.686692\n",
       " 5021   512.6321 152.77747  24.41311 ... 19.206575   0.2802649 3.9596422\n",
       " 5022   477.8044 294.97824 22.561028 ... 19.906563  0.36809054  3.061813\n",
       " 5027  82.661865 191.93588 18.974184 ... 18.151974  0.09544655 11.404716\n",
       " 5041   542.3725 273.56503 19.723083 ... 19.111145  0.11470305  9.500966\n",
       " 5046   332.7013 303.05157 22.085552 ... 18.571968 0.051492564 21.102049\n",
       " 5049  202.59859 359.27057 20.615528 ...  20.40677 0.116053306  9.391771"
      ]
     },
     "execution_count": 8,
     "metadata": {},
     "output_type": "execute_result"
    }
   ],
   "source": [
    "ind814DS3=np.where(m33phot_test['DETSIG814']<3.0)\n",
    "m33phot_test.remove_rows(ind814DS3)\n",
    "m33phot_test"
   ]
  },
  {
   "cell_type": "code",
   "execution_count": 9,
   "metadata": {},
   "outputs": [],
   "source": [
    "m33goodphot_3filts_no275_110_160=m33phot_test\n",
    "m33goodphot_3filts_no275_110_160.write('/Volumes/My_Passport_for_Mac/M33_M31_LGCS_Files/M33-Triangulum/Photometry_Tables/m33goodphot_3filts_no275_110_160.fits',\n",
    "                 format='fits')\n"
   ]
  },
  {
   "cell_type": "code",
   "execution_count": null,
   "metadata": {},
   "outputs": [],
   "source": []
  }
 ],
 "metadata": {
  "kernelspec": {
   "display_name": "Python 3",
   "language": "python",
   "name": "python3"
  },
  "language_info": {
   "codemirror_mode": {
    "name": "ipython",
    "version": 3
   },
   "file_extension": ".py",
   "mimetype": "text/x-python",
   "name": "python",
   "nbconvert_exporter": "python",
   "pygments_lexer": "ipython3",
   "version": "3.7.7"
  }
 },
 "nbformat": 4,
 "nbformat_minor": 2
}

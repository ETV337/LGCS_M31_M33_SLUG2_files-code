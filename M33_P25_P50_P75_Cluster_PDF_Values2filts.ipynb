{
 "cells": [
  {
   "cell_type": "code",
   "execution_count": 1,
   "metadata": {},
   "outputs": [],
   "source": [
    "# This script demonstrates the capabilities of cluster_slug by using\n",
    "# it to re-analyze the M31 star clusters catalog of Johnson et al. (2015, ApJ)\n",
    "\n",
    "# Import the libraries we'll need\n",
    "from astropy.io import ascii\n",
    "from astropy.io import fits\n",
    "import emcee\n",
    "from astropy import table\n",
    "from astropy.table import unique, Table, hstack, Column\n",
    "import sys\n",
    "from numpy import inf\n",
    "import numpy as np\n",
    "import numpy.ma as ma\n",
    "import time\n",
    "from matplotlib.pyplot import figure as fig\n",
    "import matplotlib.pyplot as plt\n",
    "from scipy import stats\n",
    "from scipy.optimize import curve_fit\n",
    "from scipy.stats import norm\n",
    "from slugpy.cluster_slug import cluster_slug\n",
    "from slugpy import * \n",
    "import matplotlib.pyplot as plt\n",
    "import matplotlib.lines as mlines\n",
    "from matplotlib.ticker import AutoMinorLocator"
   ]
  },
  {
   "cell_type": "code",
   "execution_count": 9,
   "metadata": {},
   "outputs": [],
   "source": [
    "#Imported AP (M33) fits files which include best fit of mass and age data already\n",
    "\n",
    "m33phot_test=Table.read('/Users/user/Dropbox/m33_zoo_data/data_v2/apm33_6phot_test.fits')\n",
    "m33goodphot_2filts=Table.read('/Volumes/My_Passport_for_Mac/M33_M31_LGCS_Files/M33-Triangulum/Photometry_Tables/m33goodphot_ONLY_475_814filts.fits')\n",
    "\n",
    "LEGUS_PHAT_PadKroupa_prop=Table.read('LEGUS_1e6_1e10age_PadKroupaAfter_PHAT_lib_1e7Trials_cluster_prop.fits')\n",
    "LEGUS_PHAT_PadKroupa_phot=Table.read('LEGUS_1e6_1e10age_PadKroupaAfter_PHAT_lib_1e7Trials_cluster_phot.fits')\n",
    "\n",
    "dmod_M33=24.65 #De Grijs et al 2014 (AJ 148:17)\n"
   ]
  },
  {
   "cell_type": "code",
   "execution_count": 2,
   "metadata": {
    "scrolled": true
   },
   "outputs": [
    {
     "data": {
      "text/html": [
       "<i>Table length=2129</i>\n",
       "<table id=\"table112237899152\" class=\"table-striped table-bordered table-condensed\">\n",
       "<thead><tr><th>ID</th><th>Chi2(2)</th></tr></thead>\n",
       "<thead><tr><th>int32</th><th>float64</th></tr></thead>\n",
       "<tr><td>1</td><td>5.5820165699238955e-05</td></tr>\n",
       "<tr><td>2</td><td>2.831436498120221e-07</td></tr>\n",
       "<tr><td>3</td><td>8.5776906548467e-06</td></tr>\n",
       "<tr><td>4</td><td>2.043548933000631e-05</td></tr>\n",
       "<tr><td>5</td><td>3.7982451130408193e-06</td></tr>\n",
       "<tr><td>6</td><td>2.091595919014693e-05</td></tr>\n",
       "<tr><td>7</td><td>2.669871212089093e-06</td></tr>\n",
       "<tr><td>8</td><td>0.0008304491800575871</td></tr>\n",
       "<tr><td>9</td><td>9.871403713734451e-05</td></tr>\n",
       "<tr><td>10</td><td>3.3503166100071334e-05</td></tr>\n",
       "<tr><td>...</td><td>...</td></tr>\n",
       "<tr><td>5021</td><td>0.01447519584024103</td></tr>\n",
       "<tr><td>5022</td><td>0.007552384029844274</td></tr>\n",
       "<tr><td>5027</td><td>0.00023656848719481248</td></tr>\n",
       "<tr><td>5031</td><td>3.377886873219675e-05</td></tr>\n",
       "<tr><td>5037</td><td>9.194094513922672e-07</td></tr>\n",
       "<tr><td>5040</td><td>6.6653188797730894e-06</td></tr>\n",
       "<tr><td>5041</td><td>7.76066513910601e-05</td></tr>\n",
       "<tr><td>5043</td><td>0.0008689031442200071</td></tr>\n",
       "<tr><td>5046</td><td>5.050258885711456e-05</td></tr>\n",
       "<tr><td>5049</td><td>0.5814353280580229</td></tr>\n",
       "</table>"
      ],
      "text/plain": [
       "<Table length=2129>\n",
       "  ID         Chi2(2)        \n",
       "int32        float64        \n",
       "----- ----------------------\n",
       "    1 5.5820165699238955e-05\n",
       "    2  2.831436498120221e-07\n",
       "    3    8.5776906548467e-06\n",
       "    4  2.043548933000631e-05\n",
       "    5 3.7982451130408193e-06\n",
       "    6  2.091595919014693e-05\n",
       "    7  2.669871212089093e-06\n",
       "    8  0.0008304491800575871\n",
       "    9  9.871403713734451e-05\n",
       "   10 3.3503166100071334e-05\n",
       "  ...                    ...\n",
       " 5021    0.01447519584024103\n",
       " 5022   0.007552384029844274\n",
       " 5027 0.00023656848719481248\n",
       " 5031  3.377886873219675e-05\n",
       " 5037  9.194094513922672e-07\n",
       " 5040 6.6653188797730894e-06\n",
       " 5041   7.76066513910601e-05\n",
       " 5043  0.0008689031442200071\n",
       " 5046  5.050258885711456e-05\n",
       " 5049     0.5814353280580229"
      ]
     },
     "execution_count": 2,
     "metadata": {},
     "output_type": "execute_result"
    }
   ],
   "source": [
    "M33_ClsChi2Vals=Table.read('/Volumes/My_Passport_for_Mac/M33_M31_LGCS_Files/M33-Triangulum/ClusterChi_Square_Values/M33_ClsChi2Vals2filt.fits')\n",
    "M33_ClsChi2Vals\n"
   ]
  },
  {
   "cell_type": "code",
   "execution_count": 3,
   "metadata": {},
   "outputs": [],
   "source": [
    "#m33_Prop6filt=Table.read('/Volumes/My_Passport_for_Mac/M33_M31_LGCS_Files/M33-Triangulum/Prop_Tables/M33_Prop6filt.fits')\n",
    "#m33_Prop5filt=Table.read('/Volumes/My_Passport_for_Mac/M33_M31_LGCS_Files/M33-Triangulum/Prop_Tables/M33_Prop5filt.fits')\n",
    "#m33_Prop4filt=Table.read('/Volumes/My_Passport_for_Mac/M33_M31_LGCS_Files/M33-Triangulum/Prop_Tables/M33_Prop4filt.fits')\n",
    "#m33_Prop2filt=Table.read('/Volumes/My_Passport_for_Mac/M33_M31_LGCS_Files/M33-Triangulum/Prop_Tables/M33_Prop2filt.fits')"
   ]
  },
  {
   "cell_type": "code",
   "execution_count": 4,
   "metadata": {
    "scrolled": true
   },
   "outputs": [],
   "source": [
    "#m33_prop_all=hstack([m33_Prop6filt,m33_Prop5filt,m33_Prop4filt,m33_Prop2filt])\n",
    "#m33_prop_all"
   ]
  },
  {
   "cell_type": "code",
   "execution_count": 5,
   "metadata": {},
   "outputs": [],
   "source": [
    "#m33_prop_all.remove_columns(['ID_2','ID_3','ID_4'])\n"
   ]
  },
  {
   "cell_type": "code",
   "execution_count": 6,
   "metadata": {
    "scrolled": true
   },
   "outputs": [],
   "source": [
    "#m33_prop_all"
   ]
  },
  {
   "cell_type": "code",
   "execution_count": 7,
   "metadata": {},
   "outputs": [],
   "source": [
    "#m33_prop_all.write('/Volumes/My_Passport_for_Mac/M33_M31_LGCS_Files/M33-Triangulum/Prop_Tables/M33_Prop_All.fits')"
   ]
  },
  {
   "cell_type": "code",
   "execution_count": 10,
   "metadata": {},
   "outputs": [
    {
     "name": "stderr",
     "output_type": "stream",
     "text": [
      "/anaconda3/lib/python3.7/site-packages/astropy/table/column.py:965: FutureWarning: elementwise comparison failed; returning scalar instead, but in the future will perform elementwise comparison\n",
      "  return getattr(self.data, op)(other)\n"
     ]
    }
   ],
   "source": [
    "#Extract photometry from the AP PHAT catalog and pack it into arrays\n",
    "cluster_id = np.array(m33goodphot_2filts['ID'])\n",
    "\n",
    "#F275W filter with error\n",
    "#m33goodphot_6filts['MAG275'][m33goodphot_6filts['MAG275'] == 'INDEF'] = -99\n",
    "#m275 = ma.masked_equal(np.array(m33goodphot_6filts['MAG275'], dtype='float64'), -99) - dmod_M33\n",
    "#m33goodphot_6filts['SIG275'][m33goodphot_6filts['SIG275'] == 'INDEF'] = -99\n",
    "#m275err = ma.masked_equal(np.array(m33goodphot_6filts['SIG275'], \n",
    "#                                   dtype='float64'), -99)\n",
    "\n",
    "#F336W filter with error\n",
    "#m33goodphot_6filts['MAG336'][m33goodphot_6filts['MAG336'] == 'INDEF'] = -99\n",
    "#m336 = ma.masked_equal(np.array(m33goodphot_6filts['MAG336'], dtype='float64'), -99) - dmod_M33\n",
    "#m33goodphot_6filts['SIG336'][m33goodphot_6filts['SIG336'] == 'INDEF'] = -99\n",
    "#m336err = ma.masked_equal(np.array(m33goodphot_6filts['SIG336'], \n",
    "#                                   dtype='float64'), -99)\n",
    "\n",
    "#F475W filter with error\n",
    "m33goodphot_2filts['MAG475'][m33goodphot_2filts['MAG475'] == 'INDEF'] = -99\n",
    "m475 = ma.masked_equal(np.array(m33goodphot_2filts['MAG475'], dtype='float64'), -99) - dmod_M33\n",
    "m33goodphot_2filts['SIG475'][m33goodphot_2filts['SIG475'] == 'INDEF'] = -99\n",
    "m475err = ma.masked_equal(np.array(m33goodphot_2filts['SIG475'],\n",
    "                                   dtype='float64'), -99)\n",
    "#F814W filter with error\n",
    "m33goodphot_2filts['MAG814'][m33goodphot_2filts['MAG814'] == 'INDEF'] = -99\n",
    "m814 = ma.masked_equal(np.array(m33goodphot_2filts['MAG814'], dtype='float64'), -99) - dmod_M33\n",
    "m33goodphot_2filts['SIG814'][m33goodphot_2filts['SIG814'] == 'INDEF'] = -99\n",
    "m814err = ma.masked_equal(np.array(m33goodphot_2filts['SIG814'],\n",
    "                                   dtype='float64'), -99)\n",
    "\n",
    "#F110W filter with error\n",
    "#m33goodphot_6filts['MAG110'][m33goodphot_6filts['MAG110'] == 'INDEF'] = -99\n",
    "#m110 = ma.masked_equal(np.array(m33goodphot_6filts['MAG110'], dtype='float64'), -99) - dmod_M33\n",
    "#m33goodphot_6filts['SIG110'][m33goodphot_6filts['SIG110'] == 'INDEF'] = -99\n",
    "#m110err = ma.masked_equal(np.array(m33goodphot_6filts['SIG110'],\n",
    "#                                   dtype='float64'), -99)\n",
    "\n",
    "#F160W filter with error \n",
    "#m33goodphot_6filts['MAG160'][m33goodphot_6filts['MAG160'] == 'INDEF'] = -99\n",
    "#m160 = ma.masked_equal(np.array(m33goodphot_6filts['MAG160'],dtype='float64'), -99) - dmod_M33\n",
    "#m33goodphot_6filts['SIG160'][m33goodphot_6filts['SIG160'] == 'INDEF'] = -99\n",
    "#m160err = ma.masked_equal(np.array(m33goodphot_6filts['SIG160'],\n",
    "#                                   dtype='float64'), -99)\n",
    "\n",
    "#m33goodphot_6filts_logm=m33goodphot_6filts['BEST_MASS']\n",
    "#m33goodphot_6filts_logt=m33goodphot_6filts['BEST_AGE']\n",
    "#m33goodphot_6filts_logx=m33goodphot_6filts['CMD_AV_BEST']"
   ]
  },
  {
   "cell_type": "code",
   "execution_count": 11,
   "metadata": {},
   "outputs": [],
   "source": [
    "# Mask entries with bad data in one or more filters for the actual M31 data\n",
    "valid = np.logical_and(np.logical_not(m475.mask),\n",
    "                       np.logical_not(m814.mask))\n",
    "#valid = np.logical_and(valid, np.logical_not(m475.mask))\n",
    "#valid = np.logical_and(valid, np.logical_not(m814.mask))\n",
    "#valid = np.logical_and(valid, np.logical_not(m110.mask))\n",
    "#valid = np.logical_and(valid, np.logical_not(m160.mask))"
   ]
  },
  {
   "cell_type": "code",
   "execution_count": 12,
   "metadata": {},
   "outputs": [],
   "source": [
    "# Create array of photometry to pass to cluster_slug\n",
    "phot=np.zeros((np.sum(2129), 2)) #Creating an empty array of zeros with the shape of 2753x6 \n",
    "photerr=np.zeros((np.sum(2129), 2))#Creating an empty array of zeros with the shape of 2753x6 "
   ]
  },
  {
   "cell_type": "code",
   "execution_count": 13,
   "metadata": {},
   "outputs": [],
   "source": [
    "#Defining the filters defined in the parameter file. Filters used for M3!\n",
    "phot[:,0] = m475[valid]\n",
    "phot[:,1] = m814[valid]\n",
    "#phot[:,2] = m475[valid]\n",
    "#phot[:,3] = m814[valid]\n",
    "#phot[:,4] = m110[valid]\n",
    "#phot[:,5] = m160[valid] \n",
    "photerr[:,0] = m475err[valid]\n",
    "photerr[:,1] = m814err[valid]\n",
    "#photerr[:,2] = m475err[valid]\n",
    "#photerr[:,3] = m814err[valid]\n",
    "#photerr[:,4] = m110err[valid]\n",
    "#photerr[:,5] = m160err[valid] \n",
    "\n",
    "# Set up filter list (Commented out the original list of filters originally for chdata) for M31 AP PHAT \n",
    "filters = ['ACS_F475W', 'ACS_F814W']"
   ]
  },
  {
   "cell_type": "code",
   "execution_count": 14,
   "metadata": {},
   "outputs": [],
   "source": [
    "# Define the sample density (For AP PHAT Data)\n",
    "def sample_density(physprop):\n",
    "    logm = physprop[:,0]\n",
    "    logt = physprop[:,1]\n",
    "    #logx = physprop[:,2]\n",
    "    sden = np.ones(len(logm))\n",
    "    sden[logm > 4] = sden[logm > 4] * 1.0/10.**(logm[logm > 4]-4)\n",
    "    sden[logt > 8] = sden[logt > 8] * 1.0/10.**(logt[logt > 8]-8)\n",
    "    #sden[logx > 12]= sden[logx >12] * 1.0/10.**(logx[logx >12]-12)\n",
    "    return sden"
   ]
  },
  {
   "cell_type": "code",
   "execution_count": 15,
   "metadata": {},
   "outputs": [
    {
     "name": "stdout",
     "output_type": "stream",
     "text": [
      "Reading cluster_slug library...\n"
     ]
    }
   ],
   "source": [
    "# Set up the cluster_slug object; this command will take care of\n",
    "# reading the library and converting the data to the Vega photometric\n",
    "# system\n",
    "print(\"Reading cluster_slug library...\")\n",
    "cs=cluster_slug(photsystem='Vega', filters=filters, bw_phot=0.25,\n",
    "                ktype='gaussian',sample_density=sample_density,\n",
    "                libname='LEGUS_1e6_1e10age_PadKroupaAfter_PHAT_lib_1e7Trials')\n",
    "# Set priors to be flat in log T and A_V, but vary with logm as\n",
    "# p(log M) ~ 1/M\n",
    "def priorfunc(physprop):\n",
    "    # Note: physprop is an array of shape (N, 3) where physprop[:,0] =\n",
    "    # log M, physprop[:,1] = log T, physprop[:,2] = A_V\n",
    "    return 1.0/np.exp(physprop[:,0])\n",
    "cs.priors = priorfunc"
   ]
  },
  {
   "cell_type": "code",
   "execution_count": 16,
   "metadata": {},
   "outputs": [
    {
     "name": "stdout",
     "output_type": "stream",
     "text": [
      "Computing posterior PDFs...\n"
     ]
    },
    {
     "name": "stderr",
     "output_type": "stream",
     "text": [
      "/anaconda3/lib/python3.7/site-packages/ipykernel_launcher.py:3: DeprecationWarning: time.clock has been deprecated in Python 3.3 and will be removed from Python 3.8: use time.perf_counter or time.process_time instead\n",
      "  This is separate from the ipykernel package so we can avoid doing imports until\n",
      "/anaconda3/lib/python3.7/site-packages/ipykernel_launcher.py:12: DeprecationWarning: time.clock has been deprecated in Python 3.3 and will be removed from Python 3.8: use time.perf_counter or time.process_time instead\n",
      "  if sys.path[0] == '':\n"
     ]
    },
    {
     "name": "stdout",
     "output_type": "stream",
     "text": [
      "Computation time: 19913.115434 seconds total, 4.676636 seconds / PDF\n"
     ]
    },
    {
     "data": {
      "text/plain": [
       "<matplotlib.axes._subplots.AxesSubplot at 0x1a22a34c90>"
      ]
     },
     "execution_count": 16,
     "metadata": {},
     "output_type": "execute_result"
    },
    {
     "data": {
      "image/png": "[encoded data removed]",
      "text/plain": [
       "<Figure size 432x576 with 1 Axes>"
      ]
     },
     "metadata": {
      "needs_background": "light"
     },
     "output_type": "display_data"
    }
   ],
   "source": [
    "# Start timing\n",
    "print(\"Computing posterior PDFs...\")\n",
    "lasttime = time.clock()\n",
    "\n",
    "\n",
    "# Compute marginal PDFs of mass and age\n",
    "logm, mpdf = cs.mpdf(0, phot, photerr, filters=filters)\n",
    "logt, tpdf = cs.mpdf(1, phot, photerr, filters=filters)\n",
    "logx, xpdf = cs.mpdf(2, phot, photerr, ngrid=1000, filters=filters)\n",
    "\n",
    "# End timing\n",
    "newtime = time.clock()\n",
    "tottime = newtime - lasttime\n",
    "\n",
    "# Print timing results\n",
    "print(\"Computation time: {:f} seconds total, {:f} seconds / PDF\".\n",
    "      format(tottime, tottime/phot.shape[0]/2))\n",
    "\n",
    "# Set up a plot window\n",
    "plt.figure(1, figsize=(6,8))\n",
    "plt.subplot(4,2,1)"
   ]
  },
  {
   "cell_type": "code",
   "execution_count": 17,
   "metadata": {},
   "outputs": [],
   "source": [
    "# Compute the mean of the posterior PDFs returned by cluster_slug\n",
    "mmean = np.sum(logm*mpdf*(logm[1]-logm[0]), axis=1)\n",
    "tmean = np.sum(logt*tpdf*(logt[1]-logt[0]), axis=1)\n",
    "xmean = np.sum(logx*xpdf*(logx[1]-logt[0]), axis=1)\n",
    "\n",
    "# Compute the 25th, 50th, and 75th percentiles of the posterior PDFs\n",
    "mpdfsum = np.cumsum(mpdf, axis=1)*(logm[1]-logm[0])\n",
    "mpercentiles = np.array([\n",
    "    logm[np.argmax(np.greater(mpdfsum, 0.1), axis=1)],\n",
    "    logm[np.argmax(np.greater(mpdfsum, 0.5), axis=1)],\n",
    "    logm[np.argmax(np.greater(mpdfsum, 0.9), axis=1)]])\n",
    "tpdfsum = np.cumsum(tpdf, axis=1)*(logt[1]-logt[0])\n",
    "tpercentiles = np.array([\n",
    "    logt[np.argmax(np.greater(tpdfsum, 0.1), axis=1)],\n",
    "    logt[np.argmax(np.greater(tpdfsum, 0.5), axis=1)],\n",
    "    logt[np.argmax(np.greater(tpdfsum, 0.9), axis=1)]])\n",
    "xpdfsum = np.cumsum(xpdf, axis=1)*(logx[1]-logx[0])\n",
    "xpercentiles = np.array([\n",
    "    logx[np.argmax(np.greater(xpdfsum, 0.1), axis=1)],\n",
    "    logx[np.argmax(np.greater(xpdfsum, 0.5), axis=1)],\n",
    "    logx[np.argmax(np.greater(xpdfsum, 0.9), axis=1)]])"
   ]
  },
  {
   "cell_type": "code",
   "execution_count": 18,
   "metadata": {},
   "outputs": [],
   "source": [
    "# For each model, find the best match in the library for the 12 hand-picked clusters\n",
    "matches, dist = cs.bestmatch(phot, filters=filters, nmatch=1)\n",
    "dist = dist/np.sqrt(len(filters))"
   ]
  },
  {
   "cell_type": "code",
   "execution_count": 19,
   "metadata": {},
   "outputs": [],
   "source": [
    "mp25=mpercentiles[0]\n",
    "mp50=mpercentiles[1]\n",
    "mp75=mpercentiles[2]\n",
    "tp25=tpercentiles[0]\n",
    "tp50=tpercentiles[1]\n",
    "tp75=tpercentiles[2]\n",
    "xp25=xpercentiles[0]\n",
    "xp50=xpercentiles[1]\n",
    "xp75=xpercentiles[2]"
   ]
  },
  {
   "cell_type": "code",
   "execution_count": 20,
   "metadata": {},
   "outputs": [],
   "source": [
    "pmatches, dist = cs.bestmatch(phot, filters=filters, nmatch=100)"
   ]
  },
  {
   "cell_type": "code",
   "execution_count": 21,
   "metadata": {
    "scrolled": true
   },
   "outputs": [
    {
     "data": {
      "text/plain": [
       "array([[0.81979978],\n",
       "       [1.30928783],\n",
       "       [1.86028689],\n",
       "       ...,\n",
       "       [1.17329186],\n",
       "       [0.98065343],\n",
       "       [0.07144805]])"
      ]
     },
     "execution_count": 21,
     "metadata": {},
     "output_type": "execute_result"
    }
   ],
   "source": [
    "matches[:,2:3]"
   ]
  },
  {
   "cell_type": "code",
   "execution_count": 28,
   "metadata": {
    "scrolled": true
   },
   "outputs": [
    {
     "data": {
      "text/plain": [
       "array([[0.81979978],\n",
       "       [1.30928783],\n",
       "       [1.86028689],\n",
       "       ...,\n",
       "       [1.17329186],\n",
       "       [0.98065343],\n",
       "       [0.07144805]])"
      ]
     },
     "execution_count": 28,
     "metadata": {},
     "output_type": "execute_result"
    }
   ],
   "source": [
    "matches[:,2:3]"
   ]
  },
  {
   "cell_type": "code",
   "execution_count": 29,
   "metadata": {},
   "outputs": [],
   "source": [
    "phot_matches=(pmatches[:,:,3:])+dmod_M33\n",
    "m_matches=matches[:,:1]\n",
    "t_matches=matches[:,1:2]\n",
    "x_matches=matches[:,2:3]"
   ]
  },
  {
   "cell_type": "code",
   "execution_count": 30,
   "metadata": {
    "scrolled": true
   },
   "outputs": [
    {
     "data": {
      "text/plain": [
       "array([1.27552948, 1.41725497, 1.37001314, ..., 2.64554262, 1.20466673,\n",
       "       0.68500657])"
      ]
     },
     "execution_count": 30,
     "metadata": {},
     "output_type": "execute_result"
    }
   ],
   "source": [
    "#Mass IQR\n",
    "MassIQR=mpercentiles[2]-mpercentiles[0]\n",
    "(MassIQR)"
   ]
  },
  {
   "cell_type": "code",
   "execution_count": 31,
   "metadata": {
    "scrolled": true
   },
   "outputs": [
    {
     "data": {
      "text/plain": [
       "array([1.07086593, 1.92125945, 2.20472396, ..., 2.42519636, 1.51181072,\n",
       "       1.03936987])"
      ]
     },
     "execution_count": 31,
     "metadata": {},
     "output_type": "execute_result"
    }
   ],
   "source": [
    "#Age IQR\n",
    "AgeIQR=tpercentiles[2]-tpercentiles[0]\n",
    "AgeIQR"
   ]
  },
  {
   "cell_type": "code",
   "execution_count": 32,
   "metadata": {
    "scrolled": true
   },
   "outputs": [
    {
     "data": {
      "text/plain": [
       "array([1.13677709, 1.38390255, 1.43332764, ..., 2.02642873, 1.23562727,\n",
       "       0.64252618])"
      ]
     },
     "execution_count": 32,
     "metadata": {},
     "output_type": "execute_result"
    }
   ],
   "source": [
    "#Av IQR\n",
    "AvIQR=xpercentiles[2]-xpercentiles[0]\n",
    "AvIQR"
   ]
  },
  {
   "cell_type": "code",
   "execution_count": 33,
   "metadata": {
    "scrolled": true
   },
   "outputs": [
    {
     "data": {
      "text/html": [
       "<i>Table length=2129</i>\n",
       "<table id=\"table112237899152\" class=\"table-striped table-bordered table-condensed\">\n",
       "<thead><tr><th>ID</th><th>Chi2(2)</th></tr></thead>\n",
       "<thead><tr><th>int32</th><th>float64</th></tr></thead>\n",
       "<tr><td>1</td><td>5.5820165699238955e-05</td></tr>\n",
       "<tr><td>2</td><td>2.831436498120221e-07</td></tr>\n",
       "<tr><td>3</td><td>8.5776906548467e-06</td></tr>\n",
       "<tr><td>4</td><td>2.043548933000631e-05</td></tr>\n",
       "<tr><td>5</td><td>3.7982451130408193e-06</td></tr>\n",
       "<tr><td>6</td><td>2.091595919014693e-05</td></tr>\n",
       "<tr><td>7</td><td>2.669871212089093e-06</td></tr>\n",
       "<tr><td>8</td><td>0.0008304491800575871</td></tr>\n",
       "<tr><td>9</td><td>9.871403713734451e-05</td></tr>\n",
       "<tr><td>10</td><td>3.3503166100071334e-05</td></tr>\n",
       "<tr><td>...</td><td>...</td></tr>\n",
       "<tr><td>5021</td><td>0.01447519584024103</td></tr>\n",
       "<tr><td>5022</td><td>0.007552384029844274</td></tr>\n",
       "<tr><td>5027</td><td>0.00023656848719481248</td></tr>\n",
       "<tr><td>5031</td><td>3.377886873219675e-05</td></tr>\n",
       "<tr><td>5037</td><td>9.194094513922672e-07</td></tr>\n",
       "<tr><td>5040</td><td>6.6653188797730894e-06</td></tr>\n",
       "<tr><td>5041</td><td>7.76066513910601e-05</td></tr>\n",
       "<tr><td>5043</td><td>0.0008689031442200071</td></tr>\n",
       "<tr><td>5046</td><td>5.050258885711456e-05</td></tr>\n",
       "<tr><td>5049</td><td>0.5814353280580229</td></tr>\n",
       "</table>"
      ],
      "text/plain": [
       "<Table length=2129>\n",
       "  ID         Chi2(2)        \n",
       "int32        float64        \n",
       "----- ----------------------\n",
       "    1 5.5820165699238955e-05\n",
       "    2  2.831436498120221e-07\n",
       "    3    8.5776906548467e-06\n",
       "    4  2.043548933000631e-05\n",
       "    5 3.7982451130408193e-06\n",
       "    6  2.091595919014693e-05\n",
       "    7  2.669871212089093e-06\n",
       "    8  0.0008304491800575871\n",
       "    9  9.871403713734451e-05\n",
       "   10 3.3503166100071334e-05\n",
       "  ...                    ...\n",
       " 5021    0.01447519584024103\n",
       " 5022   0.007552384029844274\n",
       " 5027 0.00023656848719481248\n",
       " 5031  3.377886873219675e-05\n",
       " 5037  9.194094513922672e-07\n",
       " 5040 6.6653188797730894e-06\n",
       " 5041   7.76066513910601e-05\n",
       " 5043  0.0008689031442200071\n",
       " 5046  5.050258885711456e-05\n",
       " 5049     0.5814353280580229"
      ]
     },
     "execution_count": 33,
     "metadata": {},
     "output_type": "execute_result"
    }
   ],
   "source": [
    "M33_ClsChi2Vals"
   ]
  },
  {
   "cell_type": "code",
   "execution_count": 34,
   "metadata": {
    "scrolled": true
   },
   "outputs": [
    {
     "data": {
      "text/html": [
       "<i>Table length=2129</i>\n",
       "<table id=\"table117533799056\" class=\"table-striped table-bordered table-condensed\">\n",
       "<thead><tr><th>a</th><th>b</th><th>c</th><th>d</th><th>e</th><th>f</th><th>g</th><th>h</th><th>i</th><th>j</th><th>k</th><th>l</th><th>m</th><th>n</th></tr></thead>\n",
       "<thead><tr><th>int32</th><th>float64</th><th>float64</th><th>float64</th><th>float64</th><th>float64</th><th>float64</th><th>float64</th><th>float64</th><th>float64</th><th>float64</th><th>float64</th><th>float64</th><th>float64</th></tr></thead>\n",
       "<tr><td>1</td><td>5.5820165699238955e-05</td><td>2.165355294673551</td><td>2.5905317864483943</td><td>3.440884769998081</td><td>1.27552947532453</td><td>6.094488480920338</td><td>6.377952990496135</td><td>7.165354405984458</td><td>1.07086592506412</td><td>0.41215843144202857</td><td>0.9558344318490339</td><td>1.548935523202131</td><td>1.1367770917601023</td></tr>\n",
       "<tr><td>2</td><td>2.831436498120221e-07</td><td>2.1417343784638376</td><td>2.5669108702386807</td><td>3.5589893510466486</td><td>1.417254972582811</td><td>6.094488480920338</td><td>6.440945103735201</td><td>8.015747934711847</td><td>1.9212594537915084</td><td>0.46158352238812</td><td>1.054684613741217</td><td>1.8454860688786794</td><td>1.3839025464905594</td></tr>\n",
       "<tr><td>3</td><td>8.5776906548467e-06</td><td>2.118113462254124</td><td>2.5669108702386807</td><td>3.488126602417508</td><td>1.3700131401633842</td><td>6.157480594159405</td><td>6.692913556691464</td><td>8.36220455752671</td><td>2.2047239633673046</td><td>0.3627333404959372</td><td>0.9558344318490339</td><td>1.796060977932588</td><td>1.4333276374366508</td></tr>\n",
       "<tr><td>4</td><td>2.043548933000631e-05</td><td>2.259838959512405</td><td>3.181054691691232</td><td>4.621930580483756</td><td>2.362091620971351</td><td>6.157480594159405</td><td>7.543307085418854</td><td>9.43307048259083</td><td>3.2755898884314254</td><td>0.31330824954984576</td><td>1.0052595227951253</td><td>2.2903118873935018</td><td>1.977003637843656</td></tr>\n",
       "<tr><td>5</td><td>3.7982451130408193e-06</td><td>2.1417343784638376</td><td>2.5669108702386807</td><td>3.488126602417508</td><td>1.3463922239536705</td><td>6.094488480920338</td><td>6.377952990496135</td><td>7.511811028799321</td><td>1.4173225478789826</td><td>0.41215843144202857</td><td>1.0052595227951253</td><td>1.6477857050943139</td><td>1.2356272736522853</td></tr>\n",
       "<tr><td>6</td><td>2.091595919014693e-05</td><td>2.165355294673551</td><td>2.5905317864483943</td><td>3.488126602417508</td><td>1.3227713077439573</td><td>6.094488480920338</td><td>6.377952990496135</td><td>7.354330745701656</td><td>1.2598422647813177</td><td>0.41215843144202857</td><td>0.9558344318490339</td><td>1.5983606141482223</td><td>1.1862021827061937</td></tr>\n",
       "<tr><td>7</td><td>2.669871212089093e-06</td><td>2.1889762108832644</td><td>2.732257283706675</td><td>4.196754088708913</td><td>2.007777877825649</td><td>6.094488480920338</td><td>6.440945103735201</td><td>8.519684840624375</td><td>2.425196359704037</td><td>0.41215843144202857</td><td>1.104109704687308</td><td>1.8949111598247705</td><td>1.482752728382742</td></tr>\n",
       "<tr><td>8</td><td>0.0008304491800575871</td><td>2.354322624351259</td><td>3.2519174403203728</td><td>4.291237753547768</td><td>1.936915129196509</td><td>6.125984537539872</td><td>6.503937216974267</td><td>7.669291311896986</td><td>1.5433067743571138</td><td>0.26388315860375433</td><td>0.6592838861724857</td><td>1.202959886579491</td><td>0.9390767279757367</td></tr>\n",
       "<tr><td>9</td><td>9.871403713734451e-05</td><td>2.165355294673551</td><td>2.6613945350775348</td><td>3.936924010402065</td><td>1.771568715728514</td><td>6.094488480920338</td><td>6.440945103735201</td><td>8.36220455752671</td><td>2.267716076606371</td><td>0.41215843144202857</td><td>1.104109704687308</td><td>1.9443362507708621</td><td>1.5321778193288336</td></tr>\n",
       "<tr><td>10</td><td>3.3503166100071334e-05</td><td>2.1417343784638376</td><td>2.6613945350775348</td><td>3.629852099675789</td><td>1.4881177212119514</td><td>6.157480594159405</td><td>6.944882009647728</td><td>8.740157236961105</td><td>2.5826766428017</td><td>0.3627333404959372</td><td>1.054684613741217</td><td>2.043186432663045</td><td>1.6804530921671077</td></tr>\n",
       "<tr><td>...</td><td>...</td><td>...</td><td>...</td><td>...</td><td>...</td><td>...</td><td>...</td><td>...</td><td>...</td><td>...</td><td>...</td><td>...</td><td>...</td></tr>\n",
       "<tr><td>5021</td><td>0.01447519584024103</td><td>2.118113462254124</td><td>2.4960481216095403</td><td>3.039329194432951</td><td>0.921215732178827</td><td>6.157480594159405</td><td>6.598425386832866</td><td>7.007874122886793</td><td>0.8503935287273885</td><td>0.21445806765766293</td><td>0.5110086133342113</td><td>0.9558344318490339</td><td>0.741376364191371</td></tr>\n",
       "<tr><td>5022</td><td>0.007552384029844274</td><td>2.0944925460444104</td><td>2.4251853729804</td><td>2.9212246133843838</td><td>0.8267320673399734</td><td>6.188976650778938</td><td>6.661417500071932</td><td>7.165354405984458</td><td>0.9763777552055206</td><td>0.21445806765766293</td><td>0.5110086133342113</td><td>1.0052595227951253</td><td>0.7908014551374624</td></tr>\n",
       "<tr><td>5027</td><td>0.00023656848719481248</td><td>2.1417343784638376</td><td>2.519669037819254</td><td>3.228296524110659</td><td>1.0865621456468215</td><td>6.094488480920338</td><td>6.377952990496135</td><td>6.850393839789129</td><td>0.755905358868791</td><td>0.3627333404959372</td><td>0.7581340680646683</td><td>1.4500853413099482</td><td>1.087352000814011</td></tr>\n",
       "<tr><td>5031</td><td>3.377886873219675e-05</td><td>2.212597127092978</td><td>3.0865710268523783</td><td>4.196754088708913</td><td>1.9841569616159354</td><td>6.251968764018003</td><td>7.952755821472782</td><td>9.464566539210363</td><td>3.21259777519236</td><td>0.31330824954984576</td><td>0.9064093409029427</td><td>2.339736978339593</td><td>2.0264287287897473</td></tr>\n",
       "<tr><td>5037</td><td>9.194094513922672e-07</td><td>2.212597127092978</td><td>3.1338128592718055</td><td>4.196754088708913</td><td>1.9841569616159354</td><td>6.377952990496135</td><td>8.299212444287644</td><td>9.65354287892756</td><td>3.2755898884314245</td><td>0.31330824954984576</td><td>0.8569842499568513</td><td>2.1420366145552276</td><td>1.8287283650053818</td></tr>\n",
       "<tr><td>5040</td><td>6.6653188797730894e-06</td><td>2.259838959512405</td><td>3.2519174403203728</td><td>4.007786759031205</td><td>1.7479477995188004</td><td>6.881889896408662</td><td>8.897637520058769</td><td>9.716534992166626</td><td>2.8346450957579634</td><td>0.31330824954984576</td><td>0.8075591590107598</td><td>2.0926115236091363</td><td>1.7793032740592905</td></tr>\n",
       "<tr><td>5041</td><td>7.76066513910601e-05</td><td>2.118113462254124</td><td>2.4724272053998266</td><td>3.039329194432951</td><td>0.921215732178827</td><td>6.157480594159405</td><td>6.566929330213332</td><td>7.039370179506327</td><td>0.8818895853469222</td><td>0.26388315860375433</td><td>0.6098587952263942</td><td>1.054684613741217</td><td>0.7908014551374626</td></tr>\n",
       "<tr><td>5043</td><td>0.0008689031442200071</td><td>2.0944925460444104</td><td>2.4251853729804</td><td>4.740035161532324</td><td>2.645542615487914</td><td>6.9763780662672605</td><td>7.259842575843058</td><td>9.401574425971297</td><td>2.425196359704037</td><td>0.5604337042803027</td><td>1.301810068471674</td><td>2.5868624330700505</td><td>2.026428728789748</td></tr>\n",
       "<tr><td>5046</td><td>5.050258885711456e-05</td><td>2.1417343784638376</td><td>2.519669037819254</td><td>3.346401105159227</td><td>1.2046667266953892</td><td>6.094488480920338</td><td>6.409449047115668</td><td>7.606299198657919</td><td>1.511810717737581</td><td>0.41215843144202857</td><td>0.9064093409029427</td><td>1.6477857050943139</td><td>1.2356272736522853</td></tr>\n",
       "<tr><td>5049</td><td>0.5814353280580229</td><td>2.0944925460444104</td><td>2.354322624351259</td><td>2.7794991161261025</td><td>0.6850065700816921</td><td>6.2204727073984705</td><td>6.724409613310997</td><td>7.259842575843058</td><td>1.0393698684445871</td><td>0.16503297671157152</td><td>0.46158352238812</td><td>0.8075591590107598</td><td>0.6425261822991883</td></tr>\n",
       "</table>"
      ],
      "text/plain": [
       "<Table length=2129>\n",
       "  a             b            ...         m                  n         \n",
       "int32        float64         ...      float64            float64      \n",
       "----- ---------------------- ... ------------------ ------------------\n",
       "    1 5.5820165699238955e-05 ...  1.548935523202131 1.1367770917601023\n",
       "    2  2.831436498120221e-07 ... 1.8454860688786794 1.3839025464905594\n",
       "    3    8.5776906548467e-06 ...  1.796060977932588 1.4333276374366508\n",
       "    4  2.043548933000631e-05 ... 2.2903118873935018  1.977003637843656\n",
       "    5 3.7982451130408193e-06 ... 1.6477857050943139 1.2356272736522853\n",
       "    6  2.091595919014693e-05 ... 1.5983606141482223 1.1862021827061937\n",
       "    7  2.669871212089093e-06 ... 1.8949111598247705  1.482752728382742\n",
       "    8  0.0008304491800575871 ...  1.202959886579491 0.9390767279757367\n",
       "    9  9.871403713734451e-05 ... 1.9443362507708621 1.5321778193288336\n",
       "   10 3.3503166100071334e-05 ...  2.043186432663045 1.6804530921671077\n",
       "  ...                    ... ...                ...                ...\n",
       " 5021    0.01447519584024103 ... 0.9558344318490339  0.741376364191371\n",
       " 5022   0.007552384029844274 ... 1.0052595227951253 0.7908014551374624\n",
       " 5027 0.00023656848719481248 ... 1.4500853413099482  1.087352000814011\n",
       " 5031  3.377886873219675e-05 ...  2.339736978339593 2.0264287287897473\n",
       " 5037  9.194094513922672e-07 ... 2.1420366145552276 1.8287283650053818\n",
       " 5040 6.6653188797730894e-06 ... 2.0926115236091363 1.7793032740592905\n",
       " 5041   7.76066513910601e-05 ...  1.054684613741217 0.7908014551374626\n",
       " 5043  0.0008689031442200071 ... 2.5868624330700505  2.026428728789748\n",
       " 5046  5.050258885711456e-05 ... 1.6477857050943139 1.2356272736522853\n",
       " 5049     0.5814353280580229 ... 0.8075591590107598 0.6425261822991883"
      ]
     },
     "execution_count": 34,
     "metadata": {},
     "output_type": "execute_result"
    }
   ],
   "source": [
    "m33_Prop_PDF=Table([m33goodphot_2filts['ID'],M33_ClsChi2Vals['Chi2(2)'],\n",
    "                    mpercentiles[0],mpercentiles[1],mpercentiles[2],MassIQR,tpercentiles[0],\n",
    "                    tpercentiles[1],tpercentiles[2],AgeIQR,xpercentiles[0],xpercentiles[1],\n",
    "                    xpercentiles[2],AvIQR],\n",
    "                   names=('a','b','c','d','e','f','g','h','i','j','k','l','m','n'))\n",
    "m33_Prop_PDF"
   ]
  },
  {
   "cell_type": "code",
   "execution_count": 35,
   "metadata": {
    "scrolled": true
   },
   "outputs": [
    {
     "data": {
      "text/html": [
       "<i>Table length=2129</i>\n",
       "<table id=\"table117533799056\" class=\"table-striped table-bordered table-condensed\">\n",
       "<thead><tr><th>ID</th><th>Chi_2(2)</th><th>Mass_PDF_P25(2)</th><th>Mass_PDF_Median(2)</th><th>Mass_PDF_P75(2)</th><th>MassIQR(2)</th><th>Age_PDF_P25(2)</th><th>Age_PDF_Median(2)</th><th>Age_PDF_P75(2)</th><th>Age_IQR(2)</th><th>AV_PDF_P25(2)</th><th>AV_PDF_Median(2)</th><th>AV_PDF_P75(2)</th><th>AV_IQR(2)</th></tr></thead>\n",
       "<thead><tr><th>int32</th><th>float64</th><th>float64</th><th>float64</th><th>float64</th><th>float64</th><th>float64</th><th>float64</th><th>float64</th><th>float64</th><th>float64</th><th>float64</th><th>float64</th><th>float64</th></tr></thead>\n",
       "<tr><td>1</td><td>5.5820165699238955e-05</td><td>2.165355294673551</td><td>2.5905317864483943</td><td>3.440884769998081</td><td>1.27552947532453</td><td>6.094488480920338</td><td>6.377952990496135</td><td>7.165354405984458</td><td>1.07086592506412</td><td>0.41215843144202857</td><td>0.9558344318490339</td><td>1.548935523202131</td><td>1.1367770917601023</td></tr>\n",
       "<tr><td>2</td><td>2.831436498120221e-07</td><td>2.1417343784638376</td><td>2.5669108702386807</td><td>3.5589893510466486</td><td>1.417254972582811</td><td>6.094488480920338</td><td>6.440945103735201</td><td>8.015747934711847</td><td>1.9212594537915084</td><td>0.46158352238812</td><td>1.054684613741217</td><td>1.8454860688786794</td><td>1.3839025464905594</td></tr>\n",
       "<tr><td>3</td><td>8.5776906548467e-06</td><td>2.118113462254124</td><td>2.5669108702386807</td><td>3.488126602417508</td><td>1.3700131401633842</td><td>6.157480594159405</td><td>6.692913556691464</td><td>8.36220455752671</td><td>2.2047239633673046</td><td>0.3627333404959372</td><td>0.9558344318490339</td><td>1.796060977932588</td><td>1.4333276374366508</td></tr>\n",
       "<tr><td>4</td><td>2.043548933000631e-05</td><td>2.259838959512405</td><td>3.181054691691232</td><td>4.621930580483756</td><td>2.362091620971351</td><td>6.157480594159405</td><td>7.543307085418854</td><td>9.43307048259083</td><td>3.2755898884314254</td><td>0.31330824954984576</td><td>1.0052595227951253</td><td>2.2903118873935018</td><td>1.977003637843656</td></tr>\n",
       "<tr><td>5</td><td>3.7982451130408193e-06</td><td>2.1417343784638376</td><td>2.5669108702386807</td><td>3.488126602417508</td><td>1.3463922239536705</td><td>6.094488480920338</td><td>6.377952990496135</td><td>7.511811028799321</td><td>1.4173225478789826</td><td>0.41215843144202857</td><td>1.0052595227951253</td><td>1.6477857050943139</td><td>1.2356272736522853</td></tr>\n",
       "<tr><td>6</td><td>2.091595919014693e-05</td><td>2.165355294673551</td><td>2.5905317864483943</td><td>3.488126602417508</td><td>1.3227713077439573</td><td>6.094488480920338</td><td>6.377952990496135</td><td>7.354330745701656</td><td>1.2598422647813177</td><td>0.41215843144202857</td><td>0.9558344318490339</td><td>1.5983606141482223</td><td>1.1862021827061937</td></tr>\n",
       "<tr><td>7</td><td>2.669871212089093e-06</td><td>2.1889762108832644</td><td>2.732257283706675</td><td>4.196754088708913</td><td>2.007777877825649</td><td>6.094488480920338</td><td>6.440945103735201</td><td>8.519684840624375</td><td>2.425196359704037</td><td>0.41215843144202857</td><td>1.104109704687308</td><td>1.8949111598247705</td><td>1.482752728382742</td></tr>\n",
       "<tr><td>8</td><td>0.0008304491800575871</td><td>2.354322624351259</td><td>3.2519174403203728</td><td>4.291237753547768</td><td>1.936915129196509</td><td>6.125984537539872</td><td>6.503937216974267</td><td>7.669291311896986</td><td>1.5433067743571138</td><td>0.26388315860375433</td><td>0.6592838861724857</td><td>1.202959886579491</td><td>0.9390767279757367</td></tr>\n",
       "<tr><td>9</td><td>9.871403713734451e-05</td><td>2.165355294673551</td><td>2.6613945350775348</td><td>3.936924010402065</td><td>1.771568715728514</td><td>6.094488480920338</td><td>6.440945103735201</td><td>8.36220455752671</td><td>2.267716076606371</td><td>0.41215843144202857</td><td>1.104109704687308</td><td>1.9443362507708621</td><td>1.5321778193288336</td></tr>\n",
       "<tr><td>10</td><td>3.3503166100071334e-05</td><td>2.1417343784638376</td><td>2.6613945350775348</td><td>3.629852099675789</td><td>1.4881177212119514</td><td>6.157480594159405</td><td>6.944882009647728</td><td>8.740157236961105</td><td>2.5826766428017</td><td>0.3627333404959372</td><td>1.054684613741217</td><td>2.043186432663045</td><td>1.6804530921671077</td></tr>\n",
       "<tr><td>...</td><td>...</td><td>...</td><td>...</td><td>...</td><td>...</td><td>...</td><td>...</td><td>...</td><td>...</td><td>...</td><td>...</td><td>...</td><td>...</td></tr>\n",
       "<tr><td>5021</td><td>0.01447519584024103</td><td>2.118113462254124</td><td>2.4960481216095403</td><td>3.039329194432951</td><td>0.921215732178827</td><td>6.157480594159405</td><td>6.598425386832866</td><td>7.007874122886793</td><td>0.8503935287273885</td><td>0.21445806765766293</td><td>0.5110086133342113</td><td>0.9558344318490339</td><td>0.741376364191371</td></tr>\n",
       "<tr><td>5022</td><td>0.007552384029844274</td><td>2.0944925460444104</td><td>2.4251853729804</td><td>2.9212246133843838</td><td>0.8267320673399734</td><td>6.188976650778938</td><td>6.661417500071932</td><td>7.165354405984458</td><td>0.9763777552055206</td><td>0.21445806765766293</td><td>0.5110086133342113</td><td>1.0052595227951253</td><td>0.7908014551374624</td></tr>\n",
       "<tr><td>5027</td><td>0.00023656848719481248</td><td>2.1417343784638376</td><td>2.519669037819254</td><td>3.228296524110659</td><td>1.0865621456468215</td><td>6.094488480920338</td><td>6.377952990496135</td><td>6.850393839789129</td><td>0.755905358868791</td><td>0.3627333404959372</td><td>0.7581340680646683</td><td>1.4500853413099482</td><td>1.087352000814011</td></tr>\n",
       "<tr><td>5031</td><td>3.377886873219675e-05</td><td>2.212597127092978</td><td>3.0865710268523783</td><td>4.196754088708913</td><td>1.9841569616159354</td><td>6.251968764018003</td><td>7.952755821472782</td><td>9.464566539210363</td><td>3.21259777519236</td><td>0.31330824954984576</td><td>0.9064093409029427</td><td>2.339736978339593</td><td>2.0264287287897473</td></tr>\n",
       "<tr><td>5037</td><td>9.194094513922672e-07</td><td>2.212597127092978</td><td>3.1338128592718055</td><td>4.196754088708913</td><td>1.9841569616159354</td><td>6.377952990496135</td><td>8.299212444287644</td><td>9.65354287892756</td><td>3.2755898884314245</td><td>0.31330824954984576</td><td>0.8569842499568513</td><td>2.1420366145552276</td><td>1.8287283650053818</td></tr>\n",
       "<tr><td>5040</td><td>6.6653188797730894e-06</td><td>2.259838959512405</td><td>3.2519174403203728</td><td>4.007786759031205</td><td>1.7479477995188004</td><td>6.881889896408662</td><td>8.897637520058769</td><td>9.716534992166626</td><td>2.8346450957579634</td><td>0.31330824954984576</td><td>0.8075591590107598</td><td>2.0926115236091363</td><td>1.7793032740592905</td></tr>\n",
       "<tr><td>5041</td><td>7.76066513910601e-05</td><td>2.118113462254124</td><td>2.4724272053998266</td><td>3.039329194432951</td><td>0.921215732178827</td><td>6.157480594159405</td><td>6.566929330213332</td><td>7.039370179506327</td><td>0.8818895853469222</td><td>0.26388315860375433</td><td>0.6098587952263942</td><td>1.054684613741217</td><td>0.7908014551374626</td></tr>\n",
       "<tr><td>5043</td><td>0.0008689031442200071</td><td>2.0944925460444104</td><td>2.4251853729804</td><td>4.740035161532324</td><td>2.645542615487914</td><td>6.9763780662672605</td><td>7.259842575843058</td><td>9.401574425971297</td><td>2.425196359704037</td><td>0.5604337042803027</td><td>1.301810068471674</td><td>2.5868624330700505</td><td>2.026428728789748</td></tr>\n",
       "<tr><td>5046</td><td>5.050258885711456e-05</td><td>2.1417343784638376</td><td>2.519669037819254</td><td>3.346401105159227</td><td>1.2046667266953892</td><td>6.094488480920338</td><td>6.409449047115668</td><td>7.606299198657919</td><td>1.511810717737581</td><td>0.41215843144202857</td><td>0.9064093409029427</td><td>1.6477857050943139</td><td>1.2356272736522853</td></tr>\n",
       "<tr><td>5049</td><td>0.5814353280580229</td><td>2.0944925460444104</td><td>2.354322624351259</td><td>2.7794991161261025</td><td>0.6850065700816921</td><td>6.2204727073984705</td><td>6.724409613310997</td><td>7.259842575843058</td><td>1.0393698684445871</td><td>0.16503297671157152</td><td>0.46158352238812</td><td>0.8075591590107598</td><td>0.6425261822991883</td></tr>\n",
       "</table>"
      ],
      "text/plain": [
       "<Table length=2129>\n",
       "  ID         Chi_2(2)        ...   AV_PDF_P75(2)        AV_IQR(2)     \n",
       "int32        float64         ...      float64            float64      \n",
       "----- ---------------------- ... ------------------ ------------------\n",
       "    1 5.5820165699238955e-05 ...  1.548935523202131 1.1367770917601023\n",
       "    2  2.831436498120221e-07 ... 1.8454860688786794 1.3839025464905594\n",
       "    3    8.5776906548467e-06 ...  1.796060977932588 1.4333276374366508\n",
       "    4  2.043548933000631e-05 ... 2.2903118873935018  1.977003637843656\n",
       "    5 3.7982451130408193e-06 ... 1.6477857050943139 1.2356272736522853\n",
       "    6  2.091595919014693e-05 ... 1.5983606141482223 1.1862021827061937\n",
       "    7  2.669871212089093e-06 ... 1.8949111598247705  1.482752728382742\n",
       "    8  0.0008304491800575871 ...  1.202959886579491 0.9390767279757367\n",
       "    9  9.871403713734451e-05 ... 1.9443362507708621 1.5321778193288336\n",
       "   10 3.3503166100071334e-05 ...  2.043186432663045 1.6804530921671077\n",
       "  ...                    ... ...                ...                ...\n",
       " 5021    0.01447519584024103 ... 0.9558344318490339  0.741376364191371\n",
       " 5022   0.007552384029844274 ... 1.0052595227951253 0.7908014551374624\n",
       " 5027 0.00023656848719481248 ... 1.4500853413099482  1.087352000814011\n",
       " 5031  3.377886873219675e-05 ...  2.339736978339593 2.0264287287897473\n",
       " 5037  9.194094513922672e-07 ... 2.1420366145552276 1.8287283650053818\n",
       " 5040 6.6653188797730894e-06 ... 2.0926115236091363 1.7793032740592905\n",
       " 5041   7.76066513910601e-05 ...  1.054684613741217 0.7908014551374626\n",
       " 5043  0.0008689031442200071 ... 2.5868624330700505  2.026428728789748\n",
       " 5046  5.050258885711456e-05 ... 1.6477857050943139 1.2356272736522853\n",
       " 5049     0.5814353280580229 ... 0.8075591590107598 0.6425261822991883"
      ]
     },
     "execution_count": 35,
     "metadata": {},
     "output_type": "execute_result"
    }
   ],
   "source": [
    "m33_Prop_PDF.rename_column('a', 'ID')\n",
    "m33_Prop_PDF.rename_column('b', 'Chi_2(2)')\n",
    "m33_Prop_PDF.rename_column('c', 'Mass_PDF_P25(2)')\n",
    "m33_Prop_PDF.rename_column('d', 'Mass_PDF_Median(2)')\n",
    "m33_Prop_PDF.rename_column('e', 'Mass_PDF_P75(2)')\n",
    "m33_Prop_PDF.rename_column('f', 'MassIQR(2)')\n",
    "m33_Prop_PDF.rename_column('g', 'Age_PDF_P25(2)')\n",
    "m33_Prop_PDF.rename_column('h', 'Age_PDF_Median(2)')\n",
    "m33_Prop_PDF.rename_column('i', 'Age_PDF_P75(2)')\n",
    "m33_Prop_PDF.rename_column('j', 'Age_IQR(2)')\n",
    "m33_Prop_PDF.rename_column('k', 'AV_PDF_P25(2)')\n",
    "m33_Prop_PDF.rename_column('l', 'AV_PDF_Median(2)')\n",
    "m33_Prop_PDF.rename_column('m', 'AV_PDF_P75(2)')\n",
    "m33_Prop_PDF.rename_column('n', 'AV_IQR(2)')\n",
    "m33_Prop_PDF"
   ]
  },
  {
   "cell_type": "code",
   "execution_count": 36,
   "metadata": {},
   "outputs": [],
   "source": [
    "m33_Prop_PDF.write('/Volumes/My_Passport_for_Mac/M33_M31_LGCS_Files/M33-Triangulum/Prop_Tables/M33_Prop2filt2129cls.fits')"
   ]
  },
  {
   "cell_type": "code",
   "execution_count": null,
   "metadata": {},
   "outputs": [],
   "source": []
  }
 ],
 "metadata": {
  "kernelspec": {
   "display_name": "Python 3",
   "language": "python",
   "name": "python3"
  },
  "language_info": {
   "codemirror_mode": {
    "name": "ipython",
    "version": 3
   },
   "file_extension": ".py",
   "mimetype": "text/x-python",
   "name": "python",
   "nbconvert_exporter": "python",
   "pygments_lexer": "ipython3",
   "version": "3.7.7"
  }
 },
 "nbformat": 4,
 "nbformat_minor": 2
}

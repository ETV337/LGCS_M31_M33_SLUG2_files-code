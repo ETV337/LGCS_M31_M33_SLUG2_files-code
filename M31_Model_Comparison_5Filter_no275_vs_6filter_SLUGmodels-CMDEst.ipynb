{
 "cells": [
  {
   "cell_type": "code",
   "execution_count": 1,
   "metadata": {},
   "outputs": [],
   "source": [
    "# This script demonstrates the capabilities of cluster_slug by using\n",
    "# it to re-analyze the M31 star clusters catalog of Johnson et al. (2015, ApJ)\n",
    "\n",
    "# Import the libraries we'll need\n",
    "from astropy.io import ascii\n",
    "from astropy.io import fits\n",
    "import emcee\n",
    "from astropy import table\n",
    "from astropy.table import unique, Table, hstack, Column\n",
    "import sys\n",
    "from numpy import inf\n",
    "import numpy as np\n",
    "import numpy.ma as ma\n",
    "import time\n",
    "from matplotlib.pyplot import figure as fig\n",
    "import matplotlib.pyplot as plt\n",
    "from scipy import stats\n",
    "from scipy.optimize import curve_fit\n",
    "from scipy.stats import norm\n",
    "from slugpy.cluster_slug import cluster_slug\n",
    "from slugpy import * \n",
    "import matplotlib.pyplot as plt\n",
    "import matplotlib.lines as mlines\n",
    "from matplotlib.ticker import AutoMinorLocator"
   ]
  },
  {
   "cell_type": "code",
   "execution_count": 2,
   "metadata": {},
   "outputs": [
    {
     "name": "stdout",
     "output_type": "stream",
     "text": [
      "Reading AP Cluster Data (Phot+Agemasss)...\n",
      "Reading AP 12 Cluster Data (Phot+AgeMass)...\n"
     ]
    }
   ],
   "source": [
    "#Imported AP fits files which include best fit of mass and age data already \n",
    "\n",
    "apdata = Table.read('apdata-cluster_6phot+agemass.fits')\n",
    "print(\"Reading AP Cluster Data (Phot+Agemasss)...\")\n",
    "apdata_12clusters = Table.read('apdata-cluster_6phot+agemass_select.fits')\n",
    "print(\"Reading AP 12 Cluster Data (Phot+AgeMass)...\")\n",
    "\n",
    "apdata_good_phot6filts=Table.read('/Volumes/My_Passport_for_Mac/M33_M31_LGCS_Files/M31-Andromeda/Photometery_Tables/apdata_goodphot_6filts.fits')\n",
    "\n",
    "\n",
    "LEGUS_PHAT_PadKroupa_prop=Table.read('LEGUS_1e6_1e10age_PadKroupaAfter_PHAT_lib_1e7Trials_cluster_prop.fits')\n",
    "LEGUS_PHAT_PadKroupa_phot=Table.read('LEGUS_1e6_1e10age_PadKroupaAfter_PHAT_lib_1e7Trials_cluster_phot.fits')\n",
    "\n",
    "dmod_M31=24.47 "
   ]
  },
  {
   "cell_type": "code",
   "execution_count": 3,
   "metadata": {},
   "outputs": [],
   "source": [
    "diff_PDFMedian_m_apdata6filt=Table.read('diff_PDFMedian_m_apdata6filt.fits')\n",
    "diff_PDFMedian_t_apdata6filt=Table.read('diff_PDFMedian_t_apdata6filt.fits')\n",
    "diff_PDFMedian_x_apdata6filt=Table.read('diff_PDFMedian_x_apdata6filt.fits')"
   ]
  },
  {
   "cell_type": "code",
   "execution_count": 4,
   "metadata": {},
   "outputs": [
    {
     "name": "stderr",
     "output_type": "stream",
     "text": [
      "/anaconda3/lib/python3.7/site-packages/astropy/table/column.py:965: FutureWarning: elementwise comparison failed; returning scalar instead, but in the future will perform elementwise comparison\n",
      "  return getattr(self.data, op)(other)\n"
     ]
    }
   ],
   "source": [
    "#Extract photometry from the AP PHAT catalog and pack it into arrays\n",
    "cluster_id5 = np.array(apdata_good_phot6filts['ID'])\n",
    "\n",
    "#F275W filter with error\n",
    "#apdata_good_phot6filts['MAG275'][apdata_good_phot6filts['MAG275'] == 'INDEF'] = -99\n",
    "#m275 = ma.masked_equal(np.array(apdata_good_phot6filts['MAG275'], dtype='float64'), -99) - dmod_M31\n",
    "#apdata_good_phot6filts['SIG275'][apdata_good_phot6filts['SIG275'] == 'INDEF'] = -99\n",
    "#m275err = ma.masked_equal(np.array(apdata_good_phot6filts['SIG275'], \n",
    "#                                   dtype='float64'), -99)\n",
    "\n",
    "#F336W filter with error\n",
    "apdata_good_phot6filts['MAG336'][apdata_good_phot6filts['MAG336'] == 'INDEF'] = -99\n",
    "m336_5 = ma.masked_equal(np.array(apdata_good_phot6filts['MAG336'], dtype='float64'), -99) - dmod_M31\n",
    "apdata_good_phot6filts['SIG336'][apdata_good_phot6filts['SIG336'] == 'INDEF'] = -99\n",
    "m336err_5 = ma.masked_equal(np.array(apdata_good_phot6filts['SIG336'], \n",
    "                                   dtype='float64'), -99)\n",
    "\n",
    "#F475W filter with error\n",
    "apdata_good_phot6filts['MAG475'][apdata_good_phot6filts['MAG475'] == 'INDEF'] = -99\n",
    "m475_5 = ma.masked_equal(np.array(apdata_good_phot6filts['MAG475'], dtype='float64'), -99) - dmod_M31\n",
    "apdata_good_phot6filts['SIG475'][apdata_good_phot6filts['SIG475'] == 'INDEF'] = -99\n",
    "m475err_5 = ma.masked_equal(np.array(apdata_good_phot6filts['SIG475'],\n",
    "                                   dtype='float64'), -99)\n",
    "#F814W filter with error\n",
    "apdata_good_phot6filts['MAG814'][apdata_good_phot6filts['MAG814'] == 'INDEF'] = -99\n",
    "m814_5 = ma.masked_equal(np.array(apdata_good_phot6filts['MAG814'], dtype='float64'), -99) - dmod_M31\n",
    "apdata_good_phot6filts['SIG814'][apdata_good_phot6filts['SIG814'] == 'INDEF'] = -99\n",
    "m814err_5 = ma.masked_equal(np.array(apdata_good_phot6filts['SIG814'],\n",
    "                                   dtype='float64'), -99)\n",
    "\n",
    "#F110W filter with error\n",
    "apdata_good_phot6filts['MAG110'][apdata_good_phot6filts['MAG110'] == 'INDEF'] = -99\n",
    "m110_5 = ma.masked_equal(np.array(apdata_good_phot6filts['MAG110'], dtype='float64'), -99) - dmod_M31\n",
    "apdata_good_phot6filts['SIG110'][apdata_good_phot6filts['SIG110'] == 'INDEF'] = -99\n",
    "m110err_5 = ma.masked_equal(np.array(apdata_good_phot6filts['SIG110'],\n",
    "                                   dtype='float64'), -99)\n",
    "\n",
    "#F160W filter with error \n",
    "apdata_good_phot6filts['MAG160'][apdata_good_phot6filts['MAG160'] == 'INDEF'] = -99\n",
    "m160_5 = ma.masked_equal(np.array(apdata_good_phot6filts['MAG160'],dtype='float64'), -99) - dmod_M31\n",
    "apdata_good_phot6filts['SIG160'][apdata_good_phot6filts['SIG160'] == 'INDEF'] = -99\n",
    "m160err_5 = ma.masked_equal(np.array(apdata_good_phot6filts['SIG160'],\n",
    "                                   dtype='float64'), -99)\n",
    "\n",
    "apdata_good_phot6filts_logm5=apdata_good_phot6filts['BEST_MASS']\n",
    "apdata_good_phot6filts_logt5=apdata_good_phot6filts['BEST_AGE']\n",
    "apdata_good_phot6filts_logx5=apdata_good_phot6filts['CMD_AV_BEST']"
   ]
  },
  {
   "cell_type": "code",
   "execution_count": 5,
   "metadata": {},
   "outputs": [],
   "source": [
    "#Extract photometry from the AP PHAT catalog and pack it into arrays\n",
    "cluster_id6 = np.array(apdata_good_phot6filts['ID'])\n",
    "\n",
    "#F275W filter with error\n",
    "apdata_good_phot6filts['MAG275'][apdata_good_phot6filts['MAG275'] == 'INDEF'] = -99\n",
    "m275_6 = ma.masked_equal(np.array(apdata_good_phot6filts['MAG275'], dtype='float64'), -99) - dmod_M31\n",
    "apdata_good_phot6filts['SIG275'][apdata_good_phot6filts['SIG275'] == 'INDEF'] = -99\n",
    "m275err_6 = ma.masked_equal(np.array(apdata_good_phot6filts['SIG275'], \n",
    "                                   dtype='float64'), -99)\n",
    "\n",
    "#F336W filter with error\n",
    "apdata_good_phot6filts['MAG336'][apdata_good_phot6filts['MAG336'] == 'INDEF'] = -99\n",
    "m336_6 = ma.masked_equal(np.array(apdata_good_phot6filts['MAG336'], dtype='float64'), -99) - dmod_M31\n",
    "apdata_good_phot6filts['SIG336'][apdata_good_phot6filts['SIG336'] == 'INDEF'] = -99\n",
    "m336err_6 = ma.masked_equal(np.array(apdata_good_phot6filts['SIG336'], \n",
    "                                   dtype='float64'), -99)\n",
    "\n",
    "#F475W filter with error\n",
    "apdata_good_phot6filts['MAG475'][apdata_good_phot6filts['MAG475'] == 'INDEF'] = -99\n",
    "m475_6 = ma.masked_equal(np.array(apdata_good_phot6filts['MAG475'], dtype='float64'), -99) - dmod_M31\n",
    "apdata_good_phot6filts['SIG475'][apdata_good_phot6filts['SIG475'] == 'INDEF'] = -99\n",
    "m475err_6 = ma.masked_equal(np.array(apdata_good_phot6filts['SIG475'],\n",
    "                                   dtype='float64'), -99)\n",
    "#F814W filter with error\n",
    "apdata_good_phot6filts['MAG814'][apdata_good_phot6filts['MAG814'] == 'INDEF'] = -99\n",
    "m814_6 = ma.masked_equal(np.array(apdata_good_phot6filts['MAG814'], dtype='float64'), -99) - dmod_M31\n",
    "apdata_good_phot6filts['SIG814'][apdata_good_phot6filts['SIG814'] == 'INDEF'] = -99\n",
    "m814err_6 = ma.masked_equal(np.array(apdata_good_phot6filts['SIG814'],\n",
    "                                   dtype='float64'), -99)\n",
    "\n",
    "#F110W filter with error\n",
    "apdata_good_phot6filts['MAG110'][apdata_good_phot6filts['MAG110'] == 'INDEF'] = -99\n",
    "m110_6 = ma.masked_equal(np.array(apdata_good_phot6filts['MAG110'], dtype='float64'), -99) - dmod_M31\n",
    "apdata_good_phot6filts['SIG110'][apdata_good_phot6filts['SIG110'] == 'INDEF'] = -99\n",
    "m110err_6 = ma.masked_equal(np.array(apdata_good_phot6filts['SIG110'],\n",
    "                                   dtype='float64'), -99)\n",
    "\n",
    "#F160W filter with error \n",
    "apdata_good_phot6filts['MAG160'][apdata_good_phot6filts['MAG160'] == 'INDEF'] = -99\n",
    "m160_6 = ma.masked_equal(np.array(apdata_good_phot6filts['MAG160'],dtype='float64'), -99) - dmod_M31\n",
    "apdata_good_phot6filts['SIG160'][apdata_good_phot6filts['SIG160'] == 'INDEF'] = -99\n",
    "m160err_6 = ma.masked_equal(np.array(apdata_good_phot6filts['SIG160'],\n",
    "                                   dtype='float64'), -99)\n",
    "\n",
    "apdata_good_phot6filts_logm6=apdata_good_phot6filts['BEST_MASS']\n",
    "apdata_good_phot6filts_logt6=apdata_good_phot6filts['BEST_AGE']\n",
    "apdata_good_phot6filts_logx6=apdata_good_phot6filts['CMD_AV_BEST']"
   ]
  },
  {
   "cell_type": "code",
   "execution_count": 6,
   "metadata": {},
   "outputs": [],
   "source": [
    "# Mask entries with bad data in one or more filters for the actual M31 data\n",
    "valid5 = np.logical_and(np.logical_not(m336_5.mask),\n",
    "                       np.logical_not(m475_5.mask))\n",
    "valid5 = np.logical_and(valid5, np.logical_not(m814_5.mask))\n",
    "valid5 = np.logical_and(valid5, np.logical_not(m110_5.mask))\n",
    "valid5 = np.logical_and(valid5, np.logical_not(m160_5.mask))\n",
    "#valid = np.logical_and(valid, np.logical_not(m160.mask))"
   ]
  },
  {
   "cell_type": "code",
   "execution_count": 7,
   "metadata": {},
   "outputs": [],
   "source": [
    "# Mask entries with bad data in one or more filters for the actual M31 data\n",
    "valid6 = np.logical_and(np.logical_not(m275_6.mask),\n",
    "                       np.logical_not(m336_6.mask))\n",
    "valid6 = np.logical_and(valid6, np.logical_not(m475_6.mask))\n",
    "valid6 = np.logical_and(valid6, np.logical_not(m814_6.mask))\n",
    "valid6 = np.logical_and(valid6, np.logical_not(m110_6.mask))\n",
    "valid6 = np.logical_and(valid6, np.logical_not(m160_6.mask))"
   ]
  },
  {
   "cell_type": "code",
   "execution_count": 8,
   "metadata": {},
   "outputs": [],
   "source": [
    "# Create array of photometry to pass to cluster_slug\n",
    "phot5=np.zeros((np.sum(616), 5)) #Creating an empty array of zeros with the shape of 2753x6 \n",
    "photerr5=np.zeros((np.sum(616), 5))#Creating an empty array of zeros with the shape of 2753x6 "
   ]
  },
  {
   "cell_type": "code",
   "execution_count": 9,
   "metadata": {},
   "outputs": [],
   "source": [
    "# Create array of photometry to pass to cluster_slug\n",
    "phot6=np.zeros((np.sum(616), 6)) #Creating an empty array of zeros with the shape of 2753x6 \n",
    "photerr6=np.zeros((np.sum(616), 6))#Creating an empty array of zeros with the shape of 2753x6 "
   ]
  },
  {
   "cell_type": "code",
   "execution_count": 12,
   "metadata": {},
   "outputs": [],
   "source": [
    "#Defining the filters defined in the parameter file. Filters used for M3!\n",
    "#phot[:,0] = m275[valid]\n",
    "phot5[:,0] = m336_5[valid5]\n",
    "phot5[:,1] = m475_5[valid5]\n",
    "phot5[:,2] = m814_5[valid5]\n",
    "phot5[:,3] = m110_5[valid5]\n",
    "phot5[:,4] = m160_5[valid5] \n",
    "#photerr[:,0] = m275err[valid]\n",
    "photerr5[:,0] = m336err_5[valid5]\n",
    "photerr5[:,1] = m475err_5[valid5]\n",
    "photerr5[:,2] = m814err_5[valid5]\n",
    "photerr5[:,3] = m110err_5[valid5]\n",
    "photerr5[:,4] = m160err_5[valid5] \n",
    "\n",
    "# Set up filter list (Commented out the original list of filters originally for chdata) for M31 AP PHAT \n",
    "filters5 = ['WFC3_UVIS_F336W', 'ACS_F475W', 'ACS_F814W', \n",
    "           'WFC3_IR_F110W','WFC3_IR_F160W']"
   ]
  },
  {
   "cell_type": "code",
   "execution_count": 13,
   "metadata": {},
   "outputs": [],
   "source": [
    "#Defining the filters defined in the parameter file. Filters used for M3!\n",
    "phot6[:,0] = m275_6[valid6]\n",
    "phot6[:,1] = m336_6[valid6]\n",
    "phot6[:,2] = m475_6[valid6]\n",
    "phot6[:,3] = m814_6[valid6]\n",
    "phot6[:,4] = m110_6[valid6]\n",
    "phot6[:,5] = m160_6[valid6] \n",
    "photerr6[:,0] = m275err_6[valid6]\n",
    "photerr6[:,1] = m336err_6[valid6]\n",
    "photerr6[:,2] = m475err_6[valid6]\n",
    "photerr6[:,3] = m814err_6[valid6]\n",
    "photerr6[:,4] = m110err_6[valid6]\n",
    "photerr6[:,5] = m160err_6[valid6] \n",
    "\n",
    "# Set up filter list (Commented out the original list of filters originally for chdata) for M31 AP PHAT \n",
    "filters6 = ['WFC3_UVIS_F275W', 'WFC3_UVIS_F336W', 'ACS_F475W', 'ACS_F814W', \n",
    "           'WFC3_IR_F110W', 'WFC3_IR_F160W']"
   ]
  },
  {
   "cell_type": "code",
   "execution_count": 14,
   "metadata": {},
   "outputs": [],
   "source": [
    "# Define the sample density (For AP PHAT Data)\n",
    "def sample_density5(physprop5):\n",
    "    logm5 = physprop5[:,0]\n",
    "    logt5 = physprop5[:,1]\n",
    "#    logx = physprop[:,2]\n",
    "    sden5 = np.ones(len(logm5))\n",
    "    sden5[logm5 > 4] = sden5[logm5 > 4] * 1.0/10.**(logm5[logm5 > 4]-4)\n",
    "    sden5[logt5 > 8] = sden5[logt5 > 8] * 1.0/10.**(logt5[logt5 > 8]-8)\n",
    "#    sden[logx > 12]= sden[logx >12] * 1.0/10.**(logx[logx >12]-12)\n",
    "    return sden5"
   ]
  },
  {
   "cell_type": "code",
   "execution_count": 15,
   "metadata": {},
   "outputs": [],
   "source": [
    "# Define the sample density (For AP PHAT Data)\n",
    "def sample_density6(physprop6):\n",
    "    logm6 = physprop6[:,0]\n",
    "    logt6 = physprop6[:,1]\n",
    "    #logx = physprop[:,2]\n",
    "    sden6 = np.ones(len(logm6))\n",
    "    sden6[logm6 > 4] = sden6[logm6 > 4] * 1.0/10.**(logm6[logm6 > 4]-4)\n",
    "    sden6[logt6 > 8] = sden6[logt6 > 8] * 1.0/10.**(logt6[logt6 > 8]-8)\n",
    "    #sden[logx > 12]= sden[logx >12] * 1.0/10.**(logx[logx >12]-12)\n",
    "    return sden6"
   ]
  },
  {
   "cell_type": "code",
   "execution_count": 16,
   "metadata": {},
   "outputs": [
    {
     "name": "stdout",
     "output_type": "stream",
     "text": [
      "Reading cluster_slug library...\n"
     ]
    }
   ],
   "source": [
    "# Set up the cluster_slug object; this command will take care of\n",
    "# reading the library and converting the data to the Vega photometric\n",
    "# system\n",
    "print(\"Reading cluster_slug library...\")\n",
    "cs=cluster_slug(photsystem='Vega', filters=filters5, bw_phot=0.25,\n",
    "                ktype='gaussian',sample_density=sample_density5,\n",
    "                libname='LEGUS_1e6_1e10age_PadKroupaAfter_PHAT_lib_1e7Trials')\n",
    "# Set priors to be flat in log T and A_V, but vary with logm as\n",
    "# p(log M) ~ 1/M\n",
    "def priorfunc5(physprop5):\n",
    "    # Note: physprop is an array of shape (N, 3) where physprop[:,0] =\n",
    "    # log M, physprop[:,1] = log T, physprop[:,2] = A_V\n",
    "    return 1.0/np.exp(physprop5[:,0])\n",
    "cs.priors = priorfunc5"
   ]
  },
  {
   "cell_type": "code",
   "execution_count": 17,
   "metadata": {},
   "outputs": [
    {
     "name": "stdout",
     "output_type": "stream",
     "text": [
      "Reading cluster_slug library...\n"
     ]
    }
   ],
   "source": [
    "# Set up the cluster_slug object; this command will take care of\n",
    "# reading the library and converting the data to the Vega photometric\n",
    "# system\n",
    "print(\"Reading cluster_slug library...\")\n",
    "cs=cluster_slug(photsystem='Vega', filters=filters6, bw_phot=0.25,\n",
    "                ktype='gaussian',sample_density=sample_density6,\n",
    "                libname='LEGUS_1e6_1e10age_PadKroupaAfter_PHAT_lib_1e7Trials')\n",
    "# Set priors to be flat in log T and A_V, but vary with logm as\n",
    "# p(log M) ~ 1/M\n",
    "def priorfunc6(physprop6):\n",
    "    # Note: physprop is an array of shape (N, 3) where physprop[:,0] =\n",
    "    # log M, physprop[:,1] = log T, physprop[:,2] = A_V\n",
    "    return 1.0/np.exp(physprop6[:,0])\n",
    "cs.priors = priorfunc6"
   ]
  },
  {
   "cell_type": "code",
   "execution_count": 18,
   "metadata": {
    "scrolled": true
   },
   "outputs": [],
   "source": [
    "# Compute marginal PDFs of mass and age\n",
    "logm5, mpdf5 = cs.mpdf(0, phot5, photerr5, filters=filters5)\n",
    "logt5, tpdf5 = cs.mpdf(1, phot5, photerr5, filters=filters5)\n",
    "logx5, xpdf5 = cs.mpdf(2, phot5, photerr5, ngrid=1000, filters=filters5)"
   ]
  },
  {
   "cell_type": "code",
   "execution_count": 19,
   "metadata": {},
   "outputs": [],
   "source": [
    "# Compute marginal PDFs of mass and age\n",
    "logm6, mpdf6 = cs.mpdf(0, phot6, photerr6, filters=filters6)\n",
    "logt6, tpdf6 = cs.mpdf(1, phot6, photerr6, filters=filters6)\n",
    "logx6, xpdf6 = cs.mpdf(2, phot6, photerr6, ngrid=1000, filters=filters6)"
   ]
  },
  {
   "cell_type": "code",
   "execution_count": 20,
   "metadata": {},
   "outputs": [],
   "source": [
    "# Compute the mean of the posterior PDFs returned by cluster_slug\n",
    "mmean5 = np.sum(logm5*mpdf5*(logm5[1]-logm5[0]), axis=1)\n",
    "tmean5 = np.sum(logt5*tpdf5*(logt5[1]-logt5[0]), axis=1)\n",
    "xmean5 = np.sum(logx5*xpdf5*(logx5[1]-logt5[0]), axis=1)\n",
    "\n",
    "# Compute the 25th, 50th, and 75th percentiles of the posterior PDFs\n",
    "mpdfsum5 = np.cumsum(mpdf5, axis=1)*(logm5[1]-logm5[0])\n",
    "mpercentiles5 = np.array([\n",
    "    logm5[np.argmax(np.greater(mpdfsum5, 0.1), axis=1)],\n",
    "    logm5[np.argmax(np.greater(mpdfsum5, 0.5), axis=1)],\n",
    "    logm5[np.argmax(np.greater(mpdfsum5, 0.9), axis=1)]])\n",
    "tpdfsum5 = np.cumsum(tpdf5, axis=1)*(logt5[1]-logt5[0])\n",
    "tpercentiles5 = np.array([\n",
    "    logt5[np.argmax(np.greater(tpdfsum5, 0.1), axis=1)],\n",
    "    logt5[np.argmax(np.greater(tpdfsum5, 0.5), axis=1)],\n",
    "    logt5[np.argmax(np.greater(tpdfsum5, 0.9), axis=1)]])\n",
    "xpdfsum5 = np.cumsum(xpdf5, axis=1)*(logx5[1]-logx5[0])\n",
    "xpercentiles5 = np.array([\n",
    "    logx5[np.argmax(np.greater(xpdfsum5, 0.1), axis=1)],\n",
    "    logx5[np.argmax(np.greater(xpdfsum5, 0.5), axis=1)],\n",
    "    logx5[np.argmax(np.greater(xpdfsum5, 0.9), axis=1)]])"
   ]
  },
  {
   "cell_type": "code",
   "execution_count": 21,
   "metadata": {},
   "outputs": [],
   "source": [
    "# Compute the mean of the posterior PDFs returned by cluster_slug\n",
    "mmean6 = np.sum(logm6*mpdf6*(logm6[1]-logm6[0]), axis=1)\n",
    "tmean6 = np.sum(logt6*tpdf6*(logt6[1]-logt6[0]), axis=1)\n",
    "xmean6 = np.sum(logx6*xpdf6*(logx6[1]-logt6[0]), axis=1)\n",
    "\n",
    "# Compute the 25th, 50th, and 75th percentiles of the posterior PDFs\n",
    "mpdfsum6 = np.cumsum(mpdf6, axis=1)*(logm6[1]-logm6[0])\n",
    "mpercentiles6 = np.array([\n",
    "    logm6[np.argmax(np.greater(mpdfsum6, 0.1), axis=1)],\n",
    "    logm6[np.argmax(np.greater(mpdfsum6, 0.5), axis=1)],\n",
    "    logm6[np.argmax(np.greater(mpdfsum6, 0.9), axis=1)]])\n",
    "tpdfsum6 = np.cumsum(tpdf6, axis=1)*(logt6[1]-logt6[0])\n",
    "tpercentiles6 = np.array([\n",
    "    logt6[np.argmax(np.greater(tpdfsum6, 0.1), axis=1)],\n",
    "    logt6[np.argmax(np.greater(tpdfsum6, 0.5), axis=1)],\n",
    "    logt6[np.argmax(np.greater(tpdfsum6, 0.9), axis=1)]])\n",
    "xpdfsum6 = np.cumsum(xpdf6, axis=1)*(logx6[1]-logx6[0])\n",
    "xpercentiles6 = np.array([\n",
    "    logx6[np.argmax(np.greater(xpdfsum6, 0.1), axis=1)],\n",
    "    logx6[np.argmax(np.greater(xpdfsum6, 0.5), axis=1)],\n",
    "    logx6[np.argmax(np.greater(xpdfsum6, 0.9), axis=1)]])"
   ]
  },
  {
   "cell_type": "code",
   "execution_count": 22,
   "metadata": {},
   "outputs": [],
   "source": [
    "apdata_good_phot6filts_BT=apdata_good_phot6filts['BEST_METHOD']"
   ]
  },
  {
   "cell_type": "code",
   "execution_count": 23,
   "metadata": {},
   "outputs": [],
   "source": [
    "indBT=np.where(apdata_good_phot6filts_BT!='M')\n",
    "indBTM=np.where(apdata_good_phot6filts_BT=='M')\n",
    "apdata_good_phot6filts.remove_rows(indBT)"
   ]
  },
  {
   "cell_type": "code",
   "execution_count": 24,
   "metadata": {},
   "outputs": [],
   "source": [
    "#Difference of the median of the Mass PDF & the previous mass apdata estimates for only CMD estimates in apdata\n",
    "diff_PDFMedian_m_apdata5filt=apdata_good_phot6filts_logm5[indBTM[0]]-mpercentiles5[1][indBTM[0]]\n",
    "\n",
    "#Difference of the median of the Age PDF & the previous age apdata estimates for only CMD estimates in apdata\n",
    "diff_PDFMedian_t_apdata5filt=apdata_good_phot6filts_logt5[indBTM[0]]-tpercentiles5[1][indBTM[0]]\n",
    "\n",
    "#Difference of the median of the Av PDF & the previous Av apdata estimates for only CMD estimates in apdata\n",
    "diff_PDFMedian_x_apdata5filt=apdata_good_phot6filts_logx5[indBTM[0]]-xpercentiles5[1][indBTM[0]]"
   ]
  },
  {
   "cell_type": "code",
   "execution_count": 25,
   "metadata": {},
   "outputs": [],
   "source": [
    "#Difference of the median of the Mass PDF & the previous mass apdata estimates for only CMD estimates in apdata\n",
    "diff_PDFMedian_m_apdata6filt=apdata_good_phot6filts_logm6[indBTM[0]]-mpercentiles6[1][indBTM[0]]\n",
    "\n",
    "#Difference of the median of the Age PDF & the previous age apdata estimates for only CMD estimates in apdata\n",
    "diff_PDFMedian_t_apdata6filt=apdata_good_phot6filts_logt6[indBTM[0]]-tpercentiles6[1][indBTM[0]]\n",
    "\n",
    "#Difference of the median of the Av PDF & the previous Av apdata estimates for only CMD estimates in apdata\n",
    "diff_PDFMedian_x_apdata6filt=apdata_good_phot6filts_logx6[indBTM[0]]-xpercentiles6[1][indBTM[0]]"
   ]
  },
  {
   "cell_type": "code",
   "execution_count": 28,
   "metadata": {},
   "outputs": [],
   "source": [
    "sorted_mPDF_apdata5Median=np.sort(diff_PDFMedian_m_apdata5filt)\n",
    "diff_PDFMedian_m_apdata5_25q=np.median(sorted_mPDF_apdata5Median[0:179])\n",
    "diff_PDFMedian_m_apdata5_75q=np.median(sorted_mPDF_apdata5Median[180:358])"
   ]
  },
  {
   "cell_type": "code",
   "execution_count": 29,
   "metadata": {},
   "outputs": [],
   "source": [
    "sorted_mPDF_apdata6Median=np.sort(diff_PDFMedian_m_apdata6filt)\n",
    "diff_PDFMedian_m_apdata6_25q=np.median(sorted_mPDF_apdata6Median[0:179])\n",
    "diff_PDFMedian_m_apdata6_75q=np.median(sorted_mPDF_apdata6Median[180:358])"
   ]
  },
  {
   "cell_type": "code",
   "execution_count": 30,
   "metadata": {},
   "outputs": [
    {
     "data": {
      "text/plain": [
       "(-0.17694480280514657, 0.07297883644236847, 0.28248157480502845)"
      ]
     },
     "execution_count": 30,
     "metadata": {},
     "output_type": "execute_result"
    }
   ],
   "source": [
    "#P25, Median, and P75 of CMD Log Mass and SLUG Mass Median 5 FILTERS\n",
    "diff_PDFMedian_m_apdata5_25q,np.median(diff_PDFMedian_m_apdata5filt),diff_PDFMedian_m_apdata5_75q"
   ]
  },
  {
   "cell_type": "code",
   "execution_count": 31,
   "metadata": {},
   "outputs": [
    {
     "data": {
      "text/plain": [
       "(-0.05741596003598515, 0.15899623853879485, 0.35425971134365075)"
      ]
     },
     "execution_count": 31,
     "metadata": {},
     "output_type": "execute_result"
    }
   ],
   "source": [
    "#P25, Median, and P75 of CMD Log Mass and SLUG Mass Median 6 FILTERS\n",
    "diff_PDFMedian_m_apdata6_25q,np.median(diff_PDFMedian_m_apdata6filt),diff_PDFMedian_m_apdata6_75q"
   ]
  },
  {
   "cell_type": "code",
   "execution_count": 32,
   "metadata": {},
   "outputs": [
    {
     "data": {
      "text/plain": [
       "0.459426377610175"
      ]
     },
     "execution_count": 32,
     "metadata": {},
     "output_type": "execute_result"
    }
   ],
   "source": [
    "#IQR for Mass PDF Median - apdata (75th - 25th quartile values)\n",
    "MassIQR5=diff_PDFMedian_m_apdata5_75q-diff_PDFMedian_m_apdata5_25q\n",
    "MassIQR5"
   ]
  },
  {
   "cell_type": "code",
   "execution_count": 33,
   "metadata": {},
   "outputs": [
    {
     "data": {
      "text/plain": [
       "0.4116756713796359"
      ]
     },
     "execution_count": 33,
     "metadata": {},
     "output_type": "execute_result"
    }
   ],
   "source": [
    "#IQR for Mass PDF Median - apdata (75th - 25th quartile values)\n",
    "MassIQR6=diff_PDFMedian_m_apdata6_75q-diff_PDFMedian_m_apdata6_25q\n",
    "MassIQR6"
   ]
  },
  {
   "cell_type": "code",
   "execution_count": 34,
   "metadata": {},
   "outputs": [
    {
     "data": {
      "text/plain": [
       "(0.43531008972952856, 0.4552887037259016)"
      ]
     },
     "execution_count": 34,
     "metadata": {},
     "output_type": "execute_result"
    }
   ],
   "source": [
    "#Sigma of Mass PDF Median - CMD Log Mass\n",
    "np.std(diff_PDFMedian_m_apdata5filt), np.std(diff_PDFMedian_m_apdata6filt)"
   ]
  },
  {
   "cell_type": "code",
   "execution_count": 42,
   "metadata": {},
   "outputs": [],
   "source": [
    "diff_PDFMedian_m_apdata_arr=np.array(diff_PDFMedian_m_apdata5filt)"
   ]
  },
  {
   "cell_type": "code",
   "execution_count": 44,
   "metadata": {},
   "outputs": [],
   "source": [
    "diff_PDFMedian_m_apdata_Table=Table([diff_PDFMedian_m_apdata_arr], names=('5'))"
   ]
  },
  {
   "cell_type": "code",
   "execution_count": 45,
   "metadata": {},
   "outputs": [],
   "source": [
    "diff_PDFMedian_m_apdata_Table.write('diff_PDFMedian_m_apdata5filt.fits')"
   ]
  },
  {
   "cell_type": "code",
   "execution_count": 46,
   "metadata": {},
   "outputs": [],
   "source": [
    "diff_PDFMedian_m_apdata5filt=Table.read('diff_PDFMedian_m_apdata5filt.fits')"
   ]
  },
  {
   "cell_type": "code",
   "execution_count": 47,
   "metadata": {
    "scrolled": true
   },
   "outputs": [
    {
     "data": {
      "text/plain": [
       "(astropy.table.table.Table, astropy.table.table.Table)"
      ]
     },
     "execution_count": 47,
     "metadata": {},
     "output_type": "execute_result"
    }
   ],
   "source": [
    "type(diff_PDFMedian_m_apdata5filt),type(diff_PDFMedian_m_apdata6filt)"
   ]
  },
  {
   "cell_type": "code",
   "execution_count": 35,
   "metadata": {
    "scrolled": true
   },
   "outputs": [
    {
     "data": {
      "text/plain": [
       "<matplotlib.collections.PathCollection at 0x107125390>"
      ]
     },
     "execution_count": 35,
     "metadata": {},
     "output_type": "execute_result"
    },
    {
     "data": {
      "image/png": "[encoded data removed]",
      "text/plain": [
       "<Figure size 432x288 with 1 Axes>"
      ]
     },
     "metadata": {
      "needs_background": "light"
     },
     "output_type": "display_data"
    }
   ],
   "source": [
    "plt.scatter((diff_PDFMedian_m_apdata5filt),(diff_PDFMedian_m_apdata6filt), color='steelblue')"
   ]
  },
  {
   "cell_type": "code",
   "execution_count": 61,
   "metadata": {},
   "outputs": [
    {
     "data": {
      "image/png": "[encoded data removed]",
      "text/plain": [
       "<Figure size 432x288 with 1 Axes>"
      ]
     },
     "metadata": {
      "needs_background": "light"
     },
     "output_type": "display_data"
    }
   ],
   "source": [
    "#Slug Masses vs CMD Masses with ONLY CMD BEST METHOD used \n",
    "x=np.arange(-1,2.6,0.5)\n",
    "ax=plt.subplot()\n",
    "#plt.subplot(1,2,1)\n",
    "plt.scatter((diff_PDFMedian_m_apdata5filt),(diff_PDFMedian_m_apdata6filt), color='steelblue',s=17)\n",
    "plt.plot(x,x,'k--')\n",
    "ax.tick_params(which='both', direction='in',width=1)\n",
    "ax.yaxis.set_minor_locator(AutoMinorLocator())\n",
    "ax.xaxis.set_minor_locator(AutoMinorLocator())\n",
    "ax.yaxis.set_ticks_position('both')\n",
    "ax.xaxis.set_ticks_position('both')\n",
    "#plt.plot(x,np.median(diff_PDFMedian_m_apdata)*np.ones(6),'k--',lw=2)\n",
    "#plt.plot(x,diff_PDFMedian_m_apdata_25q*np.ones(6),'b--',lw=2)\n",
    "#plt.plot(x,diff_PDFMedian_m_apdata_75q*np.ones(6),'r--',lw=2)\n",
    "plt.ylabel('LogMassSLUG6 - LogMassCMD6', fontsize=12)\n",
    "plt.xlabel('LogMassSLUG5 - LogMassCMD5', fontsize=12);\n",
    "\n",
    "\n",
    "#plt.subplot(1,2,2)\n",
    "#a=np.arange(0,180,1)\n",
    "#plt.hist(diff_PDFMedian_m_apdata, orientation='horizontal',histtype='step',lw=2,color='steelblue')\n",
    "#plt.plot(a,np.median(diff_PDFMedian_m_apdata)*np.ones(180),'k--',lw=2,label='Median')\n",
    "#plt.plot(a,diff_PDFMedian_m_apdata_25q*np.ones(180),'b--',lw=2,label='25th percentile')\n",
    "#plt.plot(a,diff_PDFMedian_m_apdata_75q*np.ones(180),'r--',lw=2,label='75th percentile')\n",
    "#plt.xlabel('Clusters',fontsize=13)\n",
    "#plt.yticks([])\n",
    "\n",
    "\n",
    "plt.subplots_adjust(hspace=0.4, wspace=0, bottom=0.5, top=1.2, right=0.9)\n",
    "plt.savefig('/Volumes/My_Passport_for_Mac/M33_M31_LGCS_Files/M31-Andromeda/Model_Comparison_Files/SlugPDF-CMDMassEst5filt_vs_SlugPDF-CMDMassEst6filt.pdf')"
   ]
  },
  {
   "cell_type": "code",
   "execution_count": 48,
   "metadata": {},
   "outputs": [],
   "source": [
    "sorted_tPDF_apdata5Median=np.sort(diff_PDFMedian_t_apdata5filt)\n",
    "diff_PDFMedian_t_apdata5_25q=np.median(sorted_tPDF_apdata5Median[0:179])\n",
    "diff_PDFMedian_t_apdata5_75q=np.median(sorted_tPDF_apdata5Median[180:358])"
   ]
  },
  {
   "cell_type": "code",
   "execution_count": 49,
   "metadata": {},
   "outputs": [],
   "source": [
    "sorted_tPDF_apdata6Median=np.sort(diff_PDFMedian_t_apdata6filt)\n",
    "diff_PDFMedian_t_apdata6_25q=np.median(sorted_tPDF_apdata6Median[0:179])\n",
    "diff_PDFMedian_t_apdata6_75q=np.median(sorted_tPDF_apdata6Median[180:358])"
   ]
  },
  {
   "cell_type": "code",
   "execution_count": 50,
   "metadata": {},
   "outputs": [
    {
     "data": {
      "text/plain": [
       "0.6811017185728261"
      ]
     },
     "execution_count": 50,
     "metadata": {},
     "output_type": "execute_result"
    }
   ],
   "source": [
    "#IQR for Age PDF Median - apdata 5 FILTERS \n",
    "diff_PDFMedian_t_apdata5_75q-diff_PDFMedian_t_apdata5_25q"
   ]
  },
  {
   "cell_type": "code",
   "execution_count": 51,
   "metadata": {},
   "outputs": [
    {
     "data": {
      "text/plain": [
       "0.6696847911711457"
      ]
     },
     "execution_count": 51,
     "metadata": {},
     "output_type": "execute_result"
    }
   ],
   "source": [
    "#IQR for Age PDF Median - apdata 6 FILTERS\n",
    "diff_PDFMedian_t_apdata6_75q-diff_PDFMedian_t_apdata6_25q"
   ]
  },
  {
   "cell_type": "code",
   "execution_count": 52,
   "metadata": {},
   "outputs": [
    {
     "data": {
      "text/plain": [
       "(-0.35905489980382477, 9.359791874885559e-08, 0.3220468187690013)"
      ]
     },
     "execution_count": 52,
     "metadata": {},
     "output_type": "execute_result"
    }
   ],
   "source": [
    "diff_PDFMedian_t_apdata5_25q,np.median(diff_PDFMedian_t_apdata5filt),diff_PDFMedian_t_apdata5_75q"
   ]
  },
  {
   "cell_type": "code",
   "execution_count": 53,
   "metadata": {},
   "outputs": [
    {
     "data": {
      "text/plain": [
       "(-0.20629910329048773, 0.14724408315978632, 0.4633856878806579)"
      ]
     },
     "execution_count": 53,
     "metadata": {},
     "output_type": "execute_result"
    }
   ],
   "source": [
    "diff_PDFMedian_t_apdata6_25q,np.median(diff_PDFMedian_t_apdata6filt),diff_PDFMedian_t_apdata6_75q"
   ]
  },
  {
   "cell_type": "code",
   "execution_count": 54,
   "metadata": {},
   "outputs": [
    {
     "data": {
      "text/plain": [
       "(0.6215743689425293, 0.6236141347841173)"
      ]
     },
     "execution_count": 54,
     "metadata": {},
     "output_type": "execute_result"
    }
   ],
   "source": [
    "#standard deviation (sigma) of Age median of the PDF - Age apdata\n",
    "np.std(diff_PDFMedian_t_apdata5filt),np.std(diff_PDFMedian_t_apdata6filt)"
   ]
  },
  {
   "cell_type": "code",
   "execution_count": 62,
   "metadata": {},
   "outputs": [
    {
     "data": {
      "image/png": "[encoded data removed]",
      "text/plain": [
       "<Figure size 432x288 with 1 Axes>"
      ]
     },
     "metadata": {
      "needs_background": "light"
     },
     "output_type": "display_data"
    }
   ],
   "source": [
    "#Slug Masses vs CMD Masses with ONLY CMD BEST METHOD used \n",
    "x=np.arange(-2,3.1,0.5)\n",
    "ax=plt.subplot()\n",
    "#plt.subplot(1,2,1)\n",
    "plt.scatter((diff_PDFMedian_t_apdata5filt),(diff_PDFMedian_t_apdata6filt), color='steelblue',s=17)\n",
    "plt.plot(x,x,'k--')\n",
    "ax.tick_params(which='both', direction='in',width=1)\n",
    "ax.yaxis.set_minor_locator(AutoMinorLocator())\n",
    "ax.xaxis.set_minor_locator(AutoMinorLocator())\n",
    "ax.yaxis.set_ticks_position('both')\n",
    "ax.xaxis.set_ticks_position('both')\n",
    "#plt.plot(x,np.median(diff_PDFMedian_m_apdata)*np.ones(6),'k--',lw=2)\n",
    "#plt.plot(x,diff_PDFMedian_m_apdata_25q*np.ones(6),'b--',lw=2)\n",
    "#plt.plot(x,diff_PDFMedian_m_apdata_75q*np.ones(6),'r--',lw=2)\n",
    "plt.ylabel('LogAgeSLUG6 - LogAgeCMD6', fontsize=12)\n",
    "plt.xlabel('LogAgeSLUG5 - LogAgeCMD5', fontsize=12);\n",
    "\n",
    "\n",
    "#plt.subplot(1,2,2)\n",
    "#a=np.arange(0,180,1)\n",
    "#plt.hist(diff_PDFMedian_m_apdata, orientation='horizontal',histtype='step',lw=2,color='steelblue')\n",
    "#plt.plot(a,np.median(diff_PDFMedian_m_apdata)*np.ones(180),'k--',lw=2,label='Median')\n",
    "#plt.plot(a,diff_PDFMedian_m_apdata_25q*np.ones(180),'b--',lw=2,label='25th percentile')\n",
    "#plt.plot(a,diff_PDFMedian_m_apdata_75q*np.ones(180),'r--',lw=2,label='75th percentile')\n",
    "#plt.xlabel('Clusters',fontsize=13)\n",
    "#plt.yticks([])\n",
    "\n",
    "\n",
    "plt.subplots_adjust(hspace=0.4, wspace=0, bottom=0.5, top=1.2, right=0.9)\n",
    "#plt.savefig('/Volumes/My_Passport_for_Mac/M33_M31_LGCS_Files/M31-Andromeda/Model_Comparison_Files/SlugPDF-CMDAgeEst5filt_vs_SlugPDF-CMDAgeEst6filt.pdf')"
   ]
  },
  {
   "cell_type": "code",
   "execution_count": 63,
   "metadata": {},
   "outputs": [],
   "source": [
    "#PERCENTILES FOR EXTINCTION differences for clusters with CMD best method\n",
    "sorted_xPDF_apdata5Median=np.sort(diff_PDFMedian_x_apdata5filt)\n",
    "diff_PDFMedian_x_apdata5_25q=np.median(sorted_xPDF_apdata5Median[0:179])\n",
    "diff_PDFMedian_x_apdata5_75q=np.median(sorted_xPDF_apdata5Median[180:358])\n"
   ]
  },
  {
   "cell_type": "code",
   "execution_count": 64,
   "metadata": {},
   "outputs": [],
   "source": [
    "#PERCENTILES FOR EXTINCTION differences for clusters with CMD best method\n",
    "sorted_xPDF_apdata6Median=np.sort(diff_PDFMedian_x_apdata6filt)\n",
    "diff_PDFMedian_x_apdata6_25q=np.median(sorted_xPDF_apdata6Median[0:179])\n",
    "diff_PDFMedian_x_apdata6_75q=np.median(sorted_xPDF_apdata6Median[180:358])\n"
   ]
  },
  {
   "cell_type": "code",
   "execution_count": 65,
   "metadata": {},
   "outputs": [
    {
     "data": {
      "text/plain": [
       "(-0.35238500136744055, -0.00870898903950601, 0.44157848932930627)"
      ]
     },
     "execution_count": 65,
     "metadata": {},
     "output_type": "execute_result"
    }
   ],
   "source": [
    "diff_PDFMedian_x_apdata5_25q, np.median(diff_PDFMedian_x_apdata5filt),diff_PDFMedian_x_apdata5_75q"
   ]
  },
  {
   "cell_type": "code",
   "execution_count": 66,
   "metadata": {},
   "outputs": [
    {
     "data": {
      "text/plain": [
       "(-0.405834419928105, -0.05842154047301612, 0.39129104672328086)"
      ]
     },
     "execution_count": 66,
     "metadata": {},
     "output_type": "execute_result"
    }
   ],
   "source": [
    "diff_PDFMedian_x_apdata6_25q, np.median(diff_PDFMedian_x_apdata6filt),diff_PDFMedian_x_apdata6_75q"
   ]
  },
  {
   "cell_type": "code",
   "execution_count": 67,
   "metadata": {},
   "outputs": [
    {
     "data": {
      "text/plain": [
       "0.7939634906967468"
      ]
     },
     "execution_count": 67,
     "metadata": {},
     "output_type": "execute_result"
    }
   ],
   "source": [
    "#IQR for Extinction PDF Median - apdata 5 filters\n",
    "diff_PDFMedian_x_apdata5_75q-diff_PDFMedian_x_apdata5_25q"
   ]
  },
  {
   "cell_type": "markdown",
   "metadata": {},
   "source": [
    "#IQR for Extinction PDF Median - apdata 6 filters\n",
    "diff_PDFMedian_x_apdata6_75q-diff_PDFMedian_x_apdata6_25q"
   ]
  },
  {
   "cell_type": "code",
   "execution_count": 69,
   "metadata": {},
   "outputs": [
    {
     "data": {
      "text/plain": [
       "(2.3389595133296637, 2.66527014273898)"
      ]
     },
     "execution_count": 69,
     "metadata": {},
     "output_type": "execute_result"
    }
   ],
   "source": [
    "#standard deviation (sigma) of Extinction median of the PDF - Extinction apdata\n",
    "np.std(diff_PDFMedian_x_apdata5filt),np.std(diff_PDFMedian_x_apdata6filt)"
   ]
  },
  {
   "cell_type": "code",
   "execution_count": 73,
   "metadata": {},
   "outputs": [
    {
     "data": {
      "image/png": "[encoded data removed]",
      "text/plain": [
       "<Figure size 432x288 with 1 Axes>"
      ]
     },
     "metadata": {
      "needs_background": "light"
     },
     "output_type": "display_data"
    }
   ],
   "source": [
    "#Slug Masses vs CMD Masses with ONLY CMD BEST METHOD used \n",
    "x=np.arange(-2,3.1,0.5)\n",
    "ax=plt.subplot()\n",
    "#plt.subplot(1,2,1)\n",
    "plt.scatter((diff_PDFMedian_x_apdata5filt),(diff_PDFMedian_x_apdata6filt), color='steelblue',s=17)\n",
    "plt.plot(x,x,'k--')\n",
    "ax.tick_params(which='both', direction='in',width=1)\n",
    "ax.yaxis.set_minor_locator(AutoMinorLocator())\n",
    "ax.xaxis.set_minor_locator(AutoMinorLocator())\n",
    "ax.yaxis.set_ticks_position('both')\n",
    "ax.xaxis.set_ticks_position('both')\n",
    "#plt.plot(x,np.median(diff_PDFMedian_m_apdata)*np.ones(6),'k--',lw=2)\n",
    "#plt.plot(x,diff_PDFMedian_m_apdata_25q*np.ones(6),'b--',lw=2)\n",
    "#plt.plot(x,diff_PDFMedian_m_apdata_75q*np.ones(6),'r--',lw=2)\n",
    "plt.ylabel('$A_V$SLUG6 - $A_V$CMD6', fontsize=12)\n",
    "plt.xlabel('$A_V$SLUG5 - $A_V$CMD5', fontsize=12)\n",
    "plt.xlim(-2.7,3.7)\n",
    "plt.ylim(-2.8,3.8);\n",
    "\n",
    "\n",
    "#plt.subplot(1,2,2)\n",
    "#a=np.arange(0,180,1)\n",
    "#plt.hist(diff_PDFMedian_m_apdata, orientation='horizontal',histtype='step',lw=2,color='steelblue')\n",
    "#plt.plot(a,np.median(diff_PDFMedian_m_apdata)*np.ones(180),'k--',lw=2,label='Median')\n",
    "#plt.plot(a,diff_PDFMedian_m_apdata_25q*np.ones(180),'b--',lw=2,label='25th percentile')\n",
    "#plt.plot(a,diff_PDFMedian_m_apdata_75q*np.ones(180),'r--',lw=2,label='75th percentile')\n",
    "#plt.xlabel('Clusters',fontsize=13)\n",
    "#plt.yticks([])\n",
    "\n",
    "\n",
    "plt.subplots_adjust(hspace=0.4, wspace=0, bottom=0.5, top=1.2, right=0.9)\n",
    "#plt.savefig('/Volumes/My_Passport_for_Mac/M33_M31_LGCS_Files/M31-Andromeda/Model_Comparison_Files/SlugPDF-CMDAgeEst5filt_vs_SlugPDF-CMDAgeEst6filt.pdf')"
   ]
  }
 ],
 "metadata": {
  "kernelspec": {
   "display_name": "Python 3",
   "language": "python",
   "name": "python3"
  },
  "language_info": {
   "codemirror_mode": {
    "name": "ipython",
    "version": 3
   },
   "file_extension": ".py",
   "mimetype": "text/x-python",
   "name": "python",
   "nbconvert_exporter": "python",
   "pygments_lexer": "ipython3",
   "version": "3.7.3"
  }
 },
 "nbformat": 4,
 "nbformat_minor": 2
}

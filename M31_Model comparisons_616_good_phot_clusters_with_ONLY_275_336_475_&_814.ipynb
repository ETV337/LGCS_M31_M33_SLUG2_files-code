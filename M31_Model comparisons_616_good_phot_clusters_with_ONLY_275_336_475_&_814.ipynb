{
 "cells": [
  {
   "cell_type": "code",
   "execution_count": 1,
   "metadata": {},
   "outputs": [],
   "source": [
    "# This script demonstrates the capabilities of cluster_slug by using\n",
    "# it to re-analyze the M31 star clusters catalog of Johnson et al. (2015, ApJ)\n",
    "\n",
    "# Import the libraries we'll need\n",
    "from astropy.io import ascii\n",
    "from astropy import table\n",
    "from astropy.table import unique, Table, hstack, Column\n",
    "import sys\n",
    "from numpy import inf\n",
    "import numpy as np\n",
    "import numpy.ma as ma\n",
    "import time\n",
    "from matplotlib.pyplot import figure as fig\n",
    "import matplotlib.pyplot as plt\n",
    "from scipy import stats\n",
    "from scipy.stats import norm\n",
    "from slugpy.cluster_slug import cluster_slug\n",
    "from slugpy import * \n",
    "import matplotlib.pyplot as plt\n",
    "import matplotlib.lines as mlines\n",
    "from matplotlib.ticker import AutoMinorLocator"
   ]
  },
  {
   "cell_type": "code",
   "execution_count": 2,
   "metadata": {},
   "outputs": [
    {
     "name": "stdout",
     "output_type": "stream",
     "text": [
      "Reading AP Cluster Data (Phot+Agemasss)...\n",
      "Reading AP 12 Cluster Data (Phot+AgeMass)...\n"
     ]
    }
   ],
   "source": [
    "#Imported AP fits files which include best fit of mass and age data already \n",
    "\n",
    "apdata = Table.read('apdata-cluster_6phot+agemass.fits')\n",
    "print(\"Reading AP Cluster Data (Phot+Agemasss)...\")\n",
    "apdata_12clusters = Table.read('apdata-cluster_6phot+agemass_select.fits')\n",
    "print(\"Reading AP 12 Cluster Data (Phot+AgeMass)...\")\n",
    "\n",
    "apdata_good_phot6filts=Table.read('/Volumes/My_Passport_for_Mac/M33_M31_LGCS_Files/M31-Andromeda/Photometery_Tables/apdata_goodphot_6filts.fits')\n",
    "apdata_good_phot_no110_160=Table.read('/Volumes/My_Passport_for_Mac/M33_M31_LGCS_Files/M31-Andromeda/Photometery_Tables/apdata_goodphot_4filts_no110_160.fits')\n",
    "\n",
    "LEGUS_PHAT_PadKroupa_prop=Table.read('LEGUS_1e6_1e10age_PadKroupaAfter_PHAT_lib_1e7Trials_cluster_prop.fits')\n",
    "LEGUS_PHAT_PadKroupa_phot=Table.read('LEGUS_1e6_1e10age_PadKroupaAfter_PHAT_lib_1e7Trials_cluster_phot.fits')\n",
    "\n",
    "dmod_M31=24.47 "
   ]
  },
  {
   "cell_type": "code",
   "execution_count": 3,
   "metadata": {},
   "outputs": [
    {
     "name": "stderr",
     "output_type": "stream",
     "text": [
      "/anaconda3/lib/python3.7/site-packages/astropy/table/column.py:965: FutureWarning: elementwise comparison failed; returning scalar instead, but in the future will perform elementwise comparison\n",
      "  return getattr(self.data, op)(other)\n"
     ]
    }
   ],
   "source": [
    "#Extract photometry from the AP PHAT catalog and pack it into arrays\n",
    "cluster_id = np.array(apdata_good_phot6filts['ID'])\n",
    "\n",
    "#F275W filter with error\n",
    "apdata_good_phot6filts['MAG275'][apdata_good_phot6filts['MAG275'] == 'INDEF'] = -99\n",
    "m275 = ma.masked_equal(np.array(apdata_good_phot6filts['MAG275'], dtype='float64'), -99) - dmod_M31\n",
    "apdata_good_phot6filts['SIG275'][apdata_good_phot6filts['SIG275'] == 'INDEF'] = -99\n",
    "m275err = ma.masked_equal(np.array(apdata_good_phot6filts['SIG275'], \n",
    "                                   dtype='float64'), -99)\n",
    "\n",
    "#F336W filter with error\n",
    "apdata_good_phot6filts['MAG336'][apdata_good_phot6filts['MAG336'] == 'INDEF'] = -99\n",
    "m336 = ma.masked_equal(np.array(apdata_good_phot6filts['MAG336'], dtype='float64'), -99) - dmod_M31\n",
    "apdata_good_phot6filts['SIG336'][apdata_good_phot6filts['SIG336'] == 'INDEF'] = -99\n",
    "m336err = ma.masked_equal(np.array(apdata_good_phot6filts['SIG336'], \n",
    "                                   dtype='float64'), -99)\n",
    "\n",
    "#F475W filter with error\n",
    "apdata_good_phot6filts['MAG475'][apdata_good_phot6filts['MAG475'] == 'INDEF'] = -99\n",
    "m475 = ma.masked_equal(np.array(apdata_good_phot6filts['MAG475'], dtype='float64'), -99) - dmod_M31\n",
    "apdata_good_phot6filts['SIG475'][apdata_good_phot6filts['SIG475'] == 'INDEF'] = -99\n",
    "m475err = ma.masked_equal(np.array(apdata_good_phot6filts['SIG475'],\n",
    "                                   dtype='float64'), -99)\n",
    "#F814W filter with error\n",
    "apdata_good_phot6filts['MAG814'][apdata_good_phot6filts['MAG814'] == 'INDEF'] = -99\n",
    "m814 = ma.masked_equal(np.array(apdata_good_phot6filts['MAG814'], dtype='float64'), -99) - dmod_M31\n",
    "apdata_good_phot6filts['SIG814'][apdata_good_phot6filts['SIG814'] == 'INDEF'] = -99\n",
    "m814err = ma.masked_equal(np.array(apdata_good_phot6filts['SIG814'],\n",
    "                                   dtype='float64'), -99)\n",
    "\n",
    "#F110W filter with error\n",
    "#apdata_good_phot6filts['MAG110'][apdata_good_phot6filts['MAG110'] == 'INDEF'] = -99\n",
    "#m110 = ma.masked_equal(np.array(apdata_good_phot6filts['MAG110'], dtype='float64'), -99) - dmod_M31\n",
    "#apdata_good_phot6filts['SIG110'][apdata_good_phot6filts['SIG110'] == 'INDEF'] = -99\n",
    "#m110err = ma.masked_equal(np.array(apdata_good_phot6filts['SIG110'],\n",
    "#                                   dtype='float64'), -99)\n",
    "\n",
    "#F160W filter with error \n",
    "#apdata_good_phot6filts['MAG160'][apdata_good_phot6filts['MAG160'] == 'INDEF'] = -99\n",
    "#m160 = ma.masked_equal(np.array(apdata_good_phot6filts['MAG160'],dtype='float64'), -99) - dmod_M31\n",
    "#apdata_good_phot6filts['SIG160'][apdata_good_phot6filts['SIG160'] == 'INDEF'] = -99\n",
    "#m160err = ma.masked_equal(np.array(apdata_good_phot6filts['SIG160'],\n",
    "#                                   dtype='float64'), -99)\n",
    "\n",
    "apdata_good_phot6filts_logm=apdata_good_phot6filts['BEST_MASS']\n",
    "apdata_good_phot6filts_logt=apdata_good_phot6filts['BEST_AGE']\n",
    "apdata_good_phot6filts_logx=apdata_good_phot6filts['CMD_AV_BEST']"
   ]
  },
  {
   "cell_type": "code",
   "execution_count": 4,
   "metadata": {},
   "outputs": [],
   "source": [
    "# Mask entries with bad data in one or more filters for the actual M31 data\n",
    "valid = np.logical_and(np.logical_not(m275.mask),\n",
    "                       np.logical_not(m336.mask))\n",
    "valid = np.logical_and(valid, np.logical_not(m475.mask))\n",
    "valid = np.logical_and(valid, np.logical_not(m814.mask))\n",
    "#valid = np.logical_and(valid, np.logical_not(m110.mask))\n",
    "#valid = np.logical_and(valid, np.logical_not(m160.mask))"
   ]
  },
  {
   "cell_type": "code",
   "execution_count": 5,
   "metadata": {},
   "outputs": [],
   "source": [
    "# Create array of photometry to pass to cluster_slug\n",
    "phot=np.zeros((np.sum(616), 4)) #Creating an empty array of zeros with the shape of 2753x6 \n",
    "photerr=np.zeros((np.sum(616), 4))#Creating an empty array of zeros with the shape of 2753x6 "
   ]
  },
  {
   "cell_type": "code",
   "execution_count": 6,
   "metadata": {},
   "outputs": [],
   "source": [
    "#Defining the filters defined in the parameter file. Filters used for M3!\n",
    "phot[:,0] = m275[valid]\n",
    "phot[:,1] = m336[valid]\n",
    "phot[:,2] = m475[valid]\n",
    "phot[:,3] = m814[valid]\n",
    "#phot[:,4] = m110[valid]\n",
    "#phot[:,5] = m160[valid] \n",
    "photerr[:,0] = m275err[valid]\n",
    "photerr[:,1] = m336err[valid]\n",
    "photerr[:,2] = m475err[valid]\n",
    "photerr[:,3] = m814err[valid]\n",
    "#photerr[:,4] = m110err[valid]\n",
    "#photerr[:,5] = m160err[valid] \n",
    "\n",
    "# Set up filter list (Commented out the original list of filters originally for chdata) for M31 AP PHAT \n",
    "filters = ['WFC3_UVIS_F275W', 'WFC3_UVIS_F336W', 'ACS_F475W', 'ACS_F814W']"
   ]
  },
  {
   "cell_type": "code",
   "execution_count": 7,
   "metadata": {},
   "outputs": [],
   "source": [
    "# Define the sample density (For AP PHAT Data)\n",
    "def sample_density(physprop):\n",
    "    logm = physprop[:,0]\n",
    "    logt = physprop[:,1]\n",
    "    sden = np.ones(len(logm))\n",
    "    sden[logm > 4] = sden[logm > 4] * 1.0/10.**(logm[logm > 4]-4)\n",
    "    sden[logt > 8] = sden[logt > 8] * 1.0/10.**(logt[logt > 8]-8)\n",
    "    return sden"
   ]
  },
  {
   "cell_type": "code",
   "execution_count": 8,
   "metadata": {},
   "outputs": [
    {
     "name": "stdout",
     "output_type": "stream",
     "text": [
      "Reading cluster_slug library...\n"
     ]
    }
   ],
   "source": [
    "# Set up the cluster_slug object; this command will take care of\n",
    "# reading the library and converting the data to the Vega photometric\n",
    "# system\n",
    "print(\"Reading cluster_slug library...\")\n",
    "cs=cluster_slug(photsystem='Vega', filters=filters, bw_phot=0.25,\n",
    "                ktype='gaussian',sample_density=sample_density,\n",
    "                libname='LEGUS_1e6_1e10age_PadKroupaAfter_PHAT_lib_1e7Trials')\n",
    "# Set priors to be flat in log T and A_V, but vary with logm as\n",
    "# p(log M) ~ 1/M\n",
    "def priorfunc(physprop):\n",
    "    # Note: physprop is an array of shape (N, 3) where physprop[:,0] =\n",
    "    # log M, physprop[:,1] = log T, physprop[:,2] = A_V\n",
    "    return 1.0/np.exp(physprop[:,0])\n",
    "cs.priors = priorfunc"
   ]
  },
  {
   "cell_type": "code",
   "execution_count": 9,
   "metadata": {},
   "outputs": [
    {
     "name": "stdout",
     "output_type": "stream",
     "text": [
      "Computing posterior PDFs...\n"
     ]
    },
    {
     "name": "stderr",
     "output_type": "stream",
     "text": [
      "/anaconda3/lib/python3.7/site-packages/ipykernel_launcher.py:3: DeprecationWarning: time.clock has been deprecated in Python 3.3 and will be removed from Python 3.8: use time.perf_counter or time.process_time instead\n",
      "  This is separate from the ipykernel package so we can avoid doing imports until\n"
     ]
    },
    {
     "name": "stdout",
     "output_type": "stream",
     "text": [
      "Computation time: 1205.062934 seconds total, 0.978135 seconds / PDF\n"
     ]
    },
    {
     "name": "stderr",
     "output_type": "stream",
     "text": [
      "/anaconda3/lib/python3.7/site-packages/ipykernel_launcher.py:12: DeprecationWarning: time.clock has been deprecated in Python 3.3 and will be removed from Python 3.8: use time.perf_counter or time.process_time instead\n",
      "  if sys.path[0] == '':\n"
     ]
    },
    {
     "data": {
      "text/plain": [
       "<matplotlib.axes._subplots.AxesSubplot at 0x1b5cc7cf98>"
      ]
     },
     "execution_count": 9,
     "metadata": {},
     "output_type": "execute_result"
    },
    {
     "data": {
      "image/png": "[encoded data removed]",
      "text/plain": [
       "<Figure size 432x576 with 1 Axes>"
      ]
     },
     "metadata": {
      "needs_background": "light"
     },
     "output_type": "display_data"
    }
   ],
   "source": [
    "# Start timing\n",
    "print(\"Computing posterior PDFs...\")\n",
    "lasttime = time.clock()\n",
    "\n",
    "\n",
    "# Compute marginal PDFs of mass and age\n",
    "logm, mpdf = cs.mpdf(0, phot, photerr, filters=filters)\n",
    "logt, tpdf = cs.mpdf(1, phot, photerr, filters=filters)\n",
    "logx, xpdf = cs.mpdf(2, phot, photerr, ngrid=1000, filters=filters)\n",
    "\n",
    "# End timing\n",
    "newtime = time.clock()\n",
    "tottime = newtime - lasttime\n",
    "\n",
    "# Print timing results\n",
    "print(\"Computation time: {:f} seconds total, {:f} seconds / PDF\".\n",
    "      format(tottime, tottime/phot.shape[0]/2))\n",
    "\n",
    "# Set up a plot window\n",
    "plt.figure(1, figsize=(6,8))\n",
    "plt.subplot(4,2,1)"
   ]
  },
  {
   "cell_type": "code",
   "execution_count": 10,
   "metadata": {},
   "outputs": [],
   "source": [
    "# Compute the mean of the posterior PDFs returned by cluster_slug\n",
    "mmean = np.sum(logm*mpdf*(logm[1]-logm[0]), axis=1)\n",
    "tmean = np.sum(logt*tpdf*(logt[1]-logt[0]), axis=1)\n",
    "xmean = np.sum(logx*xpdf*(logx[1]-logt[0]), axis=1)\n",
    "\n",
    "# Compute the 25th, 50th, and 75th percentiles of the posterior PDFs\n",
    "mpdfsum = np.cumsum(mpdf, axis=1)*(logm[1]-logm[0])\n",
    "mpercentiles = np.array([\n",
    "    logm[np.argmax(np.greater(mpdfsum, 0.1), axis=1)],\n",
    "    logm[np.argmax(np.greater(mpdfsum, 0.5), axis=1)],\n",
    "    logm[np.argmax(np.greater(mpdfsum, 0.9), axis=1)]])\n",
    "tpdfsum = np.cumsum(tpdf, axis=1)*(logt[1]-logt[0])\n",
    "tpercentiles = np.array([\n",
    "    logt[np.argmax(np.greater(tpdfsum, 0.1), axis=1)],\n",
    "    logt[np.argmax(np.greater(tpdfsum, 0.5), axis=1)],\n",
    "    logt[np.argmax(np.greater(tpdfsum, 0.9), axis=1)]])\n",
    "xpdfsum = np.cumsum(xpdf, axis=1)*(logx[1]-logx[0])\n",
    "xpercentiles = np.array([\n",
    "    logx[np.argmax(np.greater(xpdfsum, 0.1), axis=1)],\n",
    "    logx[np.argmax(np.greater(xpdfsum, 0.5), axis=1)],\n",
    "    logx[np.argmax(np.greater(xpdfsum, 0.9), axis=1)]])"
   ]
  },
  {
   "cell_type": "code",
   "execution_count": 11,
   "metadata": {},
   "outputs": [],
   "source": [
    "# For each model, find the best match in the library for the 12 hand-picked clusters\n",
    "matches, dist = cs.bestmatch(phot, filters=filters, nmatch=1)\n",
    "dist = dist/np.sqrt(len(filters))"
   ]
  },
  {
   "cell_type": "code",
   "execution_count": 12,
   "metadata": {},
   "outputs": [],
   "source": [
    "mp25=mpercentiles[0]\n",
    "mp50=mpercentiles[1]\n",
    "mp75=mpercentiles[2]\n",
    "tp25=tpercentiles[0]\n",
    "tp50=tpercentiles[1]\n",
    "tp75=tpercentiles[2]\n",
    "xp25=xpercentiles[0]\n",
    "xp50=xpercentiles[1]\n",
    "xp75=xpercentiles[2]"
   ]
  },
  {
   "cell_type": "code",
   "execution_count": 13,
   "metadata": {},
   "outputs": [],
   "source": [
    "m_matches=matches[:,:-8]\n",
    "t_matches=matches[:,1:-7]\n",
    "x_matches=matches[:,2:-6]"
   ]
  },
  {
   "cell_type": "code",
   "execution_count": 14,
   "metadata": {},
   "outputs": [],
   "source": [
    "pmatches, dist = cs.bestmatch(phot, filters=filters, nmatch=100)"
   ]
  },
  {
   "cell_type": "code",
   "execution_count": 15,
   "metadata": {},
   "outputs": [],
   "source": [
    "phot_matches=pmatches[:,-6:]+dmod_M31"
   ]
  },
  {
   "cell_type": "code",
   "execution_count": 16,
   "metadata": {},
   "outputs": [],
   "source": [
    "apdata_good_phot6filts_BT=apdata_good_phot6filts['BEST_METHOD']\n",
    "indBT=np.where(apdata_good_phot6filts_BT!='M')\n",
    "indBTM=np.where(apdata_good_phot6filts_BT=='M')"
   ]
  },
  {
   "cell_type": "code",
   "execution_count": 17,
   "metadata": {},
   "outputs": [],
   "source": [
    "apdata_good_phot6filts.remove_rows(indBT)"
   ]
  },
  {
   "cell_type": "code",
   "execution_count": 18,
   "metadata": {
    "scrolled": true
   },
   "outputs": [
    {
     "data": {
      "text/plain": [
       "358"
      ]
     },
     "execution_count": 18,
     "metadata": {},
     "output_type": "execute_result"
    }
   ],
   "source": [
    "len(mpercentiles[1][indBTM[0]])"
   ]
  },
  {
   "cell_type": "code",
   "execution_count": 19,
   "metadata": {
    "scrolled": true
   },
   "outputs": [
    {
     "data": {
      "text/html": [
       "&lt;Column name=&apos;BEST_MASS&apos; dtype=&apos;float32&apos; length=358&gt;\n",
       "<table>\n",
       "<tr><td>3.4112523</td></tr>\n",
       "<tr><td>3.826866</td></tr>\n",
       "<tr><td>3.5705638</td></tr>\n",
       "<tr><td>3.1191373</td></tr>\n",
       "<tr><td>3.4402668</td></tr>\n",
       "<tr><td>3.319657</td></tr>\n",
       "<tr><td>3.8409822</td></tr>\n",
       "<tr><td>3.5241745</td></tr>\n",
       "<tr><td>3.919013</td></tr>\n",
       "<tr><td>3.4958994</td></tr>\n",
       "<tr><td>3.9561028</td></tr>\n",
       "<tr><td>4.1048217</td></tr>\n",
       "<tr><td>...</td></tr>\n",
       "<tr><td>3.4031377</td></tr>\n",
       "<tr><td>3.1202567</td></tr>\n",
       "<tr><td>2.8390584</td></tr>\n",
       "<tr><td>2.378856</td></tr>\n",
       "<tr><td>2.8964128</td></tr>\n",
       "<tr><td>3.1169882</td></tr>\n",
       "<tr><td>2.9648845</td></tr>\n",
       "<tr><td>3.0157733</td></tr>\n",
       "<tr><td>2.3753712</td></tr>\n",
       "<tr><td>2.6465511</td></tr>\n",
       "<tr><td>2.5137134</td></tr>\n",
       "<tr><td>2.5674179</td></tr>\n",
       "</table>"
      ],
      "text/plain": [
       "<Column name='BEST_MASS' dtype='float32' length=358>\n",
       "3.4112523\n",
       " 3.826866\n",
       "3.5705638\n",
       "3.1191373\n",
       "3.4402668\n",
       " 3.319657\n",
       "3.8409822\n",
       "3.5241745\n",
       " 3.919013\n",
       "3.4958994\n",
       "3.9561028\n",
       "4.1048217\n",
       "      ...\n",
       "3.4031377\n",
       "3.1202567\n",
       "2.8390584\n",
       " 2.378856\n",
       "2.8964128\n",
       "3.1169882\n",
       "2.9648845\n",
       "3.0157733\n",
       "2.3753712\n",
       "2.6465511\n",
       "2.5137134\n",
       "2.5674179"
      ]
     },
     "execution_count": 19,
     "metadata": {},
     "output_type": "execute_result"
    }
   ],
   "source": [
    "(apdata_good_phot6filts_logm[indBTM[0]])"
   ]
  },
  {
   "cell_type": "code",
   "execution_count": 20,
   "metadata": {
    "scrolled": true
   },
   "outputs": [
    {
     "data": {
      "text/plain": [
       "358"
      ]
     },
     "execution_count": 20,
     "metadata": {},
     "output_type": "execute_result"
    }
   ],
   "source": [
    "len(apdata_good_phot6filts['BEST_MASS'])"
   ]
  },
  {
   "cell_type": "code",
   "execution_count": 21,
   "metadata": {
    "scrolled": true
   },
   "outputs": [
    {
     "data": {
      "text/html": [
       "&lt;Column name=&apos;BEST_MASS&apos; dtype=&apos;float32&apos; length=358&gt;\n",
       "<table>\n",
       "<tr><td>3.4112523</td></tr>\n",
       "<tr><td>3.826866</td></tr>\n",
       "<tr><td>3.5705638</td></tr>\n",
       "<tr><td>3.1191373</td></tr>\n",
       "<tr><td>3.4402668</td></tr>\n",
       "<tr><td>3.319657</td></tr>\n",
       "<tr><td>3.8409822</td></tr>\n",
       "<tr><td>3.5241745</td></tr>\n",
       "<tr><td>3.919013</td></tr>\n",
       "<tr><td>3.4958994</td></tr>\n",
       "<tr><td>3.9561028</td></tr>\n",
       "<tr><td>4.1048217</td></tr>\n",
       "<tr><td>...</td></tr>\n",
       "<tr><td>3.4031377</td></tr>\n",
       "<tr><td>3.1202567</td></tr>\n",
       "<tr><td>2.8390584</td></tr>\n",
       "<tr><td>2.378856</td></tr>\n",
       "<tr><td>2.8964128</td></tr>\n",
       "<tr><td>3.1169882</td></tr>\n",
       "<tr><td>2.9648845</td></tr>\n",
       "<tr><td>3.0157733</td></tr>\n",
       "<tr><td>2.3753712</td></tr>\n",
       "<tr><td>2.6465511</td></tr>\n",
       "<tr><td>2.5137134</td></tr>\n",
       "<tr><td>2.5674179</td></tr>\n",
       "</table>"
      ],
      "text/plain": [
       "<Column name='BEST_MASS' dtype='float32' length=358>\n",
       "3.4112523\n",
       " 3.826866\n",
       "3.5705638\n",
       "3.1191373\n",
       "3.4402668\n",
       " 3.319657\n",
       "3.8409822\n",
       "3.5241745\n",
       " 3.919013\n",
       "3.4958994\n",
       "3.9561028\n",
       "4.1048217\n",
       "      ...\n",
       "3.4031377\n",
       "3.1202567\n",
       "2.8390584\n",
       " 2.378856\n",
       "2.8964128\n",
       "3.1169882\n",
       "2.9648845\n",
       "3.0157733\n",
       "2.3753712\n",
       "2.6465511\n",
       "2.5137134\n",
       "2.5674179"
      ]
     },
     "execution_count": 21,
     "metadata": {},
     "output_type": "execute_result"
    }
   ],
   "source": [
    "(apdata_good_phot6filts_logm[indBTM[0]])"
   ]
  },
  {
   "cell_type": "code",
   "execution_count": 22,
   "metadata": {},
   "outputs": [],
   "source": [
    "#Difference of the median of the Mass PDF & the previous mass apdata estimates for only CMD estimates in apdata\n",
    "diff_PDFMedian_m_apdata=(apdata_good_phot6filts_logm[indBTM[0]])-(mpercentiles[1][indBTM[0]])"
   ]
  },
  {
   "cell_type": "code",
   "execution_count": 23,
   "metadata": {},
   "outputs": [],
   "source": [
    "sorted_mPDF_apdataMedian=np.sort(diff_PDFMedian_m_apdata)\n",
    "diff_PDFMedian_m_apdata_25q=np.median(sorted_mPDF_apdataMedian[0:179])\n",
    "diff_PDFMedian_m_apdata_75q=np.median(sorted_mPDF_apdataMedian[180:358])\n"
   ]
  },
  {
   "cell_type": "code",
   "execution_count": 24,
   "metadata": {},
   "outputs": [
    {
     "data": {
      "text/plain": [
       "(0.006796239005779192, 0.21018679991525913, 0.4249072351077463)"
      ]
     },
     "execution_count": 24,
     "metadata": {},
     "output_type": "execute_result"
    }
   ],
   "source": [
    "#Diff. of median of  Mass PDF & previous mass apdata estimates for only CMD estimates in apdata\n",
    "#25 percentile, the median of the median of PDF - CMD Mass, and 75th percentile\n",
    "diff_PDFMedian_m_apdata_25q, np.median(diff_PDFMedian_m_apdata),diff_PDFMedian_m_apdata_75q"
   ]
  },
  {
   "cell_type": "code",
   "execution_count": 25,
   "metadata": {},
   "outputs": [
    {
     "data": {
      "text/plain": [
       "0.4181109961019671"
      ]
     },
     "execution_count": 25,
     "metadata": {},
     "output_type": "execute_result"
    }
   ],
   "source": [
    "#IQR for Difference of Mass PDF Median and apdata Age\n",
    "diff_PDFMedian_m_apdata_75q-diff_PDFMedian_m_apdata_25q"
   ]
  },
  {
   "cell_type": "code",
   "execution_count": 26,
   "metadata": {},
   "outputs": [
    {
     "data": {
      "text/plain": [
       "0.43445800887208486"
      ]
     },
     "execution_count": 26,
     "metadata": {},
     "output_type": "execute_result"
    }
   ],
   "source": [
    "#Standard Deviation of Mass model distributions\n",
    "mass_sigma=np.std(diff_PDFMedian_m_apdata)\n",
    "mass_sigma"
   ]
  },
  {
   "cell_type": "code",
   "execution_count": 27,
   "metadata": {},
   "outputs": [
    {
     "data": {
      "text/plain": [
       "(0.20339056090947993, 0.21472043519248718)"
      ]
     },
     "execution_count": 27,
     "metadata": {},
     "output_type": "execute_result"
    }
   ],
   "source": [
    "#Width of the mass distribution Median to p25\n",
    "Med_p25=np.median(diff_PDFMedian_m_apdata)-diff_PDFMedian_m_apdata_25q\n",
    "p75_Med=diff_PDFMedian_m_apdata_75q-np.median(diff_PDFMedian_m_apdata)\n",
    "Med_p25, p75_Med"
   ]
  },
  {
   "cell_type": "code",
   "execution_count": 28,
   "metadata": {
    "scrolled": true
   },
   "outputs": [
    {
     "data": {
      "text/html": [
       "&lt;Column name=&apos;BEST_AGE&apos; dtype=&apos;float32&apos; length=358&gt;\n",
       "<table>\n",
       "<tr><td>8.4</td></tr>\n",
       "<tr><td>8.5</td></tr>\n",
       "<tr><td>8.4</td></tr>\n",
       "<tr><td>7.2</td></tr>\n",
       "<tr><td>8.5</td></tr>\n",
       "<tr><td>7.5</td></tr>\n",
       "<tr><td>8.1</td></tr>\n",
       "<tr><td>8.2</td></tr>\n",
       "<tr><td>8.2</td></tr>\n",
       "<tr><td>8.2</td></tr>\n",
       "<tr><td>8.4</td></tr>\n",
       "<tr><td>8.2</td></tr>\n",
       "<tr><td>...</td></tr>\n",
       "<tr><td>6.6</td></tr>\n",
       "<tr><td>8.8</td></tr>\n",
       "<tr><td>8.0</td></tr>\n",
       "<tr><td>6.7</td></tr>\n",
       "<tr><td>8.3</td></tr>\n",
       "<tr><td>7.3</td></tr>\n",
       "<tr><td>7.7</td></tr>\n",
       "<tr><td>8.0</td></tr>\n",
       "<tr><td>7.0</td></tr>\n",
       "<tr><td>6.8</td></tr>\n",
       "<tr><td>8.1</td></tr>\n",
       "<tr><td>7.7</td></tr>\n",
       "</table>"
      ],
      "text/plain": [
       "<Column name='BEST_AGE' dtype='float32' length=358>\n",
       "8.4\n",
       "8.5\n",
       "8.4\n",
       "7.2\n",
       "8.5\n",
       "7.5\n",
       "8.1\n",
       "8.2\n",
       "8.2\n",
       "8.2\n",
       "8.4\n",
       "8.2\n",
       "...\n",
       "6.6\n",
       "8.8\n",
       "8.0\n",
       "6.7\n",
       "8.3\n",
       "7.3\n",
       "7.7\n",
       "8.0\n",
       "7.0\n",
       "6.8\n",
       "8.1\n",
       "7.7"
      ]
     },
     "execution_count": 28,
     "metadata": {},
     "output_type": "execute_result"
    }
   ],
   "source": [
    "apdata_good_phot6filts['BEST_AGE']"
   ]
  },
  {
   "cell_type": "code",
   "execution_count": 29,
   "metadata": {
    "scrolled": true
   },
   "outputs": [
    {
     "data": {
      "text/html": [
       "&lt;Column name=&apos;BEST_AGE&apos; dtype=&apos;float32&apos; length=358&gt;\n",
       "<table>\n",
       "<tr><td>8.4</td></tr>\n",
       "<tr><td>8.5</td></tr>\n",
       "<tr><td>8.4</td></tr>\n",
       "<tr><td>7.2</td></tr>\n",
       "<tr><td>8.5</td></tr>\n",
       "<tr><td>7.5</td></tr>\n",
       "<tr><td>8.1</td></tr>\n",
       "<tr><td>8.2</td></tr>\n",
       "<tr><td>8.2</td></tr>\n",
       "<tr><td>8.2</td></tr>\n",
       "<tr><td>8.4</td></tr>\n",
       "<tr><td>8.2</td></tr>\n",
       "<tr><td>...</td></tr>\n",
       "<tr><td>6.6</td></tr>\n",
       "<tr><td>8.8</td></tr>\n",
       "<tr><td>8.0</td></tr>\n",
       "<tr><td>6.7</td></tr>\n",
       "<tr><td>8.3</td></tr>\n",
       "<tr><td>7.3</td></tr>\n",
       "<tr><td>7.7</td></tr>\n",
       "<tr><td>8.0</td></tr>\n",
       "<tr><td>7.0</td></tr>\n",
       "<tr><td>6.8</td></tr>\n",
       "<tr><td>8.1</td></tr>\n",
       "<tr><td>7.7</td></tr>\n",
       "</table>"
      ],
      "text/plain": [
       "<Column name='BEST_AGE' dtype='float32' length=358>\n",
       "8.4\n",
       "8.5\n",
       "8.4\n",
       "7.2\n",
       "8.5\n",
       "7.5\n",
       "8.1\n",
       "8.2\n",
       "8.2\n",
       "8.2\n",
       "8.4\n",
       "8.2\n",
       "...\n",
       "6.6\n",
       "8.8\n",
       "8.0\n",
       "6.7\n",
       "8.3\n",
       "7.3\n",
       "7.7\n",
       "8.0\n",
       "7.0\n",
       "6.8\n",
       "8.1\n",
       "7.7"
      ]
     },
     "execution_count": 29,
     "metadata": {},
     "output_type": "execute_result"
    }
   ],
   "source": [
    "apdata_good_phot6filts_logt[indBTM[0]]"
   ]
  },
  {
   "cell_type": "code",
   "execution_count": 30,
   "metadata": {},
   "outputs": [],
   "source": [
    "#Difference of the median of the Age PDF & the previous age apdata estimates for only CMD estimates in apdata\n",
    "diff_PDFMedian_t_apdata=(apdata_good_phot6filts_logt[indBTM[0]])-(tpercentiles[1][indBTM[0]])"
   ]
  },
  {
   "cell_type": "code",
   "execution_count": 31,
   "metadata": {},
   "outputs": [],
   "source": [
    "#Finding the 25th, 75th standard deviation from diff of age PDF median minus apdata age. \n",
    "sorted_tPDF_apdataMedian=np.sort(diff_PDFMedian_t_apdata)\n",
    "diff_PDFMedian_t_apdata_25q=np.median(sorted_tPDF_apdataMedian[0:179])\n",
    "diff_PDFMedian_t_apdata_75q=np.median(sorted_tPDF_apdataMedian[180:358])"
   ]
  },
  {
   "cell_type": "code",
   "execution_count": 32,
   "metadata": {},
   "outputs": [
    {
     "data": {
      "text/plain": [
       "(-0.09370042341138074, 0.24724398779235468, 0.5149609458955426)"
      ]
     },
     "execution_count": 32,
     "metadata": {},
     "output_type": "execute_result"
    }
   ],
   "source": [
    "#Diff. of median of  Age PDF & previous Age apdata estimates for only CMD estimates in apdata\n",
    "#25 percentile, the median of the median of PDF - CMD Age, and 75th percentile\n",
    "diff_PDFMedian_t_apdata_25q, np.median(diff_PDFMedian_t_apdata), diff_PDFMedian_t_apdata_75q"
   ]
  },
  {
   "cell_type": "code",
   "execution_count": 33,
   "metadata": {},
   "outputs": [
    {
     "data": {
      "text/plain": [
       "0.6086613693069234"
      ]
     },
     "execution_count": 33,
     "metadata": {},
     "output_type": "execute_result"
    }
   ],
   "source": [
    "#IQR for Difference of Age PDF Median and apdata Age\n",
    "AgeIQR=diff_PDFMedian_t_apdata_75q-diff_PDFMedian_t_apdata_25q\n",
    "AgeIQR"
   ]
  },
  {
   "cell_type": "code",
   "execution_count": 34,
   "metadata": {},
   "outputs": [
    {
     "data": {
      "text/plain": [
       "0.6043932469502526"
      ]
     },
     "execution_count": 34,
     "metadata": {},
     "output_type": "execute_result"
    }
   ],
   "source": [
    "#standard deviation from diff of age PDF median minus apdata age\n",
    "age_sigma=np.std(diff_PDFMedian_t_apdata)\n",
    "age_sigma"
   ]
  },
  {
   "cell_type": "code",
   "execution_count": 35,
   "metadata": {
    "scrolled": true
   },
   "outputs": [
    {
     "data": {
      "text/html": [
       "&lt;Column name=&apos;CMD_AV_BEST&apos; dtype=&apos;float32&apos; length=358&gt;\n",
       "<table>\n",
       "<tr><td>0.45</td></tr>\n",
       "<tr><td>0.5</td></tr>\n",
       "<tr><td>0.75</td></tr>\n",
       "<tr><td>0.7</td></tr>\n",
       "<tr><td>0.5</td></tr>\n",
       "<tr><td>0.5</td></tr>\n",
       "<tr><td>1.75</td></tr>\n",
       "<tr><td>0.3</td></tr>\n",
       "<tr><td>1.1</td></tr>\n",
       "<tr><td>0.35</td></tr>\n",
       "<tr><td>0.6</td></tr>\n",
       "<tr><td>1.35</td></tr>\n",
       "<tr><td>...</td></tr>\n",
       "<tr><td>0.75</td></tr>\n",
       "<tr><td>0.2</td></tr>\n",
       "<tr><td>0.7</td></tr>\n",
       "<tr><td>0.85</td></tr>\n",
       "<tr><td>0.65</td></tr>\n",
       "<tr><td>2.05</td></tr>\n",
       "<tr><td>0.8</td></tr>\n",
       "<tr><td>1.25</td></tr>\n",
       "<tr><td>0.7</td></tr>\n",
       "<tr><td>1.35</td></tr>\n",
       "<tr><td>0.35</td></tr>\n",
       "<tr><td>0.75</td></tr>\n",
       "</table>"
      ],
      "text/plain": [
       "<Column name='CMD_AV_BEST' dtype='float32' length=358>\n",
       "0.45\n",
       " 0.5\n",
       "0.75\n",
       " 0.7\n",
       " 0.5\n",
       " 0.5\n",
       "1.75\n",
       " 0.3\n",
       " 1.1\n",
       "0.35\n",
       " 0.6\n",
       "1.35\n",
       " ...\n",
       "0.75\n",
       " 0.2\n",
       " 0.7\n",
       "0.85\n",
       "0.65\n",
       "2.05\n",
       " 0.8\n",
       "1.25\n",
       " 0.7\n",
       "1.35\n",
       "0.35\n",
       "0.75"
      ]
     },
     "execution_count": 35,
     "metadata": {},
     "output_type": "execute_result"
    }
   ],
   "source": [
    "(apdata_good_phot6filts['CMD_AV_BEST'])"
   ]
  },
  {
   "cell_type": "code",
   "execution_count": 36,
   "metadata": {
    "scrolled": true
   },
   "outputs": [
    {
     "data": {
      "text/html": [
       "&lt;Column name=&apos;CMD_AV_BEST&apos; dtype=&apos;float32&apos; length=358&gt;\n",
       "<table>\n",
       "<tr><td>0.45</td></tr>\n",
       "<tr><td>0.5</td></tr>\n",
       "<tr><td>0.75</td></tr>\n",
       "<tr><td>0.7</td></tr>\n",
       "<tr><td>0.5</td></tr>\n",
       "<tr><td>0.5</td></tr>\n",
       "<tr><td>1.75</td></tr>\n",
       "<tr><td>0.3</td></tr>\n",
       "<tr><td>1.1</td></tr>\n",
       "<tr><td>0.35</td></tr>\n",
       "<tr><td>0.6</td></tr>\n",
       "<tr><td>1.35</td></tr>\n",
       "<tr><td>...</td></tr>\n",
       "<tr><td>0.75</td></tr>\n",
       "<tr><td>0.2</td></tr>\n",
       "<tr><td>0.7</td></tr>\n",
       "<tr><td>0.85</td></tr>\n",
       "<tr><td>0.65</td></tr>\n",
       "<tr><td>2.05</td></tr>\n",
       "<tr><td>0.8</td></tr>\n",
       "<tr><td>1.25</td></tr>\n",
       "<tr><td>0.7</td></tr>\n",
       "<tr><td>1.35</td></tr>\n",
       "<tr><td>0.35</td></tr>\n",
       "<tr><td>0.75</td></tr>\n",
       "</table>"
      ],
      "text/plain": [
       "<Column name='CMD_AV_BEST' dtype='float32' length=358>\n",
       "0.45\n",
       " 0.5\n",
       "0.75\n",
       " 0.7\n",
       " 0.5\n",
       " 0.5\n",
       "1.75\n",
       " 0.3\n",
       " 1.1\n",
       "0.35\n",
       " 0.6\n",
       "1.35\n",
       " ...\n",
       "0.75\n",
       " 0.2\n",
       " 0.7\n",
       "0.85\n",
       "0.65\n",
       "2.05\n",
       " 0.8\n",
       "1.25\n",
       " 0.7\n",
       "1.35\n",
       "0.35\n",
       "0.75"
      ]
     },
     "execution_count": 36,
     "metadata": {},
     "output_type": "execute_result"
    }
   ],
   "source": [
    "(apdata_good_phot6filts_logx[indBTM[0]])"
   ]
  },
  {
   "cell_type": "code",
   "execution_count": 37,
   "metadata": {},
   "outputs": [],
   "source": [
    "#Difference of the median of the A_v PDF & the previous A_v apdata estimates for only CMD estimates in apdata\n",
    "diff_PDFMedian_x_apdata=(apdata_good_phot6filts_logx[indBTM[0]])-(xpercentiles[1][indBTM[0]])"
   ]
  },
  {
   "cell_type": "code",
   "execution_count": 38,
   "metadata": {},
   "outputs": [],
   "source": [
    "#Finding the 25th, 75th standard deviation from diff of A_v PDF median minus apdata A_v. \n",
    "sorted_xPDF_apdataMedian=np.sort(diff_PDFMedian_x_apdata)\n",
    "diff_PDFMedian_x_apdata_25q=np.median(sorted_xPDF_apdataMedian[0:179])\n",
    "diff_PDFMedian_x_apdata_75q=np.median(sorted_xPDF_apdataMedian[180:358])"
   ]
  },
  {
   "cell_type": "code",
   "execution_count": 39,
   "metadata": {},
   "outputs": [
    {
     "data": {
      "text/plain": [
       "(-0.35583440800717603, -0.05784661949817854, 0.34905225934640216)"
      ]
     },
     "execution_count": 39,
     "metadata": {},
     "output_type": "execute_result"
    }
   ],
   "source": [
    "#Diff. of median of  A_v PDF & previous A_v apdata estimates for only CMD estimates in apdata\n",
    "#25 percentile, the median of the median of PDF - CMD A_v, and 75th percentile\n",
    "diff_PDFMedian_x_apdata_25q, np.median(diff_PDFMedian_x_apdata), diff_PDFMedian_x_apdata_75q"
   ]
  },
  {
   "cell_type": "code",
   "execution_count": 40,
   "metadata": {},
   "outputs": [
    {
     "data": {
      "text/plain": [
       "0.7048866673535782"
      ]
     },
     "execution_count": 40,
     "metadata": {},
     "output_type": "execute_result"
    }
   ],
   "source": [
    "#IQR for Difference of A_v PDF Median and apdata A_v\n",
    "A_vIQR=diff_PDFMedian_x_apdata_75q-diff_PDFMedian_x_apdata_25q\n",
    "A_vIQR"
   ]
  },
  {
   "cell_type": "code",
   "execution_count": 41,
   "metadata": {},
   "outputs": [
    {
     "data": {
      "text/plain": [
       "0.6041388088332948"
      ]
     },
     "execution_count": 41,
     "metadata": {},
     "output_type": "execute_result"
    }
   ],
   "source": [
    "#standard deviation from diff of age PDF median minus apdata age\n",
    "A_v_sigma=np.std(diff_PDFMedian_x_apdata)\n",
    "A_v_sigma"
   ]
  },
  {
   "cell_type": "code",
   "execution_count": 42,
   "metadata": {},
   "outputs": [
    {
     "data": {
      "image/png": "[encoded data removed]",
      "text/plain": [
       "<Figure size 432x288 with 2 Axes>"
      ]
     },
     "metadata": {
      "needs_background": "light"
     },
     "output_type": "display_data"
    }
   ],
   "source": [
    "#X=np.arange(-1.5,3,0.5)\n",
    "#plt.plot(X,X,'k--')\n",
    "#plt.scatter(mpercentiles[1][indBTM[0]],diff_PDFMedian_m_apdata, color='dodgerblue')\n",
    "#plt.ylim(1.9,5)\n",
    "#plt.xlim(1.8,6.5)\n",
    "#plt.ylabel('MassPDF_Median-Previous Est.', fontsize=13)\n",
    "#plt.xlabel('Previous Log Mass Estimates', fontsize=13);\n",
    "\n",
    "\n",
    "x=np.arange(2,5,0.5)\n",
    "ax=plt.subplot()\n",
    "plt.subplot(1,2,1)\n",
    "plt.scatter(mpercentiles[1][indBTM[0]],diff_PDFMedian_m_apdata, color='steelblue')\n",
    "plt.plot(x,np.median(diff_PDFMedian_m_apdata)*np.ones(6),'k--',lw=2)\n",
    "plt.plot(x,diff_PDFMedian_m_apdata_25q*np.ones(6),'b--',lw=2)\n",
    "plt.plot(x,diff_PDFMedian_m_apdata_75q*np.ones(6),'r--',lw=2)\n",
    "plt.ylabel('LogMassSLUG - LogMassCMD', fontsize=13)\n",
    "plt.xlabel('Previous Log Mass Estimates', fontsize=13);\n",
    "\n",
    "\n",
    "plt.subplot(1,2,2)\n",
    "a=np.arange(0,180,1)\n",
    "plt.hist(diff_PDFMedian_m_apdata, orientation='horizontal',histtype='step',lw=2,color='steelblue')\n",
    "plt.plot(a,np.median(diff_PDFMedian_m_apdata)*np.ones(180),'k--',lw=2,label='Median')\n",
    "plt.plot(a,diff_PDFMedian_m_apdata_25q*np.ones(180),'b--',lw=2,label='25th percentile')\n",
    "plt.plot(a,diff_PDFMedian_m_apdata_75q*np.ones(180),'r--',lw=2,label='75th percentile')\n",
    "plt.xlabel('Clusters',fontsize=13)\n",
    "plt.yticks([])\n",
    "plt.legend()\n",
    "\n",
    "plt.subplots_adjust(hspace=0.4, wspace=0, bottom=0.5, top=1.2, right=1.3)\n",
    "plt.savefig('/Volumes/My_Passport_for_Mac/M33_M31_LGCS_Files/M31-Andromeda/Model_Comparison_Files/SlugPDF-CMDMassEst_vs_CMDMassEst_4filts.pdf')"
   ]
  },
  {
   "cell_type": "code",
   "execution_count": 43,
   "metadata": {},
   "outputs": [
    {
     "data": {
      "image/png": "[encoded data removed]",
      "text/plain": [
       "<Figure size 432x288 with 2 Axes>"
      ]
     },
     "metadata": {
      "needs_background": "light"
     },
     "output_type": "display_data"
    }
   ],
   "source": [
    "#plt.subplot(2,2,3)\n",
    "Y=np.arange(6,10,0.5)\n",
    "ax=plt.subplot()\n",
    "plt.subplot(1,2,1)\n",
    "plt.scatter(tpercentiles[1][indBTM[0]],diff_PDFMedian_t_apdata, color='steelblue')\n",
    "plt.plot(Y,np.median(diff_PDFMedian_t_apdata)*np.ones(8),'k--',lw=2)\n",
    "plt.plot(Y,diff_PDFMedian_t_apdata_25q*np.ones(8),'b--',lw=2)\n",
    "plt.plot(Y,diff_PDFMedian_t_apdata_75q*np.ones(8),'r--',lw=2)\n",
    "plt.ylabel('LogAgeSLUG - LogAgeCMD', fontsize=13)\n",
    "plt.xlabel('Previous Log Age Estimates', fontsize=13);\n",
    "\n",
    "plt.subplot(1,2,2)\n",
    "b=np.arange(0,180,1)\n",
    "plt.hist(diff_PDFMedian_t_apdata, orientation='horizontal',histtype='step',lw=2,color='steelblue')\n",
    "plt.plot(b,np.median(diff_PDFMedian_t_apdata)*np.ones(180),'k--',lw=2,label='Median')\n",
    "plt.plot(b,diff_PDFMedian_t_apdata_25q*np.ones(180),'b--',lw=2,label='25th percentile')\n",
    "plt.plot(b,diff_PDFMedian_t_apdata_75q*np.ones(180),'r--',lw=2,label='75th percentile')\n",
    "plt.xlabel('Clusters',fontsize=13)\n",
    "plt.yticks([])\n",
    "plt.legend()\n",
    "plt.xlabel('Clusters', fontsize=13);\n",
    "\n",
    "plt.subplots_adjust(hspace=0.4, wspace=0, bottom=0.5, top=1.2, right=1.3)\n",
    "plt.savefig('/Volumes/My_Passport_for_Mac/M33_M31_LGCS_Files/M31-Andromeda/Model_Comparison_Files/SlugPDF-CMDAgeEst_vs_CMDAgeEst_4filts.pdf')\n"
   ]
  },
  {
   "cell_type": "code",
   "execution_count": 44,
   "metadata": {},
   "outputs": [
    {
     "data": {
      "image/png": "[encoded data removed]",
      "text/plain": [
       "<Figure size 432x288 with 2 Axes>"
      ]
     },
     "metadata": {
      "needs_background": "light"
     },
     "output_type": "display_data"
    }
   ],
   "source": [
    "#plt.subplot(2,2,3)\n",
    "Z=np.arange(0,3,0.5)\n",
    "ax=plt.subplot()\n",
    "plt.subplot(1,2,1)\n",
    "plt.scatter(xpercentiles[1][indBTM[0]],diff_PDFMedian_x_apdata, color='steelblue')\n",
    "plt.plot(Z,np.median(diff_PDFMedian_x_apdata)*np.ones(6),'k--',lw=2)\n",
    "plt.plot(Z,diff_PDFMedian_x_apdata_25q*np.ones(6),'b--',lw=2)\n",
    "plt.plot(Z,diff_PDFMedian_x_apdata_75q*np.ones(6),'r--',lw=2)\n",
    "plt.ylabel('Log$A_v$SLUG - Log$A_v$CMD', fontsize=13)\n",
    "plt.xlabel('Previous $A_v$ Estimates', fontsize=13);\n",
    "\n",
    "plt.subplot(1,2,2)\n",
    "c=np.arange(0,120,1)\n",
    "plt.hist(diff_PDFMedian_x_apdata, orientation='horizontal',histtype='step',lw=2,color='steelblue')\n",
    "plt.plot(c,np.median(diff_PDFMedian_x_apdata)*np.ones(120),'k--',lw=2,label='Median')\n",
    "plt.plot(c,diff_PDFMedian_x_apdata_25q*np.ones(120),'b--',lw=2,label='25th percentile')\n",
    "plt.plot(c,diff_PDFMedian_x_apdata_75q*np.ones(120),'r--',lw=2,label='75th percentile')\n",
    "plt.xlabel('Clusters',fontsize=13)\n",
    "plt.yticks([])\n",
    "plt.legend()\n",
    "plt.xlabel('Clusters', fontsize=13);\n",
    "\n",
    "plt.subplots_adjust(hspace=0.4, wspace=0, bottom=0.5, top=1.2, right=1.3)\n",
    "plt.savefig('/Volumes/My_Passport_for_Mac/M33_M31_LGCS_Files/M31-Andromeda/Model_Comparison_Files/SlugPDF-CMDA_vEst_vs_CMDA_vEst_4filts.pdf')\n"
   ]
  },
  {
   "cell_type": "code",
   "execution_count": 45,
   "metadata": {},
   "outputs": [
    {
     "data": {
      "text/plain": [
       "(6.9763780662672605, 8.173228217809513)"
      ]
     },
     "execution_count": 45,
     "metadata": {},
     "output_type": "execute_result"
    }
   ],
   "source": [
    "sorted_ageMedian=np.sort(tpercentiles[1][indBTM[0]])\n",
    "MedAgequartile_75th=np.median(sorted_ageMedian[180:358])\n",
    "MedAgequartile_25th=np.median(sorted_ageMedian[0:179])\n",
    "MedAgequartile_25th, MedAgequartile_75th"
   ]
  },
  {
   "cell_type": "code",
   "execution_count": 46,
   "metadata": {},
   "outputs": [
    {
     "data": {
      "text/plain": [
       "(2.6613945350775348, 3.287348814634943)"
      ]
     },
     "execution_count": 46,
     "metadata": {},
     "output_type": "execute_result"
    }
   ],
   "source": [
    "sorted_massMedian=np.sort(mpercentiles[1][indBTM[0]])\n",
    "MedMassquartile_75th=np.median(sorted_massMedian[180:358])\n",
    "MedMassquartile_25th=np.median(sorted_massMedian[0:179])\n",
    "MedMassquartile_25th, MedMassquartile_75th"
   ]
  },
  {
   "cell_type": "code",
   "execution_count": 47,
   "metadata": {},
   "outputs": [],
   "source": [
    "m1_matches=(matches[:,:1])\n",
    "t1_matches=matches[:,1:2]"
   ]
  },
  {
   "cell_type": "code",
   "execution_count": 48,
   "metadata": {},
   "outputs": [
    {
     "data": {
      "image/png": "[encoded data removed]",
      "text/plain": [
       "<Figure size 432x288 with 4 Axes>"
      ]
     },
     "metadata": {
      "needs_background": "light"
     },
     "output_type": "display_data"
    }
   ],
   "source": [
    "#Here we are comparing previous estimates of M31 Cluster Ages, Masses, and Extinction to the generated SLUG Best \n",
    "#Match models, and the PDFs 25th, median(50th), and 75th percentiles. \n",
    "\n",
    "plt.subplot(2,2,1)\n",
    "X=np.arange(2,5.5,0.5)\n",
    "plt.plot(X,X,'k--')\n",
    "plt.scatter(apdata_good_phot6filts['BEST_MASS'],mpercentiles[1][indBTM[0]], color='dodgerblue')\n",
    "plt.ylim(1.7,5.6)\n",
    "plt.xlim(1.8,6.5)\n",
    "plt.ylabel('SLUG Mass PDF Median', fontsize=13)\n",
    "plt.xlabel('Previous Log Mass Estimates', fontsize=13);\n",
    "\n",
    "\n",
    "plt.subplot(2,2,2)\n",
    "X=np.arange(2,5.5,0.5)\n",
    "plt.plot(X,X,'k--')\n",
    "plt.scatter(apdata_good_phot6filts['BEST_MASS'], m1_matches[indBTM[0]],color='dodgerblue')\n",
    "plt.ylim(1.7,5.6)\n",
    "plt.xlim(1.8,6.5)\n",
    "plt.ylabel('SLUG Mass Best_Match', fontsize=13)\n",
    "plt.xlabel('Previous Log Mass Estimates', fontsize=13);\n",
    "\n",
    "\n",
    "plt.subplot(2,2,3)\n",
    "Y=np.arange(6,10,0.5)\n",
    "plt.plot(Y,Y,'k--')\n",
    "plt.scatter(apdata_good_phot6filts['BEST_AGE'],tpercentiles[1][indBTM[0]],color='dodgerblue')\n",
    "plt.ylim(5.7,9.3)\n",
    "plt.xlim(6.2,10)\n",
    "plt.ylabel('SLUG Age PDF Median', fontsize=13)\n",
    "plt.xlabel('Previous Log Age Estimates', fontsize=13);\n",
    "\n",
    "\n",
    "plt.subplot(2,2,4)\n",
    "Y=np.arange(6,10,0.5)\n",
    "plt.plot(Y,Y,'k--')\n",
    "plt.scatter(apdata_good_phot6filts['BEST_AGE'], t1_matches[indBTM[0]],color='dodgerblue')\n",
    "plt.ylim(5.7,9.3)\n",
    "plt.xlim(6.2,10)\n",
    "plt.ylabel('SLUG Age Best_Match', fontsize=13)\n",
    "plt.xlabel('Previous Log Age Estimates', fontsize=13);\n",
    "\n",
    "\n",
    "plt.savefig('SLUG PDF Median & SLUG Best Match vs Previous Log Mass & Age Estimates.png')\n",
    "\n",
    "plt.subplots_adjust(hspace=0.3, wspace=0.3, bottom=0.5, top=2, right=1.5)"
   ]
  },
  {
   "cell_type": "code",
   "execution_count": 17,
   "metadata": {},
   "outputs": [],
   "source": [
    "y=np.linspace(0,10000000,10000000)"
   ]
  },
  {
   "cell_type": "code",
   "execution_count": 18,
   "metadata": {},
   "outputs": [
    {
     "data": {
      "text/plain": [
       "10000000"
      ]
     },
     "execution_count": 18,
     "metadata": {},
     "output_type": "execute_result"
    }
   ],
   "source": [
    "len(y)"
   ]
  },
  {
   "cell_type": "code",
   "execution_count": 19,
   "metadata": {},
   "outputs": [
    {
     "data": {
      "text/plain": [
       "astropy.table.column.Column"
      ]
     },
     "execution_count": 19,
     "metadata": {},
     "output_type": "execute_result"
    }
   ],
   "source": [
    "type(LEGUS_PHAT_PadKroupa_prop['A_V'])"
   ]
  },
  {
   "cell_type": "code",
   "execution_count": 14,
   "metadata": {
    "scrolled": true
   },
   "outputs": [
    {
     "data": {
      "text/plain": [
       "numpy.ndarray"
      ]
     },
     "execution_count": 14,
     "metadata": {},
     "output_type": "execute_result"
    }
   ],
   "source": [
    "sorted_SLUG_Av=np.array(np.sort(LEGUS_PHAT_PadKroupa_prop['A_V']))\n",
    "type(sorted_SLUG_Av)"
   ]
  },
  {
   "cell_type": "code",
   "execution_count": 39,
   "metadata": {},
   "outputs": [
    {
     "data": {
      "text/plain": [
       "ModeResult(mode=array([0.0167577]), count=array([1]))"
      ]
     },
     "execution_count": 39,
     "metadata": {},
     "output_type": "execute_result"
    }
   ],
   "source": [
    "stats.mode(list(LEGUS_PHAT_PadKroupa_prop['A_V']))"
   ]
  },
  {
   "cell_type": "code",
   "execution_count": 37,
   "metadata": {},
   "outputs": [
    {
     "data": {
      "text/plain": [
       "10000000"
      ]
     },
     "execution_count": 37,
     "metadata": {},
     "output_type": "execute_result"
    }
   ],
   "source": [
    "len(sorted_SLUG_Av)"
   ]
  },
  {
   "cell_type": "code",
   "execution_count": 43,
   "metadata": {},
   "outputs": [
    {
     "data": {
      "text/plain": [
       "10000"
      ]
     },
     "execution_count": 43,
     "metadata": {},
     "output_type": "execute_result"
    }
   ],
   "source": [
    "split_sorted_SLUG_Av=np.array_split(sorted_SLUG_Av, 1000)\n",
    "len(split_sorted_SLUG_Av[2])"
   ]
  },
  {
   "cell_type": "code",
   "execution_count": null,
   "metadata": {},
   "outputs": [],
   "source": []
  },
  {
   "cell_type": "code",
   "execution_count": null,
   "metadata": {},
   "outputs": [],
   "source": [
    "for i in range(len(split_sorted_SLUG_Av)):\n",
    "    plt.bar(split_sorted_SLUG_Av[i],10000)"
   ]
  },
  {
   "cell_type": "code",
   "execution_count": 40,
   "metadata": {},
   "outputs": [
    {
     "data": {
      "text/plain": [
       "1"
      ]
     },
     "execution_count": 40,
     "metadata": {},
     "output_type": "execute_result"
    }
   ],
   "source": [
    "len(np.where(LEGUS_PHAT_PadKroupa_prop['A_V']<=0.5))"
   ]
  },
  {
   "cell_type": "code",
   "execution_count": 30,
   "metadata": {},
   "outputs": [
    {
     "data": {
      "text/plain": [
       "Text(0.5, 0, 'A_v')"
      ]
     },
     "execution_count": 30,
     "metadata": {},
     "output_type": "execute_result"
    },
    {
     "data": {
      "image/png": "[encoded data removed]",
      "text/plain": [
       "<Figure size 432x288 with 1 Axes>"
      ]
     },
     "metadata": {
      "needs_background": "light"
     },
     "output_type": "display_data"
    }
   ],
   "source": [
    "plt.hist(sorted_SLUG_Av,bins=1000) \n",
    "plt.xlim(-0.3,3)\n",
    "plt.ylabel('Clusters',fontsize=14)\n",
    "plt.xlabel('A_v',fontsize=14)"
   ]
  },
  {
   "cell_type": "code",
   "execution_count": 3,
   "metadata": {},
   "outputs": [
    {
     "data": {
      "text/plain": [
       "Text(0.5, 0, 'A_v')"
      ]
     },
     "execution_count": 3,
     "metadata": {},
     "output_type": "execute_result"
    },
    {
     "data": {
      "image/png": "[encoded data removed]",
      "text/plain": [
       "<Figure size 432x288 with 1 Axes>"
      ]
     },
     "metadata": {
      "needs_background": "light"
     },
     "output_type": "display_data"
    }
   ],
   "source": [
    "plt.hist(LEGUS_PHAT_PadKroupa_prop['A_V'],bins=800) \n",
    "plt.xlim(-0.3,3)\n",
    "plt.ylabel('Clusters',fontsize=14)\n",
    "plt.xlabel('A_v',fontsize=14)"
   ]
  },
  {
   "cell_type": "code",
   "execution_count": 15,
   "metadata": {},
   "outputs": [
    {
     "data": {
      "text/plain": [
       "Text(0.5, 0, 'A_v')"
      ]
     },
     "execution_count": 15,
     "metadata": {},
     "output_type": "execute_result"
    },
    {
     "data": {
      "image/png": "[encoded data removed]",
      "text/plain": [
       "<Figure size 432x288 with 1 Axes>"
      ]
     },
     "metadata": {
      "needs_background": "light"
     },
     "output_type": "display_data"
    }
   ],
   "source": [
    "plt.hist(LEGUS_PHAT_PadKroupa_prop['A_V'],bins=7800)\n",
    "plt.xlim(-0.3,3,0.2)\n",
    "plt.ylabel('Clusters',fontsize=14)\n",
    "plt.xlabel('A_v',fontsize=14)"
   ]
  },
  {
   "cell_type": "code",
   "execution_count": 14,
   "metadata": {},
   "outputs": [
    {
     "data": {
      "text/plain": [
       "list"
      ]
     },
     "execution_count": 14,
     "metadata": {},
     "output_type": "execute_result"
    }
   ],
   "source": [
    "SLUG_Av=(list(LEGUS_PHAT_PadKroupa_prop['A_V']))\n",
    "type(SLUG_Av)"
   ]
  },
  {
   "cell_type": "code",
   "execution_count": 82,
   "metadata": {},
   "outputs": [
    {
     "data": {
      "text/plain": [
       "(0.01675770387329732, 49.39242355901861)"
      ]
     },
     "execution_count": 82,
     "metadata": {},
     "output_type": "execute_result"
    }
   ],
   "source": [
    "A,B"
   ]
  },
  {
   "cell_type": "code",
   "execution_count": 63,
   "metadata": {},
   "outputs": [],
   "source": [
    "A=min(LEGUS_PHAT_PadKroupa_prop['A_V'])\n",
    "B=max(LEGUS_PHAT_PadKroupa_prop['A_V'])\n",
    "a=0\n",
    "b=1"
   ]
  },
  {
   "cell_type": "code",
   "execution_count": 64,
   "metadata": {},
   "outputs": [],
   "source": [
    "#Normalizing extincition values from SLUG models\n",
    "norm_SLUG_Av=[]\n",
    "for i in range(10000000):\n",
    "    Av=a+((SLUG_Av[i]-A)*(b-a)/(B-A))\n",
    "    norm_SLUG_Av.append(Av)"
   ]
  },
  {
   "cell_type": "code",
   "execution_count": 65,
   "metadata": {},
   "outputs": [
    {
     "data": {
      "text/plain": [
       "[0.018552728558602148,\n",
       " 0.016706182759473907,\n",
       " 0.02293198886795852,\n",
       " 0.10036574615034666,\n",
       " 0.02215472531445598,\n",
       " 0.009163855566390707,\n",
       " 0.02567218340498082,\n",
       " 0.01231481802831885,\n",
       " 0.02736436412256542,\n",
       " 0.022164918168932075,\n",
       " 0.011878615087333516,\n",
       " 0.006487189587913463,\n",
       " 0.011301892648596237,\n",
       " 0.019100098864337483,\n",
       " 0.01788976106751009,\n",
       " 0.014193799556194108,\n",
       " 0.017488394431355324,\n",
       " 0.02107408529169828,\n",
       " 0.005141468027800531,\n",
       " 0.017792189045939363,\n",
       " 0.0058763565296855984,\n",
       " 0.02377596557199073,\n",
       " 0.010033741229051107,\n",
       " 0.004666376636003693,\n",
       " 0.019141377942921332,\n",
       " 0.019634231517379235,\n",
       " 0.05223909679338729,\n",
       " 0.05854070534511131,\n",
       " 0.013574376501376596,\n",
       " 0.026235411021441918,\n",
       " 0.0687557344799284,\n",
       " 0.05064832136231142,\n",
       " 0.033794373826322784,\n",
       " 0.02642174591211713,\n",
       " 0.01763421331691591,\n",
       " 0.029042889467816153,\n",
       " 0.038017754315400325,\n",
       " 0.03455150673598575,\n",
       " 0.005233399122668108,\n",
       " 0.021053967658670555,\n",
       " 0.03523075700847737,\n",
       " 0.025908122454495724,\n",
       " 0.045591674846658596,\n",
       " 0.010348962533114178,\n",
       " 0.005029497398755085,\n",
       " 0.013828072247873349,\n",
       " 0.010956447834999335,\n",
       " 0.032543086303749046,\n",
       " 0.018995708195433916,\n",
       " 0.02876165834381083,\n",
       " 0.030499460988469233,\n",
       " 0.016668894257866877,\n",
       " 0.05731414197459851,\n",
       " 0.08272173943433928,\n",
       " 0.04080474037353046,\n",
       " 0.005310425017567484,\n",
       " 0.016489539133638122,\n",
       " 0.016133842464106523,\n",
       " 0.01563921999249163,\n",
       " 0.03561530811666515,\n",
       " 0.014692880962699557,\n",
       " 0.010578681636731535,\n",
       " 0.021540669188183075,\n",
       " 0.04535829152763594,\n",
       " 0.017755225791417435,\n",
       " 0.02607892955932213,\n",
       " 0.020134567055206044,\n",
       " 0.010848573662603202,\n",
       " 0.007242694806907228,\n",
       " 0.03953290872387202,\n",
       " 0.02206604370490825,\n",
       " 0.03107029268682455,\n",
       " 0.013257411542883984,\n",
       " 0.016611218144527744,\n",
       " 0.01604307239420893,\n",
       " 0.08184390850510509,\n",
       " 0.014841486025900425,\n",
       " 0.04955917637994217,\n",
       " 0.021836944509143474,\n",
       " 0.04880233679578872,\n",
       " 0.020830799858689065,\n",
       " 0.02847823257516188,\n",
       " 0.03623809489674919,\n",
       " 0.020576666626020618,\n",
       " 0.026730268597401026,\n",
       " 0.017613541506727164,\n",
       " 0.006988464800198158,\n",
       " 0.0515487893319844,\n",
       " 0.01836889581129231,\n",
       " 0.018915622812933366,\n",
       " 0.016722501861590286,\n",
       " 0.011572682972838927,\n",
       " 0.03348141771710821,\n",
       " 0.010403746446633036,\n",
       " 0.0029184005526549546,\n",
       " 0.04391552117816008,\n",
       " 0.029304013083265665,\n",
       " 0.0609930910311416,\n",
       " 0.01693244680364156,\n",
       " 0.019928497706289912,\n",
       " 0.012390057869409835,\n",
       " 0.005709739267845083,\n",
       " 0.04715993200079908,\n",
       " 0.02078327778728982,\n",
       " 0.008004311926993114,\n",
       " 0.018161942755343784,\n",
       " 0.011856991517269943,\n",
       " 0.06371619040568517,\n",
       " 0.00880477174806291,\n",
       " 0.02390054322084187,\n",
       " 0.023990448386407813,\n",
       " 0.007805987344284736,\n",
       " 0.08668887541565394,\n",
       " 0.07750224659980445,\n",
       " 0.012461259118058078,\n",
       " 0.014846769279266238,\n",
       " 0.024698829927858223,\n",
       " 0.028494894647535646,\n",
       " 0.052052500390591665,\n",
       " 0.025620030090833273,\n",
       " 0.017259546224633746,\n",
       " 0.032192782699825444,\n",
       " 0.036244966272496834,\n",
       " 0.01706102336012178,\n",
       " 0.006161664633600202,\n",
       " 0.003365195488017531,\n",
       " 0.01963969038182048,\n",
       " 0.02593951068518379,\n",
       " 0.008015799029373548,\n",
       " 0.021687380216938976,\n",
       " 0.030000319824965264,\n",
       " 0.029163394094351147,\n",
       " 0.035234591156436866,\n",
       " 0.016151210009910568,\n",
       " 0.03233907846126591,\n",
       " 0.09756390495398495,\n",
       " 0.01798223004807142,\n",
       " 0.008101625007383258,\n",
       " 0.005274231599570103,\n",
       " 0.05540476317141923,\n",
       " 0.009612717753219391,\n",
       " 0.05375673937144829,\n",
       " 0.039202567121820645,\n",
       " 0.009784038533865341,\n",
       " 0.017708218181866502,\n",
       " 0.01801557030371647,\n",
       " 0.007509405494561925,\n",
       " 0.03434188708619487,\n",
       " 0.04995897031206422,\n",
       " 0.03361225268938496,\n",
       " 0.0049910566888469055,\n",
       " 0.015646720951555712,\n",
       " 0.029680106690863992,\n",
       " 0.034783948681914215,\n",
       " 0.021221548347885043,\n",
       " 0.004986407224854203,\n",
       " 0.005551222321276496,\n",
       " 0.016508229171705177,\n",
       " 0.01493066050920879,\n",
       " 0.012128188218120553,\n",
       " 0.08320147646326642,\n",
       " 0.013938933171395355,\n",
       " 0.03403763281713332,\n",
       " 0.028364125130126334,\n",
       " 0.054710568164446735,\n",
       " 0.013008198438428825,\n",
       " 0.013567469525176703,\n",
       " 0.025389636439544054,\n",
       " 0.013319959970563294,\n",
       " 0.01349797871628492,\n",
       " 0.06144593288060358,\n",
       " 0.2290553073497007,\n",
       " 0.013891316451996434,\n",
       " 0.01573244105562339,\n",
       " 0.029284043432758936,\n",
       " 0.014962334845207642,\n",
       " 0.004387441193533078,\n",
       " 0.031995734078843804,\n",
       " 0.00900234831721912,\n",
       " 0.014350929987509196,\n",
       " 0.14426030844663523,\n",
       " 0.00419777663074209,\n",
       " 0.028826937891213586,\n",
       " 0.04131508061420805,\n",
       " 0.04272596175002848,\n",
       " 0.008307835564376587,\n",
       " 0.029792772630243037,\n",
       " 0.012831264328513265,\n",
       " 0.04462366325729957,\n",
       " 0.0047194568187214755,\n",
       " 0.02091454773794492,\n",
       " 0.03071269843467841,\n",
       " 0.023454747995717937,\n",
       " 0.039550779602750365,\n",
       " 0.01172708883381341,\n",
       " 0.018226050812863753,\n",
       " 0.02809864905892377,\n",
       " 0.018284037347748902,\n",
       " 0.018233765048662403,\n",
       " 0.012744413455456738,\n",
       " 0.01582613720956449,\n",
       " 0.003919762141951546,\n",
       " 0.02089893845407065,\n",
       " 0.03008696997235838,\n",
       " 0.05369190222644192,\n",
       " 0.023289191193848806,\n",
       " 0.036234006940487284,\n",
       " 0.016738125781439298,\n",
       " 0.016499889875213343,\n",
       " 0.009673978810965397,\n",
       " 0.04112467108868404,\n",
       " 0.05220390339998943,\n",
       " 0.01806994340853024,\n",
       " 0.009938619370056414,\n",
       " 0.024461106612593576,\n",
       " 0.009863727421983947,\n",
       " 0.010148476241738702,\n",
       " 0.02822594263624123,\n",
       " 0.013413920726894577,\n",
       " 0.020310012950408768,\n",
       " 0.09407420104821085,\n",
       " 0.012122471352459198,\n",
       " 0.01270303994314588,\n",
       " 0.016799503881915027,\n",
       " 0.01213265972969738,\n",
       " 0.01993514713738916,\n",
       " 0.005703275249269994,\n",
       " 0.018995966995651516,\n",
       " 0.06630128670307285,\n",
       " 0.011453208279371114,\n",
       " 0.018140889701132097,\n",
       " 0.03788452544049627,\n",
       " 0.018970364672525213,\n",
       " 0.042336546400070355,\n",
       " 0.06212715303057131,\n",
       " 0.08118438780870581,\n",
       " 0.029040492137850083,\n",
       " 0.018799039412438004,\n",
       " 0.04622163939369484,\n",
       " 0.04159566524990868,\n",
       " 0.016561188865098674,\n",
       " 0.028606989417801036,\n",
       " 0.00981737978826186,\n",
       " 0.03949175240126354,\n",
       " 0.0036620469612736553,\n",
       " 0.019966805907713877,\n",
       " 0.02342596841593547,\n",
       " 0.04668140929956894,\n",
       " 0.007560839193004263,\n",
       " 0.025512377536420806,\n",
       " 0.015261876143957138,\n",
       " 0.011755728442899422,\n",
       " 0.005896728169283901,\n",
       " 0.020909153398243507,\n",
       " 0.048269138219655755,\n",
       " 0.02680819782568878,\n",
       " 0.010824246681631533,\n",
       " 0.045397573283161116,\n",
       " 0.034263422070437456,\n",
       " 0.03140412377821365,\n",
       " 0.010533771918425507,\n",
       " 0.006906441737958106,\n",
       " 0.018599540923626912,\n",
       " 0.02793105129824086,\n",
       " 0.02052439082676297,\n",
       " 0.019394548473523843,\n",
       " 0.0063366300050903155,\n",
       " 0.05576633663819711,\n",
       " 0.00908128106781744,\n",
       " 0.013959112097795528,\n",
       " 0.09817555803037385,\n",
       " 0.018067966261331482,\n",
       " 0.05296648137841611,\n",
       " 0.012288497811563074,\n",
       " 0.005350741798125705,\n",
       " 0.007530523695242003,\n",
       " 0.057445864316863444,\n",
       " 0.018565367515456854,\n",
       " 0.042502173431047334,\n",
       " 0.009334675888127036,\n",
       " 0.004618035055909962,\n",
       " 0.08695130943020879,\n",
       " 0.00793420062907484,\n",
       " 0.06440960464720022,\n",
       " 0.1494231157474023,\n",
       " 0.03263575161598493,\n",
       " 0.03623961592330876,\n",
       " 0.01848011406488657,\n",
       " 0.12474636878267491,\n",
       " 0.023696178835051603,\n",
       " 0.015525610028729429,\n",
       " 0.0075863956853193335,\n",
       " 0.024140443318162022,\n",
       " 0.09487511868512154,\n",
       " 0.08238799449858304,\n",
       " 0.012651776011057995,\n",
       " 0.015596780915210003,\n",
       " 0.024268296293615346,\n",
       " 0.043540433051552904,\n",
       " 0.046680686282424375,\n",
       " 0.08775953685166202,\n",
       " 0.010448641956209793,\n",
       " 0.012287750486876456,\n",
       " 0.030796391185421445,\n",
       " 0.01377115501849522,\n",
       " 0.026475982581862633,\n",
       " 0.021187472440852027,\n",
       " 0.029055845475087824,\n",
       " 0.005466027375278899,\n",
       " 0.011273878543062076,\n",
       " 0.1202067003662011,\n",
       " 0.06481196055401708,\n",
       " 0.02895910536455704,\n",
       " 0.031098787981524188,\n",
       " 0.045409614843564386,\n",
       " 0.010019473877153762,\n",
       " 0.04034063725613652,\n",
       " 0.013916739556834392,\n",
       " 0.0037870359628162987,\n",
       " 0.05058413899640872,\n",
       " 0.026601271708723204,\n",
       " 0.013417128302999569,\n",
       " 0.018828994732041446,\n",
       " 0.02356898038879684,\n",
       " 0.05525759648861214,\n",
       " 0.04702256300504491,\n",
       " 0.009412765143328632,\n",
       " 0.09721267283861149,\n",
       " 0.00658171457679785,\n",
       " 0.03891488441193414,\n",
       " 0.013823279923011493,\n",
       " 0.07350584898863834,\n",
       " 0.014987250220514116,\n",
       " 0.06938445789240359,\n",
       " 0.03813158292962239,\n",
       " 0.04310992402025015,\n",
       " 0.011333826006569205,\n",
       " 0.016297478156091044,\n",
       " 0.009047851024770622,\n",
       " 0.012984683297070195,\n",
       " 0.024161885742483295,\n",
       " 0.0207548493066579,\n",
       " 0.03961166627530836,\n",
       " 0.0055902652386302905,\n",
       " 0.019878014950989058,\n",
       " 0.10092751712340477,\n",
       " 0.03851202957685756,\n",
       " 0.045360408195957554,\n",
       " 0.032455541739966745,\n",
       " 0.01176494470913252,\n",
       " 0.02975796847432506,\n",
       " 0.013628883400423297,\n",
       " 0.010808512472375539,\n",
       " 0.0042856837521092804,\n",
       " 0.01305121616144602,\n",
       " 0.026028878069245705,\n",
       " 0.053149118403897785,\n",
       " 0.10689940868338198,\n",
       " 0.03155235393144161,\n",
       " 0.039764598075297454,\n",
       " 0.04035559756710465,\n",
       " 0.013761363848029376,\n",
       " 0.0026535031316325813,\n",
       " 0.01736231067683348,\n",
       " 0.02245163106522155,\n",
       " 0.018011629624453598,\n",
       " 0.03588925371959829,\n",
       " 0.024380447461650773,\n",
       " 0.017181733935329024,\n",
       " 0.016168827614412608,\n",
       " 0.01557468477807927,\n",
       " 0.0524081053326485,\n",
       " 0.010566651349733417,\n",
       " 0.009663036822303812,\n",
       " 0.06366733717828735,\n",
       " 0.026909486263071575,\n",
       " 0.012608110827797146,\n",
       " 0.009240488418432542,\n",
       " 0.013073089827956417,\n",
       " 0.031783967208562164,\n",
       " 0.01649027737344703,\n",
       " 0.013719158765476473,\n",
       " 0.08533464630980361,\n",
       " 0.012744404476716816,\n",
       " 0.04052436310912449,\n",
       " 0.024049586705943603,\n",
       " 0.016132624767710584,\n",
       " 0.02769242976970783,\n",
       " 0.013040919825906432,\n",
       " 0.021258927719305414,\n",
       " 0.009732715232201443,\n",
       " 0.043436193921875796,\n",
       " 0.007321847323714408,\n",
       " 0.008839459521369284,\n",
       " 0.024499634337445383,\n",
       " 0.009171022899584495,\n",
       " 0.023044355815638594,\n",
       " 0.02688370889812652,\n",
       " 0.009123555187966897,\n",
       " 0.015225424636868988,\n",
       " 0.029703654658189995,\n",
       " 0.01826117137476867,\n",
       " 0.05233513392288869,\n",
       " 0.005300582297904899,\n",
       " 0.006703409162492651,\n",
       " 0.013590643110310859,\n",
       " 0.013622399324933334,\n",
       " 0.01753957742840886,\n",
       " 0.018892505926444647,\n",
       " 0.010964136518672039,\n",
       " 0.02817839462856229,\n",
       " 0.046531574340658785,\n",
       " 0.036009930246653506,\n",
       " 0.09615668606348576,\n",
       " 0.008641531282860195,\n",
       " 0.0236338255374404,\n",
       " 0.02943742662159184,\n",
       " 0.05473013641582554,\n",
       " 0.006589854421685942,\n",
       " 0.023034669959593888,\n",
       " 0.01037823491546487,\n",
       " 0.01621270496093007,\n",
       " 0.11024224925991695,\n",
       " 0.023846748402186303,\n",
       " 0.015014895361913286,\n",
       " 0.022955492126758778,\n",
       " 0.01090879561058064,\n",
       " 0.008236625433020414,\n",
       " 0.02547581101231039,\n",
       " 0.015135877294686616,\n",
       " 0.019527554918898394,\n",
       " 0.042975778851563805,\n",
       " 0.10992727126954982,\n",
       " 0.061264930546315446,\n",
       " 0.02096045419944236,\n",
       " 0.022449405199890263,\n",
       " 0.01373435952576105,\n",
       " 0.029845838555169153,\n",
       " 0.02833868083990887,\n",
       " 0.020999840613468955,\n",
       " 0.03906240797664024,\n",
       " 0.014965576878308774,\n",
       " 0.023408852992533292,\n",
       " 0.013094104104816732,\n",
       " 0.07405356208014294,\n",
       " 0.016514242967061697,\n",
       " 0.012287028516780929,\n",
       " 0.03189028674285668,\n",
       " 0.010394038127631391,\n",
       " 0.011836465324229698,\n",
       " 0.0296806133935323,\n",
       " 0.02442212824870093,\n",
       " 0.01193486464831265,\n",
       " 0.018157147413738105,\n",
       " 0.012690897864210899,\n",
       " 0.01999124002376668,\n",
       " 0.007574560244596446,\n",
       " 0.00844437673435687,\n",
       " 0.017111181271291322,\n",
       " 0.00937337596895556,\n",
       " 0.006143105964874342,\n",
       " 0.031267407713825135,\n",
       " 0.016525390605310535,\n",
       " 0.028944395671547954,\n",
       " 0.006562739802307664,\n",
       " 0.045253245239158635,\n",
       " 0.003542200472575664,\n",
       " 0.01145728098848342,\n",
       " 0.015064251593248318,\n",
       " 0.017047980486060463,\n",
       " 0.06463145042398058,\n",
       " 0.025371162483747343,\n",
       " 0.03141573528498817,\n",
       " 0.005434909111068165,\n",
       " 0.0062601772184610865,\n",
       " 0.005490500293825605,\n",
       " 0.034751037124907534,\n",
       " 0.03341893737338604,\n",
       " 0.010356258688922027,\n",
       " 0.02901136186901017,\n",
       " 0.04411961039952103,\n",
       " 0.04005180611293578,\n",
       " 0.007576100696823291,\n",
       " 0.008543740047249842,\n",
       " 0.011332223422603217,\n",
       " 0.0067710855673505325,\n",
       " 0.010967248951646308,\n",
       " 0.1233645735926483,\n",
       " 0.019965459078622693,\n",
       " 0.002976917660895803,\n",
       " 0.04906325266442264,\n",
       " 0.004244495272668581,\n",
       " 0.03361349053556903,\n",
       " 0.036960815926064185,\n",
       " 0.027381134523562993,\n",
       " 0.010894776182976325,\n",
       " 0.04653851551612909,\n",
       " 0.007634743932715641,\n",
       " 0.015707992571462798,\n",
       " 0.005310635721938241,\n",
       " 0.005309417322158894,\n",
       " 0.039236106742437236,\n",
       " 0.022332678073300683,\n",
       " 0.007906909197800004,\n",
       " 0.014422282700899259,\n",
       " 0.027798124715904517,\n",
       " 0.029074672495854,\n",
       " 0.05539368354091151,\n",
       " 0.0910999819227809,\n",
       " 0.05035980242881407,\n",
       " 0.00886769275250581,\n",
       " 0.0072330954598372145,\n",
       " 0.024455759347556616,\n",
       " 0.050690613989614754,\n",
       " 0.03422180847273476,\n",
       " 0.010067579748203664,\n",
       " 0.02798796285198263,\n",
       " 0.01302515589932358,\n",
       " 0.009392068569753574,\n",
       " 0.11303405368575054,\n",
       " 0.0036743318615272335,\n",
       " 0.019275389493587806,\n",
       " 0.03632925132428036,\n",
       " 0.040028729958138616,\n",
       " 0.004455376144722823,\n",
       " 0.03476316169954652,\n",
       " 0.022055667714997014,\n",
       " 0.011318501456706542,\n",
       " 0.01426619717482367,\n",
       " 0.014017919648718829,\n",
       " 0.026941289968194414,\n",
       " 0.07493053715774692,\n",
       " 0.004599866100536515,\n",
       " 0.005289529815581069,\n",
       " 0.027125772514364117,\n",
       " 0.013714284032023637,\n",
       " 0.00914237128735857,\n",
       " 0.010761372857862654,\n",
       " 0.05017156746509653,\n",
       " 0.008328560178821783,\n",
       " 0.010848446973911272,\n",
       " 0.05329707238668383,\n",
       " 0.03143102046904462,\n",
       " 0.010558550631713175,\n",
       " 0.008499253379225401,\n",
       " 0.2112363314583568,\n",
       " 0.03530193209991477,\n",
       " 0.02268601510821716,\n",
       " 0.025433318204955778,\n",
       " 0.021263178620360684,\n",
       " 0.16279650209992222,\n",
       " 0.002095241984507807,\n",
       " 0.018160328262158465,\n",
       " 0.025042850028692342,\n",
       " 0.02533417042016012,\n",
       " 0.03887535015955723,\n",
       " 0.005706307770595798,\n",
       " 0.00782615793404744,\n",
       " 0.02201374710643441,\n",
       " 0.01676360070708815,\n",
       " 0.028211863939889992,\n",
       " 0.04381325342080313,\n",
       " 0.007625504397721129,\n",
       " 0.030628259539785076,\n",
       " 0.04254148609399164,\n",
       " 0.021415003302467532,\n",
       " 0.05838138845552889,\n",
       " 0.0985854345016282,\n",
       " 0.0022545570909154205,\n",
       " 0.03123272670452999,\n",
       " 0.039025089534148905,\n",
       " 0.01688884429622204,\n",
       " 0.011709908102203686,\n",
       " 0.012969626025519715,\n",
       " 0.009208202397639701,\n",
       " 0.01376169309028727,\n",
       " 0.033529554623768124,\n",
       " 0.07548600150055783,\n",
       " 0.021291626936620924,\n",
       " 0.017358818521339813,\n",
       " 0.012509695813227334,\n",
       " 0.04243081883473995,\n",
       " 0.035015781619907885,\n",
       " 0.020270978320822922,\n",
       " 0.07375617467806221,\n",
       " 0.07250600033298663,\n",
       " 0.02686779838378465,\n",
       " 0.014539891778081737,\n",
       " 0.0535407318247485,\n",
       " 0.010158706221177758,\n",
       " 0.006699588985722089,\n",
       " 0.012087603005316784,\n",
       " 0.035544378561007846,\n",
       " 0.06460346158449747,\n",
       " 0.027764938796301274,\n",
       " 0.026049905637993736,\n",
       " 0.01432446588365414,\n",
       " 0.10006986998916251,\n",
       " 0.010247941415036524,\n",
       " 0.008050630466747321,\n",
       " 0.052935383520462155,\n",
       " 0.012982773588143483,\n",
       " 0.013723198462785923,\n",
       " 0.010082242762377146,\n",
       " 0.013483840883110294,\n",
       " 0.028870250584367665,\n",
       " 0.00785054656018787,\n",
       " 0.0297099544254238,\n",
       " 0.06058808951384401,\n",
       " 0.029183417398880113,\n",
       " 0.015199137913129473,\n",
       " 0.014371759652200807,\n",
       " 0.022627271993215816,\n",
       " 0.007980789452170886,\n",
       " 0.018776890115381424,\n",
       " 0.005091453534612582,\n",
       " 0.0029667289633591282,\n",
       " 0.026119826096489163,\n",
       " 0.013676412213519633,\n",
       " 0.008326696711678079,\n",
       " 0.01294264027020852,\n",
       " 0.020375747980397468,\n",
       " 0.017275975730684574,\n",
       " 0.011347837612006785,\n",
       " 0.03777343355554408,\n",
       " 0.028965027892667906,\n",
       " 0.008964169564833068,\n",
       " 0.01141793878017731,\n",
       " 0.016362838821749336,\n",
       " 0.0039458017919642855,\n",
       " 0.037685581281205374,\n",
       " 0.016153078222214873,\n",
       " 0.012431345226650382,\n",
       " 0.03582383407187386,\n",
       " 0.02470128393323185,\n",
       " 0.03222129337901546,\n",
       " 0.008525645178461286,\n",
       " 0.008609517982345358,\n",
       " 0.013738547854444805,\n",
       " 0.016656104537415457,\n",
       " 0.05845331749374966,\n",
       " 0.019694233121217687,\n",
       " 0.01208367965457469,\n",
       " 0.03710261598659433,\n",
       " 0.0024135773282645207,\n",
       " 0.07013366480875363,\n",
       " 0.050323266853134936,\n",
       " 0.05884517139478092,\n",
       " 0.03428495806672343,\n",
       " 0.014317188137460014,\n",
       " 0.014980145758266537,\n",
       " 0.015597623294972284,\n",
       " 0.01273993654996383,\n",
       " 0.028848831926529865,\n",
       " 0.03766092869954603,\n",
       " 0.028547361667541897,\n",
       " 0.014591537602290885,\n",
       " 0.011414259848624644,\n",
       " 0.027552532371818525,\n",
       " 0.038343513827780985,\n",
       " 0.011518752030047055,\n",
       " 0.02322518277846249,\n",
       " 0.011344816821504886,\n",
       " 0.011065709694098279,\n",
       " 0.007612890124512931,\n",
       " 0.009698889912301471,\n",
       " 0.031510642289036786,\n",
       " 0.041561665777915625,\n",
       " 0.020934264773096324,\n",
       " 0.025118601447602047,\n",
       " 0.004667909165069634,\n",
       " 0.027128935806785225,\n",
       " 0.014701585425643081,\n",
       " 0.014621000139053923,\n",
       " 0.02631133629451634,\n",
       " 0.02714770711028054,\n",
       " 0.06634831215211302,\n",
       " 0.011944163367013694,\n",
       " 0.0414000416139195,\n",
       " 0.03422909703393139,\n",
       " 0.04350454511666621,\n",
       " 0.028917876897298894,\n",
       " 0.010324601532110896,\n",
       " 0.034621665541735645,\n",
       " 0.0038429676491119258,\n",
       " 0.08358924683356508,\n",
       " 0.02317912953636875,\n",
       " 0.009983834578742721,\n",
       " 0.034998608784283285,\n",
       " 0.01246655642510176,\n",
       " 0.06843500644484002,\n",
       " 0.03943405448236821,\n",
       " 0.02024111089813893,\n",
       " 0.028256562569029812,\n",
       " 0.021415290882775707,\n",
       " 0.037554285883867465,\n",
       " 0.03252104322949004,\n",
       " 0.06023572759186166,\n",
       " 0.009149992377340977,\n",
       " 0.02837822864049202,\n",
       " 0.021018860431105908,\n",
       " 0.01763203490297196,\n",
       " 0.004099974643188729,\n",
       " 0.04600720239285148,\n",
       " 0.028864870672760647,\n",
       " 0.0126586453513377,\n",
       " 0.010457948734112424,\n",
       " 0.011788315616647607,\n",
       " 0.01565850252025517,\n",
       " 0.0060840636755412,\n",
       " 0.03462633018509037,\n",
       " 0.008884688598652749,\n",
       " 0.014474906234140095,\n",
       " 0.08341053593838324,\n",
       " 0.03159570028369577,\n",
       " 0.012982381404050003,\n",
       " 0.024474228329136514,\n",
       " 0.005358678680550744,\n",
       " 0.03552731535479954,\n",
       " 0.026682658926441213,\n",
       " 0.0547513729515269,\n",
       " 0.021904618434412174,\n",
       " 0.009372580697092295,\n",
       " 0.027328324387980853,\n",
       " 0.007071509509046445,\n",
       " 0.007293828600486505,\n",
       " 0.05359400666031661,\n",
       " 0.02794164430271011,\n",
       " 0.03691403142261675,\n",
       " 0.01377592092668954,\n",
       " 0.04832924180238888,\n",
       " 0.011914803602046518,\n",
       " 0.015622524632501578,\n",
       " 0.012470809956460362,\n",
       " 0.009304780294347188,\n",
       " 0.006976613692722872,\n",
       " 0.06920626028697392,\n",
       " 0.020854307146689316,\n",
       " 0.015377049775513293,\n",
       " 0.017419639054828497,\n",
       " 0.03518588149678639,\n",
       " 0.014084351412628416,\n",
       " 0.009622658902829364,\n",
       " 0.03270536301488796,\n",
       " 0.022563227577644174,\n",
       " 0.04293391240103082,\n",
       " 0.018061940006842574,\n",
       " 0.023450101011401485,\n",
       " 0.04191695460666682,\n",
       " 0.00932074922500451,\n",
       " 0.015263727042864472,\n",
       " 0.008590390271507197,\n",
       " 0.004781814067738293,\n",
       " 0.02377681886635425,\n",
       " 0.09349271959245394,\n",
       " 0.00870801462516454,\n",
       " 0.02010022579814343,\n",
       " 0.028073212792527846,\n",
       " 0.024963030954998626,\n",
       " 0.031155365414635584,\n",
       " 0.0065651746380156395,\n",
       " 0.01823410921326531,\n",
       " 0.019108690470955165,\n",
       " 0.006923449457192701,\n",
       " 0.03656450055858615,\n",
       " 0.007961278275959131,\n",
       " 0.05806500398324328,\n",
       " 0.00923913224850607,\n",
       " 0.006983519394881193,\n",
       " 0.03251972845121647,\n",
       " 0.011209458438111403,\n",
       " 0.02733916113730955,\n",
       " 0.028793367482894232,\n",
       " 0.0024459537292694455,\n",
       " 0.02321308187396126,\n",
       " 0.007916484442223287,\n",
       " 0.008309061195654489,\n",
       " 0.005761954566444174,\n",
       " 0.03592680255909807,\n",
       " 0.0239648490653715,\n",
       " 0.013005281618966604,\n",
       " 0.09006539881495575,\n",
       " 0.054281313386811136,\n",
       " 0.019989036571653268,\n",
       " 0.05684211275025514,\n",
       " 0.009334101530101037,\n",
       " 0.01521410788793587,\n",
       " 0.008309665145911084,\n",
       " 0.01624880631440993,\n",
       " 0.03428077197372723,\n",
       " 0.01672282009040455,\n",
       " 0.018129623427333784,\n",
       " 0.04174666606611684,\n",
       " 0.054529847575454544,\n",
       " 0.012605838090746625,\n",
       " 0.020919302950809404,\n",
       " 0.019502299722935535,\n",
       " 0.04015690342277338,\n",
       " 0.02512211918085065,\n",
       " 0.013534380316644633,\n",
       " 0.24506086064493163,\n",
       " 0.0270188104814631,\n",
       " 0.02778924600411356,\n",
       " 0.011335021564798363,\n",
       " 0.04029451786759609,\n",
       " 0.03262833236832695,\n",
       " 0.00879053685230825,\n",
       " 0.03234538507436923,\n",
       " 0.004781818032423351,\n",
       " 0.07983411849975007,\n",
       " 0.007098155766857862,\n",
       " 0.03615632343214979,\n",
       " 0.013791535123777296,\n",
       " 0.010290236509985893,\n",
       " 0.031110782669884665,\n",
       " 0.01946634259085989,\n",
       " 0.023485590022596405,\n",
       " 0.018611884987529564,\n",
       " 0.03832554690665349,\n",
       " 0.011494476911456008,\n",
       " 0.01707353071182308,\n",
       " 0.03462175233910187,\n",
       " 0.026025234938863575,\n",
       " 0.005124835949064952,\n",
       " 0.01056036644380381,\n",
       " 0.020708636640093467,\n",
       " 0.046263934064787154,\n",
       " 0.095068344128887,\n",
       " 0.03132465914765142,\n",
       " 0.021842241457206008,\n",
       " 0.0079282411266945,\n",
       " 0.009522230055734524,\n",
       " 0.010538618255867799,\n",
       " 0.007959889635805148,\n",
       " 0.005081332542482644,\n",
       " 0.01826407354027249,\n",
       " 0.19686109311683977,\n",
       " 0.019813251372782253,\n",
       " 0.030405268953331017,\n",
       " 0.014348882084419454,\n",
       " 0.036408851579515136,\n",
       " 0.07301867084407494,\n",
       " 0.003253917739382253,\n",
       " 0.023479299633528447,\n",
       " 0.024510253813159966,\n",
       " 0.05282036175457168,\n",
       " 0.0051385857326945,\n",
       " 0.006626342555186966,\n",
       " 0.004354964629683194,\n",
       " 0.011170276791357922,\n",
       " 0.0668102251289532,\n",
       " 0.000923508693773391,\n",
       " 0.0182218595486363,\n",
       " 0.01680463294566813,\n",
       " 0.03742788389981122,\n",
       " 0.018200359571281896,\n",
       " 0.016956510570074662,\n",
       " 0.024583524779745656,\n",
       " 0.011393054103498524,\n",
       " 0.037209288928274346,\n",
       " 0.014489607509235761,\n",
       " 0.023067612568503378,\n",
       " 0.07846068285052375,\n",
       " 0.00851462371366607,\n",
       " 0.120142308517106,\n",
       " 0.00766147259448905,\n",
       " 0.03077913877590227,\n",
       " 0.004186087861405746,\n",
       " 0.01471522355304739,\n",
       " 0.011306777379485874,\n",
       " 0.013632980900272377,\n",
       " 0.010543084782253917,\n",
       " 0.015695205656110132,\n",
       " 0.011500250500214502,\n",
       " 0.009700198259535218,\n",
       " 0.010649655615022763,\n",
       " 0.01015599894654719,\n",
       " 0.004839047651348249,\n",
       " 0.01018171071782908,\n",
       " 0.026813433249355968,\n",
       " 0.052180645018712495,\n",
       " 0.013451015877938009,\n",
       " 0.06935689113690037,\n",
       " 0.02813968431851726,\n",
       " 0.011838135019903094,\n",
       " 0.009792285199898294,\n",
       " 0.017079872720144995,\n",
       " 0.020224318698689993,\n",
       " 0.016437355240317128,\n",
       " 0.014124701841060974,\n",
       " 0.033369292556328777,\n",
       " 0.020463100642901137,\n",
       " 0.03536045663150128,\n",
       " 0.0064619761622051715,\n",
       " 0.017441073214796914,\n",
       " 0.011620692332900995,\n",
       " 0.014503171172962107,\n",
       " 0.019856924744984496,\n",
       " 0.07092254190186396,\n",
       " 0.04640844258889276,\n",
       " 0.02004926428044221,\n",
       " 0.04152432009884415,\n",
       " 0.010486577566047215,\n",
       " 0.04622877878146063,\n",
       " 0.025825036439476277,\n",
       " 0.010579671710804664,\n",
       " 0.013894572104394383,\n",
       " 0.042679717716938764,\n",
       " 0.022913333600635386,\n",
       " 0.009055136238724733,\n",
       " 0.035623214895132704,\n",
       " 0.004498405925137329,\n",
       " 0.008490626557306804,\n",
       " 0.018394862626510706,\n",
       " 0.034315945336561335,\n",
       " 0.009715683422310661,\n",
       " 0.005517856076297706,\n",
       " 0.06270544787872827,\n",
       " 0.01912673207656417,\n",
       " 0.026772109555734076,\n",
       " 0.13233367128581364,\n",
       " 0.012810277839473642,\n",
       " 0.0648580604518035,\n",
       " 0.0292053136053194,\n",
       " 0.01194409767429711,\n",
       " 0.004531961647529016,\n",
       " 0.03234793818685416,\n",
       " 0.012691894275680137,\n",
       " 0.025642713848359994,\n",
       " 0.005950344825255935,\n",
       " 0.009950205137138823,\n",
       " 0.022443466755569668,\n",
       " 0.02921963837765712,\n",
       " 0.029080971182285045,\n",
       " 0.045150440311603084,\n",
       " 0.016824881216467424,\n",
       " 0.012163579468630514,\n",
       " 0.05368301774009001,\n",
       " 0.025333345722408102,\n",
       " 0.01821733652868244,\n",
       " 0.051591425655521946,\n",
       " 0.01121630994349012,\n",
       " 0.0068901992463110875,\n",
       " 0.08983923217545636,\n",
       " 0.013573891875429811,\n",
       " 0.033090844143475746,\n",
       " 0.008926010788929994,\n",
       " 0.0115745001417926,\n",
       " 0.011804295381404954,\n",
       " 0.018253005962734777,\n",
       " 0.02518091081206091,\n",
       " 0.025650170747856697,\n",
       " 0.054239605107387415,\n",
       " 0.04304965675831354,\n",
       " 0.023869373986973353,\n",
       " 0.018603963572058783,\n",
       " 0.013079029067109699,\n",
       " 0.04999736957037575,\n",
       " 0.031237310427249285,\n",
       " 0.015141740250834692,\n",
       " 0.01531779371658969,\n",
       " 0.006900344851719076,\n",
       " 0.03250814785732973,\n",
       " 0.01884341836300826,\n",
       " 0.015296805656918431,\n",
       " 0.022674950398667754,\n",
       " 0.016275713519947152,\n",
       " 0.058077119196054475,\n",
       " 0.030739710266441123,\n",
       " 0.022282201718231105,\n",
       " 0.022796399856666948,\n",
       " 0.02724665023478027,\n",
       " 0.06856157662358031,\n",
       " 0.008808201995338343,\n",
       " 0.0035628289822135614,\n",
       " 0.00995773287190381,\n",
       " 0.026804856565032398,\n",
       " 0.01683604666009914,\n",
       " 0.029691577023766284,\n",
       " 0.0770313096717674,\n",
       " 0.022931112080311105,\n",
       " 0.009125630204802141,\n",
       " 0.028790815062716118,\n",
       " 0.011946253488666674,\n",
       " 0.01302975270703548,\n",
       " 0.04210866658737427,\n",
       " 0.01985156688428365,\n",
       " 0.022635289138287995,\n",
       " 0.038723073696063176,\n",
       " 0.031628996894589076,\n",
       " 0.026022079594508463,\n",
       " 0.025916016737872,\n",
       " 0.010250924002389201,\n",
       " 0.030966563820906633,\n",
       " 0.015458142104068751,\n",
       " 0.012709683353008205,\n",
       " 0.0203208301868125,\n",
       " 0.057721721087387025,\n",
       " 0.007659779534617555,\n",
       " 0.02237831015846133,\n",
       " ...]"
      ]
     },
     "execution_count": 65,
     "metadata": {},
     "output_type": "execute_result"
    }
   ],
   "source": [
    "norm_SLUG_Av"
   ]
  },
  {
   "cell_type": "code",
   "execution_count": 67,
   "metadata": {},
   "outputs": [
    {
     "data": {
      "text/plain": [
       "2753"
      ]
     },
     "execution_count": 67,
     "metadata": {},
     "output_type": "execute_result"
    }
   ],
   "source": [
    "apdata_Av=list(apdata['CMD_AV_BEST'])\n",
    "len(apdata_Av)"
   ]
  },
  {
   "cell_type": "code",
   "execution_count": 66,
   "metadata": {},
   "outputs": [],
   "source": [
    "C=min(apdata['CMD_AV_BEST'])\n",
    "D=max(apdata['CMD_AV_BEST'])"
   ]
  },
  {
   "cell_type": "code",
   "execution_count": 68,
   "metadata": {},
   "outputs": [],
   "source": [
    "#Normalizing extincition values from APdata Estimates\n",
    "norm_apdata_Av=[]\n",
    "for i in range(len(apdata_Av)):\n",
    "    A_v=a+((apdata_Av[i]-C)*(b-a)/(D-C))\n",
    "    norm_apdata_Av.append(A_v)"
   ]
  },
  {
   "cell_type": "code",
   "execution_count": 77,
   "metadata": {},
   "outputs": [
    {
     "data": {
      "text/plain": [
       "Text(0.5, 0, 'Normalized Extinction')"
      ]
     },
     "execution_count": 77,
     "metadata": {},
     "output_type": "execute_result"
    },
    {
     "data": {
      "image/png": "[encoded data removed]",
      "text/plain": [
       "<Figure size 432x288 with 1 Axes>"
      ]
     },
     "metadata": {
      "needs_background": "light"
     },
     "output_type": "display_data"
    }
   ],
   "source": [
    "plt.hist(norm_SLUG_Av,histtype='step',color='blue',lw=3,label='SLUG A_V')\n",
    "plt.yscale('log')\n",
    "plt.hist(norm_apdata_Av,histtype='step',color='orange',lw=3,label='apdata A_V')\n",
    "plt.legend()\n",
    "plt.ylabel('Clusters')\n",
    "plt.xlabel('Normalized Extinction')"
   ]
  },
  {
   "cell_type": "code",
   "execution_count": 81,
   "metadata": {},
   "outputs": [
    {
     "data": {
      "text/plain": [
       "<matplotlib.legend.Legend at 0x1befaf5d68>"
      ]
     },
     "execution_count": 81,
     "metadata": {},
     "output_type": "execute_result"
    },
    {
     "data": {
      "image/png": "[encoded data removed]",
      "text/plain": [
       "<Figure size 432x288 with 1 Axes>"
      ]
     },
     "metadata": {
      "needs_background": "light"
     },
     "output_type": "display_data"
    }
   ],
   "source": [
    "plt.hist(norm_SLUG_Av,histtype='step',color='blue',lw=3,label='SLUG A_V',)\n",
    "plt.yscale('log')\n",
    "plt.ylabel('Clusters')\n",
    "plt.xlabel('Normalized Extinction')\n",
    "plt.legend()"
   ]
  },
  {
   "cell_type": "code",
   "execution_count": 80,
   "metadata": {},
   "outputs": [
    {
     "data": {
      "text/plain": [
       "<matplotlib.legend.Legend at 0x1befa96080>"
      ]
     },
     "execution_count": 80,
     "metadata": {},
     "output_type": "execute_result"
    },
    {
     "data": {
      "image/png": "[encoded data removed]",
      "text/plain": [
       "<Figure size 432x288 with 1 Axes>"
      ]
     },
     "metadata": {
      "needs_background": "light"
     },
     "output_type": "display_data"
    }
   ],
   "source": [
    "plt.hist(norm_apdata_Av,histtype='step',color='orange',lw=3,label='apdata A_V')\n",
    "plt.ylabel('Clusters')\n",
    "plt.xlabel('Normalized Extinction')\n",
    "plt.legend()"
   ]
  }
 ],
 "metadata": {
  "kernelspec": {
   "display_name": "Python 3",
   "language": "python",
   "name": "python3"
  },
  "language_info": {
   "codemirror_mode": {
    "name": "ipython",
    "version": 3
   },
   "file_extension": ".py",
   "mimetype": "text/x-python",
   "name": "python",
   "nbconvert_exporter": "python",
   "pygments_lexer": "ipython3",
   "version": "3.7.3"
  }
 },
 "nbformat": 4,
 "nbformat_minor": 2
}

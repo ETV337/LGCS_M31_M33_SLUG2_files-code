{
 "cells": [
  {
   "cell_type": "code",
   "execution_count": 1,
   "metadata": {},
   "outputs": [],
   "source": [
    "# This script demonstrates the capabilities of cluster_slug by using\n",
    "# it to re-analyze the M31 star clusters catalog of Johnson et al. (2015, ApJ)\n",
    "\n",
    "# Import the libraries we'll need\n",
    "from astropy.io import ascii\n",
    "from astropy.io import fits\n",
    "import emcee\n",
    "from astropy import table\n",
    "from astropy.table import unique, Table, hstack, Column\n",
    "import sys\n",
    "from numpy import inf\n",
    "import numpy as np\n",
    "import numpy.ma as ma\n",
    "import time\n",
    "from matplotlib.pyplot import figure as fig\n",
    "import matplotlib.pyplot as plt\n",
    "from scipy import stats\n",
    "from scipy.optimize import curve_fit\n",
    "from scipy.stats import norm\n",
    "from slugpy.cluster_slug import cluster_slug\n",
    "from slugpy import * \n",
    "import matplotlib.pyplot as plt\n",
    "import matplotlib.lines as mlines\n",
    "from matplotlib.ticker import AutoMinorLocator"
   ]
  },
  {
   "cell_type": "code",
   "execution_count": 2,
   "metadata": {},
   "outputs": [
    {
     "name": "stdout",
     "output_type": "stream",
     "text": [
      "Reading AP Cluster Data (Phot+Agemasss)...\n",
      "Reading AP 12 Cluster Data (Phot+AgeMass)...\n"
     ]
    }
   ],
   "source": [
    "#Imported AP fits files which include best fit of mass and age data already \n",
    "\n",
    "apdata = Table.read('apdata-cluster_6phot+agemass.fits')\n",
    "print(\"Reading AP Cluster Data (Phot+Agemasss)...\")\n",
    "apdata_12clusters = Table.read('apdata-cluster_6phot+agemass_select.fits')\n",
    "print(\"Reading AP 12 Cluster Data (Phot+AgeMass)...\")\n",
    "\n",
    "apdata_good_phot6filts=Table.read('/Volumes/My_Passport_for_Mac/M33_M31_LGCS_Files/M31-Andromeda/Photometery_Tables/apdata_goodphot_6filts.fits')\n",
    "\n",
    "\n",
    "LEGUS_PHAT_PadKroupa_prop=Table.read('LEGUS_1e6_1e10age_PadKroupaAfter_PHAT_lib_1e7Trials_cluster_prop.fits')\n",
    "LEGUS_PHAT_PadKroupa_phot=Table.read('LEGUS_1e6_1e10age_PadKroupaAfter_PHAT_lib_1e7Trials_cluster_phot.fits')\n",
    "\n",
    "dmod_M31=24.47 "
   ]
  },
  {
   "cell_type": "code",
   "execution_count": 3,
   "metadata": {
    "scrolled": true
   },
   "outputs": [],
   "source": [
    "apdata_BM_CMD=apdata['BEST_METHOD']"
   ]
  },
  {
   "cell_type": "code",
   "execution_count": 5,
   "metadata": {},
   "outputs": [],
   "source": [
    "indCMD=np.where(apdata_BM_CMD!='M')\n",
    "#indBTM=np.where(apdata_good_phot6filts_BT=='M')\n",
    "apdata.remove_rows(indCMD)"
   ]
  },
  {
   "cell_type": "code",
   "execution_count": 6,
   "metadata": {
    "collapsed": true
   },
   "outputs": [
    {
     "data": {
      "text/html": [
       "&lt;Column name=&apos;CMD_AV_BEST&apos; dtype=&apos;float32&apos; length=616&gt;\n",
       "<table>\n",
       "<tr><td>0.0</td></tr>\n",
       "<tr><td>0.0</td></tr>\n",
       "<tr><td>0.45</td></tr>\n",
       "<tr><td>0.5</td></tr>\n",
       "<tr><td>0.75</td></tr>\n",
       "<tr><td>0.7</td></tr>\n",
       "<tr><td>0.5</td></tr>\n",
       "<tr><td>0.0</td></tr>\n",
       "<tr><td>0.5</td></tr>\n",
       "<tr><td>1.75</td></tr>\n",
       "<tr><td>0.3</td></tr>\n",
       "<tr><td>1.1</td></tr>\n",
       "<tr><td>...</td></tr>\n",
       "<tr><td>0.0</td></tr>\n",
       "<tr><td>1.35</td></tr>\n",
       "<tr><td>0.35</td></tr>\n",
       "<tr><td>0.0</td></tr>\n",
       "<tr><td>0.75</td></tr>\n",
       "<tr><td>0.0</td></tr>\n",
       "<tr><td>0.0</td></tr>\n",
       "<tr><td>0.0</td></tr>\n",
       "<tr><td>0.0</td></tr>\n",
       "<tr><td>0.0</td></tr>\n",
       "<tr><td>0.0</td></tr>\n",
       "<tr><td>0.0</td></tr>\n",
       "</table>"
      ],
      "text/plain": [
       "<Column name='CMD_AV_BEST' dtype='float32' length=616>\n",
       " 0.0\n",
       " 0.0\n",
       "0.45\n",
       " 0.5\n",
       "0.75\n",
       " 0.7\n",
       " 0.5\n",
       " 0.0\n",
       " 0.5\n",
       "1.75\n",
       " 0.3\n",
       " 1.1\n",
       " ...\n",
       " 0.0\n",
       "1.35\n",
       "0.35\n",
       " 0.0\n",
       "0.75\n",
       " 0.0\n",
       " 0.0\n",
       " 0.0\n",
       " 0.0\n",
       " 0.0\n",
       " 0.0\n",
       " 0.0"
      ]
     },
     "execution_count": 6,
     "metadata": {},
     "output_type": "execute_result"
    }
   ],
   "source": [
    "apdata_good_phot6filts['CMD_AV_BEST']"
   ]
  },
  {
   "cell_type": "code",
   "execution_count": 201,
   "metadata": {},
   "outputs": [],
   "source": [
    "ind_logAge_9orless=np.where((apdata['BEST_AGE'])<9)\n",
    "apdata.remove_rows(ind_logAge_9orless)"
   ]
  },
  {
   "cell_type": "code",
   "execution_count": 4,
   "metadata": {},
   "outputs": [
    {
     "name": "stderr",
     "output_type": "stream",
     "text": [
      "/anaconda3/lib/python3.7/site-packages/astropy/table/column.py:965: FutureWarning: elementwise comparison failed; returning scalar instead, but in the future will perform elementwise comparison\n",
      "  return getattr(self.data, op)(other)\n"
     ]
    }
   ],
   "source": [
    "#Extract photometry from the AP PHAT catalog and pack it into arrays\n",
    "cluster_id = np.array(apdata_good_phot6filts['ID'])\n",
    "\n",
    "#F275W filter with error\n",
    "apdata_good_phot6filts['MAG275'][apdata_good_phot6filts['MAG275'] == 'INDEF'] = -99\n",
    "m275 = ma.masked_equal(np.array(apdata_good_phot6filts['MAG275'], dtype='float64'), -99) - dmod_M31\n",
    "apdata_good_phot6filts['SIG275'][apdata_good_phot6filts['SIG275'] == 'INDEF'] = -99\n",
    "m275err = ma.masked_equal(np.array(apdata_good_phot6filts['SIG275'], \n",
    "                                   dtype='float64'), -99)\n",
    "\n",
    "#F336W filter with error\n",
    "apdata_good_phot6filts['MAG336'][apdata_good_phot6filts['MAG336'] == 'INDEF'] = -99\n",
    "m336 = ma.masked_equal(np.array(apdata_good_phot6filts['MAG336'], dtype='float64'), -99) - dmod_M31\n",
    "apdata_good_phot6filts['SIG336'][apdata_good_phot6filts['SIG336'] == 'INDEF'] = -99\n",
    "m336err = ma.masked_equal(np.array(apdata_good_phot6filts['SIG336'], \n",
    "                                   dtype='float64'), -99)\n",
    "\n",
    "#F475W filter with error\n",
    "apdata_good_phot6filts['MAG475'][apdata_good_phot6filts['MAG475'] == 'INDEF'] = -99\n",
    "m475 = ma.masked_equal(np.array(apdata_good_phot6filts['MAG475'], dtype='float64'), -99) - dmod_M31\n",
    "apdata_good_phot6filts['SIG475'][apdata_good_phot6filts['SIG475'] == 'INDEF'] = -99\n",
    "m475err = ma.masked_equal(np.array(apdata_good_phot6filts['SIG475'],\n",
    "                                   dtype='float64'), -99)\n",
    "#F814W filter with error\n",
    "apdata_good_phot6filts['MAG814'][apdata_good_phot6filts['MAG814'] == 'INDEF'] = -99\n",
    "m814 = ma.masked_equal(np.array(apdata_good_phot6filts['MAG814'], dtype='float64'), -99) - dmod_M31\n",
    "apdata_good_phot6filts['SIG814'][apdata_good_phot6filts['SIG814'] == 'INDEF'] = -99\n",
    "m814err = ma.masked_equal(np.array(apdata_good_phot6filts['SIG814'],\n",
    "                                   dtype='float64'), -99)\n",
    "\n",
    "#F110W filter with error\n",
    "apdata_good_phot6filts['MAG110'][apdata_good_phot6filts['MAG110'] == 'INDEF'] = -99\n",
    "m110 = ma.masked_equal(np.array(apdata_good_phot6filts['MAG110'], dtype='float64'), -99) - dmod_M31\n",
    "apdata_good_phot6filts['SIG110'][apdata_good_phot6filts['SIG110'] == 'INDEF'] = -99\n",
    "m110err = ma.masked_equal(np.array(apdata_good_phot6filts['SIG110'],\n",
    "                                   dtype='float64'), -99)\n",
    "\n",
    "#F160W filter with error \n",
    "apdata_good_phot6filts['MAG160'][apdata_good_phot6filts['MAG160'] == 'INDEF'] = -99\n",
    "m160 = ma.masked_equal(np.array(apdata_good_phot6filts['MAG160'],dtype='float64'), -99) - dmod_M31\n",
    "apdata_good_phot6filts['SIG160'][apdata_good_phot6filts['SIG160'] == 'INDEF'] = -99\n",
    "m160err = ma.masked_equal(np.array(apdata_good_phot6filts['SIG160'],\n",
    "                                   dtype='float64'), -99)\n",
    "\n",
    "apdata_good_phot6filts_logm=apdata_good_phot6filts['BEST_MASS']\n",
    "apdata_good_phot6filts_logt=apdata_good_phot6filts['BEST_AGE']\n",
    "apdata_good_phot6filts_logx=apdata_good_phot6filts['CMD_AV_BEST']"
   ]
  },
  {
   "cell_type": "code",
   "execution_count": 5,
   "metadata": {},
   "outputs": [],
   "source": [
    "# Mask entries with bad data in one or more filters for the actual M31 data\n",
    "valid = np.logical_and(np.logical_not(m275.mask),\n",
    "                       np.logical_not(m336.mask))\n",
    "valid = np.logical_and(valid, np.logical_not(m475.mask))\n",
    "valid = np.logical_and(valid, np.logical_not(m814.mask))\n",
    "valid = np.logical_and(valid, np.logical_not(m110.mask))\n",
    "valid = np.logical_and(valid, np.logical_not(m160.mask))"
   ]
  },
  {
   "cell_type": "code",
   "execution_count": 6,
   "metadata": {},
   "outputs": [],
   "source": [
    "# Create array of photometry to pass to cluster_slug\n",
    "phot=np.zeros((np.sum(616), 6)) #Creating an empty array of zeros with the shape of 2753x6 \n",
    "photerr=np.zeros((np.sum(616), 6))#Creating an empty array of zeros with the shape of 2753x6 "
   ]
  },
  {
   "cell_type": "code",
   "execution_count": 7,
   "metadata": {},
   "outputs": [],
   "source": [
    "#Defining the filters defined in the parameter file. Filters used for M3!\n",
    "phot[:,0] = m275[valid]\n",
    "phot[:,1] = m336[valid]\n",
    "phot[:,2] = m475[valid]\n",
    "phot[:,3] = m814[valid]\n",
    "phot[:,4] = m110[valid]\n",
    "phot[:,5] = m160[valid] \n",
    "photerr[:,0] = m275err[valid]\n",
    "photerr[:,1] = m336err[valid]\n",
    "photerr[:,2] = m475err[valid]\n",
    "photerr[:,3] = m814err[valid]\n",
    "photerr[:,4] = m110err[valid]\n",
    "photerr[:,5] = m160err[valid] \n",
    "\n",
    "# Set up filter list (Commented out the original list of filters originally for chdata) for M31 AP PHAT \n",
    "filters = ['WFC3_UVIS_F275W', 'WFC3_UVIS_F336W', 'ACS_F475W', 'ACS_F814W', \n",
    "           'WFC3_IR_F110W', 'WFC3_IR_F160W']"
   ]
  },
  {
   "cell_type": "code",
   "execution_count": 8,
   "metadata": {},
   "outputs": [],
   "source": [
    "# Define the sample density (For AP PHAT Data)\n",
    "def sample_density(physprop):\n",
    "    logm = physprop[:,0]\n",
    "    logt = physprop[:,1]\n",
    "    #logx = physprop[:,2]\n",
    "    sden = np.ones(len(logm))\n",
    "    sden[logm > 4] = sden[logm > 4] * 1.0/10.**(logm[logm > 4]-4)\n",
    "    sden[logt > 8] = sden[logt > 8] * 1.0/10.**(logt[logt > 8]-8)\n",
    "    #sden[logx > 12]= sden[logx >12] * 1.0/10.**(logx[logx >12]-12)\n",
    "    return sden"
   ]
  },
  {
   "cell_type": "code",
   "execution_count": 9,
   "metadata": {},
   "outputs": [
    {
     "name": "stdout",
     "output_type": "stream",
     "text": [
      "Reading cluster_slug library...\n"
     ]
    }
   ],
   "source": [
    "# Set up the cluster_slug object; this command will take care of\n",
    "# reading the library and converting the data to the Vega photometric\n",
    "# system\n",
    "print(\"Reading cluster_slug library...\")\n",
    "cs=cluster_slug(photsystem='Vega', filters=filters, bw_phot=0.25,\n",
    "                ktype='gaussian',sample_density=sample_density,\n",
    "                libname='LEGUS_1e6_1e10age_PadKroupaAfter_PHAT_lib_1e7Trials')\n",
    "# Set priors to be flat in log T and A_V, but vary with logm as\n",
    "# p(log M) ~ 1/M\n",
    "def priorfunc(physprop):\n",
    "    # Note: physprop is an array of shape (N, 3) where physprop[:,0] =\n",
    "    # log M, physprop[:,1] = log T, physprop[:,2] = A_V\n",
    "    return 1.0/np.exp(physprop[:,0])\n",
    "cs.priors = priorfunc"
   ]
  },
  {
   "cell_type": "code",
   "execution_count": 10,
   "metadata": {},
   "outputs": [
    {
     "name": "stdout",
     "output_type": "stream",
     "text": [
      "Computing posterior PDFs...\n"
     ]
    },
    {
     "name": "stderr",
     "output_type": "stream",
     "text": [
      "/anaconda3/lib/python3.7/site-packages/ipykernel_launcher.py:3: DeprecationWarning: time.clock has been deprecated in Python 3.3 and will be removed from Python 3.8: use time.perf_counter or time.process_time instead\n",
      "  This is separate from the ipykernel package so we can avoid doing imports until\n"
     ]
    },
    {
     "name": "stdout",
     "output_type": "stream",
     "text": [
      "Computation time: 185.627125 seconds total, 0.150671 seconds / PDF\n"
     ]
    },
    {
     "name": "stderr",
     "output_type": "stream",
     "text": [
      "/anaconda3/lib/python3.7/site-packages/ipykernel_launcher.py:12: DeprecationWarning: time.clock has been deprecated in Python 3.3 and will be removed from Python 3.8: use time.perf_counter or time.process_time instead\n",
      "  if sys.path[0] == '':\n"
     ]
    },
    {
     "data": {
      "text/plain": [
       "<matplotlib.axes._subplots.AxesSubplot at 0x1b3e154c88>"
      ]
     },
     "execution_count": 10,
     "metadata": {},
     "output_type": "execute_result"
    },
    {
     "data": {
      "image/png": "[encoded data removed]",
      "text/plain": [
       "<Figure size 432x576 with 1 Axes>"
      ]
     },
     "metadata": {
      "needs_background": "light"
     },
     "output_type": "display_data"
    }
   ],
   "source": [
    "# Start timing\n",
    "print(\"Computing posterior PDFs...\")\n",
    "lasttime = time.clock()\n",
    "\n",
    "\n",
    "# Compute marginal PDFs of mass and age\n",
    "logm, mpdf = cs.mpdf(0, phot, photerr, filters=filters)\n",
    "logt, tpdf = cs.mpdf(1, phot, photerr, filters=filters)\n",
    "\n",
    "\n",
    "# End timing\n",
    "newtime = time.clock()\n",
    "tottime = newtime - lasttime\n",
    "\n",
    "# Print timing results\n",
    "print(\"Computation time: {:f} seconds total, {:f} seconds / PDF\".\n",
    "      format(tottime, tottime/phot.shape[0]/2))\n",
    "\n",
    "# Set up a plot window\n",
    "plt.figure(1, figsize=(6,8))\n",
    "plt.subplot(4,2,1)"
   ]
  },
  {
   "cell_type": "code",
   "execution_count": 11,
   "metadata": {},
   "outputs": [],
   "source": [
    "logx, xpdf = cs.mpdf(2, phot, photerr, ngrid=1000, filters=filters)"
   ]
  },
  {
   "cell_type": "code",
   "execution_count": 12,
   "metadata": {},
   "outputs": [],
   "source": [
    "# Compute the mean of the posterior PDFs returned by cluster_slug\n",
    "mmean = np.sum(logm*mpdf*(logm[1]-logm[0]), axis=1)\n",
    "tmean = np.sum(logt*tpdf*(logt[1]-logt[0]), axis=1)\n",
    "xmean = np.sum(logx*xpdf*(logx[1]-logt[0]), axis=1)\n",
    "\n",
    "# Compute the 25th, 50th, and 75th percentiles of the posterior PDFs\n",
    "mpdfsum = np.cumsum(mpdf, axis=1)*(logm[1]-logm[0])\n",
    "mpercentiles = np.array([\n",
    "    logm[np.argmax(np.greater(mpdfsum, 0.1), axis=1)],\n",
    "    logm[np.argmax(np.greater(mpdfsum, 0.5), axis=1)],\n",
    "    logm[np.argmax(np.greater(mpdfsum, 0.9), axis=1)]])\n",
    "tpdfsum = np.cumsum(tpdf, axis=1)*(logt[1]-logt[0])\n",
    "tpercentiles = np.array([\n",
    "    logt[np.argmax(np.greater(tpdfsum, 0.1), axis=1)],\n",
    "    logt[np.argmax(np.greater(tpdfsum, 0.5), axis=1)],\n",
    "    logt[np.argmax(np.greater(tpdfsum, 0.9), axis=1)]])\n",
    "xpdfsum = np.cumsum(xpdf, axis=1)*(logx[1]-logx[0])\n",
    "xpercentiles = np.array([\n",
    "    logx[np.argmax(np.greater(xpdfsum, 0.1), axis=1)],\n",
    "    logx[np.argmax(np.greater(xpdfsum, 0.5), axis=1)],\n",
    "    logx[np.argmax(np.greater(xpdfsum, 0.9), axis=1)]])"
   ]
  },
  {
   "cell_type": "code",
   "execution_count": 13,
   "metadata": {},
   "outputs": [],
   "source": [
    "# For each model, find the best match in the library for the 12 hand-picked clusters\n",
    "matches, dist = cs.bestmatch(phot, filters=filters, nmatch=1)\n",
    "dist = dist/np.sqrt(len(filters))"
   ]
  },
  {
   "cell_type": "code",
   "execution_count": 14,
   "metadata": {},
   "outputs": [],
   "source": [
    "mp25=mpercentiles[0]\n",
    "mp50=mpercentiles[1]\n",
    "mp75=mpercentiles[2]\n",
    "tp25=tpercentiles[0]\n",
    "tp50=tpercentiles[1]\n",
    "tp75=tpercentiles[2]\n",
    "xp25=xpercentiles[0]\n",
    "xp50=xpercentiles[1]\n",
    "xp75=xpercentiles[2]"
   ]
  },
  {
   "cell_type": "code",
   "execution_count": 15,
   "metadata": {},
   "outputs": [],
   "source": [
    "pmatches, dist = cs.bestmatch(phot, filters=filters, nmatch=100)"
   ]
  },
  {
   "cell_type": "code",
   "execution_count": 16,
   "metadata": {},
   "outputs": [],
   "source": [
    "phot_matches=(pmatches[:,:,-6:])+dmod_M31\n",
    "m_matches=matches[:,:-8]\n",
    "t_matches=matches[:,1:-7]\n",
    "x_matches=matches[:,2:-6]"
   ]
  },
  {
   "cell_type": "code",
   "execution_count": 17,
   "metadata": {},
   "outputs": [
    {
     "data": {
      "text/plain": [
       "array([[1.98691255e-01, 2.35901181e-01, 2.70573091e-01, ...,\n",
       "        2.63401673e-04, 2.41127797e-04, 2.34987190e-04],\n",
       "       [2.07984380e-01, 2.48264772e-01, 2.86232266e-01, ...,\n",
       "        3.22545574e-04, 3.17364994e-04, 3.16271575e-04],\n",
       "       [6.99146667e-02, 8.56925739e-02, 1.01993502e-01, ...,\n",
       "        1.90287399e-04, 1.90287399e-04, 1.90287399e-04],\n",
       "       ...,\n",
       "       [1.22360325e+00, 1.46640126e+00, 1.68972920e+00, ...,\n",
       "        1.13236598e-02, 1.11664308e-02, 1.05530800e-02],\n",
       "       [3.17430134e-02, 3.68925178e-02, 4.13794610e-02, ...,\n",
       "        1.95140614e+00, 1.71072490e+00, 1.45139812e+00],\n",
       "       [2.51886301e-02, 3.04970468e-02, 3.57170130e-02, ...,\n",
       "        8.64565527e-01, 7.20460152e-01, 5.82905636e-01]])"
      ]
     },
     "execution_count": 17,
     "metadata": {},
     "output_type": "execute_result"
    }
   ],
   "source": [
    "mpdf"
   ]
  },
  {
   "cell_type": "code",
   "execution_count": 18,
   "metadata": {},
   "outputs": [],
   "source": [
    "diffPDFmed_M_apdata=apdata_good_phot6filts_logm-mpercentiles[1]\n",
    "diffPDFmed_A_apdata=apdata_good_phot6filts_logt-tpercentiles[1]\n",
    "diffPDFmed_X_apdata=apdata_good_phot6filts_logx-xpercentiles[1]\n"
   ]
  },
  {
   "cell_type": "code",
   "execution_count": 19,
   "metadata": {},
   "outputs": [],
   "source": [
    "apdata_good_phot6filts_BT=apdata_good_phot6filts['BEST_METHOD']"
   ]
  },
  {
   "cell_type": "code",
   "execution_count": 20,
   "metadata": {},
   "outputs": [],
   "source": [
    "indBT=np.where(apdata_good_phot6filts_BT!='M')\n",
    "indBTM=np.where(apdata_good_phot6filts_BT=='M')\n",
    "apdata_good_phot6filts.remove_rows(indBT)"
   ]
  },
  {
   "cell_type": "code",
   "execution_count": 21,
   "metadata": {},
   "outputs": [
    {
     "data": {
      "text/plain": [
       "5.1209774"
      ]
     },
     "execution_count": 21,
     "metadata": {},
     "output_type": "execute_result"
    }
   ],
   "source": [
    "max(apdata_good_phot6filts['BEST_MASS'])"
   ]
  },
  {
   "cell_type": "code",
   "execution_count": 22,
   "metadata": {},
   "outputs": [
    {
     "data": {
      "text/plain": [
       "358"
      ]
     },
     "execution_count": 22,
     "metadata": {},
     "output_type": "execute_result"
    }
   ],
   "source": [
    "len(apdata_good_phot6filts_logm[indBTM[0]])"
   ]
  },
  {
   "cell_type": "code",
   "execution_count": 23,
   "metadata": {},
   "outputs": [],
   "source": [
    "#Difference of the median of the Mass PDF & the previous mass apdata estimates for only CMD estimates in apdata\n",
    "diff_PDFMedian_m_apdata=apdata_good_phot6filts_logm[indBTM[0]]-mpercentiles[1][indBTM[0]]\n"
   ]
  },
  {
   "cell_type": "code",
   "execution_count": 40,
   "metadata": {
    "scrolled": true
   },
   "outputs": [],
   "source": [
    "diff_PDFMedian_m_apdata_arr=np.array(diff_PDFMedian_m_apdata)\n",
    "diff_PDFMedian_m_apdata_arr=np.reshape(diff_PDFMedian_m_apdata_arr, (358,1))"
   ]
  },
  {
   "cell_type": "code",
   "execution_count": 42,
   "metadata": {
    "scrolled": true
   },
   "outputs": [
    {
     "data": {
      "text/html": [
       "<i>Table length=358</i>\n",
       "<table id=\"table117150918864\" class=\"table-striped table-bordered table-condensed\">\n",
       "<thead><tr><th>6 [1]</th></tr></thead>\n",
       "<thead><tr><th>float64</th></tr></thead>\n",
       "<tr><td>-0.029632509789951023</td></tr>\n",
       "<tr><td>0.14977197938854836</td></tr>\n",
       "<tr><td>0.24778360423285983</td></tr>\n",
       "<tr><td>0.07980809270694156</td></tr>\n",
       "<tr><td>-0.0006179223876072726</td></tr>\n",
       "<tr><td>-0.16846951509145836</td></tr>\n",
       "<tr><td>-0.35577188999370346</td></tr>\n",
       "<tr><td>0.20139426287848972</td></tr>\n",
       "<tr><td>0.4545073371686703</td></tr>\n",
       "<tr><td>0.14949833369880539</td></tr>\n",
       "<tr><td>...</td></tr>\n",
       "<tr><td>-0.9325191977336305</td></tr>\n",
       "<tr><td>-0.18805492655887113</td></tr>\n",
       "<tr><td>0.1405346495098807</td></tr>\n",
       "<tr><td>0.054038071425206446</td></tr>\n",
       "<tr><td>-0.07444467485592465</td></tr>\n",
       "<tr><td>0.3543787612786664</td></tr>\n",
       "<tr><td>-0.30964423355958726</td></tr>\n",
       "<tr><td>-0.2510525649725217</td></tr>\n",
       "<tr><td>-0.10043934282534428</td></tr>\n",
       "<tr><td>-0.04673484262698002</td></tr>\n",
       "</table>"
      ],
      "text/plain": [
       "<Table length=358>\n",
       "        6 [1]         \n",
       "       float64        \n",
       "----------------------\n",
       " -0.029632509789951023\n",
       "   0.14977197938854836\n",
       "   0.24778360423285983\n",
       "   0.07980809270694156\n",
       "-0.0006179223876072726\n",
       "  -0.16846951509145836\n",
       "  -0.35577188999370346\n",
       "   0.20139426287848972\n",
       "    0.4545073371686703\n",
       "   0.14949833369880539\n",
       "                   ...\n",
       "   -0.9325191977336305\n",
       "  -0.18805492655887113\n",
       "    0.1405346495098807\n",
       "  0.054038071425206446\n",
       "  -0.07444467485592465\n",
       "    0.3543787612786664\n",
       "  -0.30964423355958726\n",
       "   -0.2510525649725217\n",
       "  -0.10043934282534428\n",
       "  -0.04673484262698002"
      ]
     },
     "execution_count": 42,
     "metadata": {},
     "output_type": "execute_result"
    }
   ],
   "source": [
    "diff_PDFMedian_m_apdata_Table=Table([diff_PDFMedian_m_apdata_arr], names=('6'))\n",
    "diff_PDFMedian_m_apdata_Table"
   ]
  },
  {
   "cell_type": "code",
   "execution_count": 43,
   "metadata": {},
   "outputs": [],
   "source": [
    "diff_PDFMedian_m_apdata_Table.write('diff_PDFMedian_m_apdata6filt.fits')"
   ]
  },
  {
   "cell_type": "code",
   "execution_count": 24,
   "metadata": {},
   "outputs": [],
   "source": [
    "#Difference of the median of the Age PDF & the previous age apdata estimates for only CMD estimates in apdata\n",
    "diff_PDFMedian_t_apdata=apdata_good_phot6filts_logt[indBTM[0]]-tpercentiles[1][indBTM[0]]"
   ]
  },
  {
   "cell_type": "code",
   "execution_count": 45,
   "metadata": {},
   "outputs": [],
   "source": [
    "diff_PDFMedian_t_apdata_arr=np.array(diff_PDFMedian_t_apdata)\n",
    "diff_PDFMedian_t_apdata_arr=np.reshape(diff_PDFMedian_t_apdata_arr, (358,1))"
   ]
  },
  {
   "cell_type": "code",
   "execution_count": 46,
   "metadata": {
    "scrolled": true
   },
   "outputs": [
    {
     "data": {
      "text/html": [
       "<i>Table length=358</i>\n",
       "<table id=\"table4580201080\" class=\"table-striped table-bordered table-condensed\">\n",
       "<thead><tr><th>6 [1]</th></tr></thead>\n",
       "<thead><tr><th>float64</th></tr></thead>\n",
       "<tr><td>0.13228323086216243</td></tr>\n",
       "<tr><td>0.3267717821904874</td></tr>\n",
       "<tr><td>0.8251964764918869</td></tr>\n",
       "<tr><td>-0.34330727615371703</td></tr>\n",
       "<tr><td>0.07480332923422495</td></tr>\n",
       "<tr><td>0.2086613675374096</td></tr>\n",
       "<tr><td>-0.9551174216867082</td></tr>\n",
       "<tr><td>0.15275581793375537</td></tr>\n",
       "<tr><td>0.4677163841290852</td></tr>\n",
       "<tr><td>0.3102361010314212</td></tr>\n",
       "<tr><td>...</td></tr>\n",
       "<tr><td>-0.6456690671025065</td></tr>\n",
       "<tr><td>0.2590547055299357</td></tr>\n",
       "<tr><td>0.0007877464472194617</td></tr>\n",
       "<tr><td>-0.5267714042597866</td></tr>\n",
       "<tr><td>-0.09527572910998039</td></tr>\n",
       "<tr><td>0.2992126314834813</td></tr>\n",
       "<tr><td>-0.6377952552774522</td></tr>\n",
       "<tr><td>-1.1842516873574516</td></tr>\n",
       "<tr><td>0.17874061661647733</td></tr>\n",
       "<tr><td>-0.37874023868577744</td></tr>\n",
       "</table>"
      ],
      "text/plain": [
       "<Table length=358>\n",
       "        6 [1]        \n",
       "       float64       \n",
       "---------------------\n",
       "  0.13228323086216243\n",
       "   0.3267717821904874\n",
       "   0.8251964764918869\n",
       " -0.34330727615371703\n",
       "  0.07480332923422495\n",
       "   0.2086613675374096\n",
       "  -0.9551174216867082\n",
       "  0.15275581793375537\n",
       "   0.4677163841290852\n",
       "   0.3102361010314212\n",
       "                  ...\n",
       "  -0.6456690671025065\n",
       "   0.2590547055299357\n",
       "0.0007877464472194617\n",
       "  -0.5267714042597866\n",
       " -0.09527572910998039\n",
       "   0.2992126314834813\n",
       "  -0.6377952552774522\n",
       "  -1.1842516873574516\n",
       "  0.17874061661647733\n",
       " -0.37874023868577744"
      ]
     },
     "execution_count": 46,
     "metadata": {},
     "output_type": "execute_result"
    }
   ],
   "source": [
    "diff_PDFMedian_t_apdata_Table=Table([diff_PDFMedian_t_apdata_arr], names=('6'))\n",
    "diff_PDFMedian_t_apdata_Table"
   ]
  },
  {
   "cell_type": "code",
   "execution_count": 47,
   "metadata": {},
   "outputs": [],
   "source": [
    "diff_PDFMedian_t_apdata_Table.write('diff_PDFMedian_t_apdata6filt.fits')"
   ]
  },
  {
   "cell_type": "code",
   "execution_count": 25,
   "metadata": {},
   "outputs": [],
   "source": [
    "#Difference of the median of the Av PDF & the previous Av apdata estimates for only CMD estimates in apdata\n",
    "diff_PDFMedian_x_apdata=apdata_good_phot6filts_logx[indBTM[0]]-xpercentiles[1][indBTM[0]]"
   ]
  },
  {
   "cell_type": "code",
   "execution_count": 49,
   "metadata": {},
   "outputs": [],
   "source": [
    "diff_PDFMedian_x_apdata_arr=np.array(diff_PDFMedian_x_apdata)\n",
    "diff_PDFMedian_x_apdata_arr=np.reshape(diff_PDFMedian_x_apdata_arr, (358,1))"
   ]
  },
  {
   "cell_type": "code",
   "execution_count": 50,
   "metadata": {
    "scrolled": true
   },
   "outputs": [
    {
     "data": {
      "text/html": [
       "<i>Table length=358</i>\n",
       "<table id=\"table4580203432\" class=\"table-striped table-bordered table-condensed\">\n",
       "<thead><tr><th>6 [1]</th></tr></thead>\n",
       "<thead><tr><th>float64</th></tr></thead>\n",
       "<tr><td>-0.258708989039506</td></tr>\n",
       "<tr><td>-0.20870897711857705</td></tr>\n",
       "<tr><td>-0.2552595227951253</td></tr>\n",
       "<tr><td>-0.00870898903950601</td></tr>\n",
       "<tr><td>-0.2581340680646683</td></tr>\n",
       "<tr><td>-0.10985879522639419</td></tr>\n",
       "<tr><td>1.140141204773606</td></tr>\n",
       "<tr><td>-0.26043369235937375</td></tr>\n",
       "<tr><td>0.19359068293891524</td></tr>\n",
       "<tr><td>-0.30928389213295016</td></tr>\n",
       "<tr><td>...</td></tr>\n",
       "<tr><td>-0.20640935282387163</td></tr>\n",
       "<tr><td>-17.997717330492264</td></tr>\n",
       "<tr><td>0.08956627187783939</td></tr>\n",
       "<tr><td>0.8470400657367931</td></tr>\n",
       "<tr><td>0.041865943856260635</td></tr>\n",
       "<tr><td>0.3435906590970573</td></tr>\n",
       "<tr><td>-0.2558344437699629</td></tr>\n",
       "<tr><td>0.3447405010467326</td></tr>\n",
       "<tr><td>-0.5564093468634072</td></tr>\n",
       "<tr><td>-0.00813406806466832</td></tr>\n",
       "</table>"
      ],
      "text/plain": [
       "<Table length=358>\n",
       "       6 [1]        \n",
       "      float64       \n",
       "--------------------\n",
       "  -0.258708989039506\n",
       "-0.20870897711857705\n",
       " -0.2552595227951253\n",
       "-0.00870898903950601\n",
       " -0.2581340680646683\n",
       "-0.10985879522639419\n",
       "   1.140141204773606\n",
       "-0.26043369235937375\n",
       " 0.19359068293891524\n",
       "-0.30928389213295016\n",
       "                 ...\n",
       "-0.20640935282387163\n",
       " -17.997717330492264\n",
       " 0.08956627187783939\n",
       "  0.8470400657367931\n",
       "0.041865943856260635\n",
       "  0.3435906590970573\n",
       " -0.2558344437699629\n",
       "  0.3447405010467326\n",
       " -0.5564093468634072\n",
       "-0.00813406806466832"
      ]
     },
     "execution_count": 50,
     "metadata": {},
     "output_type": "execute_result"
    }
   ],
   "source": [
    "diff_PDFMedian_x_apdata_Table=Table([diff_PDFMedian_x_apdata_arr], names=('6'))\n",
    "diff_PDFMedian_x_apdata_Table"
   ]
  },
  {
   "cell_type": "code",
   "execution_count": 51,
   "metadata": {},
   "outputs": [],
   "source": [
    "diff_PDFMedian_x_apdata_Table.write('diff_PDFMedian_x_apdata6filt.fits')"
   ]
  },
  {
   "cell_type": "code",
   "execution_count": 26,
   "metadata": {},
   "outputs": [],
   "source": [
    "sorted_mPDF_apdataMedian=np.sort(diff_PDFMedian_m_apdata)\n",
    "diff_PDFMedian_m_apdata_25q=np.median(sorted_mPDF_apdataMedian[0:179])\n",
    "diff_PDFMedian_m_apdata_75q=np.median(sorted_mPDF_apdataMedian[180:358])"
   ]
  },
  {
   "cell_type": "code",
   "execution_count": 27,
   "metadata": {},
   "outputs": [
    {
     "data": {
      "text/plain": [
       "(-0.05741596003598515, 0.15899623853879485, 0.35425971134365075)"
      ]
     },
     "execution_count": 27,
     "metadata": {},
     "output_type": "execute_result"
    }
   ],
   "source": [
    "#P25, Median, and P75 of CMD Log Mass and SLUG Mass Median\n",
    "diff_PDFMedian_m_apdata_25q,np.median(diff_PDFMedian_m_apdata),diff_PDFMedian_m_apdata_75q"
   ]
  },
  {
   "cell_type": "code",
   "execution_count": 28,
   "metadata": {},
   "outputs": [
    {
     "data": {
      "text/plain": [
       "0.4116756713796359"
      ]
     },
     "execution_count": 28,
     "metadata": {},
     "output_type": "execute_result"
    }
   ],
   "source": [
    "#IQR for Mass PDF Median - apdata (75th - 25th quartile values)\n",
    "MassIQR=diff_PDFMedian_m_apdata_75q-diff_PDFMedian_m_apdata_25q\n",
    "MassIQR"
   ]
  },
  {
   "cell_type": "code",
   "execution_count": 29,
   "metadata": {},
   "outputs": [
    {
     "data": {
      "text/plain": [
       "0.4552887037259016"
      ]
     },
     "execution_count": 29,
     "metadata": {},
     "output_type": "execute_result"
    }
   ],
   "source": [
    "#Sigma of Mass PDF Median - CMD Log Mass\n",
    "np.std(diff_PDFMedian_m_apdata)"
   ]
  },
  {
   "cell_type": "code",
   "execution_count": 30,
   "metadata": {},
   "outputs": [
    {
     "data": {
      "image/png": "[encoded data removed]",
      "text/plain": [
       "<Figure size 432x288 with 2 Axes>"
      ]
     },
     "metadata": {
      "needs_background": "light"
     },
     "output_type": "display_data"
    }
   ],
   "source": [
    "#Slug Masses vs CMD Masses with ONLY CMD BEST METHOD used \n",
    "x=np.arange(2,5,0.5)\n",
    "ax=plt.subplot()\n",
    "plt.subplot(1,2,1)\n",
    "plt.scatter(mpercentiles[1][indBTM[0]],diff_PDFMedian_m_apdata, color='steelblue')\n",
    "plt.plot(x,np.median(diff_PDFMedian_m_apdata)*np.ones(6),'k--',lw=2)\n",
    "plt.plot(x,diff_PDFMedian_m_apdata_25q*np.ones(6),'b--',lw=2)\n",
    "plt.plot(x,diff_PDFMedian_m_apdata_75q*np.ones(6),'r--',lw=2)\n",
    "plt.ylabel('Difference of Models.', fontsize=13)\n",
    "plt.xlabel('Previous Log Mass Estimates', fontsize=13);\n",
    "\n",
    "\n",
    "plt.subplot(1,2,2)\n",
    "a=np.arange(0,180,1)\n",
    "plt.hist(diff_PDFMedian_m_apdata, orientation='horizontal',histtype='step',lw=2,color='steelblue')\n",
    "plt.plot(a,np.median(diff_PDFMedian_m_apdata)*np.ones(180),'k--',lw=2,label='Median')\n",
    "plt.plot(a,diff_PDFMedian_m_apdata_25q*np.ones(180),'b--',lw=2,label='25th percentile')\n",
    "plt.plot(a,diff_PDFMedian_m_apdata_75q*np.ones(180),'r--',lw=2,label='75th percentile')\n",
    "plt.xlabel('Clusters',fontsize=13)\n",
    "plt.yticks([])\n",
    "plt.legend()\n",
    "\n",
    "plt.subplots_adjust(hspace=0.4, wspace=0, bottom=0.5, top=1.2, right=1.3)\n",
    "plt.savefig('/Volumes/My_Passport_for_Mac/M33_M31_LGCS_Files/M31-Andromeda/Model_Comparison_Files/SlugPDF-CMDMassEst_vs_CMDMassEst_6filts.pdf')"
   ]
  },
  {
   "cell_type": "code",
   "execution_count": 31,
   "metadata": {},
   "outputs": [],
   "source": [
    "sorted_tPDF_apdataMedian=np.sort(diff_PDFMedian_t_apdata)\n",
    "diff_PDFMedian_t_apdata_25q=np.median(sorted_tPDF_apdataMedian[0:179])\n",
    "diff_PDFMedian_t_apdata_75q=np.median(sorted_tPDF_apdataMedian[180:358])"
   ]
  },
  {
   "cell_type": "code",
   "execution_count": 32,
   "metadata": {},
   "outputs": [
    {
     "data": {
      "text/plain": [
       "179"
      ]
     },
     "execution_count": 32,
     "metadata": {},
     "output_type": "execute_result"
    }
   ],
   "source": [
    "len(sorted_tPDF_apdataMedian[179:358])"
   ]
  },
  {
   "cell_type": "code",
   "execution_count": 33,
   "metadata": {},
   "outputs": [
    {
     "data": {
      "text/plain": [
       "0.6696847911711457"
      ]
     },
     "execution_count": 33,
     "metadata": {},
     "output_type": "execute_result"
    }
   ],
   "source": [
    "#IQR for Age PDF Median - apdata\n",
    "diff_PDFMedian_t_apdata_75q-diff_PDFMedian_t_apdata_25q"
   ]
  },
  {
   "cell_type": "code",
   "execution_count": 34,
   "metadata": {},
   "outputs": [
    {
     "data": {
      "text/plain": [
       "(-0.20629910329048773, 0.14724408315978632, 0.4633856878806579)"
      ]
     },
     "execution_count": 34,
     "metadata": {},
     "output_type": "execute_result"
    }
   ],
   "source": [
    "diff_PDFMedian_t_apdata_25q,np.median(diff_PDFMedian_t_apdata),diff_PDFMedian_t_apdata_75q"
   ]
  },
  {
   "cell_type": "code",
   "execution_count": 35,
   "metadata": {},
   "outputs": [
    {
     "data": {
      "text/plain": [
       "0.6236141347841173"
      ]
     },
     "execution_count": 35,
     "metadata": {},
     "output_type": "execute_result"
    }
   ],
   "source": [
    "#standard deviation (sigma) of Age median of the PDF - Age apdata\n",
    "np.std(diff_PDFMedian_t_apdata)"
   ]
  },
  {
   "cell_type": "code",
   "execution_count": 36,
   "metadata": {},
   "outputs": [
    {
     "data": {
      "text/plain": [
       "(0.3161416047208716,)"
      ]
     },
     "execution_count": 36,
     "metadata": {},
     "output_type": "execute_result"
    }
   ],
   "source": [
    "#width of our Age distribution from p75 to p50(median)\n",
    "diff_PDFMedian_t_apdata_75q-np.median(diff_PDFMedian_t_apdata), "
   ]
  },
  {
   "cell_type": "code",
   "execution_count": 37,
   "metadata": {},
   "outputs": [
    {
     "data": {
      "image/png": "[encoded data removed]",
      "text/plain": [
       "<Figure size 432x288 with 2 Axes>"
      ]
     },
     "metadata": {
      "needs_background": "light"
     },
     "output_type": "display_data"
    }
   ],
   "source": [
    "#Slug Ages vs CMD Ages with ONLY CMD BEST METHOD used \n",
    "Y=np.arange(6,10,0.5)\n",
    "ax=plt.subplot()\n",
    "plt.subplot(1,2,1)\n",
    "plt.scatter(tpercentiles[1][indBTM[0]],diff_PDFMedian_t_apdata, color='steelblue')\n",
    "plt.plot(Y,np.median(diff_PDFMedian_t_apdata)*np.ones(8),'k--',lw=2)\n",
    "plt.plot(Y,diff_PDFMedian_t_apdata_25q*np.ones(8),'b--',lw=2)\n",
    "plt.plot(Y,diff_PDFMedian_t_apdata_75q*np.ones(8),'r--',lw=2)\n",
    "plt.ylabel('Difference of Models.', fontsize=13)\n",
    "plt.xlabel('Previous Log Age Estimates', fontsize=13);\n",
    "\n",
    "plt.subplot(1,2,2)\n",
    "b=np.arange(0,180,1)\n",
    "plt.hist(diff_PDFMedian_m_apdata, orientation='horizontal',histtype='step',lw=2,color='steelblue')\n",
    "plt.plot(b,np.median(diff_PDFMedian_t_apdata)*np.ones(180),'k--',lw=2,label='Median')\n",
    "plt.plot(b,diff_PDFMedian_t_apdata_25q*np.ones(180),'b--',lw=2,label='25th percentile')\n",
    "plt.plot(b,diff_PDFMedian_t_apdata_75q*np.ones(180),'r--',lw=2,label='75th percentile')\n",
    "plt.xlabel('Clusters',fontsize=13)\n",
    "plt.yticks([])\n",
    "plt.legend()\n",
    "plt.xlabel('Clusters', fontsize=13);\n",
    "\n",
    "plt.subplots_adjust(hspace=0.4, wspace=0, bottom=0.5, top=1.2, right=1.3)\n",
    "plt.savefig('/Volumes/My_Passport_for_Mac/M33_M31_LGCS_Files/M31-Andromeda/Model_Comparison_Files/SlugPDF-CMDAgeEst_vs_CMDAgeEst_6filts.pdf')\n"
   ]
  },
  {
   "cell_type": "code",
   "execution_count": 38,
   "metadata": {},
   "outputs": [
    {
     "data": {
      "text/plain": [
       "(-0.20629910329048773, 0.14724408315978632, 0.4633856878806579)"
      ]
     },
     "execution_count": 38,
     "metadata": {},
     "output_type": "execute_result"
    }
   ],
   "source": [
    "diff_PDFMedian_t_apdata_25q,np.median(diff_PDFMedian_t_apdata),diff_PDFMedian_t_apdata_75q"
   ]
  },
  {
   "cell_type": "code",
   "execution_count": 39,
   "metadata": {},
   "outputs": [
    {
     "data": {
      "text/plain": [
       "0.6696847911711457"
      ]
     },
     "execution_count": 39,
     "metadata": {},
     "output_type": "execute_result"
    }
   ],
   "source": [
    "#Log Age IQR\n",
    "AgeIQR=diff_PDFMedian_t_apdata_75q-diff_PDFMedian_t_apdata_25q\n",
    "AgeIQR"
   ]
  },
  {
   "cell_type": "code",
   "execution_count": 40,
   "metadata": {},
   "outputs": [
    {
     "data": {
      "text/plain": [
       "(0.3161416047208716,)"
      ]
     },
     "execution_count": 40,
     "metadata": {},
     "output_type": "execute_result"
    }
   ],
   "source": [
    "#width of our Age distribution from p75 to p50(median)\n",
    "diff_PDFMedian_t_apdata_75q-np.median(diff_PDFMedian_t_apdata), "
   ]
  },
  {
   "cell_type": "code",
   "execution_count": 41,
   "metadata": {},
   "outputs": [
    {
     "data": {
      "text/plain": [
       "0.35354318645027405"
      ]
     },
     "execution_count": 41,
     "metadata": {},
     "output_type": "execute_result"
    }
   ],
   "source": [
    "#width of our Age distribution from p50(median) to p25\n",
    "np.median(diff_PDFMedian_t_apdata)-diff_PDFMedian_t_apdata_25q"
   ]
  },
  {
   "cell_type": "code",
   "execution_count": 42,
   "metadata": {},
   "outputs": [
    {
     "data": {
      "text/plain": [
       "0.1952634728048559"
      ]
     },
     "execution_count": 42,
     "metadata": {},
     "output_type": "execute_result"
    }
   ],
   "source": [
    "#width of our Mass distribution from p75 to p50(median)\n",
    "diff_PDFMedian_m_apdata_75q-np.median(diff_PDFMedian_m_apdata)"
   ]
  },
  {
   "cell_type": "code",
   "execution_count": 43,
   "metadata": {},
   "outputs": [
    {
     "data": {
      "text/plain": [
       "0.21641219857478"
      ]
     },
     "execution_count": 43,
     "metadata": {},
     "output_type": "execute_result"
    }
   ],
   "source": [
    "#width of our Age distribution from p50(median) to p25\n",
    "np.median(diff_PDFMedian_m_apdata)-diff_PDFMedian_m_apdata_25q"
   ]
  },
  {
   "cell_type": "code",
   "execution_count": 44,
   "metadata": {},
   "outputs": [],
   "source": [
    "#PERCENTILES FOR EXTINCTION differences for clusters with CMD best method\n",
    "sorted_xPDF_apdataMedian=np.sort(diff_PDFMedian_x_apdata)\n",
    "diff_PDFMedian_x_apdata_25q=np.median(sorted_xPDF_apdataMedian[0:179])\n",
    "diff_PDFMedian_x_apdata_75q=np.median(sorted_xPDF_apdataMedian[180:358])\n"
   ]
  },
  {
   "cell_type": "code",
   "execution_count": 45,
   "metadata": {},
   "outputs": [
    {
     "data": {
      "text/plain": [
       "(-0.405834419928105, -0.05842154047301612, 0.39129104672328086)"
      ]
     },
     "execution_count": 45,
     "metadata": {},
     "output_type": "execute_result"
    }
   ],
   "source": [
    "diff_PDFMedian_x_apdata_25q, np.median(diff_PDFMedian_x_apdata),diff_PDFMedian_x_apdata_75q"
   ]
  },
  {
   "cell_type": "code",
   "execution_count": 46,
   "metadata": {},
   "outputs": [
    {
     "data": {
      "text/plain": [
       "0.7971254666513858"
      ]
     },
     "execution_count": 46,
     "metadata": {},
     "output_type": "execute_result"
    }
   ],
   "source": [
    "#IQR for Extinction PDF Median - apdata\n",
    "diff_PDFMedian_x_apdata_75q-diff_PDFMedian_x_apdata_25q"
   ]
  },
  {
   "cell_type": "code",
   "execution_count": 47,
   "metadata": {},
   "outputs": [
    {
     "data": {
      "text/plain": [
       "2.66527014273898"
      ]
     },
     "execution_count": 47,
     "metadata": {},
     "output_type": "execute_result"
    }
   ],
   "source": [
    "np.std(diff_PDFMedian_x_apdata)"
   ]
  },
  {
   "cell_type": "code",
   "execution_count": 48,
   "metadata": {},
   "outputs": [],
   "source": [
    "#PERCENTILES FOR EXTINCTION differences for clusters WITHOUT CMD best method\n",
    "sorted_Xpdf_apdataMedian=np.sort(diffPDFmed_X_apdata)\n",
    "diff_PDFMedian_X_apdata_25q=np.median(sorted_xPDF_apdataMedian[0:307])\n",
    "diff_PDFMedian_X_apdata_75q=np.median(sorted_xPDF_apdataMedian[308:616])"
   ]
  },
  {
   "cell_type": "code",
   "execution_count": 49,
   "metadata": {},
   "outputs": [
    {
     "data": {
      "image/png": "[encoded data removed]",
      "text/plain": [
       "<Figure size 432x288 with 2 Axes>"
      ]
     },
     "metadata": {
      "needs_background": "light"
     },
     "output_type": "display_data"
    }
   ],
   "source": [
    "#plotting the median of the PDF versus the difference of the apdata Av minus the median of the PDF for all \n",
    "#apdata clusters with and without best method CMD\n",
    "z=np.arange(0,25,1)\n",
    "ax=plt.subplot()\n",
    "plt.subplot(1,2,1)\n",
    "plt.scatter(xpercentiles[1],diffPDFmed_X_apdata, color='steelblue')\n",
    "plt.plot(z,np.median(diffPDFmed_X_apdata)*np.ones(25),'k--',lw=1)\n",
    "plt.plot(z,diff_PDFMedian_X_apdata_25q*np.ones(25),'b--',lw=1)\n",
    "plt.plot(z,diff_PDFMedian_X_apdata_75q*np.ones(25),'r--',lw=1)\n",
    "plt.ylim(-30,23)\n",
    "#plt.xlim(0,5)\n",
    "plt.ylabel('LogAVSLUG - LogAVCMD', fontsize=13)\n",
    "plt.xlabel('Previous Log A_V Estimates', fontsize=13);\n",
    "\n",
    "\n",
    "plt.subplot(1,2,2)\n",
    "c=np.arange(0,302,1)\n",
    "plt.hist(diffPDFmed_X_apdata, orientation='horizontal',histtype='step',lw=2,color='steelblue')\n",
    "plt.plot(c,np.median(diffPDFmed_X_apdata)*np.ones(302),'k--',lw=1,label='Median')\n",
    "plt.plot(c,diff_PDFMedian_X_apdata_25q*np.ones(302),'b--',lw=1,label='25th percentile')\n",
    "plt.plot(c,diff_PDFMedian_X_apdata_75q*np.ones(302),'r--',lw=1,label='75th percentile')\n",
    "plt.xlabel('Clusters',fontsize=13)\n",
    "plt.ylim(-30,23)\n",
    "plt.yticks([])\n",
    "plt.legend()\n",
    "\n",
    "plt.subplots_adjust(hspace=0.4, wspace=0, bottom=0.5, top=1.2, right=1.3)\n",
    "#plt.savefig('/Volumes/My_Passport_for_Mac/M33_M31_LGCS_Files/Model_Comparison_Files/DiffofMassModels_vs_PreviousMassEst.pdf')"
   ]
  },
  {
   "cell_type": "code",
   "execution_count": 50,
   "metadata": {},
   "outputs": [
    {
     "data": {
      "image/png": "[encoded data removed]",
      "text/plain": [
       "<Figure size 432x288 with 2 Axes>"
      ]
     },
     "metadata": {
      "needs_background": "light"
     },
     "output_type": "display_data"
    }
   ],
   "source": [
    "#plotting the median of the PDF versus the difference of the apdata Av minus the median of the PDF for all \n",
    "#apdata clusters with ONLY best method CMD\n",
    "\n",
    "z=np.arange(0,25,1)\n",
    "ax=plt.subplot()\n",
    "plt.subplot(1,2,1)\n",
    "plt.scatter(xpercentiles[1][indBTM[0]],diff_PDFMedian_x_apdata, color='steelblue')\n",
    "plt.plot(z,np.median(diff_PDFMedian_x_apdata)*np.ones(25),'k--',lw=1)\n",
    "plt.plot(z,diff_PDFMedian_x_apdata_25q*np.ones(25),'b--',lw=1)\n",
    "plt.plot(z,diff_PDFMedian_x_apdata_75q*np.ones(25),'r--',lw=1)\n",
    "plt.ylim(-30,23)\n",
    "#plt.xlim(0,5)\n",
    "plt.ylabel('LogAVSLUG - LogAVCMD', fontsize=13)\n",
    "plt.xlabel('Previous Log A_V Estimates', fontsize=13);\n",
    "\n",
    "\n",
    "plt.subplot(1,2,2)\n",
    "c=np.arange(0,302,1)\n",
    "plt.hist(diff_PDFMedian_x_apdata, orientation='horizontal',histtype='step',lw=2,color='steelblue')\n",
    "plt.plot(c,np.median(diff_PDFMedian_x_apdata)*np.ones(302),'k--',lw=1,label='Median')\n",
    "plt.plot(c,diff_PDFMedian_x_apdata_25q*np.ones(302),'b--',lw=1,label='25th percentile')\n",
    "plt.plot(c,diff_PDFMedian_x_apdata_75q*np.ones(302),'r--',lw=1,label='75th percentile')\n",
    "plt.xlabel('Clusters',fontsize=13)\n",
    "plt.ylim(-30,23)\n",
    "plt.yticks([])\n",
    "plt.legend()\n",
    "\n",
    "plt.subplots_adjust(hspace=0.4, wspace=0, bottom=0.5, top=1.2, right=1.3)\n",
    "#plt.savefig('/Volumes/My_Passport_for_Mac/M33_M31_LGCS_Files/Model_Comparison_Files/DiffofMassModels_vs_PreviousMassEst.pdf')"
   ]
  },
  {
   "cell_type": "code",
   "execution_count": 51,
   "metadata": {},
   "outputs": [
    {
     "data": {
      "image/png": "[encoded data removed]",
      "text/plain": [
       "<Figure size 432x288 with 2 Axes>"
      ]
     },
     "metadata": {
      "needs_background": "light"
     },
     "output_type": "display_data"
    }
   ],
   "source": [
    "#Zoomed in version of the plot above between y values of -5 to 5\n",
    "\n",
    "z=np.arange(0,6,1)\n",
    "ax=plt.subplot()\n",
    "plt.subplot(1,2,1)\n",
    "plt.scatter(xpercentiles[1][indBTM[0]],diff_PDFMedian_x_apdata, s=7, color='steelblue')\n",
    "plt.plot(z,np.median(diff_PDFMedian_x_apdata)*np.ones(6),'k--',lw=2)\n",
    "plt.plot(z,diff_PDFMedian_x_apdata_25q*np.ones(6),'b--',lw=2)\n",
    "plt.plot(z,diff_PDFMedian_x_apdata_75q*np.ones(6),'r--',lw=2)\n",
    "plt.ylim(-4,4)\n",
    "plt.xlim(0,3.3)\n",
    "plt.ylabel('Log$A_v$SLUG - Log$A_v$CMD', fontsize=13)\n",
    "plt.xlabel('Previous Log $A_V$ Estimates', fontsize=13);\n",
    "\n",
    "\n",
    "plt.subplot(1,2,2)\n",
    "c=np.arange(0,302,1)\n",
    "plt.hist(diff_PDFMedian_x_apdata, orientation='horizontal',histtype='step',lw=2,color='steelblue')\n",
    "plt.plot(c,np.median(diff_PDFMedian_x_apdata)*np.ones(302),'k--',lw=2,label='Median')\n",
    "plt.plot(c,diff_PDFMedian_x_apdata_25q*np.ones(302),'b--',lw=2,label='25th percentile')\n",
    "plt.plot(c,diff_PDFMedian_x_apdata_75q*np.ones(302),'r--',lw=2,label='75th percentile')\n",
    "plt.xlabel('Clusters',fontsize=13)\n",
    "plt.ylim(-4,4)\n",
    "plt.yticks([])\n",
    "plt.legend()\n",
    "\n",
    "plt.subplots_adjust(hspace=0.4, wspace=0, bottom=0.5, top=1.2, right=1.3)\n",
    "plt.savefig('/Volumes/My_Passport_for_Mac/M33_M31_LGCS_Files/M31-Andromeda/Model_Comparison_Files/SlugPDF-CMD_AvEst_vs_CMD_AvEst_6filts.pdf')"
   ]
  },
  {
   "cell_type": "code",
   "execution_count": 742,
   "metadata": {},
   "outputs": [
    {
     "data": {
      "text/plain": [
       "(0, 4)"
      ]
     },
     "execution_count": 742,
     "metadata": {},
     "output_type": "execute_result"
    },
    {
     "data": {
      "image/png": "[encoded data removed]",
      "text/plain": [
       "<Figure size 432x288 with 1 Axes>"
      ]
     },
     "metadata": {
      "needs_background": "light"
     },
     "output_type": "display_data"
    }
   ],
   "source": [
    "plt.hist(xpercentiles[1],bins=100)\n",
    "plt.xlim(0,4)"
   ]
  },
  {
   "cell_type": "code",
   "execution_count": 741,
   "metadata": {},
   "outputs": [
    {
     "data": {
      "text/plain": [
       "(0, 4)"
      ]
     },
     "execution_count": 741,
     "metadata": {},
     "output_type": "execute_result"
    },
    {
     "data": {
      "image/png": "[encoded data removed]",
      "text/plain": [
       "<Figure size 432x288 with 1 Axes>"
      ]
     },
     "metadata": {
      "needs_background": "light"
     },
     "output_type": "display_data"
    }
   ],
   "source": [
    "plt.hist(xpercentiles[1][indBTM[0]],bins=100)\n",
    "plt.xlim(0,4)"
   ]
  },
  {
   "cell_type": "code",
   "execution_count": 83,
   "metadata": {},
   "outputs": [
    {
     "name": "stderr",
     "output_type": "stream",
     "text": [
      "WARNING: AstropyDeprecationWarning: DiffMedPDF_apdataStats already exists. Automatically overwriting ASCII files is deprecated. Use the argument 'overwrite=True' in the future. [astropy.io.ascii.ui]\n"
     ]
    }
   ],
   "source": [
    "Age_Stats=[0.15,0.26,-0.21,0.46,0.62]\n",
    "Mass_Stats=[0.16,0.29,-0.057, 0.35,0.46]\n",
    "Stat=['Median','IQR','P25','P75','SIGMA']\n",
    "DiffMedPDF_apdataStats = Table([Stat, Mass_Stats, Age_Stats], names=('Values', 'Mass', 'Age'))\n",
    "#DiffMedPDF_apdataStats.write('DiffMedPDF_apdataStats',format='aastex')"
   ]
  },
  {
   "cell_type": "code",
   "execution_count": 45,
   "metadata": {},
   "outputs": [
    {
     "data": {
      "image/png": "[encoded data removed]",
      "text/plain": [
       "<Figure size 432x288 with 4 Axes>"
      ]
     },
     "metadata": {
      "needs_background": "light"
     },
     "output_type": "display_data"
    }
   ],
   "source": [
    "#Here we are comparing previous estimates of M31 Cluster Ages, Masses, and Extinction to the generated SLUG Best \n",
    "#Match models, and the PDFs 25th, median(50th), and 75th percentiles as well but we are only considering Previous\n",
    "#estimates of BEST_METHOD of CMD ('M') identified clusters. \n",
    "\n",
    "X=np.arange(2,5.5,0.5)\n",
    "Y=np.arange(6.5,9.6,0.5)\n",
    "\n",
    "#plt.subplot(2,4,1)\n",
    "#plt.plot(X,X,'k--')\n",
    "#plt.scatter(apdata_good_phot6filts_logm[indBTM[0]],mpercentiles[0][indBTM[0]],s=4, color='dodgerblue')\n",
    "#plt.xlabel('Previous Log Mass Estimate', fontsize=15)\n",
    "#plt.ylabel('SLUG Mass PDF 25%', fontsize=15);\n",
    "\n",
    "\n",
    "plt.subplot(2,2,1)\n",
    "plt.plot(X,X,'k--')\n",
    "plt.scatter(apdata_good_phot6filts_logm[indBTM[0]],mpercentiles[1][indBTM[0]],s=7, color='dodgerblue')\n",
    "#plt.plot(MedMassquartile_25th*np.ones(7),X,'k-.')\n",
    "#plt.plot(MedMassquartile_75th*np.ones(7),X,'r-.')\n",
    "plt.xlabel('Previous Log Mass Estimate', fontsize=15)\n",
    "plt.ylabel('SLUG Mass PDF Median', fontsize=15);\n",
    "\n",
    "#plt.subplot(2,4,3)\n",
    "#plt.plot(X,X,'k--')\n",
    "#plt.scatter(apdata_good_phot6filts_logm[indBTM[0]],mpercentiles[2][indBTM[0]],s=4, color='dodgerblue')\n",
    "#plt.xlabel('Previous Log Mass Estimate', fontsize=15)\n",
    "#plt.ylabel('SLUG Mass PDF 75%', fontsize=15);\n",
    "\n",
    "plt.subplot(2,2,2)\n",
    "plt.plot(X,X,'k--')\n",
    "plt.scatter(apdata_good_phot6filts_logm[indBTM[0]],m_matches[indBTM[0]],s=7, color='dodgerblue')\n",
    "#plt.plot(BestMatch_mquartile_25th*np.ones(7),X,'k-.')\n",
    "#plt.plot(BestMatch_mquartile_75th*np.ones(7),X,'r-.')\n",
    "plt.xlabel('Previous Log Mass Estimate', fontsize=15)\n",
    "plt.ylabel('SLUG Mass Best Match', fontsize=15);\n",
    "\n",
    "\n",
    "#plt.subplot(2,4,5)\n",
    "#plt.plot(Y,Y,'k--')\n",
    "#plt.scatter(apdata_good_phot6filts_logt[indBTM[0]],tpercentiles[0][indBTM[0]],s=5, color='dodgerblue')\n",
    "#plt.xlabel('Previous Log Age Estimate', fontsize=15)\n",
    "#plt.ylabel('SLUG Age PDF 25%', fontsize=15);\n",
    "\n",
    "plt.subplot(2,2,3)\n",
    "plt.plot(Y,Y,'k--')\n",
    "plt.scatter(apdata_good_phot6filts_logt[indBTM[0]],tpercentiles[1][indBTM[0]],s=7, color='dodgerblue')\n",
    "#plt.plot(MedAgequartile_25th*np.ones(7),Y,'k-.')\n",
    "#plt.plot(MedAgequartile_75th*np.ones(7),Y,'r-.')\n",
    "plt.xlabel('Previous Log Age Estimate', fontsize=15)\n",
    "plt.ylabel('SLUG Age PDF Median', fontsize=15);\n",
    "\n",
    "#plt.subplot(2,4,7)\n",
    "#plt.plot(Y,Y,'k--')\n",
    "#plt.scatter(apdata_good_phot6filts_logt[indBTM[0]],tpercentiles[2][indBTM[0]],s=5, color='dodgerblue')\n",
    "#plt.xlabel('Previous Log Age Estimate', fontsize=15)\n",
    "#plt.ylabel('SLUG Age PDF 75%', fontsize=15);\n",
    "\n",
    "\n",
    "plt.subplot(2,2,4)\n",
    "plt.plot(Y,Y,'k--')\n",
    "plt.scatter(apdata_good_phot6filts_logt[indBTM[0]],t_matches[indBTM[0]],s=7, color='dodgerblue')\n",
    "#plt.plot(BestMatch_tquartile_25th*np.ones(7),Y,'k-.')\n",
    "#plt.plot(BestMatch_tquartile_75th*np.ones(7),Y,'r-.')\n",
    "plt.xlabel('Previous Log Age Estimate', fontsize=15)\n",
    "plt.ylabel('SLUG Age Best Match', fontsize=15);\n",
    "\n",
    "plt.savefig('SLUG PDF (25th,50th,75th)% & SLUG Best Match vs Previous Log Mass & Age Estimates (only_M_Best_Method).png')\n",
    "\n",
    "plt.subplots_adjust(hspace=0.4, wspace=0.2, bottom=0.5, top=2, right=1.5)"
   ]
  },
  {
   "cell_type": "code",
   "execution_count": 716,
   "metadata": {},
   "outputs": [
    {
     "data": {
      "image/png": "[encoded data removed]",
      "text/plain": [
       "<Figure size 432x288 with 4 Axes>"
      ]
     },
     "metadata": {
      "needs_background": "light"
     },
     "output_type": "display_data"
    }
   ],
   "source": [
    "Z=np.arange(0,4,0.5)\n",
    "\n",
    "plt.subplot(2,4,1)\n",
    "plt.plot(Z,Z,'k--')\n",
    "plt.scatter(apdata_good_phot6filts_logx[indBTM[0]],x_matches[indBTM[0]], color='dodgerblue')\n",
    "plt.xlabel('Previous Log Extinction Estimate', fontsize=13)\n",
    "plt.ylabel('SLUG Extinction Best Match', fontsize=13);\n",
    "\n",
    "plt.subplot(2,4,2)\n",
    "plt.plot(Z,Z,'k--')\n",
    "plt.scatter(apdata_good_phot6filts_logx[indBTM[0]],xpercentiles[0][indBTM[0]], color='dodgerblue')\n",
    "plt.ylim(-0.2,3.6)\n",
    "plt.xlabel('Previous Log Extinction Estimate', fontsize=13)\n",
    "plt.ylabel('SLUG Extinction PDF 25%', fontsize=13);\n",
    "\n",
    "plt.subplot(2,4,3)\n",
    "plt.plot(Z,Z,'k--')\n",
    "plt.scatter(apdata_good_phot6filts_logx[indBTM[0]],xpercentiles[1][indBTM[0]], color='dodgerblue')\n",
    "plt.ylim(-0.2,3.6)\n",
    "plt.xlabel('Previous Log Extinction Estimate', fontsize=13)\n",
    "plt.ylabel('SLUG Extinction PDF Median', fontsize=13);\n",
    "\n",
    "plt.subplot(2,4,4)\n",
    "plt.plot(Z,Z,'k--')\n",
    "plt.scatter(apdata_good_phot6filts_logx[indBTM[0]],xpercentiles[2][indBTM[0]], color='dodgerblue')\n",
    "plt.ylim(-0.2,3.6)\n",
    "plt.xlabel('Previous Log Extinction Estimate', fontsize=13)\n",
    "plt.ylabel('SLUG Extinction PDF 75%', fontsize=13);\n",
    "\n",
    "\n",
    "plt.subplots_adjust(hspace=0.3, wspace=0.3, bottom=0.5, top=2, right=3)"
   ]
  },
  {
   "cell_type": "code",
   "execution_count": 717,
   "metadata": {
    "scrolled": true
   },
   "outputs": [],
   "source": [
    "diff_BMmedian_X_apdata=apdata_good_phot6filts_logx-x_matches_median"
   ]
  },
  {
   "cell_type": "code",
   "execution_count": 76,
   "metadata": {},
   "outputs": [
    {
     "data": {
      "text/plain": [
       "-0.21555208982044943"
      ]
     },
     "execution_count": 76,
     "metadata": {},
     "output_type": "execute_result"
    }
   ],
   "source": [
    "np.median(diff_BMmedian_X_apdata)"
   ]
  },
  {
   "cell_type": "code",
   "execution_count": 540,
   "metadata": {},
   "outputs": [],
   "source": [
    "#25 and 75 percent of data of all best methods from 616 cluster subset (including non CMD Best Method clusters)\n",
    "#for the best matches slug method\n",
    "sorted_Xbm_apdataMedian=np.sort(diff_BMmedian_X_apdata)\n",
    "diff_BMmedian_X_apdata_25q=np.median(sorted_Xbm_apdataMedian[0:308])\n",
    "diff_BMmedian_X_apdata_75q=np.median(sorted_Xbm_apdataMedian[308:616])"
   ]
  },
  {
   "cell_type": "code",
   "execution_count": 726,
   "metadata": {},
   "outputs": [],
   "source": [
    "#25 and 75 percent of data of all best methods from 616 cluster subset (including non CMD Best Method clusters)\n",
    "#for the best matches slug method\n",
    "sorted_X_apdataMedian=np.sort(diff_PDFMedian_x_apdata)\n",
    "diff_BMmedian_X_apdata_25q=np.median(sorted_X_apdataMedian[0:308])\n",
    "diff_BMmedian_X_apdata_75q=np.median(sorted_X_apdataMedian[308:616])"
   ]
  },
  {
   "cell_type": "code",
   "execution_count": 727,
   "metadata": {},
   "outputs": [
    {
     "data": {
      "text/plain": [
       "(-0.14759064778370745, -0.21555208982044943, 0.8838959087794687)"
      ]
     },
     "execution_count": 727,
     "metadata": {},
     "output_type": "execute_result"
    }
   ],
   "source": [
    "diff_BMmedian_X_apdata_25q, np.median(diff_BMmedian_X_apdata),diff_BMmedian_X_apdata_75q"
   ]
  },
  {
   "cell_type": "code",
   "execution_count": 728,
   "metadata": {},
   "outputs": [
    {
     "data": {
      "text/plain": [
       "1.0314865565631761"
      ]
     },
     "execution_count": 728,
     "metadata": {},
     "output_type": "execute_result"
    }
   ],
   "source": [
    "#IQR for A_v non-CMD Best Method\n",
    "diff_BMmedian_X_apdata_75q-diff_BMmedian_X_apdata_25q"
   ]
  },
  {
   "cell_type": "code",
   "execution_count": 729,
   "metadata": {},
   "outputs": [
    {
     "data": {
      "text/plain": [
       "-0.06796144203674198"
      ]
     },
     "execution_count": 729,
     "metadata": {},
     "output_type": "execute_result"
    }
   ],
   "source": [
    "#Width of Distribution from P25 to Median for A_v non-CMD Best Method\n",
    "np.median(diff_BMmedian_X_apdata)-diff_BMmedian_X_apdata_25q"
   ]
  },
  {
   "cell_type": "code",
   "execution_count": 730,
   "metadata": {},
   "outputs": [
    {
     "data": {
      "text/plain": [
       "1.0994479985999182"
      ]
     },
     "execution_count": 730,
     "metadata": {},
     "output_type": "execute_result"
    }
   ],
   "source": [
    "#Width of Distribution from Median to P75 for A_v non-CMD Best Method\n",
    "diff_BMmedian_X_apdata_75q-np.median(diff_BMmedian_X_apdata)"
   ]
  },
  {
   "cell_type": "code",
   "execution_count": 731,
   "metadata": {},
   "outputs": [
    {
     "data": {
      "text/plain": [
       "0.511854587703735"
      ]
     },
     "execution_count": 731,
     "metadata": {},
     "output_type": "execute_result"
    }
   ],
   "source": [
    "(0.4856808801672294+0.5380282952402407)/2"
   ]
  },
  {
   "cell_type": "code",
   "execution_count": 732,
   "metadata": {},
   "outputs": [
    {
     "data": {
      "text/plain": [
       "0.90897681756601"
      ]
     },
     "execution_count": 732,
     "metadata": {},
     "output_type": "execute_result"
    }
   ],
   "source": [
    "np.std(diff_BMmedian_X_apdata)"
   ]
  },
  {
   "cell_type": "code",
   "execution_count": 725,
   "metadata": {},
   "outputs": [
    {
     "data": {
      "image/png": "[encoded data removed]",
      "text/plain": [
       "<Figure size 432x288 with 2 Axes>"
      ]
     },
     "metadata": {
      "needs_background": "light"
     },
     "output_type": "display_data"
    }
   ],
   "source": [
    "#Difference of the median of the A-v Best Match minus previous A_V apdata estimes for all clusters in apdata\n",
    "#with and without CMD best method. \n",
    "x=np.linspace(0,4,6)\n",
    "ax=plt.subplot()\n",
    "plt.subplot(1,2,1)\n",
    "plt.scatter(x_matches_median,diff_BMmedian_X_apdata, color='steelblue',s=10)\n",
    "plt.plot(x,np.median(diff_BMmedian_X_apdata)*np.ones(6),'k--',lw=2)\n",
    "plt.plot(x,diff_BMmedian_X_apdata_25q*np.ones(6),'b--',lw=2)\n",
    "plt.plot(x,diff_BMmedian_X_apdata_75q*np.ones(6),'r--',lw=2)\n",
    "plt.ylabel('Log $A_V$ SLUG - Log $A_V$ CMD', fontsize=13)\n",
    "plt.xlabel('Previous Log $A_V$ Estimates', fontsize=13);\n",
    "\n",
    "\n",
    "plt.subplot(1,2,2)\n",
    "a=np.arange(0,176,1)\n",
    "plt.hist(diff_BMmedian_X_apdata, orientation='horizontal',histtype='step',lw=2,color='steelblue')\n",
    "plt.plot(a,np.median(diff_BMmedian_X_apdata)*np.ones(176),'k--',lw=2,label='Median')\n",
    "plt.plot(a,diff_BMmedian_X_apdata_25q*np.ones(176),'b--',lw=2,label='25th percentile')\n",
    "plt.plot(a,diff_BMmedian_X_apdata_75q*np.ones(176),'r--',lw=2,label='75th percentile')\n",
    "plt.xlabel('Clusters',fontsize=13)\n",
    "plt.yticks([])\n",
    "plt.legend()\n",
    "\n",
    "plt.subplots_adjust(hspace=0.4, wspace=0, bottom=0.5, top=1.2, right=1.3)\n",
    "plt.savefig('/Volumes/My_Passport_for_Mac/M33_M31_LGCS_Files/Model_Comparison_Files/DiffofAvModels_vs_PreviousAvEst.pdf')\n"
   ]
  },
  {
   "cell_type": "code",
   "execution_count": 128,
   "metadata": {},
   "outputs": [],
   "source": [
    "X_match_med_array=(np.array(x_matches_median))"
   ]
  },
  {
   "cell_type": "code",
   "execution_count": 550,
   "metadata": {},
   "outputs": [],
   "source": [
    "#Difference of the median of the A-v Best Match minus previous A_V apdata estimes for only CMD estimates in apdata\n",
    "diff_BMmedian_x_apdata=apdata_good_phot6filts_logx[indBTM[0]]-X_match_med_array[indBTM[0]]"
   ]
  },
  {
   "cell_type": "code",
   "execution_count": 557,
   "metadata": {},
   "outputs": [
    {
     "data": {
      "text/plain": [
       "179"
      ]
     },
     "execution_count": 557,
     "metadata": {},
     "output_type": "execute_result"
    }
   ],
   "source": [
    "len(sorted_xbm_apdataMedian[179:358])"
   ]
  },
  {
   "cell_type": "code",
   "execution_count": 558,
   "metadata": {},
   "outputs": [],
   "source": [
    "#25 and 75 percent of data \n",
    "sorted_xbm_apdataMedian=np.sort(diff_BMmedian_x_apdata)\n",
    "diff_BMmedian_x_apdata_25q=np.median(sorted_xbm_apdataMedian[0:179])\n",
    "diff_BMmedian_x_apdata_75q=np.median(sorted_xbm_apdataMedian[179:358])"
   ]
  },
  {
   "cell_type": "code",
   "execution_count": 559,
   "metadata": {},
   "outputs": [
    {
     "data": {
      "text/plain": [
       "(-0.44592564881860386, -0.056078827628175065, 0.3501415833815301)"
      ]
     },
     "execution_count": 559,
     "metadata": {},
     "output_type": "execute_result"
    }
   ],
   "source": [
    "diff_BMmedian_x_apdata_25q, np.median(diff_BMmedian_x_apdata),diff_BMmedian_x_apdata_75q"
   ]
  },
  {
   "cell_type": "code",
   "execution_count": 560,
   "metadata": {},
   "outputs": [
    {
     "data": {
      "text/plain": [
       "0.796067232200134"
      ]
     },
     "execution_count": 560,
     "metadata": {},
     "output_type": "execute_result"
    }
   ],
   "source": [
    "#IQR for A_v CMD Best Method\n",
    "diff_BMmedian_x_apdata_75q-diff_BMmedian_x_apdata_25q"
   ]
  },
  {
   "cell_type": "code",
   "execution_count": 150,
   "metadata": {},
   "outputs": [
    {
     "data": {
      "text/plain": [
       "0.3898468211904288"
      ]
     },
     "execution_count": 150,
     "metadata": {},
     "output_type": "execute_result"
    }
   ],
   "source": [
    "#Width of Distribution from P25 to Median for A_v non-CMD Best Method\n",
    "np.median(diff_BMmedian_x_apdata)-diff_BMmedian_x_apdata_25q"
   ]
  },
  {
   "cell_type": "code",
   "execution_count": 152,
   "metadata": {},
   "outputs": [
    {
     "data": {
      "text/plain": [
       "0.4062204110097052"
      ]
     },
     "execution_count": 152,
     "metadata": {},
     "output_type": "execute_result"
    }
   ],
   "source": [
    "#Width of Distribution from Median to P75 for A_v non-CMD Best Method\n",
    "diff_BMmedian_x_apdata_75q-np.median(diff_BMmedian_x_apdata)"
   ]
  },
  {
   "cell_type": "code",
   "execution_count": 153,
   "metadata": {},
   "outputs": [
    {
     "data": {
      "text/plain": [
       "0.398033616100067"
      ]
     },
     "execution_count": 153,
     "metadata": {},
     "output_type": "execute_result"
    }
   ],
   "source": [
    "#Avg of the width of the distribution\n",
    "(0.3898468211904288+0.4062204110097052)/2"
   ]
  },
  {
   "cell_type": "code",
   "execution_count": 154,
   "metadata": {},
   "outputs": [
    {
     "data": {
      "text/plain": [
       "0.6364377512108964"
      ]
     },
     "execution_count": 154,
     "metadata": {},
     "output_type": "execute_result"
    }
   ],
   "source": [
    "#standard deviation (sigma) of the difference of models\n",
    "np.std(diff_BMmedian_x_apdata)"
   ]
  },
  {
   "cell_type": "code",
   "execution_count": null,
   "metadata": {},
   "outputs": [],
   "source": [
    "diffPDFmed_X_apdata"
   ]
  },
  {
   "cell_type": "code",
   "execution_count": 622,
   "metadata": {},
   "outputs": [
    {
     "data": {
      "image/png": "[encoded data removed]",
      "text/plain": [
       "<Figure size 432x288 with 2 Axes>"
      ]
     },
     "metadata": {
      "needs_background": "light"
     },
     "output_type": "display_data"
    }
   ],
   "source": [
    "#Difference of the median of the A-v Best Match minus previous A_V apdata estimes for all clusters in apdata \n",
    "#ONLY with CMD best method clusters from apdata estimates. \n",
    "\n",
    "x=np.linspace(0,4,6)\n",
    "ax=plt.subplot()\n",
    "plt.subplot(1,2,1)\n",
    "plt.scatter(X_match_med_array[indBTM[0]], diff_BMmedian_x_apdata, color='steelblue',s=10)\n",
    "plt.plot(x,np.median(diff_BMmedian_x_apdata)*np.ones(6),'k--',lw=2)\n",
    "plt.plot(x,diff_BMmedian_x_apdata_25q*np.ones(6),'b--',lw=2)\n",
    "plt.plot(x,diff_BMmedian_x_apdata_75q*np.ones(6),'r--',lw=2)\n",
    "plt.ylabel('Log $A_V$ SLUG - Log $A_V$ CMD', fontsize=13)\n",
    "plt.xlabel('Previous Log $A_V$ Estimates', fontsize=13);\n",
    "\n",
    "\n",
    "plt.subplot(1,2,2)\n",
    "a=np.arange(0,176,1)\n",
    "plt.hist(diff_BMmedian_x_apdata, orientation='horizontal',histtype='step',lw=2,color='steelblue')\n",
    "plt.plot(a,np.median(diff_BMmedian_x_apdata)*np.ones(176),'k--',lw=2,label='Median')\n",
    "plt.plot(a,diff_BMmedian_x_apdata_25q*np.ones(176),'b--',lw=2,label='25th percentile')\n",
    "plt.plot(a,diff_BMmedian_x_apdata_75q*np.ones(176),'r--',lw=2,label='75th percentile')\n",
    "plt.xlabel('Clusters',fontsize=13)\n",
    "plt.yticks([])\n",
    "plt.legend()\n",
    "\n",
    "plt.subplots_adjust(hspace=0.4, wspace=0, bottom=0.5, top=1.2, right=1.3)\n",
    "plt.savefig('/Volumes/My_Passport_for_Mac/M33_M31_LGCS_Files/Model_Comparison_Files/DiffofAvModels_vs_PreviousAvEst(ONLY_CMD).pdf')\n"
   ]
  },
  {
   "cell_type": "code",
   "execution_count": 753,
   "metadata": {},
   "outputs": [
    {
     "data": {
      "text/plain": [
       "Text(0.5, 0, 'Extinction [$A_V$]')"
      ]
     },
     "execution_count": 753,
     "metadata": {},
     "output_type": "execute_result"
    },
    {
     "data": {
      "image/png": "[encoded data removed]",
      "text/plain": [
       "<Figure size 432x288 with 1 Axes>"
      ]
     },
     "metadata": {
      "needs_background": "light"
     },
     "output_type": "display_data"
    }
   ],
   "source": [
    "XMedsample = np.array(xpercentiles[1][indBTM[0]])\n",
    "#generate bins boundaries and heights\n",
    "XMedbin_height, XMedbin_boundary = np.histogram(XMedsample,bins=100)\n",
    "#define width of each column\n",
    "XMedwidth = XMedbin_boundary[1]-XMedbin_boundary[0]\n",
    "#standardize each column by dividing with the maximum height\n",
    "XMedbin_height = XMedbin_height/float(max(XMedbin_height))\n",
    "#plot\n",
    "plt.bar(XMedbin_boundary[:-1],XMedbin_height,width=XMedwidth,color='orange',alpha=0.5,label=\"$A_v$ PDF Median\",lw=5)\n",
    "plt.xlim(-0.1,4)\n",
    "plt.legend()\n",
    "plt.ylabel('Normalized Cluster Count',fontsize=14)\n",
    "plt.xlabel('Extinction [$A_V$]',fontsize=14)"
   ]
  },
  {
   "cell_type": "code",
   "execution_count": 343,
   "metadata": {},
   "outputs": [],
   "source": [
    "#Here I am trying to normalize the y-axis of the distribution of SLUG Av (%%%THIS DID NOT WORK%%%)\n",
    "norm_SLUG_counts=[]\n",
    "for i in range(len(xcounts)):\n",
    "    norm_1=(xcounts[i])/(10000000)\n",
    "    norm_SLUG_counts.append(norm_1)"
   ]
  },
  {
   "cell_type": "code",
   "execution_count": 344,
   "metadata": {},
   "outputs": [],
   "source": [
    "yaxis_S_av=norm_SLUG_counts"
   ]
  },
  {
   "cell_type": "code",
   "execution_count": 624,
   "metadata": {
    "scrolled": true
   },
   "outputs": [
    {
     "data": {
      "text/plain": [
       "2753"
      ]
     },
     "execution_count": 624,
     "metadata": {},
     "output_type": "execute_result"
    }
   ],
   "source": [
    "apcounts, ap_bin_edges = np.histogram(apdata['CMD_AV_BEST'], bins=800)\n",
    "apcounts, ap_bin_edges"
   ]
  },
  {
   "cell_type": "code",
   "execution_count": 345,
   "metadata": {},
   "outputs": [],
   "source": [
    "#Here I am trying to normalize the y-axis of the distribution of AP_DATA Av (%%%THIS DID NOT WORK%%%)\n",
    "norm_ap_counts=[]\n",
    "for i in range(len(xcounts)):\n",
    "    norm_2=(xcounts[i])/(10000000)\n",
    "    norm_ap_counts.append(norm_2)"
   ]
  },
  {
   "cell_type": "code",
   "execution_count": 496,
   "metadata": {},
   "outputs": [
    {
     "data": {
      "image/png": "[encoded data removed]",
      "text/plain": [
       "<Figure size 432x288 with 1 Axes>"
      ]
     },
     "metadata": {
      "needs_background": "light"
     },
     "output_type": "display_data"
    }
   ],
   "source": [
    "SLUGsample = np.array(LEGUS_PHAT_PadKroupa_prop['A_V'])\n",
    "#generate bins boundaries and heights\n",
    "sbin_height,sbin_boundary = np.histogram(SLUGsample,bins=300)\n",
    "#define width of each column\n",
    "swidth = sbin_boundary[1]-sbin_boundary[0]\n",
    "#standardize each column by dividing with the maximum height\n",
    "sbin_height = sbin_height/float(max(sbin_height))\n",
    "#plot\n",
    "plt.bar(sbin_boundary[:-1],sbin_height,width=swidth,alpha=0.2,edgecolor='blue',color='blue',label=\"SLUG A_V Models\")\n",
    "\n",
    "\n",
    "APsample = np.array(apdata['CMD_AV_BEST'])\n",
    "#generate bins boundaries and heights\n",
    "APbin_height, APbin_boundary = np.histogram(APsample,bins=300)\n",
    "#define width of each column\n",
    "APwidth = APbin_boundary[1]-APbin_boundary[0]\n",
    "#standardize each column by dividing with the maximum height\n",
    "APbin_height = APbin_height/float(max(APbin_height))\n",
    "#plot\n",
    "plt.bar(APbin_boundary[:-1],APbin_height,width=APwidth,edgecolor='orange',color='orange',alpha=0.5,label=\"AP Data A_V \",lw=5)\n",
    "plt.xlim(-0.1,10)\n",
    "plt.legend()\n",
    "plt.ylabel('Normalized Cluster Count',fontsize=14)\n",
    "plt.xlabel('Extinction [A_V]',fontsize=14)\n",
    "\n",
    "plt.show()"
   ]
  },
  {
   "cell_type": "code",
   "execution_count": 636,
   "metadata": {},
   "outputs": [
    {
     "data": {
      "image/png": "[encoded data removed]",
      "text/plain": [
       "<Figure size 432x288 with 1 Axes>"
      ]
     },
     "metadata": {
      "needs_background": "light"
     },
     "output_type": "display_data"
    }
   ],
   "source": [
    "#Here I am running the same formula for normalizing both the SLUG and AP_data extinction values over the \n",
    "#y-axis by dividing the number of items in each bin by the max count of clusters in the data_set. \n",
    "\n",
    "SLUGsample = np.array(LEGUS_PHAT_PadKroupa_prop['A_V'])\n",
    "#generate bins boundaries and heights\n",
    "sbin_height,sbin_boundary = np.histogram(SLUGsample,bins=300)\n",
    "#define width of each column\n",
    "swidth = sbin_boundary[1]-sbin_boundary[0]\n",
    "#standardize each column by dividing with the maximum height\n",
    "sbin_height = sbin_height/(10000000)\n",
    "#plot\n",
    "plt.bar(sbin_boundary[:-1],sbin_height,width=swidth,alpha=0.2,edgecolor='blue',color='blue',label=\"SLUG A_V Models\")\n",
    "\n",
    "\n",
    "APsample = np.array(apdata['CMD_AV_BEST'])\n",
    "#generate bins boundaries and heights\n",
    "APbin_height, APbin_boundary = np.histogram(APsample,bins=300)\n",
    "#define width of each column\n",
    "APwidth = APbin_boundary[1]-APbin_boundary[0]\n",
    "#standardize each column by dividing with the maximum height\n",
    "APbin_height = APbin_height/(2753)\n",
    "#plot\n",
    "plt.bar(APbin_boundary[:-1],APbin_height,width=APwidth,edgecolor='orange',color='orange',alpha=0.5,label=\"AP Data A_V \",lw=5)\n",
    "plt.xlim(-0.1,4)\n",
    "plt.legend()\n",
    "plt.ylabel('Normalized Cluster Count',fontsize=14)\n",
    "plt.xlabel('Extinction [$A_V$]',fontsize=14)\n",
    "\n",
    "\n",
    "plt.show()"
   ]
  },
  {
   "cell_type": "code",
   "execution_count": 674,
   "metadata": {},
   "outputs": [
    {
     "data": {
      "text/plain": [
       "0.3116923"
      ]
     },
     "execution_count": 674,
     "metadata": {},
     "output_type": "execute_result"
    }
   ],
   "source": [
    "max(sbin_height)"
   ]
  },
  {
   "cell_type": "code",
   "execution_count": 701,
   "metadata": {},
   "outputs": [
    {
     "data": {
      "image/png": "[encoded data removed]",
      "text/plain": [
       "<Figure size 432x288 with 1 Axes>"
      ]
     },
     "metadata": {
      "needs_background": "light"
     },
     "output_type": "display_data"
    }
   ],
   "source": [
    "SLUGsample = np.array(LEGUS_PHAT_PadKroupa_prop['A_V'])\n",
    "#generate bins boundaries and heights\n",
    "sbin_height,sbin_boundary = np.histogram(SLUGsample,bins=100)\n",
    "#define width of each column\n",
    "swidth = sbin_boundary[1]-sbin_boundary[0]\n",
    "#standardize each column by dividing with the maximum height\n",
    "sbin_height = sbin_height/float(max(sbin_height))\n",
    "#plot\n",
    "plt.bar(sbin_boundary[:-1],sbin_height,width=swidth,alpha=0.2,color='blue',label=\"SLUG A_V Models\")\n",
    "\n",
    "\n",
    "APsample = np.array(apdata['CMD_AV_BEST'])\n",
    "#generate bins boundaries and heights\n",
    "APbin_height, APbin_boundary = np.histogram(APsample,bins=100)\n",
    "#define width of each column\n",
    "APwidth = APbin_boundary[1]-APbin_boundary[0]\n",
    "#standardize each column by dividing with the maximum height\n",
    "APbin_height = APbin_height/float(max(APbin_height))\n",
    "#plot\n",
    "plt.bar(APbin_boundary[:-1],APbin_height,width=APwidth,edgecolor='orange',color='orange',alpha=0.5,label=\"AP Data A_V \",lw=5)\n",
    "\n",
    "plt.legend()\n",
    "plt.ylabel('Normalized Cluster Count',fontsize=14)\n",
    "plt.xlabel('Extinction [$A_V$]',fontsize=14)\n",
    "\n",
    "\n",
    "\n",
    "AP616sample = np.array(apdata_good_phot6filts['CMD_AV_BEST'])\n",
    "#generate bins boundaries and heights\n",
    "AP616bin_height, AP616bin_boundary = np.histogram(AP616sample,bins=100)\n",
    "#define width of each column\n",
    "AP616width = AP616bin_boundary[1]-AP616bin_boundary[0]\n",
    "#standardize each column by dividing with the maximum height\n",
    "AP616bin_height = AP616bin_height/float(max(AP616bin_height))\n",
    "#plot\n",
    "plt.bar(AP616bin_boundary[:-1],AP616bin_height,width=AP616width,color='green',\n",
    "        alpha=0.4,label=\"AP (616) Data A_V \",lw=5)\n",
    "plt.xlim(-0.07,4)\n",
    "plt.legend()\n",
    "plt.ylabel('Normalized Cluster Count',fontsize=14)\n",
    "plt.xlabel('Extinction [$A_V$]',fontsize=14)\n",
    "\n",
    "plt.show()"
   ]
  },
  {
   "cell_type": "code",
   "execution_count": 758,
   "metadata": {},
   "outputs": [
    {
     "data": {
      "text/plain": [
       "Text(0.5, 0, 'Extinction [$A_V$]')"
      ]
     },
     "execution_count": 758,
     "metadata": {},
     "output_type": "execute_result"
    },
    {
     "data": {
      "image/png": "[encoded data removed]",
      "text/plain": [
       "<Figure size 432x288 with 1 Axes>"
      ]
     },
     "metadata": {
      "needs_background": "light"
     },
     "output_type": "display_data"
    }
   ],
   "source": [
    "SLUGsample = np.array(LEGUS_PHAT_PadKroupa_prop['A_V'])\n",
    "#generate bins boundaries and heights\n",
    "sbin_height,sbin_boundary = np.histogram(SLUGsample,bins=100)\n",
    "#define width of each column\n",
    "swidth = sbin_boundary[1]-sbin_boundary[0]\n",
    "#standardize each column by dividing with the maximum height\n",
    "sbin_height = sbin_height/float(max(sbin_height))\n",
    "#plot\n",
    "plt.bar(sbin_boundary[:-1],sbin_height,width=swidth,alpha=0.2,color='blue',label=\"SLUG A_V Models\")\n",
    "\n",
    "\n",
    "APsample = np.array(apdata['CMD_AV_BEST'])\n",
    "#generate bins boundaries and heights\n",
    "APbin_height, APbin_boundary = np.histogram(APsample,bins=100)\n",
    "#define width of each column\n",
    "APwidth = APbin_boundary[1]-APbin_boundary[0]\n",
    "#standardize each column by dividing with the maximum height\n",
    "APbin_height = APbin_height/float(max(APbin_height))\n",
    "#plot\n",
    "plt.bar(APbin_boundary[:-1],APbin_height,width=APwidth,edgecolor='orange',color='orange',alpha=0.5,label=\"AP Data A_V \",lw=5)\n",
    "\n",
    "plt.legend()\n",
    "plt.ylabel('Normalized Cluster Count',fontsize=14)\n",
    "plt.xlabel('Extinction [$A_V$]',fontsize=14)\n",
    "\n",
    "\n",
    "\n",
    "AP616sample = np.array(apdata_good_phot6filts['CMD_AV_BEST'])\n",
    "#generate bins boundaries and heights\n",
    "AP616bin_height, AP616bin_boundary = np.histogram(AP616sample,bins=100)\n",
    "#define width of each column\n",
    "AP616width = AP616bin_boundary[1]-AP616bin_boundary[0]\n",
    "#standardize each column by dividing with the maximum height\n",
    "AP616bin_height = AP616bin_height/float(max(AP616bin_height))\n",
    "#plot\n",
    "plt.bar(AP616bin_boundary[:-1],AP616bin_height,width=AP616width,color='green',\n",
    "        alpha=0.4,label=\"AP (616) Data A_V \",lw=5)\n",
    "plt.legend()\n",
    "plt.ylabel('Normalized Cluster Count',fontsize=14)\n",
    "plt.xlabel('Extinction [$A_V$]',fontsize=14)\n",
    "\n",
    "\n",
    "XMedsample = np.array(xpercentiles[1][indBTM[0]])\n",
    "#generate bins boundaries and heights\n",
    "XMedbin_height, XMedbin_boundary = np.histogram(XMedsample,bins=100)\n",
    "#define width of each column\n",
    "XMedwidth = XMedbin_boundary[1]-XMedbin_boundary[0]\n",
    "#standardize each column by dividing with the maximum height\n",
    "XMedbin_height = XMedbin_height/float(max(XMedbin_height))\n",
    "#plot\n",
    "plt.bar(XMedbin_boundary[:-1],XMedbin_height,width=XMedwidth,color='black',alpha=0.3,label=\"$A_v$ PDF Median\",lw=5)\n",
    "plt.xlim(-0.1,4)\n",
    "plt.legend()\n",
    "plt.ylabel('Normalized Cluster Count',fontsize=14)\n",
    "plt.xlabel('Extinction [$A_V$]',fontsize=14)"
   ]
  },
  {
   "cell_type": "code",
   "execution_count": 700,
   "metadata": {},
   "outputs": [
    {
     "data": {
      "image/png": "[encoded data removed]",
      "text/plain": [
       "<Figure size 432x288 with 1 Axes>"
      ]
     },
     "metadata": {
      "needs_background": "light"
     },
     "output_type": "display_data"
    }
   ],
   "source": [
    "#Here I am running the same formula for normalizing both the SLUG and AP_data extinction values over the \n",
    "#y-axis by dividing the number of items in each bin by the max count of clusters in the data_set. \n",
    "\n",
    "SLUGsample = np.array(LEGUS_PHAT_PadKroupa_prop['A_V'])\n",
    "#generate bins boundaries and heights\n",
    "sbin_height,sbin_boundary = np.histogram(SLUGsample,bins=100)\n",
    "#define width of each column\n",
    "swidth = sbin_boundary[1]-sbin_boundary[0]\n",
    "#standardize each column by dividing with the maximum height\n",
    "sbin_height = sbin_height/(10000000)\n",
    "#plot\n",
    "plt.bar(sbin_boundary[:-1],sbin_height,width=swidth,alpha=0.1,color='blue',label=\"SLUG A_V Models\")\n",
    "\n",
    "\n",
    "APsample = np.array(apdata['CMD_AV_BEST'])\n",
    "#generate bins boundaries and heights\n",
    "APbin_height, APbin_boundary = np.histogram(APsample,bins=100)\n",
    "#define width of each column\n",
    "APwidth = APbin_boundary[1]-APbin_boundary[0]\n",
    "#standardize each column by dividing with the maximum height\n",
    "APbin_height = APbin_height/(2753)\n",
    "#plot\n",
    "plt.bar(APbin_boundary[:-1],APbin_height,width=APwidth,edgecolor='orange',color='orange',alpha=0.3,label=\"AP Data A_V \",lw=5)\n",
    "plt.xlim(-0.1,4)\n",
    "plt.legend()\n",
    "plt.ylabel('Normalized Cluster Count',fontsize=14)\n",
    "plt.xlabel('Extinction [$A_V$]',fontsize=14)\n",
    "\n",
    "\n",
    "AP616sample = np.array(apdata_good_phot6filts['CMD_AV_BEST'])\n",
    "#generate bins boundaries and heights\n",
    "AP616bin_height, AP616bin_boundary = np.histogram(AP616sample,bins=100)\n",
    "#define width of each column\n",
    "AP616width = AP616bin_boundary[1]-AP616bin_boundary[0]\n",
    "#standardize each column by dividing with the maximum height\n",
    "AP616bin_height = AP616bin_height/(616)\n",
    "#plot\n",
    "plt.bar(AP616bin_boundary[:-1],AP616bin_height,width=AP616width,color='green',\n",
    "        alpha=0.4,label=\"AP (616) Data A_V \",lw=5)\n",
    "plt.xlim(-0.1,3.2)\n",
    "plt.legend()\n",
    "plt.ylabel('Normalized Cluster Count',fontsize=14)\n",
    "plt.xlabel('Extinction [$A_V$]',fontsize=14)\n",
    "\n",
    "\n",
    "plt.show()"
   ]
  },
  {
   "cell_type": "code",
   "execution_count": 592,
   "metadata": {},
   "outputs": [],
   "source": [
    "Norm_xbin_vals=[]\n",
    "for i in range(len(Vals_of_xbins)):\n",
    "    norm=(Vals_of_xbins[i]/616)\n",
    "    Norm_xbin_vals.append(norm)\n",
    "    "
   ]
  },
  {
   "cell_type": "code",
   "execution_count": 609,
   "metadata": {},
   "outputs": [
    {
     "data": {
      "text/plain": [
       "0.15"
      ]
     },
     "execution_count": 609,
     "metadata": {},
     "output_type": "execute_result"
    }
   ],
   "source": [
    "AP616bin_boundary[1]-AP616bin_boundary[0]"
   ]
  },
  {
   "cell_type": "code",
   "execution_count": 698,
   "metadata": {},
   "outputs": [
    {
     "data": {
      "text/plain": [
       "(-0.1, 3.2)"
      ]
     },
     "execution_count": 698,
     "metadata": {},
     "output_type": "execute_result"
    },
    {
     "data": {
      "image/png": "[encoded data removed]",
      "text/plain": [
       "<Figure size 432x288 with 1 Axes>"
      ]
     },
     "metadata": {
      "needs_background": "light"
     },
     "output_type": "display_data"
    }
   ],
   "source": [
    "SLUGsample = np.array(LEGUS_PHAT_PadKroupa_prop['A_V'])\n",
    "#generate bins boundaries and heights\n",
    "sbin_height,sbin_boundary = np.histogram(SLUGsample,bins=100)\n",
    "#define width of each column\n",
    "swidth = sbin_boundary[1]-sbin_boundary[0]\n",
    "#standardize each column by dividing with the maximum height\n",
    "sbin_height = sbin_height/float(max(sbin_height))\n",
    "#plot\n",
    "plt.bar(sbin_boundary[:-1],sbin_height,width=swidth,alpha=0.2,color='blue',label=\"SLUG A_V Models\")\n",
    "#plt.xlim(-0.3,4)\n",
    "\n",
    "\n",
    "AP616sample = np.array(apdata_good_phot6filts['CMD_AV_BEST'])\n",
    "#generate bins boundaries and heights\n",
    "AP616bin_height, AP616bin_boundary = np.histogram(AP616sample,bins=100)\n",
    "#define width of each column\n",
    "AP616width = AP616bin_boundary[1]-AP616bin_boundary[0]\n",
    "#standardize each column by dividing with the maximum height\n",
    "AP616bin_height = AP616bin_height/float(max(AP616bin_height))\n",
    "#plot\n",
    "plt.bar(AP616bin_boundary[:-1],AP616bin_height, width=AP616width,alpha=0.6,color='orange',label=\"AP 616 Data A_V \",lw=5)\n",
    "plt.xlim(-0.1,3.2)\n"
   ]
  },
  {
   "cell_type": "code",
   "execution_count": 776,
   "metadata": {},
   "outputs": [
    {
     "data": {
      "text/plain": [
       "(-0.07, 4)"
      ]
     },
     "execution_count": 776,
     "metadata": {},
     "output_type": "execute_result"
    },
    {
     "data": {
      "image/png": "[encoded data removed]",
      "text/plain": [
       "<Figure size 432x288 with 1 Axes>"
      ]
     },
     "metadata": {
      "needs_background": "light"
     },
     "output_type": "display_data"
    }
   ],
   "source": [
    "AP616sample = np.array(apdata_good_phot6filts['CMD_AV_BEST'][indBTM[0]])\n",
    "#generate bins boundaries and heights\n",
    "AP616bin_height, AP616bin_boundary = np.histogram(AP616sample,bins=20)\n",
    "#define width of each column\n",
    "AP616width = AP616bin_boundary[1]-AP616bin_boundary[0]\n",
    "#standardize each column by dividing with the maximum height\n",
    "AP616bin_height = AP616bin_height/float(max(AP616bin_height))\n",
    "#plot\n",
    "plt.bar(AP616bin_boundary[:-1],AP616bin_height, width=AP616width,edgecolor='orange',color='orange',label=\"AP 616 Data A_V \",lw=5)\n",
    "plt.xlim(-0.07,4)"
   ]
  },
  {
   "cell_type": "code",
   "execution_count": 768,
   "metadata": {},
   "outputs": [],
   "source": [
    "IND_SLUGav=np.where(LEGUS_PHAT_PadKroupa_prop['A_V']>=3.6)\n",
    "LEGUS_PHAT_PadKroupa_prop.remove_rows(IND_SLUGav)"
   ]
  },
  {
   "cell_type": "code",
   "execution_count": 781,
   "metadata": {},
   "outputs": [
    {
     "data": {
      "text/plain": [
       "Text(0.5, 0, 'Extinction [$A_V$]')"
      ]
     },
     "execution_count": 781,
     "metadata": {},
     "output_type": "execute_result"
    },
    {
     "data": {
      "image/png": "[encoded data removed]",
      "text/plain": [
       "<Figure size 432x288 with 1 Axes>"
      ]
     },
     "metadata": {
      "needs_background": "light"
     },
     "output_type": "display_data"
    }
   ],
   "source": [
    "SLUG2sample = np.array(LEGUS_PHAT_PadKroupa_prop['A_V'])\n",
    "#generate bins boundaries and heights\n",
    "s2bin_height,s2bin_boundary = np.histogram(SLUG2sample,bins=100)\n",
    "#define width of each column\n",
    "s2width = s2bin_boundary[1]-s2bin_boundary[0]\n",
    "#standardize each column by dividing with the maximum height\n",
    "s2bin_height = s2bin_height/float(max(s2bin_height))\n",
    "#plot\n",
    "plt.bar(s2bin_boundary[:-1],s2bin_height,width=s2width,alpha=0.2,color='blue',label=\"SLUG A_V Models\")\n",
    "#plt.xlim(-0.3,4)\n",
    "\n",
    "\n",
    "APsample = np.array(apdata['CMD_AV_BEST'][indBTM[0]])\n",
    "#generate bins boundaries and heights\n",
    "APbin_height, APbin_boundary = np.histogram(APsample,bins=100)\n",
    "#define width of each column\n",
    "APwidth = APbin_boundary[1]-APbin_boundary[0]\n",
    "#standardize each column by dividing with the maximum height\n",
    "APbin_height = APbin_height/float(max(APbin_height))\n",
    "#plot\n",
    "plt.bar(APbin_boundary[:-1],APbin_height,width=APwidth,color='orange',alpha=0.9,label=\"AP Data A_V \",lw=5)\n",
    "\n",
    "plt.legend()\n",
    "plt.ylabel('Normalized Cluster Count',fontsize=14)\n",
    "plt.xlabel('Extinction [$A_V$]',fontsize=14)\n",
    "\n",
    "\n",
    "\n",
    "AP616sample = np.array(apdata_good_phot6filts['CMD_AV_BEST'][indBTM[0]])\n",
    "#generate bins boundaries and heights\n",
    "AP616bin_height, AP616bin_boundary = np.histogram(AP616sample,bins=100)\n",
    "#define width of each column\n",
    "AP616width = AP616bin_boundary[1]-AP616bin_boundary[0]\n",
    "#standardize each column by dividing with the maximum height\n",
    "AP616bin_height = AP616bin_height/float(max(AP616bin_height))\n",
    "#plot\n",
    "plt.bar(AP616bin_boundary[:-1],AP616bin_height,width=AP616width,color='green',\n",
    "        alpha=0.3,label=\"AP (616) Data A_V \",lw=5)\n",
    "plt.legend()\n",
    "plt.ylabel('Normalized Cluster Count',fontsize=14)\n",
    "plt.xlabel('Extinction [$A_V$]',fontsize=14)"
   ]
  },
  {
   "cell_type": "code",
   "execution_count": 599,
   "metadata": {},
   "outputs": [
    {
     "data": {
      "text/plain": [
       "10000000"
      ]
     },
     "execution_count": 599,
     "metadata": {},
     "output_type": "execute_result"
    }
   ],
   "source": [
    "sorted_SLUG_Av=np.array(np.sort(LEGUS_PHAT_PadKroupa_prop['A_V']))\n",
    "len(sorted_SLUG_Av)"
   ]
  },
  {
   "cell_type": "code",
   "execution_count": 759,
   "metadata": {
    "scrolled": true
   },
   "outputs": [
    {
     "data": {
      "text/plain": [
       "Text(0, 0.5, 'Clusters')"
      ]
     },
     "execution_count": 759,
     "metadata": {},
     "output_type": "execute_result"
    },
    {
     "data": {
      "image/png": "[encoded data removed]",
      "text/plain": [
       "<Figure size 432x288 with 1 Axes>"
      ]
     },
     "metadata": {
      "needs_background": "light"
     },
     "output_type": "display_data"
    }
   ],
   "source": [
    "plt.hist(xpercentiles[1],bins=200)\n",
    "plt.xlim(0,3.5)\n",
    "plt.xlabel('Median of $A_v$ PDF',fontsize=14)\n",
    "plt.ylabel('Clusters',fontsize=14)"
   ]
  },
  {
   "cell_type": "code",
   "execution_count": 133,
   "metadata": {
    "collapsed": true
   },
   "outputs": [
    {
     "ename": "ValueError",
     "evalue": "x must have 2 or fewer dimensions",
     "output_type": "error",
     "traceback": [
      "\u001b[0;31m---------------------------------------------------------------------------\u001b[0m",
      "\u001b[0;31mValueError\u001b[0m                                Traceback (most recent call last)",
      "\u001b[0;32m<ipython-input-133-270c17d1686a>\u001b[0m in \u001b[0;36m<module>\u001b[0;34m\u001b[0m\n\u001b[1;32m     12\u001b[0m \u001b[0;31m#plt.subplot(1,2,2)\u001b[0m\u001b[0;34m\u001b[0m\u001b[0;34m\u001b[0m\u001b[0;34m\u001b[0m\u001b[0m\n\u001b[1;32m     13\u001b[0m \u001b[0;31m#a=np.arange(0,180,1)\u001b[0m\u001b[0;34m\u001b[0m\u001b[0;34m\u001b[0m\u001b[0;34m\u001b[0m\u001b[0m\n\u001b[0;32m---> 14\u001b[0;31m \u001b[0mplt\u001b[0m\u001b[0;34m.\u001b[0m\u001b[0mhist\u001b[0m\u001b[0;34m(\u001b[0m\u001b[0mdiff_PDFMedian_x_apdata\u001b[0m\u001b[0;34m,\u001b[0m \u001b[0morientation\u001b[0m\u001b[0;34m=\u001b[0m\u001b[0;34m'horizontal'\u001b[0m\u001b[0;34m,\u001b[0m\u001b[0mhisttype\u001b[0m\u001b[0;34m=\u001b[0m\u001b[0;34m'step'\u001b[0m\u001b[0;34m,\u001b[0m\u001b[0mlw\u001b[0m\u001b[0;34m=\u001b[0m\u001b[0;36m2\u001b[0m\u001b[0;34m,\u001b[0m\u001b[0mcolor\u001b[0m\u001b[0;34m=\u001b[0m\u001b[0;34m'steelblue'\u001b[0m\u001b[0;34m)\u001b[0m\u001b[0;34m\u001b[0m\u001b[0;34m\u001b[0m\u001b[0m\n\u001b[0m\u001b[1;32m     15\u001b[0m \u001b[0;31m#plt.plot(a,np.median(diff_PDFMedian_m_apdata)*np.ones(180),'k--',lw=2,label='Median')\u001b[0m\u001b[0;34m\u001b[0m\u001b[0;34m\u001b[0m\u001b[0;34m\u001b[0m\u001b[0m\n\u001b[1;32m     16\u001b[0m \u001b[0;31m#plt.plot(a,diff_PDFMedian_m_apdata_25q*np.ones(180),'b--',lw=2,label='25th percentile')\u001b[0m\u001b[0;34m\u001b[0m\u001b[0;34m\u001b[0m\u001b[0;34m\u001b[0m\u001b[0m\n",
      "\u001b[0;32m/anaconda3/lib/python3.7/site-packages/matplotlib/pyplot.py\u001b[0m in \u001b[0;36mhist\u001b[0;34m(x, bins, range, density, weights, cumulative, bottom, histtype, align, orientation, rwidth, log, color, label, stacked, normed, data, **kwargs)\u001b[0m\n\u001b[1;32m   2657\u001b[0m         \u001b[0malign\u001b[0m\u001b[0;34m=\u001b[0m\u001b[0malign\u001b[0m\u001b[0;34m,\u001b[0m \u001b[0morientation\u001b[0m\u001b[0;34m=\u001b[0m\u001b[0morientation\u001b[0m\u001b[0;34m,\u001b[0m \u001b[0mrwidth\u001b[0m\u001b[0;34m=\u001b[0m\u001b[0mrwidth\u001b[0m\u001b[0;34m,\u001b[0m \u001b[0mlog\u001b[0m\u001b[0;34m=\u001b[0m\u001b[0mlog\u001b[0m\u001b[0;34m,\u001b[0m\u001b[0;34m\u001b[0m\u001b[0;34m\u001b[0m\u001b[0m\n\u001b[1;32m   2658\u001b[0m         \u001b[0mcolor\u001b[0m\u001b[0;34m=\u001b[0m\u001b[0mcolor\u001b[0m\u001b[0;34m,\u001b[0m \u001b[0mlabel\u001b[0m\u001b[0;34m=\u001b[0m\u001b[0mlabel\u001b[0m\u001b[0;34m,\u001b[0m \u001b[0mstacked\u001b[0m\u001b[0;34m=\u001b[0m\u001b[0mstacked\u001b[0m\u001b[0;34m,\u001b[0m \u001b[0mnormed\u001b[0m\u001b[0;34m=\u001b[0m\u001b[0mnormed\u001b[0m\u001b[0;34m,\u001b[0m\u001b[0;34m\u001b[0m\u001b[0;34m\u001b[0m\u001b[0m\n\u001b[0;32m-> 2659\u001b[0;31m         **({\"data\": data} if data is not None else {}), **kwargs)\n\u001b[0m\u001b[1;32m   2660\u001b[0m \u001b[0;34m\u001b[0m\u001b[0m\n\u001b[1;32m   2661\u001b[0m \u001b[0;34m\u001b[0m\u001b[0m\n",
      "\u001b[0;32m/anaconda3/lib/python3.7/site-packages/matplotlib/__init__.py\u001b[0m in \u001b[0;36minner\u001b[0;34m(ax, data, *args, **kwargs)\u001b[0m\n\u001b[1;32m   1808\u001b[0m                         \u001b[0;34m\"the Matplotlib list!)\"\u001b[0m \u001b[0;34m%\u001b[0m \u001b[0;34m(\u001b[0m\u001b[0mlabel_namer\u001b[0m\u001b[0;34m,\u001b[0m \u001b[0mfunc\u001b[0m\u001b[0;34m.\u001b[0m\u001b[0m__name__\u001b[0m\u001b[0;34m)\u001b[0m\u001b[0;34m,\u001b[0m\u001b[0;34m\u001b[0m\u001b[0;34m\u001b[0m\u001b[0m\n\u001b[1;32m   1809\u001b[0m                         RuntimeWarning, stacklevel=2)\n\u001b[0;32m-> 1810\u001b[0;31m             \u001b[0;32mreturn\u001b[0m \u001b[0mfunc\u001b[0m\u001b[0;34m(\u001b[0m\u001b[0max\u001b[0m\u001b[0;34m,\u001b[0m \u001b[0;34m*\u001b[0m\u001b[0margs\u001b[0m\u001b[0;34m,\u001b[0m \u001b[0;34m**\u001b[0m\u001b[0mkwargs\u001b[0m\u001b[0;34m)\u001b[0m\u001b[0;34m\u001b[0m\u001b[0;34m\u001b[0m\u001b[0m\n\u001b[0m\u001b[1;32m   1811\u001b[0m \u001b[0;34m\u001b[0m\u001b[0m\n\u001b[1;32m   1812\u001b[0m         inner.__doc__ = _add_data_doc(inner.__doc__,\n",
      "\u001b[0;32m/anaconda3/lib/python3.7/site-packages/matplotlib/axes/_axes.py\u001b[0m in \u001b[0;36mhist\u001b[0;34m(self, x, bins, range, density, weights, cumulative, bottom, histtype, align, orientation, rwidth, log, color, label, stacked, normed, **kwargs)\u001b[0m\n\u001b[1;32m   6527\u001b[0m             \u001b[0mx\u001b[0m \u001b[0;34m=\u001b[0m \u001b[0;34m[\u001b[0m\u001b[0mnp\u001b[0m\u001b[0;34m.\u001b[0m\u001b[0marray\u001b[0m\u001b[0;34m(\u001b[0m\u001b[0;34m[\u001b[0m\u001b[0;34m]\u001b[0m\u001b[0;34m)\u001b[0m\u001b[0;34m]\u001b[0m\u001b[0;34m\u001b[0m\u001b[0;34m\u001b[0m\u001b[0m\n\u001b[1;32m   6528\u001b[0m         \u001b[0;32melse\u001b[0m\u001b[0;34m:\u001b[0m\u001b[0;34m\u001b[0m\u001b[0;34m\u001b[0m\u001b[0m\n\u001b[0;32m-> 6529\u001b[0;31m             \u001b[0mx\u001b[0m \u001b[0;34m=\u001b[0m \u001b[0mcbook\u001b[0m\u001b[0;34m.\u001b[0m\u001b[0m_reshape_2D\u001b[0m\u001b[0;34m(\u001b[0m\u001b[0mx\u001b[0m\u001b[0;34m,\u001b[0m \u001b[0;34m'x'\u001b[0m\u001b[0;34m)\u001b[0m\u001b[0;34m\u001b[0m\u001b[0;34m\u001b[0m\u001b[0m\n\u001b[0m\u001b[1;32m   6530\u001b[0m         \u001b[0mnx\u001b[0m \u001b[0;34m=\u001b[0m \u001b[0mlen\u001b[0m\u001b[0;34m(\u001b[0m\u001b[0mx\u001b[0m\u001b[0;34m)\u001b[0m  \u001b[0;31m# number of datasets\u001b[0m\u001b[0;34m\u001b[0m\u001b[0;34m\u001b[0m\u001b[0m\n\u001b[1;32m   6531\u001b[0m \u001b[0;34m\u001b[0m\u001b[0m\n",
      "\u001b[0;32m/anaconda3/lib/python3.7/site-packages/matplotlib/cbook/__init__.py\u001b[0m in \u001b[0;36m_reshape_2D\u001b[0;34m(X, name)\u001b[0m\n\u001b[1;32m   1401\u001b[0m         \u001b[0;32mreturn\u001b[0m \u001b[0;34m[\u001b[0m\u001b[0mnp\u001b[0m\u001b[0;34m.\u001b[0m\u001b[0mreshape\u001b[0m\u001b[0;34m(\u001b[0m\u001b[0mx\u001b[0m\u001b[0;34m,\u001b[0m \u001b[0;34m-\u001b[0m\u001b[0;36m1\u001b[0m\u001b[0;34m)\u001b[0m \u001b[0;32mfor\u001b[0m \u001b[0mx\u001b[0m \u001b[0;32min\u001b[0m \u001b[0mX\u001b[0m\u001b[0;34m]\u001b[0m\u001b[0;34m\u001b[0m\u001b[0;34m\u001b[0m\u001b[0m\n\u001b[1;32m   1402\u001b[0m     \u001b[0;32melse\u001b[0m\u001b[0;34m:\u001b[0m\u001b[0;34m\u001b[0m\u001b[0;34m\u001b[0m\u001b[0m\n\u001b[0;32m-> 1403\u001b[0;31m         \u001b[0;32mraise\u001b[0m \u001b[0mValueError\u001b[0m\u001b[0;34m(\u001b[0m\u001b[0;34m\"{} must have 2 or fewer dimensions\"\u001b[0m\u001b[0;34m.\u001b[0m\u001b[0mformat\u001b[0m\u001b[0;34m(\u001b[0m\u001b[0mname\u001b[0m\u001b[0;34m)\u001b[0m\u001b[0;34m)\u001b[0m\u001b[0;34m\u001b[0m\u001b[0;34m\u001b[0m\u001b[0m\n\u001b[0m\u001b[1;32m   1404\u001b[0m \u001b[0;34m\u001b[0m\u001b[0m\n\u001b[1;32m   1405\u001b[0m \u001b[0;34m\u001b[0m\u001b[0m\n",
      "\u001b[0;31mValueError\u001b[0m: x must have 2 or fewer dimensions"
     ]
    },
    {
     "data": {
      "image/png": "[encoded data removed]",
      "text/plain": [
       "<Figure size 432x288 with 1 Axes>"
      ]
     },
     "metadata": {
      "needs_background": "light"
     },
     "output_type": "display_data"
    }
   ],
   "source": [
    "#x=np.arange(2,5,0.5)\n",
    "#ax=plt.subplot()\n",
    "#plt.subplot(1,2,1)\n",
    "#plt.scatter((xpercentiles[1][indBTM[0]]),diff_PDFMedian_x_apdata, color='steelblue')\n",
    "#plt.plot(x,np.median(diff_PDFMedian_m_apdata)*np.ones(6),'k--',lw=2)\n",
    "#plt.plot(x,diff_PDFMedian_m_apdata_25q*np.ones(6),'b--',lw=2)\n",
    "#plt.plot(x,diff_PDFMedian_m_apdata_75q*np.ones(6),'r--',lw=2)\n",
    "#plt.ylabel('Difference of Models.', fontsize=13)\n",
    "#plt.xlabel('Previous Log Mass Estimates', fontsize=13);\n",
    "\n",
    "\n",
    "#plt.subplot(1,2,2)\n",
    "#a=np.arange(0,180,1)\n",
    "plt.hist(diff_PDFMedian_x_apdata, orientation='horizontal',histtype='step',lw=2,color='steelblue')\n",
    "#plt.plot(a,np.median(diff_PDFMedian_m_apdata)*np.ones(180),'k--',lw=2,label='Median')\n",
    "#plt.plot(a,diff_PDFMedian_m_apdata_25q*np.ones(180),'b--',lw=2,label='25th percentile')\n",
    "#plt.plot(a,diff_PDFMedian_m_apdata_75q*np.ones(180),'r--',lw=2,label='75th percentile')\n",
    "plt.xlabel('Clusters',fontsize=13)\n",
    "plt.yticks([])\n",
    "plt.legend()\n",
    "\n",
    "plt.subplots_adjust(hspace=0.4, wspace=0, bottom=0.5, top=1.2, right=1.3)\n",
    "#plt.savefig('/Volumes/My_Passport_for_Mac/M33_M31_LGCS_Files/Model_Comparison_Files/DiffofMassModels_vs_PreviousMassEst.pdf')"
   ]
  },
  {
   "cell_type": "code",
   "execution_count": 611,
   "metadata": {},
   "outputs": [
    {
     "data": {
      "text/plain": [
       "0.01675770387329732"
      ]
     },
     "execution_count": 611,
     "metadata": {},
     "output_type": "execute_result"
    }
   ],
   "source": [
    "min(LEGUS_PHAT_PadKroupa_prop['A_V'])"
   ]
  },
  {
   "cell_type": "code",
   "execution_count": 530,
   "metadata": {},
   "outputs": [
    {
     "data": {
      "text/plain": [
       "(array([402., 290., 306., 339., 318., 265., 181., 131., 116.,  85.,  69.,\n",
       "         50.,  34.,  25.,  25.,  19.,  11.,  18.,  17.,  52.]),\n",
       " array([0.  , 0.15, 0.3 , 0.45, 0.6 , 0.75, 0.9 , 1.05, 1.2 , 1.35, 1.5 ,\n",
       "        1.65, 1.8 , 1.95, 2.1 , 2.25, 2.4 , 2.55, 2.7 , 2.85, 3.  ],\n",
       "       dtype=float32),\n",
       " <a list of 1 Patch objects>)"
      ]
     },
     "execution_count": 530,
     "metadata": {},
     "output_type": "execute_result"
    },
    {
     "data": {
      "image/png": "[encoded data removed]",
      "text/plain": [
       "<Figure size 432x288 with 1 Axes>"
      ]
     },
     "metadata": {
      "needs_background": "light"
     },
     "output_type": "display_data"
    }
   ],
   "source": [
    "plt.hist(apdata['CMD_AV_BEST'],bins=20,histtype='step')"
   ]
  },
  {
   "cell_type": "code",
   "execution_count": null,
   "metadata": {},
   "outputs": [],
   "source": []
  },
  {
   "cell_type": "code",
   "execution_count": null,
   "metadata": {},
   "outputs": [],
   "source": []
  }
 ],
 "metadata": {
  "kernelspec": {
   "display_name": "Python 3",
   "language": "python",
   "name": "python3"
  },
  "language_info": {
   "codemirror_mode": {
    "name": "ipython",
    "version": 3
   },
   "file_extension": ".py",
   "mimetype": "text/x-python",
   "name": "python",
   "nbconvert_exporter": "python",
   "pygments_lexer": "ipython3",
   "version": "3.7.3"
  }
 },
 "nbformat": 4,
 "nbformat_minor": 2
}
